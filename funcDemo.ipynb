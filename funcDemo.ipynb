{
 "cells": [
  {
   "metadata": {},
   "cell_type": "markdown",
   "source": [
    "## Part 1: Data Processing and Analysis (90 Points)\n",
    "\n",
    "### 1. Load the Dataset (10 Points)\n",
    "\n",
    "#### Task: Implement a function to load a dataset.\n",
    "\n",
    "##### Function Definition:\n",
    "```python\n",
    "def load_data(filepath: str) -> pd.DataFrame:\n",
    "    Load a dataset from a given file path.\n",
    "\n",
    "    Parameters:\n",
    "        filepath (str): The file path to a CSV or Excel dataset.\n",
    "\n",
    "    Returns:\n",
    "        pd.DataFrame: A pandas DataFrame containing the loaded data.\n",
    "```"
   ],
   "id": "cc28feab6586cd2"
  },
  {
   "metadata": {
    "ExecuteTime": {
     "end_time": "2025-01-09T10:36:25.224531Z",
     "start_time": "2025-01-09T10:36:25.221485Z"
    }
   },
   "cell_type": "code",
   "source": [
    "import pandas as pd\n",
    "import numpy as np\n",
    "from xarray.util.generate_ops import inplace"
   ],
   "id": "e350d30dfccd23cd",
   "outputs": [],
   "execution_count": 95
  },
  {
   "cell_type": "code",
   "id": "initial_id",
   "metadata": {
    "collapsed": true,
    "ExecuteTime": {
     "end_time": "2025-01-09T12:32:56.615639Z",
     "start_time": "2025-01-09T12:32:52.825288Z"
    }
   },
   "source": [
    "def load_data(filepath: str) -> pd.DataFrame:\n",
    "\n",
    "    # try to open and read Excel file\n",
    "    try:\n",
    "        if filepath.endswith('.csv'):\n",
    "            return pd.read_csv(filepath)\n",
    "        elif filepath.endswith('.xlsx'):\n",
    "            return pd.read_excel(filepath)\n",
    "        else:\n",
    "            raise ValueError(\"Unsupported file format. Please provide a CSV or Excel file.\")\n",
    "    except Exception as e:\n",
    "        print(f\"Error loading file: {e}\")\n",
    "        return pd.DataFrame()\n",
    "\n",
    "data = load_data(filepath = 'data/knesset_25.xlsx')\n",
    "data"
   ],
   "outputs": [
    {
     "data": {
      "text/plain": [
       "              city_name  ballot_code  party_avoda  \\\n",
       "0       אבו גווייעד שבט          3.1            0   \n",
       "1       אבו גווייעד שבט          3.2            1   \n",
       "2       אבו גווייעד שבט          3.3            0   \n",
       "3       אבו גווייעד שבט          3.4            0   \n",
       "4               אבו גוש          1.1            1   \n",
       "...                 ...          ...          ...   \n",
       "12540              תקוע          3.0            4   \n",
       "12541              תקוע          4.0            6   \n",
       "12542  תראבין אצאנע שבט          1.0            0   \n",
       "12543  תראבין אצאנעישוב          1.0            1   \n",
       "12544              תרום          1.0            5   \n",
       "\n",
       "       party_shahar_kalkali_hadash  party_bayit_yehudi  party_agudat_israel  \\\n",
       "0                                0                   0                    0   \n",
       "1                                0                   0                    0   \n",
       "2                                0                   0                    0   \n",
       "3                                0                   0                    0   \n",
       "4                                0                   0                    0   \n",
       "...                            ...                 ...                  ...   \n",
       "12540                            3                  66                    1   \n",
       "12541                            3                  66                    3   \n",
       "12542                            0                   0                    0   \n",
       "12543                            0                   0                    0   \n",
       "12544                            4                  17                   12   \n",
       "\n",
       "       party_daled  party_vavmem  party_shahar_koach_hevrati  party_kama  ...  \\\n",
       "0                4            21                           0           0  ...   \n",
       "1                0             2                           0           0  ...   \n",
       "2                0            12                           0           0  ...   \n",
       "3                0             3                           0           0  ...   \n",
       "4              171            43                           0           0  ...   \n",
       "...            ...           ...                         ...         ...  ...   \n",
       "12540            0             1                           0           0  ...   \n",
       "12541            0             0                           0           0  ...   \n",
       "12542            0             1                           0           0  ...   \n",
       "12543            6             1                           0           0  ...   \n",
       "12544            0             0                           0           0  ...   \n",
       "\n",
       "       party_tze'irim_bo'arim  party_manhigut_hevratit  \\\n",
       "0                           0                        0   \n",
       "1                           0                        0   \n",
       "2                           0                        0   \n",
       "3                           1                        0   \n",
       "4                           0                        1   \n",
       "...                       ...                      ...   \n",
       "12540                       1                        0   \n",
       "12541                       0                        0   \n",
       "12542                       0                        0   \n",
       "12543                       0                        0   \n",
       "12544                       1                        0   \n",
       "\n",
       "       party_kol_hasviva_vehachai  party_halev_hayehudi  party_seder_chadash  \\\n",
       "0                               0                     0                    0   \n",
       "1                               0                     0                    0   \n",
       "2                               0                     0                    0   \n",
       "3                               0                     0                    0   \n",
       "4                               0                     0                    0   \n",
       "...                           ...                   ...                  ...   \n",
       "12540                           0                     0                    0   \n",
       "12541                           0                     1                    0   \n",
       "12542                           0                     0                    0   \n",
       "12543                           0                     0                    0   \n",
       "12544                           0                     0                    0   \n",
       "\n",
       "       party_kol  party_beometz_bishvilech  party_kavod_umasoret  party_shas  \\\n",
       "0              0                         0                     0           0   \n",
       "1              0                         0                     0           0   \n",
       "2              0                         0                     0           2   \n",
       "3              0                         0                     0           2   \n",
       "4              0                         0                     0           0   \n",
       "...          ...                       ...                   ...         ...   \n",
       "12540          0                         6                     0          12   \n",
       "12541          0                         1                     0           3   \n",
       "12542          0                         0                     0           0   \n",
       "12543          0                         1                     0           1   \n",
       "12544          0                         4                     0          49   \n",
       "\n",
       "       party_daat_tov_vera  \n",
       "0                        2  \n",
       "1                        1  \n",
       "2                        0  \n",
       "3                        0  \n",
       "4                        0  \n",
       "...                    ...  \n",
       "12540                    0  \n",
       "12541                    0  \n",
       "12542                    0  \n",
       "12543                    0  \n",
       "12544                    0  \n",
       "\n",
       "[12545 rows x 42 columns]"
      ],
      "text/html": [
       "<div>\n",
       "<style scoped>\n",
       "    .dataframe tbody tr th:only-of-type {\n",
       "        vertical-align: middle;\n",
       "    }\n",
       "\n",
       "    .dataframe tbody tr th {\n",
       "        vertical-align: top;\n",
       "    }\n",
       "\n",
       "    .dataframe thead th {\n",
       "        text-align: right;\n",
       "    }\n",
       "</style>\n",
       "<table border=\"1\" class=\"dataframe\">\n",
       "  <thead>\n",
       "    <tr style=\"text-align: right;\">\n",
       "      <th></th>\n",
       "      <th>city_name</th>\n",
       "      <th>ballot_code</th>\n",
       "      <th>party_avoda</th>\n",
       "      <th>party_shahar_kalkali_hadash</th>\n",
       "      <th>party_bayit_yehudi</th>\n",
       "      <th>party_agudat_israel</th>\n",
       "      <th>party_daled</th>\n",
       "      <th>party_vavmem</th>\n",
       "      <th>party_shahar_koach_hevrati</th>\n",
       "      <th>party_kama</th>\n",
       "      <th>...</th>\n",
       "      <th>party_tze'irim_bo'arim</th>\n",
       "      <th>party_manhigut_hevratit</th>\n",
       "      <th>party_kol_hasviva_vehachai</th>\n",
       "      <th>party_halev_hayehudi</th>\n",
       "      <th>party_seder_chadash</th>\n",
       "      <th>party_kol</th>\n",
       "      <th>party_beometz_bishvilech</th>\n",
       "      <th>party_kavod_umasoret</th>\n",
       "      <th>party_shas</th>\n",
       "      <th>party_daat_tov_vera</th>\n",
       "    </tr>\n",
       "  </thead>\n",
       "  <tbody>\n",
       "    <tr>\n",
       "      <th>0</th>\n",
       "      <td>אבו גווייעד שבט</td>\n",
       "      <td>3.1</td>\n",
       "      <td>0</td>\n",
       "      <td>0</td>\n",
       "      <td>0</td>\n",
       "      <td>0</td>\n",
       "      <td>4</td>\n",
       "      <td>21</td>\n",
       "      <td>0</td>\n",
       "      <td>0</td>\n",
       "      <td>...</td>\n",
       "      <td>0</td>\n",
       "      <td>0</td>\n",
       "      <td>0</td>\n",
       "      <td>0</td>\n",
       "      <td>0</td>\n",
       "      <td>0</td>\n",
       "      <td>0</td>\n",
       "      <td>0</td>\n",
       "      <td>0</td>\n",
       "      <td>2</td>\n",
       "    </tr>\n",
       "    <tr>\n",
       "      <th>1</th>\n",
       "      <td>אבו גווייעד שבט</td>\n",
       "      <td>3.2</td>\n",
       "      <td>1</td>\n",
       "      <td>0</td>\n",
       "      <td>0</td>\n",
       "      <td>0</td>\n",
       "      <td>0</td>\n",
       "      <td>2</td>\n",
       "      <td>0</td>\n",
       "      <td>0</td>\n",
       "      <td>...</td>\n",
       "      <td>0</td>\n",
       "      <td>0</td>\n",
       "      <td>0</td>\n",
       "      <td>0</td>\n",
       "      <td>0</td>\n",
       "      <td>0</td>\n",
       "      <td>0</td>\n",
       "      <td>0</td>\n",
       "      <td>0</td>\n",
       "      <td>1</td>\n",
       "    </tr>\n",
       "    <tr>\n",
       "      <th>2</th>\n",
       "      <td>אבו גווייעד שבט</td>\n",
       "      <td>3.3</td>\n",
       "      <td>0</td>\n",
       "      <td>0</td>\n",
       "      <td>0</td>\n",
       "      <td>0</td>\n",
       "      <td>0</td>\n",
       "      <td>12</td>\n",
       "      <td>0</td>\n",
       "      <td>0</td>\n",
       "      <td>...</td>\n",
       "      <td>0</td>\n",
       "      <td>0</td>\n",
       "      <td>0</td>\n",
       "      <td>0</td>\n",
       "      <td>0</td>\n",
       "      <td>0</td>\n",
       "      <td>0</td>\n",
       "      <td>0</td>\n",
       "      <td>2</td>\n",
       "      <td>0</td>\n",
       "    </tr>\n",
       "    <tr>\n",
       "      <th>3</th>\n",
       "      <td>אבו גווייעד שבט</td>\n",
       "      <td>3.4</td>\n",
       "      <td>0</td>\n",
       "      <td>0</td>\n",
       "      <td>0</td>\n",
       "      <td>0</td>\n",
       "      <td>0</td>\n",
       "      <td>3</td>\n",
       "      <td>0</td>\n",
       "      <td>0</td>\n",
       "      <td>...</td>\n",
       "      <td>1</td>\n",
       "      <td>0</td>\n",
       "      <td>0</td>\n",
       "      <td>0</td>\n",
       "      <td>0</td>\n",
       "      <td>0</td>\n",
       "      <td>0</td>\n",
       "      <td>0</td>\n",
       "      <td>2</td>\n",
       "      <td>0</td>\n",
       "    </tr>\n",
       "    <tr>\n",
       "      <th>4</th>\n",
       "      <td>אבו גוש</td>\n",
       "      <td>1.1</td>\n",
       "      <td>1</td>\n",
       "      <td>0</td>\n",
       "      <td>0</td>\n",
       "      <td>0</td>\n",
       "      <td>171</td>\n",
       "      <td>43</td>\n",
       "      <td>0</td>\n",
       "      <td>0</td>\n",
       "      <td>...</td>\n",
       "      <td>0</td>\n",
       "      <td>1</td>\n",
       "      <td>0</td>\n",
       "      <td>0</td>\n",
       "      <td>0</td>\n",
       "      <td>0</td>\n",
       "      <td>0</td>\n",
       "      <td>0</td>\n",
       "      <td>0</td>\n",
       "      <td>0</td>\n",
       "    </tr>\n",
       "    <tr>\n",
       "      <th>...</th>\n",
       "      <td>...</td>\n",
       "      <td>...</td>\n",
       "      <td>...</td>\n",
       "      <td>...</td>\n",
       "      <td>...</td>\n",
       "      <td>...</td>\n",
       "      <td>...</td>\n",
       "      <td>...</td>\n",
       "      <td>...</td>\n",
       "      <td>...</td>\n",
       "      <td>...</td>\n",
       "      <td>...</td>\n",
       "      <td>...</td>\n",
       "      <td>...</td>\n",
       "      <td>...</td>\n",
       "      <td>...</td>\n",
       "      <td>...</td>\n",
       "      <td>...</td>\n",
       "      <td>...</td>\n",
       "      <td>...</td>\n",
       "      <td>...</td>\n",
       "    </tr>\n",
       "    <tr>\n",
       "      <th>12540</th>\n",
       "      <td>תקוע</td>\n",
       "      <td>3.0</td>\n",
       "      <td>4</td>\n",
       "      <td>3</td>\n",
       "      <td>66</td>\n",
       "      <td>1</td>\n",
       "      <td>0</td>\n",
       "      <td>1</td>\n",
       "      <td>0</td>\n",
       "      <td>0</td>\n",
       "      <td>...</td>\n",
       "      <td>1</td>\n",
       "      <td>0</td>\n",
       "      <td>0</td>\n",
       "      <td>0</td>\n",
       "      <td>0</td>\n",
       "      <td>0</td>\n",
       "      <td>6</td>\n",
       "      <td>0</td>\n",
       "      <td>12</td>\n",
       "      <td>0</td>\n",
       "    </tr>\n",
       "    <tr>\n",
       "      <th>12541</th>\n",
       "      <td>תקוע</td>\n",
       "      <td>4.0</td>\n",
       "      <td>6</td>\n",
       "      <td>3</td>\n",
       "      <td>66</td>\n",
       "      <td>3</td>\n",
       "      <td>0</td>\n",
       "      <td>0</td>\n",
       "      <td>0</td>\n",
       "      <td>0</td>\n",
       "      <td>...</td>\n",
       "      <td>0</td>\n",
       "      <td>0</td>\n",
       "      <td>0</td>\n",
       "      <td>1</td>\n",
       "      <td>0</td>\n",
       "      <td>0</td>\n",
       "      <td>1</td>\n",
       "      <td>0</td>\n",
       "      <td>3</td>\n",
       "      <td>0</td>\n",
       "    </tr>\n",
       "    <tr>\n",
       "      <th>12542</th>\n",
       "      <td>תראבין אצאנע שבט</td>\n",
       "      <td>1.0</td>\n",
       "      <td>0</td>\n",
       "      <td>0</td>\n",
       "      <td>0</td>\n",
       "      <td>0</td>\n",
       "      <td>0</td>\n",
       "      <td>1</td>\n",
       "      <td>0</td>\n",
       "      <td>0</td>\n",
       "      <td>...</td>\n",
       "      <td>0</td>\n",
       "      <td>0</td>\n",
       "      <td>0</td>\n",
       "      <td>0</td>\n",
       "      <td>0</td>\n",
       "      <td>0</td>\n",
       "      <td>0</td>\n",
       "      <td>0</td>\n",
       "      <td>0</td>\n",
       "      <td>0</td>\n",
       "    </tr>\n",
       "    <tr>\n",
       "      <th>12543</th>\n",
       "      <td>תראבין אצאנעישוב</td>\n",
       "      <td>1.0</td>\n",
       "      <td>1</td>\n",
       "      <td>0</td>\n",
       "      <td>0</td>\n",
       "      <td>0</td>\n",
       "      <td>6</td>\n",
       "      <td>1</td>\n",
       "      <td>0</td>\n",
       "      <td>0</td>\n",
       "      <td>...</td>\n",
       "      <td>0</td>\n",
       "      <td>0</td>\n",
       "      <td>0</td>\n",
       "      <td>0</td>\n",
       "      <td>0</td>\n",
       "      <td>0</td>\n",
       "      <td>1</td>\n",
       "      <td>0</td>\n",
       "      <td>1</td>\n",
       "      <td>0</td>\n",
       "    </tr>\n",
       "    <tr>\n",
       "      <th>12544</th>\n",
       "      <td>תרום</td>\n",
       "      <td>1.0</td>\n",
       "      <td>5</td>\n",
       "      <td>4</td>\n",
       "      <td>17</td>\n",
       "      <td>12</td>\n",
       "      <td>0</td>\n",
       "      <td>0</td>\n",
       "      <td>0</td>\n",
       "      <td>0</td>\n",
       "      <td>...</td>\n",
       "      <td>1</td>\n",
       "      <td>0</td>\n",
       "      <td>0</td>\n",
       "      <td>0</td>\n",
       "      <td>0</td>\n",
       "      <td>0</td>\n",
       "      <td>4</td>\n",
       "      <td>0</td>\n",
       "      <td>49</td>\n",
       "      <td>0</td>\n",
       "    </tr>\n",
       "  </tbody>\n",
       "</table>\n",
       "<p>12545 rows × 42 columns</p>\n",
       "</div>"
      ]
     },
     "execution_count": 234,
     "metadata": {},
     "output_type": "execute_result"
    }
   ],
   "execution_count": 234
  },
  {
   "metadata": {},
   "cell_type": "markdown",
   "source": [
    "### 2.\tGroup and Aggregate Data (20 points)\n",
    "\n",
    "####    Task: Write a function:\n",
    "\n",
    "##### Function Definitions:\n",
    "```python\n",
    "def group_and_aggregate_data(df: pd.DataFrame, group_by_column: str, agg_func) -> pd.DataFrame:\n",
    "\n",
    "    Input:\n",
    "\t    df: A pandas DataFrame containing the dataset.\n",
    "\t    group_by_column: The column to group data by (e.g., 'city name').\n",
    "\t    agg_func: The aggregation function to apply to each group (e.g., mean, sum, or count).\n",
    "\n",
    "    Output:\n",
    "\t    A pandas DataFrame with aggregated results.\n",
    "```\n",
    "Demonstrate this function in a Jupyter Notebook by:\n",
    "Loading the election dataset.\n",
    "Aggregating it by city name.\n",
    "Displaying the total number of votes each party received in each city."
   ],
   "id": "ac05cecaadd3d625"
  },
  {
   "metadata": {
    "ExecuteTime": {
     "end_time": "2025-01-09T11:35:14.103599Z",
     "start_time": "2025-01-09T11:35:14.081957Z"
    }
   },
   "cell_type": "code",
   "source": [
    "def group_and_aggregate_data(df: pd.DataFrame, group_by_column: str, agg_func) -> pd.DataFrame:\n",
    "    \"\"\"\n",
    "    grouping by and aggregate the data frame\n",
    "    :param df: DataFrame\n",
    "    :param group_by_column: String\n",
    "    :param agg_func: String array\n",
    "    :return:\n",
    "    \"\"\"\n",
    "    # Perform group by and aggregation\n",
    "    return df.groupby(group_by_column).agg(agg_func)\n",
    "\n",
    "filtered_data = data.drop('ballot_code', axis=1)\n",
    "agg_df = group_and_aggregate_data(df=filtered_data, group_by_column='city_name',agg_func=\"sum\")\n",
    "agg_df"
   ],
   "id": "2bc08f0a3ac5a15d",
   "outputs": [
    {
     "data": {
      "text/plain": [
       "                  party_avoda  party_shahar_kalkali_hadash  \\\n",
       "city_name                                                    \n",
       "אבו גווייעד שבט             1                            0   \n",
       "אבו גוש                    14                            1   \n",
       "אבו סנאן                   34                            0   \n",
       "אבו עבדון שבט               0                            0   \n",
       "אבו קורינאת שבט             5                            0   \n",
       "...                       ...                          ...   \n",
       "תקומה                       3                            2   \n",
       "תקוע                       25                           18   \n",
       "תראבין אצאנע שבט            0                            0   \n",
       "תראבין אצאנעישוב            1                            0   \n",
       "תרום                        5                            4   \n",
       "\n",
       "                  party_bayit_yehudi  party_agudat_israel  party_daled  \\\n",
       "city_name                                                                \n",
       "אבו גווייעד שבט                    0                    0            4   \n",
       "אבו גוש                            1                    3         1263   \n",
       "אבו סנאן                           3                    0          677   \n",
       "אבו עבדון שבט                      0                    0            1   \n",
       "אבו קורינאת שבט                    1                    0           10   \n",
       "...                              ...                  ...          ...   \n",
       "תקומה                             42                    1            0   \n",
       "תקוע                             266                   13            0   \n",
       "תראבין אצאנע שבט                   0                    0            0   \n",
       "תראבין אצאנעישוב                   0                    0            6   \n",
       "תרום                              17                   12            0   \n",
       "\n",
       "                  party_vavmem  party_shahar_koach_hevrati  party_kama  \\\n",
       "city_name                                                                \n",
       "אבו גווייעד שבט             38                           0           0   \n",
       "אבו גוש                    312                           0           0   \n",
       "אבו סנאן                  2030                           4           1   \n",
       "אבו עבדון שבט                1                           0           0   \n",
       "אבו קורינאת שבט             65                           0           0   \n",
       "...                        ...                         ...         ...   \n",
       "תקומה                        0                           0           0   \n",
       "תקוע                         1                           0           0   \n",
       "תראבין אצאנע שבט             1                           0           0   \n",
       "תראבין אצאנעישוב             1                           0           0   \n",
       "תרום                         0                           0           0   \n",
       "\n",
       "                  party_koach_lehashpia  party_tzomet  ...  \\\n",
       "city_name                                              ...   \n",
       "אבו גווייעד שבט                       1             0  ...   \n",
       "אבו גוש                               0             0  ...   \n",
       "אבו סנאן                              2             0  ...   \n",
       "אבו עבדון שבט                         0             0  ...   \n",
       "אבו קורינאת שבט                       1             1  ...   \n",
       "...                                 ...           ...  ...   \n",
       "תקומה                                 0             0  ...   \n",
       "תקוע                                  0             0  ...   \n",
       "תראבין אצאנע שבט                      0             0  ...   \n",
       "תראבין אצאנעישוב                      0             0  ...   \n",
       "תרום                                  0             0  ...   \n",
       "\n",
       "                  party_tze'irim_bo'arim  party_manhigut_hevratit  \\\n",
       "city_name                                                           \n",
       "אבו גווייעד שבט                        1                        0   \n",
       "אבו גוש                                2                        7   \n",
       "אבו סנאן                               1                        4   \n",
       "אבו עבדון שבט                          0                        0   \n",
       "אבו קורינאת שבט                        0                        1   \n",
       "...                                  ...                      ...   \n",
       "תקומה                                  0                        0   \n",
       "תקוע                                   1                        1   \n",
       "תראבין אצאנע שבט                       0                        0   \n",
       "תראבין אצאנעישוב                       0                        0   \n",
       "תרום                                   1                        0   \n",
       "\n",
       "                  party_kol_hasviva_vehachai  party_halev_hayehudi  \\\n",
       "city_name                                                            \n",
       "אבו גווייעד שבט                            0                     0   \n",
       "אבו גוש                                    1                     0   \n",
       "אבו סנאן                                   1                     3   \n",
       "אבו עבדון שבט                              0                     0   \n",
       "אבו קורינאת שבט                            0                     0   \n",
       "...                                      ...                   ...   \n",
       "תקומה                                      0                     0   \n",
       "תקוע                                       1                     3   \n",
       "תראבין אצאנע שבט                           0                     0   \n",
       "תראבין אצאנעישוב                           0                     0   \n",
       "תרום                                       0                     0   \n",
       "\n",
       "                  party_seder_chadash  party_kol  party_beometz_bishvilech  \\\n",
       "city_name                                                                    \n",
       "אבו גווייעד שבט                     0          0                         0   \n",
       "אבו גוש                             1          1                         3   \n",
       "אבו סנאן                            1          6                         9   \n",
       "אבו עבדון שבט                       0          0                         0   \n",
       "אבו קורינאת שבט                     2          1                         0   \n",
       "...                               ...        ...                       ...   \n",
       "תקומה                               0          0                         1   \n",
       "תקוע                                0          0                        26   \n",
       "תראבין אצאנע שבט                    0          0                         0   \n",
       "תראבין אצאנעישוב                    0          0                         1   \n",
       "תרום                                0          0                         4   \n",
       "\n",
       "                  party_kavod_umasoret  party_shas  party_daat_tov_vera  \n",
       "city_name                                                                \n",
       "אבו גווייעד שבט                      0           4                    3  \n",
       "אבו גוש                              0           4                    0  \n",
       "אבו סנאן                             0          12                    1  \n",
       "אבו עבדון שבט                        0           0                    0  \n",
       "אבו קורינאת שבט                      0           3                    0  \n",
       "...                                ...         ...                  ...  \n",
       "תקומה                                0          13                    0  \n",
       "תקוע                                 0          27                    0  \n",
       "תראבין אצאנע שבט                     0           0                    0  \n",
       "תראבין אצאנעישוב                     0           1                    0  \n",
       "תרום                                 0          49                    0  \n",
       "\n",
       "[1216 rows x 40 columns]"
      ],
      "text/html": [
       "<div>\n",
       "<style scoped>\n",
       "    .dataframe tbody tr th:only-of-type {\n",
       "        vertical-align: middle;\n",
       "    }\n",
       "\n",
       "    .dataframe tbody tr th {\n",
       "        vertical-align: top;\n",
       "    }\n",
       "\n",
       "    .dataframe thead th {\n",
       "        text-align: right;\n",
       "    }\n",
       "</style>\n",
       "<table border=\"1\" class=\"dataframe\">\n",
       "  <thead>\n",
       "    <tr style=\"text-align: right;\">\n",
       "      <th></th>\n",
       "      <th>party_avoda</th>\n",
       "      <th>party_shahar_kalkali_hadash</th>\n",
       "      <th>party_bayit_yehudi</th>\n",
       "      <th>party_agudat_israel</th>\n",
       "      <th>party_daled</th>\n",
       "      <th>party_vavmem</th>\n",
       "      <th>party_shahar_koach_hevrati</th>\n",
       "      <th>party_kama</th>\n",
       "      <th>party_koach_lehashpia</th>\n",
       "      <th>party_tzomet</th>\n",
       "      <th>...</th>\n",
       "      <th>party_tze'irim_bo'arim</th>\n",
       "      <th>party_manhigut_hevratit</th>\n",
       "      <th>party_kol_hasviva_vehachai</th>\n",
       "      <th>party_halev_hayehudi</th>\n",
       "      <th>party_seder_chadash</th>\n",
       "      <th>party_kol</th>\n",
       "      <th>party_beometz_bishvilech</th>\n",
       "      <th>party_kavod_umasoret</th>\n",
       "      <th>party_shas</th>\n",
       "      <th>party_daat_tov_vera</th>\n",
       "    </tr>\n",
       "    <tr>\n",
       "      <th>city_name</th>\n",
       "      <th></th>\n",
       "      <th></th>\n",
       "      <th></th>\n",
       "      <th></th>\n",
       "      <th></th>\n",
       "      <th></th>\n",
       "      <th></th>\n",
       "      <th></th>\n",
       "      <th></th>\n",
       "      <th></th>\n",
       "      <th></th>\n",
       "      <th></th>\n",
       "      <th></th>\n",
       "      <th></th>\n",
       "      <th></th>\n",
       "      <th></th>\n",
       "      <th></th>\n",
       "      <th></th>\n",
       "      <th></th>\n",
       "      <th></th>\n",
       "      <th></th>\n",
       "    </tr>\n",
       "  </thead>\n",
       "  <tbody>\n",
       "    <tr>\n",
       "      <th>אבו גווייעד שבט</th>\n",
       "      <td>1</td>\n",
       "      <td>0</td>\n",
       "      <td>0</td>\n",
       "      <td>0</td>\n",
       "      <td>4</td>\n",
       "      <td>38</td>\n",
       "      <td>0</td>\n",
       "      <td>0</td>\n",
       "      <td>1</td>\n",
       "      <td>0</td>\n",
       "      <td>...</td>\n",
       "      <td>1</td>\n",
       "      <td>0</td>\n",
       "      <td>0</td>\n",
       "      <td>0</td>\n",
       "      <td>0</td>\n",
       "      <td>0</td>\n",
       "      <td>0</td>\n",
       "      <td>0</td>\n",
       "      <td>4</td>\n",
       "      <td>3</td>\n",
       "    </tr>\n",
       "    <tr>\n",
       "      <th>אבו גוש</th>\n",
       "      <td>14</td>\n",
       "      <td>1</td>\n",
       "      <td>1</td>\n",
       "      <td>3</td>\n",
       "      <td>1263</td>\n",
       "      <td>312</td>\n",
       "      <td>0</td>\n",
       "      <td>0</td>\n",
       "      <td>0</td>\n",
       "      <td>0</td>\n",
       "      <td>...</td>\n",
       "      <td>2</td>\n",
       "      <td>7</td>\n",
       "      <td>1</td>\n",
       "      <td>0</td>\n",
       "      <td>1</td>\n",
       "      <td>1</td>\n",
       "      <td>3</td>\n",
       "      <td>0</td>\n",
       "      <td>4</td>\n",
       "      <td>0</td>\n",
       "    </tr>\n",
       "    <tr>\n",
       "      <th>אבו סנאן</th>\n",
       "      <td>34</td>\n",
       "      <td>0</td>\n",
       "      <td>3</td>\n",
       "      <td>0</td>\n",
       "      <td>677</td>\n",
       "      <td>2030</td>\n",
       "      <td>4</td>\n",
       "      <td>1</td>\n",
       "      <td>2</td>\n",
       "      <td>0</td>\n",
       "      <td>...</td>\n",
       "      <td>1</td>\n",
       "      <td>4</td>\n",
       "      <td>1</td>\n",
       "      <td>3</td>\n",
       "      <td>1</td>\n",
       "      <td>6</td>\n",
       "      <td>9</td>\n",
       "      <td>0</td>\n",
       "      <td>12</td>\n",
       "      <td>1</td>\n",
       "    </tr>\n",
       "    <tr>\n",
       "      <th>אבו עבדון שבט</th>\n",
       "      <td>0</td>\n",
       "      <td>0</td>\n",
       "      <td>0</td>\n",
       "      <td>0</td>\n",
       "      <td>1</td>\n",
       "      <td>1</td>\n",
       "      <td>0</td>\n",
       "      <td>0</td>\n",
       "      <td>0</td>\n",
       "      <td>0</td>\n",
       "      <td>...</td>\n",
       "      <td>0</td>\n",
       "      <td>0</td>\n",
       "      <td>0</td>\n",
       "      <td>0</td>\n",
       "      <td>0</td>\n",
       "      <td>0</td>\n",
       "      <td>0</td>\n",
       "      <td>0</td>\n",
       "      <td>0</td>\n",
       "      <td>0</td>\n",
       "    </tr>\n",
       "    <tr>\n",
       "      <th>אבו קורינאת שבט</th>\n",
       "      <td>5</td>\n",
       "      <td>0</td>\n",
       "      <td>1</td>\n",
       "      <td>0</td>\n",
       "      <td>10</td>\n",
       "      <td>65</td>\n",
       "      <td>0</td>\n",
       "      <td>0</td>\n",
       "      <td>1</td>\n",
       "      <td>1</td>\n",
       "      <td>...</td>\n",
       "      <td>0</td>\n",
       "      <td>1</td>\n",
       "      <td>0</td>\n",
       "      <td>0</td>\n",
       "      <td>2</td>\n",
       "      <td>1</td>\n",
       "      <td>0</td>\n",
       "      <td>0</td>\n",
       "      <td>3</td>\n",
       "      <td>0</td>\n",
       "    </tr>\n",
       "    <tr>\n",
       "      <th>...</th>\n",
       "      <td>...</td>\n",
       "      <td>...</td>\n",
       "      <td>...</td>\n",
       "      <td>...</td>\n",
       "      <td>...</td>\n",
       "      <td>...</td>\n",
       "      <td>...</td>\n",
       "      <td>...</td>\n",
       "      <td>...</td>\n",
       "      <td>...</td>\n",
       "      <td>...</td>\n",
       "      <td>...</td>\n",
       "      <td>...</td>\n",
       "      <td>...</td>\n",
       "      <td>...</td>\n",
       "      <td>...</td>\n",
       "      <td>...</td>\n",
       "      <td>...</td>\n",
       "      <td>...</td>\n",
       "      <td>...</td>\n",
       "      <td>...</td>\n",
       "    </tr>\n",
       "    <tr>\n",
       "      <th>תקומה</th>\n",
       "      <td>3</td>\n",
       "      <td>2</td>\n",
       "      <td>42</td>\n",
       "      <td>1</td>\n",
       "      <td>0</td>\n",
       "      <td>0</td>\n",
       "      <td>0</td>\n",
       "      <td>0</td>\n",
       "      <td>0</td>\n",
       "      <td>0</td>\n",
       "      <td>...</td>\n",
       "      <td>0</td>\n",
       "      <td>0</td>\n",
       "      <td>0</td>\n",
       "      <td>0</td>\n",
       "      <td>0</td>\n",
       "      <td>0</td>\n",
       "      <td>1</td>\n",
       "      <td>0</td>\n",
       "      <td>13</td>\n",
       "      <td>0</td>\n",
       "    </tr>\n",
       "    <tr>\n",
       "      <th>תקוע</th>\n",
       "      <td>25</td>\n",
       "      <td>18</td>\n",
       "      <td>266</td>\n",
       "      <td>13</td>\n",
       "      <td>0</td>\n",
       "      <td>1</td>\n",
       "      <td>0</td>\n",
       "      <td>0</td>\n",
       "      <td>0</td>\n",
       "      <td>0</td>\n",
       "      <td>...</td>\n",
       "      <td>1</td>\n",
       "      <td>1</td>\n",
       "      <td>1</td>\n",
       "      <td>3</td>\n",
       "      <td>0</td>\n",
       "      <td>0</td>\n",
       "      <td>26</td>\n",
       "      <td>0</td>\n",
       "      <td>27</td>\n",
       "      <td>0</td>\n",
       "    </tr>\n",
       "    <tr>\n",
       "      <th>תראבין אצאנע שבט</th>\n",
       "      <td>0</td>\n",
       "      <td>0</td>\n",
       "      <td>0</td>\n",
       "      <td>0</td>\n",
       "      <td>0</td>\n",
       "      <td>1</td>\n",
       "      <td>0</td>\n",
       "      <td>0</td>\n",
       "      <td>0</td>\n",
       "      <td>0</td>\n",
       "      <td>...</td>\n",
       "      <td>0</td>\n",
       "      <td>0</td>\n",
       "      <td>0</td>\n",
       "      <td>0</td>\n",
       "      <td>0</td>\n",
       "      <td>0</td>\n",
       "      <td>0</td>\n",
       "      <td>0</td>\n",
       "      <td>0</td>\n",
       "      <td>0</td>\n",
       "    </tr>\n",
       "    <tr>\n",
       "      <th>תראבין אצאנעישוב</th>\n",
       "      <td>1</td>\n",
       "      <td>0</td>\n",
       "      <td>0</td>\n",
       "      <td>0</td>\n",
       "      <td>6</td>\n",
       "      <td>1</td>\n",
       "      <td>0</td>\n",
       "      <td>0</td>\n",
       "      <td>0</td>\n",
       "      <td>0</td>\n",
       "      <td>...</td>\n",
       "      <td>0</td>\n",
       "      <td>0</td>\n",
       "      <td>0</td>\n",
       "      <td>0</td>\n",
       "      <td>0</td>\n",
       "      <td>0</td>\n",
       "      <td>1</td>\n",
       "      <td>0</td>\n",
       "      <td>1</td>\n",
       "      <td>0</td>\n",
       "    </tr>\n",
       "    <tr>\n",
       "      <th>תרום</th>\n",
       "      <td>5</td>\n",
       "      <td>4</td>\n",
       "      <td>17</td>\n",
       "      <td>12</td>\n",
       "      <td>0</td>\n",
       "      <td>0</td>\n",
       "      <td>0</td>\n",
       "      <td>0</td>\n",
       "      <td>0</td>\n",
       "      <td>0</td>\n",
       "      <td>...</td>\n",
       "      <td>1</td>\n",
       "      <td>0</td>\n",
       "      <td>0</td>\n",
       "      <td>0</td>\n",
       "      <td>0</td>\n",
       "      <td>0</td>\n",
       "      <td>4</td>\n",
       "      <td>0</td>\n",
       "      <td>49</td>\n",
       "      <td>0</td>\n",
       "    </tr>\n",
       "  </tbody>\n",
       "</table>\n",
       "<p>1216 rows × 40 columns</p>\n",
       "</div>"
      ]
     },
     "execution_count": 181,
     "metadata": {},
     "output_type": "execute_result"
    }
   ],
   "execution_count": 181
  },
  {
   "metadata": {},
   "cell_type": "markdown",
   "source": [
    "### 3.\tRemove Sparse Columns (10 points)\n",
    "\n",
    "#### Task: Write a function:\n",
    "\n",
    "##### Function Definitions:\n",
    "```python\n",
    "def remove_sparse_columns(df: pd.DataFrame, threshold: int) -> pd.DataFrame:\n",
    "\n",
    "    Input:\n",
    "        df: A pandas DataFrame.\n",
    "        threshold: The minimum total sum for a column to be retained in the DataFrame.\n",
    "\n",
    "    Output:\n",
    "        A pandas DataFrame with sparse columns removed.\n",
    "```\n",
    "Demonstrate this function in a Jupyter Notebook by removing columns representing parties that received fewer votes than a specified\n",
    "threshold.\n"
   ],
   "id": "da7f20593bfb7e74"
  },
  {
   "metadata": {},
   "cell_type": "markdown",
   "source": "",
   "id": "b39a76a27b3edc8e"
  },
  {
   "metadata": {
    "ExecuteTime": {
     "end_time": "2025-01-09T11:38:33.135410Z",
     "start_time": "2025-01-09T11:38:33.119693Z"
    }
   },
   "cell_type": "code",
   "source": [
    "def remove_sparse_columns(df: pd.DataFrame, threshold: int) -> pd.DataFrame:\n",
    "    \"\"\"\n",
    "    remove sparse columns from dataframe\n",
    "    :param df: dataframe\n",
    "    :param threshold: integer\n",
    "    :return: dataframe\n",
    "    \"\"\"\n",
    "    # calculate the sum of each column\n",
    "    column_totals = df.sum()\n",
    "\n",
    "    # keep only the columns that meet the condition\n",
    "    return df[list(column_totals[column_totals > threshold].index)]\n",
    "\n",
    "\n",
    "filteredDataFrame = remove_sparse_columns(df=data.drop('ballot_code', axis=1).set_index('city_name'), threshold=10000)\n",
    "filteredDataFrame"
   ],
   "id": "54716c87047f7ebc",
   "outputs": [
    {
     "data": {
      "text/plain": [
       "                  party_avoda  party_shahar_kalkali_hadash  \\\n",
       "city_name                                                    \n",
       "אבו גווייעד שבט             0                            0   \n",
       "אבו גווייעד שבט             1                            0   \n",
       "אבו גווייעד שבט             0                            0   \n",
       "אבו גווייעד שבט             0                            0   \n",
       "אבו גוש                     1                            0   \n",
       "...                       ...                          ...   \n",
       "תקוע                        4                            3   \n",
       "תקוע                        6                            3   \n",
       "תראבין אצאנע שבט            0                            0   \n",
       "תראבין אצאנעישוב            1                            0   \n",
       "תרום                        5                            4   \n",
       "\n",
       "                  party_bayit_yehudi  party_agudat_israel  party_daled  \\\n",
       "city_name                                                                \n",
       "אבו גווייעד שבט                    0                    0            4   \n",
       "אבו גווייעד שבט                    0                    0            0   \n",
       "אבו גווייעד שבט                    0                    0            0   \n",
       "אבו גווייעד שבט                    0                    0            0   \n",
       "אבו גוש                            0                    0          171   \n",
       "...                              ...                  ...          ...   \n",
       "תקוע                              66                    1            0   \n",
       "תקוע                              66                    3            0   \n",
       "תראבין אצאנע שבט                   0                    0            0   \n",
       "תראבין אצאנעישוב                   0                    0            6   \n",
       "תרום                              17                   12            0   \n",
       "\n",
       "                  party_vavmem  party_tet  party_hakalkalit_hahadasha  \\\n",
       "city_name                                                               \n",
       "אבו גווייעד שבט             21          0                           0   \n",
       "אבו גווייעד שבט              2          0                           0   \n",
       "אבו גווייעד שבט             12          0                           0   \n",
       "אבו גווייעד שבט              3          0                           0   \n",
       "אבו גוש                     43          1                           0   \n",
       "...                        ...        ...                         ...   \n",
       "תקוע                         1        155                           0   \n",
       "תקוע                         0        206                           1   \n",
       "תראבין אצאנע שבט             1          0                           0   \n",
       "תראבין אצאנעישוב             1          0                           0   \n",
       "תרום                         0        130                           1   \n",
       "\n",
       "                  party_kahol_lavan  party_israel_beitenu  party_likud  \\\n",
       "city_name                                                                \n",
       "אבו גווייעד שבט                   1                     0            9   \n",
       "אבו גווייעד שבט                   0                     0            1   \n",
       "אבו גווייעד שבט                   3                     0            0   \n",
       "אבו גווייעד שבט                   1                     0            2   \n",
       "אבו גוש                           0                     0           11   \n",
       "...                             ...                   ...          ...   \n",
       "תקוע                             19                     1           83   \n",
       "תקוע                             19                    15           79   \n",
       "תראבין אצאנע שבט                  0                     0           28   \n",
       "תראבין אצאנעישוב                  0                     0          143   \n",
       "תרום                             46                     0          201   \n",
       "\n",
       "                  party_meretz  party_raam  party_yesh_atid  \\\n",
       "city_name                                                     \n",
       "אבו גווייעד שבט              0         132                0   \n",
       "אבו גווייעד שבט              0          90                0   \n",
       "אבו גווייעד שבט              0         150                1   \n",
       "אבו גווייעד שבט              0          96                0   \n",
       "אבו גוש                     10         110                5   \n",
       "...                        ...         ...              ...   \n",
       "תקוע                         1           0                9   \n",
       "תקוע                         2           1               16   \n",
       "תראבין אצאנע שבט             1          42                0   \n",
       "תראבין אצאנעישוב             2          87                1   \n",
       "תרום                         1           1               21   \n",
       "\n",
       "                  party_beometz_bishvilech  party_shas  \n",
       "city_name                                               \n",
       "אבו גווייעד שבט                          0           0  \n",
       "אבו גווייעד שבט                          0           0  \n",
       "אבו גווייעד שבט                          0           2  \n",
       "אבו גווייעד שבט                          0           2  \n",
       "אבו גוש                                  0           0  \n",
       "...                                    ...         ...  \n",
       "תקוע                                     6          12  \n",
       "תקוע                                     1           3  \n",
       "תראבין אצאנע שבט                         0           0  \n",
       "תראבין אצאנעישוב                         1           1  \n",
       "תרום                                     4          49  \n",
       "\n",
       "[12545 rows x 16 columns]"
      ],
      "text/html": [
       "<div>\n",
       "<style scoped>\n",
       "    .dataframe tbody tr th:only-of-type {\n",
       "        vertical-align: middle;\n",
       "    }\n",
       "\n",
       "    .dataframe tbody tr th {\n",
       "        vertical-align: top;\n",
       "    }\n",
       "\n",
       "    .dataframe thead th {\n",
       "        text-align: right;\n",
       "    }\n",
       "</style>\n",
       "<table border=\"1\" class=\"dataframe\">\n",
       "  <thead>\n",
       "    <tr style=\"text-align: right;\">\n",
       "      <th></th>\n",
       "      <th>party_avoda</th>\n",
       "      <th>party_shahar_kalkali_hadash</th>\n",
       "      <th>party_bayit_yehudi</th>\n",
       "      <th>party_agudat_israel</th>\n",
       "      <th>party_daled</th>\n",
       "      <th>party_vavmem</th>\n",
       "      <th>party_tet</th>\n",
       "      <th>party_hakalkalit_hahadasha</th>\n",
       "      <th>party_kahol_lavan</th>\n",
       "      <th>party_israel_beitenu</th>\n",
       "      <th>party_likud</th>\n",
       "      <th>party_meretz</th>\n",
       "      <th>party_raam</th>\n",
       "      <th>party_yesh_atid</th>\n",
       "      <th>party_beometz_bishvilech</th>\n",
       "      <th>party_shas</th>\n",
       "    </tr>\n",
       "    <tr>\n",
       "      <th>city_name</th>\n",
       "      <th></th>\n",
       "      <th></th>\n",
       "      <th></th>\n",
       "      <th></th>\n",
       "      <th></th>\n",
       "      <th></th>\n",
       "      <th></th>\n",
       "      <th></th>\n",
       "      <th></th>\n",
       "      <th></th>\n",
       "      <th></th>\n",
       "      <th></th>\n",
       "      <th></th>\n",
       "      <th></th>\n",
       "      <th></th>\n",
       "      <th></th>\n",
       "    </tr>\n",
       "  </thead>\n",
       "  <tbody>\n",
       "    <tr>\n",
       "      <th>אבו גווייעד שבט</th>\n",
       "      <td>0</td>\n",
       "      <td>0</td>\n",
       "      <td>0</td>\n",
       "      <td>0</td>\n",
       "      <td>4</td>\n",
       "      <td>21</td>\n",
       "      <td>0</td>\n",
       "      <td>0</td>\n",
       "      <td>1</td>\n",
       "      <td>0</td>\n",
       "      <td>9</td>\n",
       "      <td>0</td>\n",
       "      <td>132</td>\n",
       "      <td>0</td>\n",
       "      <td>0</td>\n",
       "      <td>0</td>\n",
       "    </tr>\n",
       "    <tr>\n",
       "      <th>אבו גווייעד שבט</th>\n",
       "      <td>1</td>\n",
       "      <td>0</td>\n",
       "      <td>0</td>\n",
       "      <td>0</td>\n",
       "      <td>0</td>\n",
       "      <td>2</td>\n",
       "      <td>0</td>\n",
       "      <td>0</td>\n",
       "      <td>0</td>\n",
       "      <td>0</td>\n",
       "      <td>1</td>\n",
       "      <td>0</td>\n",
       "      <td>90</td>\n",
       "      <td>0</td>\n",
       "      <td>0</td>\n",
       "      <td>0</td>\n",
       "    </tr>\n",
       "    <tr>\n",
       "      <th>אבו גווייעד שבט</th>\n",
       "      <td>0</td>\n",
       "      <td>0</td>\n",
       "      <td>0</td>\n",
       "      <td>0</td>\n",
       "      <td>0</td>\n",
       "      <td>12</td>\n",
       "      <td>0</td>\n",
       "      <td>0</td>\n",
       "      <td>3</td>\n",
       "      <td>0</td>\n",
       "      <td>0</td>\n",
       "      <td>0</td>\n",
       "      <td>150</td>\n",
       "      <td>1</td>\n",
       "      <td>0</td>\n",
       "      <td>2</td>\n",
       "    </tr>\n",
       "    <tr>\n",
       "      <th>אבו גווייעד שבט</th>\n",
       "      <td>0</td>\n",
       "      <td>0</td>\n",
       "      <td>0</td>\n",
       "      <td>0</td>\n",
       "      <td>0</td>\n",
       "      <td>3</td>\n",
       "      <td>0</td>\n",
       "      <td>0</td>\n",
       "      <td>1</td>\n",
       "      <td>0</td>\n",
       "      <td>2</td>\n",
       "      <td>0</td>\n",
       "      <td>96</td>\n",
       "      <td>0</td>\n",
       "      <td>0</td>\n",
       "      <td>2</td>\n",
       "    </tr>\n",
       "    <tr>\n",
       "      <th>אבו גוש</th>\n",
       "      <td>1</td>\n",
       "      <td>0</td>\n",
       "      <td>0</td>\n",
       "      <td>0</td>\n",
       "      <td>171</td>\n",
       "      <td>43</td>\n",
       "      <td>1</td>\n",
       "      <td>0</td>\n",
       "      <td>0</td>\n",
       "      <td>0</td>\n",
       "      <td>11</td>\n",
       "      <td>10</td>\n",
       "      <td>110</td>\n",
       "      <td>5</td>\n",
       "      <td>0</td>\n",
       "      <td>0</td>\n",
       "    </tr>\n",
       "    <tr>\n",
       "      <th>...</th>\n",
       "      <td>...</td>\n",
       "      <td>...</td>\n",
       "      <td>...</td>\n",
       "      <td>...</td>\n",
       "      <td>...</td>\n",
       "      <td>...</td>\n",
       "      <td>...</td>\n",
       "      <td>...</td>\n",
       "      <td>...</td>\n",
       "      <td>...</td>\n",
       "      <td>...</td>\n",
       "      <td>...</td>\n",
       "      <td>...</td>\n",
       "      <td>...</td>\n",
       "      <td>...</td>\n",
       "      <td>...</td>\n",
       "    </tr>\n",
       "    <tr>\n",
       "      <th>תקוע</th>\n",
       "      <td>4</td>\n",
       "      <td>3</td>\n",
       "      <td>66</td>\n",
       "      <td>1</td>\n",
       "      <td>0</td>\n",
       "      <td>1</td>\n",
       "      <td>155</td>\n",
       "      <td>0</td>\n",
       "      <td>19</td>\n",
       "      <td>1</td>\n",
       "      <td>83</td>\n",
       "      <td>1</td>\n",
       "      <td>0</td>\n",
       "      <td>9</td>\n",
       "      <td>6</td>\n",
       "      <td>12</td>\n",
       "    </tr>\n",
       "    <tr>\n",
       "      <th>תקוע</th>\n",
       "      <td>6</td>\n",
       "      <td>3</td>\n",
       "      <td>66</td>\n",
       "      <td>3</td>\n",
       "      <td>0</td>\n",
       "      <td>0</td>\n",
       "      <td>206</td>\n",
       "      <td>1</td>\n",
       "      <td>19</td>\n",
       "      <td>15</td>\n",
       "      <td>79</td>\n",
       "      <td>2</td>\n",
       "      <td>1</td>\n",
       "      <td>16</td>\n",
       "      <td>1</td>\n",
       "      <td>3</td>\n",
       "    </tr>\n",
       "    <tr>\n",
       "      <th>תראבין אצאנע שבט</th>\n",
       "      <td>0</td>\n",
       "      <td>0</td>\n",
       "      <td>0</td>\n",
       "      <td>0</td>\n",
       "      <td>0</td>\n",
       "      <td>1</td>\n",
       "      <td>0</td>\n",
       "      <td>0</td>\n",
       "      <td>0</td>\n",
       "      <td>0</td>\n",
       "      <td>28</td>\n",
       "      <td>1</td>\n",
       "      <td>42</td>\n",
       "      <td>0</td>\n",
       "      <td>0</td>\n",
       "      <td>0</td>\n",
       "    </tr>\n",
       "    <tr>\n",
       "      <th>תראבין אצאנעישוב</th>\n",
       "      <td>1</td>\n",
       "      <td>0</td>\n",
       "      <td>0</td>\n",
       "      <td>0</td>\n",
       "      <td>6</td>\n",
       "      <td>1</td>\n",
       "      <td>0</td>\n",
       "      <td>0</td>\n",
       "      <td>0</td>\n",
       "      <td>0</td>\n",
       "      <td>143</td>\n",
       "      <td>2</td>\n",
       "      <td>87</td>\n",
       "      <td>1</td>\n",
       "      <td>1</td>\n",
       "      <td>1</td>\n",
       "    </tr>\n",
       "    <tr>\n",
       "      <th>תרום</th>\n",
       "      <td>5</td>\n",
       "      <td>4</td>\n",
       "      <td>17</td>\n",
       "      <td>12</td>\n",
       "      <td>0</td>\n",
       "      <td>0</td>\n",
       "      <td>130</td>\n",
       "      <td>1</td>\n",
       "      <td>46</td>\n",
       "      <td>0</td>\n",
       "      <td>201</td>\n",
       "      <td>1</td>\n",
       "      <td>1</td>\n",
       "      <td>21</td>\n",
       "      <td>4</td>\n",
       "      <td>49</td>\n",
       "    </tr>\n",
       "  </tbody>\n",
       "</table>\n",
       "<p>12545 rows × 16 columns</p>\n",
       "</div>"
      ]
     },
     "execution_count": 189,
     "metadata": {},
     "output_type": "execute_result"
    }
   ],
   "execution_count": 189
  },
  {
   "metadata": {},
   "cell_type": "markdown",
   "source": [
    "### 4. Dimensionality Reduction with PCA (30 points)\n",
    "\n",
    "#### Task: Write a function:\n",
    "\n",
    "##### Function Definitions:\n",
    "```python\n",
    "def dimensionality_reduction(df: pd.DataFrame, num_components: int, meta_columns: list[str]) -> pd.DataFrame:\n",
    "\n",
    "    Input:\n",
    "        df: A pandas DataFrame containing the data to be reduced.\n",
    "        num_components: The number of principal components to retain.\n",
    "        meta_columns: A list of metadata columns to exclude from dimensionality reduction (these should be included in the final output without changes).\n",
    "    Output:\n",
    "        A pandas DataFrame with the reduced dimensions and the metadata columns.\n",
    "```\n",
    "Implement PCA (Principal Component Analysis) from scratch"
   ],
   "id": "a674838ea0d3f88f"
  },
  {
   "metadata": {
    "ExecuteTime": {
     "end_time": "2025-01-09T11:38:42.832494Z",
     "start_time": "2025-01-09T11:38:42.812347Z"
    }
   },
   "cell_type": "code",
   "source": [
    "def dimensionality_reduction(df: pd.DataFrame, num_components: int, meta_columns: list[str]) -> pd.DataFrame:\n",
    "    #Saving meta data\n",
    "    meta_data = df[meta_columns]\n",
    "\n",
    "    #removing meta columns\n",
    "    non_meta_data = df.drop(columns = meta_columns)\n",
    "\n",
    "    #Calculate the mean of each column\n",
    "    mean = non_meta_data.mean()\n",
    "\n",
    "    #Normalize the data\n",
    "    normalized_non_meta_data = non_meta_data - mean\n",
    "\n",
    "    # Convert to NumPy array for covariance calculation\n",
    "    normalized_array = normalized_non_meta_data.to_numpy()\n",
    "\n",
    "    #Find covariance matrix\n",
    "    cov_matrix = np.cov(normalized_array, rowvar=False)\n",
    "\n",
    "    #Calculate the eigenvalues and eigenvectors\n",
    "    eigen_vals, eigen_vecs = np.linalg.eigh(cov_matrix)\n",
    "\n",
    "    #Sort eigen values and save list of orginal indexes\n",
    "    sorted_indices = np.argsort(eigen_vals)[::-1]\n",
    "\n",
    "    #Sort vects by sorted_indices\n",
    "    sorted_eigen_vecs = eigen_vecs[:, sorted_indices]\n",
    "\n",
    "    #Take only num_components columns\n",
    "    principal_components = sorted_eigen_vecs[:, :num_components]\n",
    "\n",
    "    #Project the data onto the principal components\n",
    "    #matrix multiplication between a pandas.DataFrame (normalized_non_meta_data) and a NumPy ndarray (principal_components) NxM dot Mxnum_components\n",
    "    reduced_data = np.dot(normalized_array, principal_components)\n",
    "\n",
    "    # Convert reduced data to a DataFrame\n",
    "    reduced_df = pd.DataFrame(\n",
    "        reduced_data,\n",
    "        columns=[f'PC{i + 1}' for i in range(num_components)],\n",
    "        index=df.index\n",
    "    )\n",
    "\n",
    "    #Combine reduced data and meta data\n",
    "    result_df = pd.concat([meta_data, reduced_df], axis=1)\n",
    "\n",
    "    return result_df\n",
    "\n",
    "dimensionality_reduction(data, 3, ['city_name', 'ballot_code'])"
   ],
   "id": "89c3dd743d80bf6f",
   "outputs": [
    {
     "data": {
      "text/plain": [
       "              city_name  ballot_code         PC1         PC2         PC3\n",
       "0       אבו גווייעד שבט          3.1  106.105293   97.442477  -35.129084\n",
       "1       אבו גווייעד שבט          3.2   94.597143   79.640944  -20.569373\n",
       "2       אבו גווייעד שבט          3.3  112.101099  102.923479  -32.152839\n",
       "3       אבו גווייעד שבט          3.4   96.019202   80.739182  -22.348367\n",
       "4               אבו גוש          1.1  128.880482  133.343458  -50.193464\n",
       "...                 ...          ...         ...         ...         ...\n",
       "12540              תקוע          3.0   -0.605860  -33.620839  -78.145465\n",
       "12541              תקוע          4.0  -10.730545  -43.546347  -86.665559\n",
       "12542  תראבין אצאנע שבט          1.0   68.260583   52.610869  -22.670159\n",
       "12543  תראבין אצאנעישוב          1.0   22.747345   26.056273  -79.866692\n",
       "12544              תרום          1.0  -57.030406  -89.392406 -104.078714\n",
       "\n",
       "[12545 rows x 5 columns]"
      ],
      "text/html": [
       "<div>\n",
       "<style scoped>\n",
       "    .dataframe tbody tr th:only-of-type {\n",
       "        vertical-align: middle;\n",
       "    }\n",
       "\n",
       "    .dataframe tbody tr th {\n",
       "        vertical-align: top;\n",
       "    }\n",
       "\n",
       "    .dataframe thead th {\n",
       "        text-align: right;\n",
       "    }\n",
       "</style>\n",
       "<table border=\"1\" class=\"dataframe\">\n",
       "  <thead>\n",
       "    <tr style=\"text-align: right;\">\n",
       "      <th></th>\n",
       "      <th>city_name</th>\n",
       "      <th>ballot_code</th>\n",
       "      <th>PC1</th>\n",
       "      <th>PC2</th>\n",
       "      <th>PC3</th>\n",
       "    </tr>\n",
       "  </thead>\n",
       "  <tbody>\n",
       "    <tr>\n",
       "      <th>0</th>\n",
       "      <td>אבו גווייעד שבט</td>\n",
       "      <td>3.1</td>\n",
       "      <td>106.105293</td>\n",
       "      <td>97.442477</td>\n",
       "      <td>-35.129084</td>\n",
       "    </tr>\n",
       "    <tr>\n",
       "      <th>1</th>\n",
       "      <td>אבו גווייעד שבט</td>\n",
       "      <td>3.2</td>\n",
       "      <td>94.597143</td>\n",
       "      <td>79.640944</td>\n",
       "      <td>-20.569373</td>\n",
       "    </tr>\n",
       "    <tr>\n",
       "      <th>2</th>\n",
       "      <td>אבו גווייעד שבט</td>\n",
       "      <td>3.3</td>\n",
       "      <td>112.101099</td>\n",
       "      <td>102.923479</td>\n",
       "      <td>-32.152839</td>\n",
       "    </tr>\n",
       "    <tr>\n",
       "      <th>3</th>\n",
       "      <td>אבו גווייעד שבט</td>\n",
       "      <td>3.4</td>\n",
       "      <td>96.019202</td>\n",
       "      <td>80.739182</td>\n",
       "      <td>-22.348367</td>\n",
       "    </tr>\n",
       "    <tr>\n",
       "      <th>4</th>\n",
       "      <td>אבו גוש</td>\n",
       "      <td>1.1</td>\n",
       "      <td>128.880482</td>\n",
       "      <td>133.343458</td>\n",
       "      <td>-50.193464</td>\n",
       "    </tr>\n",
       "    <tr>\n",
       "      <th>...</th>\n",
       "      <td>...</td>\n",
       "      <td>...</td>\n",
       "      <td>...</td>\n",
       "      <td>...</td>\n",
       "      <td>...</td>\n",
       "    </tr>\n",
       "    <tr>\n",
       "      <th>12540</th>\n",
       "      <td>תקוע</td>\n",
       "      <td>3.0</td>\n",
       "      <td>-0.605860</td>\n",
       "      <td>-33.620839</td>\n",
       "      <td>-78.145465</td>\n",
       "    </tr>\n",
       "    <tr>\n",
       "      <th>12541</th>\n",
       "      <td>תקוע</td>\n",
       "      <td>4.0</td>\n",
       "      <td>-10.730545</td>\n",
       "      <td>-43.546347</td>\n",
       "      <td>-86.665559</td>\n",
       "    </tr>\n",
       "    <tr>\n",
       "      <th>12542</th>\n",
       "      <td>תראבין אצאנע שבט</td>\n",
       "      <td>1.0</td>\n",
       "      <td>68.260583</td>\n",
       "      <td>52.610869</td>\n",
       "      <td>-22.670159</td>\n",
       "    </tr>\n",
       "    <tr>\n",
       "      <th>12543</th>\n",
       "      <td>תראבין אצאנעישוב</td>\n",
       "      <td>1.0</td>\n",
       "      <td>22.747345</td>\n",
       "      <td>26.056273</td>\n",
       "      <td>-79.866692</td>\n",
       "    </tr>\n",
       "    <tr>\n",
       "      <th>12544</th>\n",
       "      <td>תרום</td>\n",
       "      <td>1.0</td>\n",
       "      <td>-57.030406</td>\n",
       "      <td>-89.392406</td>\n",
       "      <td>-104.078714</td>\n",
       "    </tr>\n",
       "  </tbody>\n",
       "</table>\n",
       "<p>12545 rows × 5 columns</p>\n",
       "</div>"
      ]
     },
     "execution_count": 190,
     "metadata": {},
     "output_type": "execute_result"
    }
   ],
   "execution_count": 190
  },
  {
   "metadata": {},
   "cell_type": "markdown",
   "source": [
    "### 5.\tVisualize the Reduced Data (20 points)\n",
    "\n",
    "Compare Cities:\n",
    "- Aggregate the data so that each row represents a city, and each column represents the total number of votes obtained by each party.\n",
    "- Remove the data for parties that received less than 1000 total votes.\n",
    "- Create a scatter plot of the reduced data (for num_components = 2) to visualize dimensionality reduction.\n",
    "- Estimate the number of clusters visually.\n",
    "\n",
    "Note: Instead of using matplotlib, consider using Plotly for interactive visualizations. Research “Plotly hover” to add tooltips for identifying specific cities or parties. You may also explore creating 3D visualizations to better understand data relationships.\n"
   ],
   "id": "e760b76febfb3761"
  },
  {
   "metadata": {
    "ExecuteTime": {
     "end_time": "2025-01-09T14:09:28.572461Z",
     "start_time": "2025-01-09T14:09:28.491167Z"
    }
   },
   "cell_type": "code",
   "source": [
    "import plotly.express as px\n",
    "\n",
    "aggregatedData = group_and_aggregate_data(data.drop('ballot_code', axis=1), 'city_name', 'sum')\n",
    "\n",
    "filteredData = remove_sparse_columns(aggregatedData, threshold=1000)\n",
    "\n",
    "reducedData = dimensionality_reduction(filteredData, 2, []).reset_index()\n",
    "\n",
    "fig = px.scatter(\n",
    "    reducedData,\n",
    "    x=reducedData.columns[1],\n",
    "    y=reducedData.columns[2],\n",
    "    title='Reduced Data (PC1, PC2)',\n",
    "    labels={'PC1': 'X - PC1', 'PC2': 'Y - PC2'},\n",
    "    hover_data={\"PC1\": False, \"PC2\": False, \"city_name\": True}\n",
    ")\n",
    "fig.show()"
   ],
   "id": "cbf1534546ee2884",
   "outputs": [
    {
     "data": {
      "application/vnd.plotly.v1+json": {
       "data": [
        {
         "customdata": [
          [
           "אבו גווייעד שבט"
          ],
          [
           "אבו גוש"
          ],
          [
           "אבו סנאן"
          ],
          [
           "אבו עבדון שבט"
          ],
          [
           "אבו קורינאת שבט"
          ],
          [
           "אבו קרינאת יישוב"
          ],
          [
           "אבו רובייעה שבט"
          ],
          [
           "אבו רוקייק שבט"
          ],
          [
           "אבו תלול"
          ],
          [
           "אבטין"
          ],
          [
           "אבטליון"
          ],
          [
           "אביאל"
          ],
          [
           "אביבים"
          ],
          [
           "אביגדור"
          ],
          [
           "אביחיל"
          ],
          [
           "אביטל"
          ],
          [
           "אביעזר"
          ],
          [
           "אבירים"
          ],
          [
           "אבן יהודה"
          ],
          [
           "אבן מנחם"
          ],
          [
           "אבן ספיר"
          ],
          [
           "אבן שמואל"
          ],
          [
           "אבני איתן"
          ],
          [
           "אבני חפץ"
          ],
          [
           "אבשלום"
          ],
          [
           "אדורה"
          ],
          [
           "אדירים"
          ],
          [
           "אדמית"
          ],
          [
           "אדרת"
          ],
          [
           "אודים"
          ],
          [
           "אודם"
          ],
          [
           "אוהד"
          ],
          [
           "אום אלפחם"
          ],
          [
           "אום אלקוטוף"
          ],
          [
           "אום בטין"
          ],
          [
           "אומן"
          ],
          [
           "אומץ"
          ],
          [
           "אופקים"
          ],
          [
           "אור הגנוז"
          ],
          [
           "אור הנר"
          ],
          [
           "אור יהודה"
          ],
          [
           "אור עקיבא"
          ],
          [
           "אורה"
          ],
          [
           "אורות"
          ],
          [
           "אורטל"
          ],
          [
           "אורים"
          ],
          [
           "אורנית"
          ],
          [
           "אושה"
          ],
          [
           "אזור"
          ],
          [
           "אחווה"
          ],
          [
           "אחוזם"
          ],
          [
           "אחוזת ברק"
          ],
          [
           "אחיהוד"
          ],
          [
           "אחיטוב"
          ],
          [
           "אחיסמך"
          ],
          [
           "אחיעזר"
          ],
          [
           "אטרש שבט"
          ],
          [
           "איבים"
          ],
          [
           "אייל"
          ],
          [
           "איילת השחר"
          ],
          [
           "אילון"
          ],
          [
           "אילות"
          ],
          [
           "אילניה"
          ],
          [
           "אילת"
          ],
          [
           "אירוס"
          ],
          [
           "איתמר"
          ],
          [
           "איתן"
          ],
          [
           "אכסאל"
          ],
          [
           "אל סייד"
          ],
          [
           "אלומה"
          ],
          [
           "אלומות"
          ],
          [
           "אלון הגליל"
          ],
          [
           "אלון מורה"
          ],
          [
           "אלון שבות"
          ],
          [
           "אלוני אבא"
          ],
          [
           "אלוני הבשן"
          ],
          [
           "אלוני יצחק"
          ],
          [
           "אלונים"
          ],
          [
           "אליאב"
          ],
          [
           "אליכין"
          ],
          [
           "אליעד"
          ],
          [
           "אליפז"
          ],
          [
           "אליפלט"
          ],
          [
           "אליקים"
          ],
          [
           "אלישיב"
          ],
          [
           "אלישמע"
          ],
          [
           "אלמגור"
          ],
          [
           "אלמוג"
          ],
          [
           "אלעד"
          ],
          [
           "אלעזר"
          ],
          [
           "אלעריאן"
          ],
          [
           "אלפי מנשה"
          ],
          [
           "אלקוש"
          ],
          [
           "אלקנה"
          ],
          [
           "אלרום"
          ],
          [
           "אמונים"
          ],
          [
           "אמירים"
          ],
          [
           "אמנון"
          ],
          [
           "אמציה"
          ],
          [
           "אניעם"
          ],
          [
           "אסד שבט"
          ],
          [
           "אספר"
          ],
          [
           "אעבלין"
          ],
          [
           "אעצם שבט"
          ],
          [
           "אפיק"
          ],
          [
           "אפיקים"
          ],
          [
           "אפק"
          ],
          [
           "אפרת"
          ],
          [
           "ארבל"
          ],
          [
           "ארגמן"
          ],
          [
           "ארז"
          ],
          [
           "אריאל"
          ],
          [
           "ארסוף"
          ],
          [
           "אשבול"
          ],
          [
           "אשדוד"
          ],
          [
           "אשדות יעקב איחוד"
          ],
          [
           "אשדות יעקב מאוחד"
          ],
          [
           "אשחר"
          ],
          [
           "אשכולות"
          ],
          [
           "אשל הנשיא"
          ],
          [
           "אשלים"
          ],
          [
           "אשקלון"
          ],
          [
           "אשרת"
          ],
          [
           "אשתאול"
          ],
          [
           "באקה אלגרביה"
          ],
          [
           "באר אורה"
          ],
          [
           "באר גנים"
          ],
          [
           "באר טוביה"
          ],
          [
           "באר יעקב"
          ],
          [
           "באר מילכה"
          ],
          [
           "באר שבע"
          ],
          [
           "בארות יצחק"
          ],
          [
           "בארותיים"
          ],
          [
           "בארי"
          ],
          [
           "בוסתן הגליל"
          ],
          [
           "בועיינהנוגידאת"
          ],
          [
           "בוקעאתא"
          ],
          [
           "בורגתה"
          ],
          [
           "בחן"
          ],
          [
           "בטחה"
          ],
          [
           "ביצרון"
          ],
          [
           "ביר אלמכסור"
          ],
          [
           "ביר הדאג"
          ],
          [
           "ביריה"
          ],
          [
           "בית אורן"
          ],
          [
           "בית אל"
          ],
          [
           "בית אלעזרי"
          ],
          [
           "בית אלפא"
          ],
          [
           "בית אריה"
          ],
          [
           "בית גוברין"
          ],
          [
           "בית גמליאל"
          ],
          [
           "בית גן"
          ],
          [
           "בית דגן"
          ],
          [
           "בית הגדי"
          ],
          [
           "בית הלוי"
          ],
          [
           "בית הלל"
          ],
          [
           "בית העמק"
          ],
          [
           "בית הערבה"
          ],
          [
           "בית השיטה"
          ],
          [
           "בית זיד"
          ],
          [
           "בית זית"
          ],
          [
           "בית זרע"
          ],
          [
           "בית חורון"
          ],
          [
           "בית חירות"
          ],
          [
           "בית חלקיה"
          ],
          [
           "בית חנן"
          ],
          [
           "בית חנניה"
          ],
          [
           "בית חשמונאי"
          ],
          [
           "בית יהושע"
          ],
          [
           "בית יוסף"
          ],
          [
           "בית ינאי"
          ],
          [
           "בית יצחקשער חפר"
          ],
          [
           "בית לחם הגלילית"
          ],
          [
           "בית מאיר"
          ],
          [
           "בית נחמיה"
          ],
          [
           "בית ניר"
          ],
          [
           "בית נקופה"
          ],
          [
           "בית עובד"
          ],
          [
           "בית עוזיאל"
          ],
          [
           "בית עזרא"
          ],
          [
           "בית עריף"
          ],
          [
           "בית צבי"
          ],
          [
           "בית קמה"
          ],
          [
           "בית קשת"
          ],
          [
           "בית רבן"
          ],
          [
           "בית רימון"
          ],
          [
           "בית שאן"
          ],
          [
           "בית שמש"
          ],
          [
           "בית שערים"
          ],
          [
           "בית שקמה"
          ],
          [
           "ביתן אהרן"
          ],
          [
           "ביתר עילית"
          ],
          [
           "בלפוריה"
          ],
          [
           "בן זכאי"
          ],
          [
           "בן עמי"
          ],
          [
           "בן שמן כפר נוער"
          ],
          [
           "בן שמן מושב"
          ],
          [
           "בני ברק"
          ],
          [
           "בני דקלים"
          ],
          [
           "בני דרום"
          ],
          [
           "בני דרור"
          ],
          [
           "בני יהודה"
          ],
          [
           "בני נצרים"
          ],
          [
           "בני עטרות"
          ],
          [
           "בני עיש"
          ],
          [
           "בני ציון"
          ],
          [
           "בני ראם"
          ],
          [
           "בניה"
          ],
          [
           "בנימינהגבעת עדה"
          ],
          [
           "בסמה"
          ],
          [
           "בסמת טבעון"
          ],
          [
           "בענה"
          ],
          [
           "בצרה"
          ],
          [
           "בצת"
          ],
          [
           "בקוע"
          ],
          [
           "בקעות"
          ],
          [
           "בר גיורא"
          ],
          [
           "בר יוחאי"
          ],
          [
           "ברוכין"
          ],
          [
           "ברור חיל"
          ],
          [
           "ברוש"
          ],
          [
           "ברכה"
          ],
          [
           "ברכיה"
          ],
          [
           "ברעם"
          ],
          [
           "ברק"
          ],
          [
           "ברקאי"
          ],
          [
           "ברקן"
          ],
          [
           "ברקת"
          ],
          [
           "בת הדר"
          ],
          [
           "בת חן"
          ],
          [
           "בת חפר"
          ],
          [
           "בת ים"
          ],
          [
           "בת עין"
          ],
          [
           "בת שלמה"
          ],
          [
           "גאולי תימן"
          ],
          [
           "גאולים"
          ],
          [
           "גאליה"
          ],
          [
           "גבולות"
          ],
          [
           "גבים"
          ],
          [
           "גבע"
          ],
          [
           "גבע בנימין"
          ],
          [
           "גבע כרמל"
          ],
          [
           "גבעולים"
          ],
          [
           "גבעון החדשה"
          ],
          [
           "גבעות בר"
          ],
          [
           "גבעת אבני"
          ],
          [
           "גבעת אלה"
          ],
          [
           "גבעת ברנר"
          ],
          [
           "גבעת השלושה"
          ],
          [
           "גבעת זאב"
          ],
          [
           "גבעת חיים איחוד"
          ],
          [
           "גבעת חיים מאוחד"
          ],
          [
           "גבעת חן"
          ],
          [
           "גבעת יואב"
          ],
          [
           "גבעת יערים"
          ],
          [
           "גבעת ישעיהו"
          ],
          [
           "גבעת כח"
          ],
          [
           "גבעת נילי"
          ],
          [
           "גבעת עוז"
          ],
          [
           "גבעת שמואל"
          ],
          [
           "גבעת שפירא"
          ],
          [
           "גבעתי"
          ],
          [
           "גבעתיים"
          ],
          [
           "גברעם"
          ],
          [
           "גבת"
          ],
          [
           "גדות"
          ],
          [
           "גדיידהמכר"
          ],
          [
           "גדיש"
          ],
          [
           "גדעונה"
          ],
          [
           "גדרה"
          ],
          [
           "גולס"
          ],
          [
           "גונן"
          ],
          [
           "גורן"
          ],
          [
           "גורנות הגליל"
          ],
          [
           "גזית"
          ],
          [
           "גזר"
          ],
          [
           "גיאה"
          ],
          [
           "גיבתון"
          ],
          [
           "גיזו"
          ],
          [
           "גילון"
          ],
          [
           "גילת"
          ],
          [
           "גינוסר"
          ],
          [
           "גיניגר"
          ],
          [
           "גינתון"
          ],
          [
           "גיתה"
          ],
          [
           "גיתית"
          ],
          [
           "גלאון"
          ],
          [
           "גלגוליה"
          ],
          [
           "גלגל"
          ],
          [
           "גליל ים"
          ],
          [
           "גלעד אבן יצחק"
          ],
          [
           "גמזו"
          ],
          [
           "גן הדרום"
          ],
          [
           "גן השומרון"
          ],
          [
           "גן חיים"
          ],
          [
           "גן יאשיה"
          ],
          [
           "גן יבנה"
          ],
          [
           "גן נר"
          ],
          [
           "גן שורק"
          ],
          [
           "גן שלמה"
          ],
          [
           "גן שמואל"
          ],
          [
           "גנאביב שבט"
          ],
          [
           "גנות"
          ],
          [
           "גנות הדר"
          ],
          [
           "גני הדר"
          ],
          [
           "גני טל"
          ],
          [
           "גני יוחנן"
          ],
          [
           "גני מודיעין"
          ],
          [
           "גני עם"
          ],
          [
           "גני תקווה"
          ],
          [
           "גסר אזרקא"
          ],
          [
           "געש"
          ],
          [
           "געתון"
          ],
          [
           "גפן"
          ],
          [
           "גרופית"
          ],
          [
           "גש גוש חלב"
          ],
          [
           "גשור"
          ],
          [
           "גשר"
          ],
          [
           "גשר הזיו"
          ],
          [
           "גת"
          ],
          [
           "גת קיבוץ"
          ],
          [
           "גת רימון"
          ],
          [
           "דאלית אלכרמל"
          ],
          [
           "דבורה"
          ],
          [
           "דבוריה"
          ],
          [
           "דבירה"
          ],
          [
           "דברת"
          ],
          [
           "דגניה א"
          ],
          [
           "דגניה ב"
          ],
          [
           "דובב"
          ],
          [
           "דולב"
          ],
          [
           "דור"
          ],
          [
           "דורות"
          ],
          [
           "דחי"
          ],
          [
           "דייר אלאסד"
          ],
          [
           "דייר חנא"
          ],
          [
           "דימונה"
          ],
          [
           "דישון"
          ],
          [
           "דליה"
          ],
          [
           "דלתון"
          ],
          [
           "דמיידה"
          ],
          [
           "דן"
          ],
          [
           "דפנה"
          ],
          [
           "דקל"
          ],
          [
           "דריגאת"
          ],
          [
           "האון"
          ],
          [
           "הבונים"
          ],
          [
           "הגושרים"
          ],
          [
           "הדר עם"
          ],
          [
           "הוד השרון"
          ],
          [
           "הודיה"
          ],
          [
           "הוואשלה שבט"
          ],
          [
           "הוזייל שבט"
          ],
          [
           "הושעיה"
          ],
          [
           "הזורע"
          ],
          [
           "הזורעים"
          ],
          [
           "החותרים"
          ],
          [
           "היוגב"
          ],
          [
           "הילה"
          ],
          [
           "המעפיל"
          ],
          [
           "הסוללים"
          ],
          [
           "העוגן"
          ],
          [
           "הר אדר"
          ],
          [
           "הר גילה"
          ],
          [
           "הר עמשא"
          ],
          [
           "הראל"
          ],
          [
           "הרדוף"
          ],
          [
           "הרצליה"
          ],
          [
           "הררית"
          ],
          [
           "ורד יריחו"
          ],
          [
           "ורדון"
          ],
          [
           "זבדיאל"
          ],
          [
           "זוהר"
          ],
          [
           "זיקים"
          ],
          [
           "זיתן"
          ],
          [
           "זכרון יעקב"
          ],
          [
           "זכריה"
          ],
          [
           "זמר"
          ],
          [
           "זמרת"
          ],
          [
           "זנוח"
          ],
          [
           "זרועה"
          ],
          [
           "זרזיר"
          ],
          [
           "זרחיה"
          ],
          [
           "חבצלת השרון"
          ],
          [
           "חבר"
          ],
          [
           "חברון"
          ],
          [
           "חגור"
          ],
          [
           "חגי"
          ],
          [
           "חגלה"
          ],
          [
           "חדיד"
          ],
          [
           "חדנס"
          ],
          [
           "חדרה"
          ],
          [
           "חואלד"
          ],
          [
           "חולדה"
          ],
          [
           "חולון"
          ],
          [
           "חולית"
          ],
          [
           "חולתה"
          ],
          [
           "חוסן"
          ],
          [
           "חוסנייה"
          ],
          [
           "חופית"
          ],
          [
           "חוקוק"
          ],
          [
           "חורה"
          ],
          [
           "חורפיש"
          ],
          [
           "חורשים"
          ],
          [
           "חזון"
          ],
          [
           "חיבת ציון"
          ],
          [
           "חיננית"
          ],
          [
           "חיפה"
          ],
          [
           "חירות"
          ],
          [
           "חלוץ"
          ],
          [
           "חלץ"
          ],
          [
           "חמאם"
          ],
          [
           "חמד"
          ],
          [
           "חמדיה"
          ],
          [
           "חמדת"
          ],
          [
           "חמרה"
          ],
          [
           "חניאל"
          ],
          [
           "חניתה"
          ],
          [
           "חנתון"
          ],
          [
           "חספין"
          ],
          [
           "חפץ חיים"
          ],
          [
           "חפציבה"
          ],
          [
           "חצב"
          ],
          [
           "חצבה"
          ],
          [
           "חצור הגלילית"
          ],
          [
           "חצוראשדוד"
          ],
          [
           "חצרים"
          ],
          [
           "חרב לאת"
          ],
          [
           "חרוצים"
          ],
          [
           "חריש"
          ],
          [
           "חרמש"
          ],
          [
           "חרשים"
          ],
          [
           "חשמונאים"
          ],
          [
           "טבריה"
          ],
          [
           "טובאזנגריה"
          ],
          [
           "טורעאן"
          ],
          [
           "טייבה"
          ],
          [
           "טייבה בעמק"
          ],
          [
           "טירה"
          ],
          [
           "טירת יהודה"
          ],
          [
           "טירת כרמל"
          ],
          [
           "טירת צבי"
          ],
          [
           "טל שחר"
          ],
          [
           "טלאל"
          ],
          [
           "טללים"
          ],
          [
           "טלמון"
          ],
          [
           "טמרה"
          ],
          [
           "טמרה יזרעאל"
          ],
          [
           "טנא"
          ],
          [
           "טפחות"
          ],
          [
           "יאנוחגת"
          ],
          [
           "יבול"
          ],
          [
           "יבנאל"
          ],
          [
           "יבנה"
          ],
          [
           "יגור"
          ],
          [
           "יגל"
          ],
          [
           "יד בנימין"
          ],
          [
           "יד השמונה"
          ],
          [
           "יד חנה"
          ],
          [
           "יד מרדכי"
          ],
          [
           "יד נתן"
          ],
          [
           "יד רמבם"
          ],
          [
           "יהודמונוסון"
          ],
          [
           "יהל"
          ],
          [
           "יובל"
          ],
          [
           "יובלים"
          ],
          [
           "יודפת"
          ],
          [
           "יונתן"
          ],
          [
           "יושיביה"
          ],
          [
           "יזרעאל"
          ],
          [
           "יחיעם"
          ],
          [
           "יטבתה"
          ],
          [
           "ייטב"
          ],
          [
           "יכיני"
          ],
          [
           "ינוב"
          ],
          [
           "ינון"
          ],
          [
           "יסוד המעלה"
          ],
          [
           "יסודות"
          ],
          [
           "יסעור"
          ],
          [
           "יעד"
          ],
          [
           "יעף"
          ],
          [
           "יערה"
          ],
          [
           "יפיע"
          ],
          [
           "יפית"
          ],
          [
           "יפעת"
          ],
          [
           "יפתח"
          ],
          [
           "יצהר"
          ],
          [
           "יציץ"
          ],
          [
           "יקום"
          ],
          [
           "יקיר"
          ],
          [
           "יקנעם מושבה"
          ],
          [
           "יקנעם עילית"
          ],
          [
           "יראון"
          ],
          [
           "ירדנה"
          ],
          [
           "ירוחם"
          ],
          [
           "ירושלים"
          ],
          [
           "ירחיב"
          ],
          [
           "ירכא"
          ],
          [
           "ירקונה"
          ],
          [
           "ישע"
          ],
          [
           "ישעי"
          ],
          [
           "ישרש"
          ],
          [
           "יתד"
          ],
          [
           "כאבול"
          ],
          [
           "כאוכב אבו אלהיגא"
          ],
          [
           "כברי"
          ],
          [
           "כדיתה"
          ],
          [
           "כוכב השחר"
          ],
          [
           "כוכב יאיר"
          ],
          [
           "כוכב יעקב"
          ],
          [
           "כוכב מיכאל"
          ],
          [
           "כורזים"
          ],
          [
           "כחל"
          ],
          [
           "כחלה"
          ],
          [
           "כיסופים"
          ],
          [
           "כישור"
          ],
          [
           "כליל"
          ],
          [
           "כלנית"
          ],
          [
           "כמאנה"
          ],
          [
           "כמהין"
          ],
          [
           "כמון"
          ],
          [
           "כנף"
          ],
          [
           "כנרת מושבה"
          ],
          [
           "כנרת קבוצה"
          ],
          [
           "כסיפה"
          ],
          [
           "כסלון"
          ],
          [
           "כסראסמיע"
          ],
          [
           "כעביהטבאשחגאגרה"
          ],
          [
           "כפר אביב"
          ],
          [
           "כפר אדומים"
          ],
          [
           "כפר אוריה"
          ],
          [
           "כפר אחים"
          ],
          [
           "כפר ביאליק"
          ],
          [
           "כפר בילו"
          ],
          [
           "כפר בלום"
          ],
          [
           "כפר בן נון"
          ],
          [
           "כפר ברא"
          ],
          [
           "כפר ברוך"
          ],
          [
           "כפר גדעון"
          ],
          [
           "כפר גלים"
          ],
          [
           "כפר גליקסון"
          ],
          [
           "כפר גלעדי"
          ],
          [
           "כפר דניאל"
          ],
          [
           "כפר האורנים"
          ],
          [
           "כפר החורש"
          ],
          [
           "כפר המכבי"
          ],
          [
           "כפר הנגיד"
          ],
          [
           "כפר הנשיא"
          ],
          [
           "כפר הס"
          ],
          [
           "כפר הראה"
          ],
          [
           "כפר הריף"
          ],
          [
           "כפר ויתקין"
          ],
          [
           "כפר ורבורג"
          ],
          [
           "כפר ורדים"
          ],
          [
           "כפר זיתים"
          ],
          [
           "כפר חבד"
          ],
          [
           "כפר חושן"
          ],
          [
           "כפר חיטים"
          ],
          [
           "כפר חיים"
          ],
          [
           "כפר חנניה"
          ],
          [
           "כפר חסידים א"
          ],
          [
           "כפר חסידים ב"
          ],
          [
           "כפר חרוב"
          ],
          [
           "כפר טרומן"
          ],
          [
           "כפר יאסיף"
          ],
          [
           "כפר ידידיה"
          ],
          [
           "כפר יהושע"
          ],
          [
           "כפר יונה"
          ],
          [
           "כפר יחזקאל"
          ],
          [
           "כפר יעבץ"
          ],
          [
           "כפר כמא"
          ],
          [
           "כפר כנא"
          ],
          [
           "כפר מונש"
          ],
          [
           "כפר מימון"
          ],
          [
           "כפר מלל"
          ],
          [
           "כפר מנדא"
          ],
          [
           "כפר מנחם"
          ],
          [
           "כפר מסריק"
          ],
          [
           "כפר מצר"
          ],
          [
           "כפר מרדכי"
          ],
          [
           "כפר נטר"
          ],
          [
           "כפר סאלד"
          ],
          [
           "כפר סבא"
          ],
          [
           "כפר סילבר"
          ],
          [
           "כפר סירקין"
          ],
          [
           "כפר עזה"
          ],
          [
           "כפר עציון"
          ],
          [
           "כפר פינס"
          ],
          [
           "כפר קאסם"
          ],
          [
           "כפר קיש"
          ],
          [
           "כפר קרע"
          ],
          [
           "כפר ראש הנקרה"
          ],
          [
           "כפר רוזנואלד זרעית"
          ],
          [
           "כפר רופין"
          ],
          [
           "כפר רות"
          ],
          [
           "כפר שמאי"
          ],
          [
           "כפר שמואל"
          ],
          [
           "כפר שמריהו"
          ],
          [
           "כפר תבור"
          ],
          [
           "כפר תפוח"
          ],
          [
           "כרכום"
          ],
          [
           "כרם בן זמרה"
          ],
          [
           "כרם יבנה ישיבה"
          ],
          [
           "כרם מהרל"
          ],
          [
           "כרם שלום"
          ],
          [
           "כרמי יוסף"
          ],
          [
           "כרמי צור"
          ],
          [
           "כרמי קטיף"
          ],
          [
           "כרמיאל"
          ],
          [
           "כרמיה"
          ],
          [
           "כרמים"
          ],
          [
           "כרמל"
          ],
          [
           "לבון"
          ],
          [
           "לביא"
          ],
          [
           "לבנים"
          ],
          [
           "להב"
          ],
          [
           "להבות הבשן"
          ],
          [
           "להבות חביבה"
          ],
          [
           "להבים"
          ],
          [
           "לוד"
          ],
          [
           "לוזית"
          ],
          [
           "לוחמי הגיטאות"
          ],
          [
           "לוטם"
          ],
          [
           "לוטן"
          ],
          [
           "לימן"
          ],
          [
           "לכיש"
          ],
          [
           "לפיד"
          ],
          [
           "לפידות"
          ],
          [
           "לקיה"
          ],
          [
           "מאור"
          ],
          [
           "מאיר שפיה"
          ],
          [
           "מבוא ביתר"
          ],
          [
           "מבוא דותן"
          ],
          [
           "מבוא חורון"
          ],
          [
           "מבוא חמה"
          ],
          [
           "מבוא מודיעים"
          ],
          [
           "מבועים"
          ],
          [
           "מבטחים"
          ],
          [
           "מבקיעים"
          ],
          [
           "מבשרת ציון"
          ],
          [
           "מגאר"
          ],
          [
           "מגד אלכרום"
          ],
          [
           "מגדים"
          ],
          [
           "מגדל"
          ],
          [
           "מגדל העמק"
          ],
          [
           "מגדל עוז"
          ],
          [
           "מגדל שמס"
          ],
          [
           "מגדלים"
          ],
          [
           "מגידו"
          ],
          [
           "מגל"
          ],
          [
           "מגן"
          ],
          [
           "מגן שאול"
          ],
          [
           "מגשימים"
          ],
          [
           "מדרך עוז"
          ],
          [
           "מדרשת בן גוריון"
          ],
          [
           "מודיעין עילית"
          ],
          [
           "מודיעיןמכביםרעות"
          ],
          [
           "מולדת"
          ],
          [
           "מוצא עילית"
          ],
          [
           "מוקייבלה"
          ],
          [
           "מורן"
          ],
          [
           "מורשת"
          ],
          [
           "מזור"
          ],
          [
           "מזכרת בתיה"
          ],
          [
           "מזרע"
          ],
          [
           "מזרעה"
          ],
          [
           "מחולה"
          ],
          [
           "מחנה הילה"
          ],
          [
           "מחנה טלי"
          ],
          [
           "מחנה יהודית"
          ],
          [
           "מחנה יוכבד"
          ],
          [
           "מחנה יפה"
          ],
          [
           "מחנה מרים"
          ],
          [
           "מחנה תל נוף"
          ],
          [
           "מחניים"
          ],
          [
           "מחסיה"
          ],
          [
           "מטולה"
          ],
          [
           "מטע"
          ],
          [
           "מי עמי"
          ],
          [
           "מיטב"
          ],
          [
           "מייסר"
          ],
          [
           "מיצר"
          ],
          [
           "מירב"
          ],
          [
           "מירון"
          ],
          [
           "מישר"
          ],
          [
           "מיתר"
          ],
          [
           "מכורה"
          ],
          [
           "מכחול"
          ],
          [
           "מכמורת"
          ],
          [
           "מכמנים"
          ],
          [
           "מלאה"
          ],
          [
           "מלילות"
          ],
          [
           "מלכיה"
          ],
          [
           "מנוחה"
          ],
          [
           "מנוף"
          ],
          [
           "מנות"
          ],
          [
           "מנחמיה"
          ],
          [
           "מנרה"
          ],
          [
           "מנשית זבדה"
          ],
          [
           "מסד"
          ],
          [
           "מסדה"
          ],
          [
           "מסילות"
          ],
          [
           "מסילת ציון"
          ],
          [
           "מסלול"
          ],
          [
           "מסעדה"
          ],
          [
           "מסעודין אלעזאזמה"
          ],
          [
           "מעברות"
          ],
          [
           "מעגלים"
          ],
          [
           "מעגן"
          ],
          [
           "מעגן מיכאל"
          ],
          [
           "מעוז חיים"
          ],
          [
           "מעון"
          ],
          [
           "מעונה"
          ],
          [
           "מעטפות חיצוניות"
          ],
          [
           "מעיליא"
          ],
          [
           "מעין ברוך"
          ],
          [
           "מעין צבי"
          ],
          [
           "מעלה אדומים"
          ],
          [
           "מעלה אפרים"
          ],
          [
           "מעלה גלבוע"
          ],
          [
           "מעלה גמלא"
          ],
          [
           "מעלה החמישה"
          ],
          [
           "מעלה לבונה"
          ],
          [
           "מעלה מכמש"
          ],
          [
           "מעלה עירון"
          ],
          [
           "מעלה עמוס"
          ],
          [
           "מעלותתרשיחא"
          ],
          [
           "מענית"
          ],
          [
           "מעש"
          ],
          [
           "מפלסים"
          ],
          [
           "מצדות יהודה"
          ],
          [
           "מצובה"
          ],
          [
           "מצליח"
          ],
          [
           "מצפה"
          ],
          [
           "מצפה אביב"
          ],
          [
           "מצפה אילן"
          ],
          [
           "מצפה יריחו"
          ],
          [
           "מצפה נטופה"
          ],
          [
           "מצפה רמון"
          ],
          [
           "מצפה שלם"
          ],
          [
           "מצר"
          ],
          [
           "מקווה ישראל"
          ],
          [
           "מרגליות"
          ],
          [
           "מרום גולן"
          ],
          [
           "מרחב עם"
          ],
          [
           "מרחביה מושב"
          ],
          [
           "מרחביה קיבוץ"
          ],
          [
           "מרכז שפירא"
          ],
          [
           "משאבי שדה"
          ],
          [
           "משגב דב"
          ],
          [
           "משגב עם"
          ],
          [
           "משהד"
          ],
          [
           "משואה"
          ],
          [
           "משואות יצחק"
          ],
          [
           "משכיות"
          ],
          [
           "משמר איילון"
          ],
          [
           "משמר דוד"
          ],
          [
           "משמר הירדן"
          ],
          [
           "משמר הנגב"
          ],
          [
           "משמר העמק"
          ],
          [
           "משמר השבעה"
          ],
          [
           "משמר השרון"
          ],
          [
           "משמרות"
          ],
          [
           "משמרת"
          ],
          [
           "משען"
          ],
          [
           "מתן"
          ],
          [
           "מתת"
          ],
          [
           "מתתיהו"
          ],
          [
           "נאות גולן"
          ],
          [
           "נאות הכיכר"
          ],
          [
           "נאות מרדכי"
          ],
          [
           "נאות סמדר"
          ],
          [
           "נאעורה"
          ],
          [
           "נבטים"
          ],
          [
           "נגבה"
          ],
          [
           "נגוהות"
          ],
          [
           "נהורה"
          ],
          [
           "נהלל"
          ],
          [
           "נהריה"
          ],
          [
           "נוב"
          ],
          [
           "נוגה"
          ],
          [
           "נוה צוף"
          ],
          [
           "נווה"
          ],
          [
           "נווה אור"
          ],
          [
           "נווה אטיב"
          ],
          [
           "נווה אילן"
          ],
          [
           "נווה איתן"
          ],
          [
           "נווה דניאל"
          ],
          [
           "נווה זוהר"
          ],
          [
           "נווה זיו"
          ],
          [
           "נווה ים"
          ],
          [
           "נווה ימין"
          ],
          [
           "נווה ירק"
          ],
          [
           "נווה מבטח"
          ],
          [
           "נווה מיכאל"
          ],
          [
           "נווה שלום"
          ],
          [
           "נועם"
          ],
          [
           "נוף איילון"
          ],
          [
           "נוף הגליל"
          ],
          [
           "נופים"
          ],
          [
           "נופית"
          ],
          [
           "נופך"
          ],
          [
           "נוקדים"
          ],
          [
           "נורדיה"
          ],
          [
           "נורית"
          ],
          [
           "נחושה"
          ],
          [
           "נחל עוז"
          ],
          [
           "נחלה"
          ],
          [
           "נחליאל"
          ],
          [
           "נחלים"
          ],
          [
           "נחם"
          ],
          [
           "נחף"
          ],
          [
           "נחשולים"
          ],
          [
           "נחשון"
          ],
          [
           "נחשונים"
          ],
          [
           "נטועה"
          ],
          [
           "נטור"
          ],
          [
           "נטע"
          ],
          [
           "נטעים"
          ],
          [
           "נטף"
          ],
          [
           "ניין"
          ],
          [
           "נילי"
          ],
          [
           "ניצן"
          ],
          [
           "ניצן ב"
          ],
          [
           "ניצנה קהילת חינוך"
          ],
          [
           "ניצני סיני"
          ],
          [
           "ניצני עוז"
          ],
          [
           "ניצנים"
          ],
          [
           "ניר אליהו"
          ],
          [
           "ניר בנים"
          ],
          [
           "ניר גלים"
          ],
          [
           "ניר דוד תל עמל"
          ],
          [
           "ניר חן"
          ],
          [
           "ניר יפה"
          ],
          [
           "ניר יצחק"
          ],
          [
           "ניר ישראל"
          ],
          [
           "ניר משה"
          ],
          [
           "ניר עוז"
          ],
          [
           "ניר עם"
          ],
          [
           "ניר עציון"
          ],
          [
           "ניר עקיבא"
          ],
          [
           "ניר צבי"
          ],
          [
           "נירים"
          ],
          [
           "נירית"
          ],
          [
           "נס הרים"
          ],
          [
           "נס עמים"
          ],
          [
           "נס ציונה"
          ],
          [
           "נעורים"
          ],
          [
           "נעלה"
          ],
          [
           "נעמה"
          ],
          [
           "נען"
          ],
          [
           "נצאצרה שבט"
          ],
          [
           "נצר חזני"
          ],
          [
           "נצר סרני"
          ],
          [
           "נצרת"
          ],
          [
           "נשר"
          ],
          [
           "נתיב הגדוד"
          ],
          [
           "נתיב הלה"
          ],
          [
           "נתיב העשרה"
          ],
          [
           "נתיב השיירה"
          ],
          [
           "נתיבות"
          ],
          [
           "נתניה"
          ],
          [
           "סאגור"
          ],
          [
           "סאסא"
          ],
          [
           "סביון"
          ],
          [
           "סגולה"
          ],
          [
           "סואעד חמרייה"
          ],
          [
           "סולם"
          ],
          [
           "סוסיה"
          ],
          [
           "סופה"
          ],
          [
           "סחנין"
          ],
          [
           "סייד שבט"
          ],
          [
           "סלמה"
          ],
          [
           "סלעית"
          ],
          [
           "סמר"
          ],
          [
           "סנסנה"
          ],
          [
           "סעד"
          ],
          [
           "סעוה"
          ],
          [
           "סער"
          ],
          [
           "ספיר"
          ],
          [
           "סתריה"
          ],
          [
           "עבדון"
          ],
          [
           "עברון"
          ],
          [
           "עגור"
          ],
          [
           "עגר"
          ],
          [
           "עדי"
          ],
          [
           "עדנים"
          ],
          [
           "עוזה"
          ],
          [
           "עוזייר"
          ],
          [
           "עולש"
          ],
          [
           "עומר"
          ],
          [
           "עופר"
          ],
          [
           "עופרה"
          ],
          [
           "עוצם"
          ],
          [
           "עוקבי בנו עוקבה"
          ],
          [
           "עזר"
          ],
          [
           "עזריאל"
          ],
          [
           "עזריה"
          ],
          [
           "עזריקם"
          ],
          [
           "עטאוונה שבט"
          ],
          [
           "עטרת"
          ],
          [
           "עידן"
          ],
          [
           "עיילבון"
          ],
          [
           "עיינות"
          ],
          [
           "עילוט"
          ],
          [
           "עין איילה"
          ],
          [
           "עין אלאסד"
          ],
          [
           "עין גב"
          ],
          [
           "עין גדי"
          ],
          [
           "עין דור"
          ],
          [
           "עין הבשור"
          ],
          [
           "עין הוד"
          ],
          [
           "עין החורש"
          ],
          [
           "עין המפרץ"
          ],
          [
           "עין הנציב"
          ],
          [
           "עין העמק"
          ],
          [
           "עין השופט"
          ],
          [
           "עין השלושה"
          ],
          [
           "עין ורד"
          ],
          [
           "עין זיוון"
          ],
          [
           "עין חוד"
          ],
          [
           "עין חרוד איחוד"
          ],
          [
           "עין חרוד מאוחד"
          ],
          [
           "עין יהב"
          ],
          [
           "עין יעקב"
          ],
          [
           "עין כרמל"
          ],
          [
           "עין מאהל"
          ],
          [
           "עין נקובא"
          ],
          [
           "עין עירון"
          ],
          [
           "עין צורים"
          ],
          [
           "עין קנייא"
          ],
          [
           "עין ראפה"
          ],
          [
           "עין שמר"
          ],
          [
           "עין שריד"
          ],
          [
           "עין תמר"
          ],
          [
           "עינת"
          ],
          [
           "עכו"
          ],
          [
           "עלומים"
          ],
          [
           "עלי"
          ],
          [
           "עלי זהב"
          ],
          [
           "עלמה"
          ],
          [
           "עלמון"
          ],
          [
           "עמוקה"
          ],
          [
           "עמיחי"
          ],
          [
           "עמינדב"
          ],
          [
           "עמיעד"
          ],
          [
           "עמיעוז"
          ],
          [
           "עמיקם"
          ],
          [
           "עמיר"
          ],
          [
           "עמנואל"
          ],
          [
           "עמקה"
          ],
          [
           "ענב"
          ],
          [
           "עספיא"
          ],
          [
           "עפולה"
          ],
          [
           "עצמון שגב"
          ],
          [
           "עראבה"
          ],
          [
           "עראמשה"
          ],
          [
           "ערב אל נעים"
          ],
          [
           "ערד"
          ],
          [
           "ערוגות"
          ],
          [
           "ערערה"
          ],
          [
           "ערערהבנגב"
          ],
          [
           "עשרת"
          ],
          [
           "עתלית"
          ],
          [
           "עתניאל"
          ],
          [
           "פארן"
          ],
          [
           "פדואל"
          ],
          [
           "פדויים"
          ],
          [
           "פדיה"
          ],
          [
           "פוריה  כפר עבודה"
          ],
          [
           "פוריה  נווה עובד"
          ],
          [
           "פוריה עילית"
          ],
          [
           "פוריידיס"
          ],
          [
           "פורת"
          ],
          [
           "פטיש"
          ],
          [
           "פלך"
          ],
          [
           "פלמחים"
          ],
          [
           "פני חבר"
          ],
          [
           "פסגות"
          ],
          [
           "פסוטה"
          ],
          [
           "פעמי תשז"
          ],
          [
           "פצאל"
          ],
          [
           "פקיעין בוקייעה"
          ],
          [
           "פקיעין חדשה"
          ],
          [
           "פרדס חנהכרכור"
          ],
          [
           "פרדסיה"
          ],
          [
           "פרוד"
          ],
          [
           "פרזון"
          ],
          [
           "פרי גן"
          ],
          [
           "פתח תקווה"
          ],
          [
           "פתחיה"
          ],
          [
           "צאלים"
          ],
          [
           "צביה"
          ],
          [
           "צבעון"
          ],
          [
           "צובה"
          ],
          [
           "צוחר"
          ],
          [
           "צופים"
          ],
          [
           "צופית"
          ],
          [
           "צופר"
          ],
          [
           "צוקי ים"
          ],
          [
           "צוקים"
          ],
          [
           "צור הדסה"
          ],
          [
           "צור יצחק"
          ],
          [
           "צור משה"
          ],
          [
           "צור נתן"
          ],
          [
           "צוריאל"
          ],
          [
           "צורית"
          ],
          [
           "ציפורי"
          ],
          [
           "צלפון"
          ],
          [
           "צנדלה"
          ],
          [
           "צפריה"
          ],
          [
           "צפרירים"
          ],
          [
           "צפת"
          ],
          [
           "צרופה"
          ],
          [
           "צרעה"
          ],
          [
           "קבועה שבט"
          ],
          [
           "קבוצת יבנה"
          ],
          [
           "קדומים"
          ],
          [
           "קדימהצורן"
          ],
          [
           "קדמת צבי"
          ],
          [
           "קדר"
          ],
          [
           "קדרון"
          ],
          [
           "קדרים"
          ],
          [
           "קודייראת אצאנעשבט"
          ],
          [
           "קוואעין שבט"
          ],
          [
           "קוממיות"
          ],
          [
           "קורנית"
          ],
          [
           "קטורה"
          ],
          [
           "קיסריה"
          ],
          [
           "קלחים"
          ],
          [
           "קליה"
          ],
          [
           "קלנסווה"
          ],
          [
           "קלע"
          ],
          [
           "קציר"
          ],
          [
           "קצר אסר"
          ],
          [
           "קצרין"
          ],
          [
           "קרית אונו"
          ],
          [
           "קרית ארבע"
          ],
          [
           "קרית אתא"
          ],
          [
           "קרית ביאליק"
          ],
          [
           "קרית גת"
          ],
          [
           "קרית טבעון"
          ],
          [
           "קרית ים"
          ],
          [
           "קרית יערים"
          ],
          [
           "קרית מוצקין"
          ],
          [
           "קרית מלאכי"
          ],
          [
           "קרית נטפים"
          ],
          [
           "קרית ענבים"
          ],
          [
           "קרית עקרון"
          ],
          [
           "קרית שמונה"
          ],
          [
           "קרני שומרון"
          ],
          [
           "קשת"
          ],
          [
           "ראמה"
          ],
          [
           "ראס אלעין"
          ],
          [
           "ראס עלי"
          ],
          [
           "ראש העין"
          ],
          [
           "ראש פינה"
          ],
          [
           "ראש צורים"
          ],
          [
           "ראשון לציון"
          ],
          [
           "רבבה"
          ],
          [
           "רבדים"
          ],
          [
           "רביבים"
          ],
          [
           "רגבה"
          ],
          [
           "רגבים"
          ],
          [
           "רהט"
          ],
          [
           "רווחה"
          ],
          [
           "רוויה"
          ],
          [
           "רוחמה"
          ],
          [
           "רומאנה"
          ],
          [
           "רומת הייב"
          ],
          [
           "רועי"
          ],
          [
           "רותם"
          ],
          [
           "רחוב"
          ],
          [
           "רחובות"
          ],
          [
           "רחלים"
          ],
          [
           "ריחאניה"
          ],
          [
           "ריחן"
          ],
          [
           "ריינה"
          ],
          [
           "רימונים"
          ],
          [
           "רינתיה"
          ],
          [
           "רכסים"
          ],
          [
           "רםאון"
          ],
          [
           "רמות"
          ],
          [
           "רמות השבים"
          ],
          [
           "רמות מאיר"
          ],
          [
           "רמות מנשה"
          ],
          [
           "רמות נפתלי"
          ],
          [
           "רמלה"
          ],
          [
           "רמת גן"
          ],
          [
           "רמת דוד"
          ],
          [
           "רמת הכובש"
          ],
          [
           "רמת השופט"
          ],
          [
           "רמת השרון"
          ],
          [
           "רמת יוחנן"
          ],
          [
           "רמת ישי"
          ],
          [
           "רמת מגשימים"
          ],
          [
           "רמת צבי"
          ],
          [
           "רמת רזיאל"
          ],
          [
           "רמת רחל"
          ],
          [
           "רנן"
          ],
          [
           "רעים"
          ],
          [
           "רעננה"
          ],
          [
           "רקפת"
          ],
          [
           "רשפון"
          ],
          [
           "רשפים"
          ],
          [
           "רתמים"
          ],
          [
           "שאר ישוב"
          ],
          [
           "שבי דרום"
          ],
          [
           "שבי ציון"
          ],
          [
           "שבי שומרון"
          ],
          [
           "שבלי  אום אלגנם"
          ],
          [
           "שגבשלום"
          ],
          [
           "שדה אילן"
          ],
          [
           "שדה אליהו"
          ],
          [
           "שדה אליעזר"
          ],
          [
           "שדה בוקר"
          ],
          [
           "שדה דוד"
          ],
          [
           "שדה ורבורג"
          ],
          [
           "שדה יואב"
          ],
          [
           "שדה יעקב"
          ],
          [
           "שדה יצחק"
          ],
          [
           "שדה משה"
          ],
          [
           "שדה נחום"
          ],
          [
           "שדה נחמיה"
          ],
          [
           "שדה ניצן"
          ],
          [
           "שדה עוזיהו"
          ],
          [
           "שדה צבי"
          ],
          [
           "שדות ים"
          ],
          [
           "שדות מיכה"
          ],
          [
           "שדי אברהם"
          ],
          [
           "שדי חמד"
          ],
          [
           "שדי תרומות"
          ],
          [
           "שדמה"
          ],
          [
           "שדמות דבורה"
          ],
          [
           "שדמות מחולה"
          ],
          [
           "שדרות"
          ],
          [
           "שואבה"
          ],
          [
           "שובה"
          ],
          [
           "שובל"
          ],
          [
           "שוהם"
          ],
          [
           "שומרה"
          ],
          [
           "שומריה"
          ],
          [
           "שוקדה"
          ],
          [
           "שורש"
          ],
          [
           "שורשים"
          ],
          [
           "שושנת העמקים"
          ],
          [
           "שזור"
          ],
          [
           "שחר"
          ],
          [
           "שחרות"
          ],
          [
           "שיבולים"
          ],
          [
           "שייח דנון"
          ],
          [
           "שילה"
          ],
          [
           "שילת"
          ],
          [
           "שכניה"
          ],
          [
           "שלווה"
          ],
          [
           "שלוחות"
          ],
          [
           "שלומי"
          ],
          [
           "שלומית"
          ],
          [
           "שמיר"
          ],
          [
           "שמעה"
          ],
          [
           "שמרת"
          ],
          [
           "שמשית"
          ],
          [
           "שני"
          ],
          [
           "שניר"
          ],
          [
           "שעב"
          ],
          [
           "שעל"
          ],
          [
           "שעלבים"
          ],
          [
           "שער אפרים"
          ],
          [
           "שער הגולן"
          ],
          [
           "שער העמקים"
          ],
          [
           "שער מנשה"
          ],
          [
           "שער שומרון"
          ],
          [
           "שפיים"
          ],
          [
           "שפיר"
          ],
          [
           "שפר"
          ],
          [
           "שפרעם"
          ],
          [
           "שקד"
          ],
          [
           "שקף"
          ],
          [
           "שרונה"
          ],
          [
           "שריגים ליאון"
          ],
          [
           "שריד"
          ],
          [
           "שרשרת"
          ],
          [
           "שתולה"
          ],
          [
           "שתולים"
          ],
          [
           "תאשור"
          ],
          [
           "תדהר"
          ],
          [
           "תובל"
          ],
          [
           "תומר"
          ],
          [
           "תושיה"
          ],
          [
           "תימורים"
          ],
          [
           "תירוש"
          ],
          [
           "תל אביב  יפו"
          ],
          [
           "תל יוסף"
          ],
          [
           "תל יצחק"
          ],
          [
           "תל מונד"
          ],
          [
           "תל עדשים"
          ],
          [
           "תל קציר"
          ],
          [
           "תל שבע"
          ],
          [
           "תל תאומים"
          ],
          [
           "תלם"
          ],
          [
           "תלמי אליהו"
          ],
          [
           "תלמי אלעזר"
          ],
          [
           "תלמי בילו"
          ],
          [
           "תלמי יוסף"
          ],
          [
           "תלמי יחיאל"
          ],
          [
           "תלמי יפה"
          ],
          [
           "תלמים"
          ],
          [
           "תמרת"
          ],
          [
           "תנובות"
          ],
          [
           "תעוז"
          ],
          [
           "תפרח"
          ],
          [
           "תקומה"
          ],
          [
           "תקוע"
          ],
          [
           "תראבין אצאנע שבט"
          ],
          [
           "תראבין אצאנעישוב"
          ],
          [
           "תרום"
          ]
         ],
         "hovertemplate": "city_name=%{customdata[0]}<extra></extra>",
         "legendgroup": "",
         "marker": {
          "color": "#636efa",
          "symbol": "circle"
         },
         "mode": "markers",
         "name": "",
         "showlegend": false,
         "x": [
          -1350.9275023187813,
          -1144.3020993190573,
          -739.986900422347,
          -1372.3604010130941,
          -1336.9459534132263,
          -1357.7830743852253,
          -1311.9859519769461,
          -1308.3388578413067,
          -1354.3977056444526,
          -1331.4103792175724,
          -1287.2719178035475,
          -1224.3444439507177,
          -1249.967950858373,
          -1179.6776543120027,
          -1110.7064860700546,
          -1224.1015831863438,
          -1163.6103990238369,
          -1334.1427645868584,
          1864.6661364448298,
          -1285.4409861531612,
          -1199.7978162151906,
          -1024.5283874388642,
          -1263.913844074639,
          -996.8930498386806,
          -1303.4664127877347,
          -1294.7362379157332,
          -1300.4920021286096,
          -1306.2226204706144,
          -1174.7326265764339,
          -1139.1490230129268,
          -1337.551329460882,
          -1285.798079774605,
          -855.4967252620592,
          -1358.5404065200746,
          -1336.8038681416044,
          -1208.533278051916,
          -1220.02755127134,
          4754.825031498855,
          -1320.7041195312731,
          -1208.2916436680002,
          7707.077747169729,
          3653.6589446798225,
          -1128.8400113519474,
          -1250.2826135490263,
          -1317.8671307310908,
          -1294.4215320534947,
          764.0413755637478,
          -1265.1117277593073,
          1583.274748890644,
          -1316.990901612023,
          -1233.0975095123167,
          -757.1114642618126,
          -1129.6293437527672,
          -1138.3854790595333,
          -1031.8632010271722,
          -979.9464560744636,
          -1354.1257211839475,
          -1345.5814935775165,
          -1258.8294353869135,
          -1181.7647638894146,
          -1163.9476355590973,
          -1314.6256761222191,
          -1245.1123400740823,
          8880.026863022676,
          -1194.6379330554291,
          -1213.3723295565428,
          -1248.2764814332352,
          -1175.4354225763307,
          -1312.5870792396618,
          -1233.3227939201965,
          -1287.2204951844922,
          -1166.937168157592,
          -1126.0821085651335,
          -878.5143697115959,
          -1161.7544389126733,
          -1318.1362962951796,
          -1365.848115773393,
          -1232.0541349679772,
          -1292.150517167458,
          -483.33512184275014,
          -1289.6248217143593,
          -1345.571473743299,
          -1180.3785808267914,
          -1175.076197646797,
          -1206.2796673830585,
          -1080.5076599905885,
          -1297.1253925509536,
          -1331.1483324593396,
          3149.637311623725,
          -951.2056331129753,
          -1366.5411963271567,
          607.6293915942117,
          -1295.2933099242096,
          -631.514019552395,
          -1276.081515788013,
          -1157.3724423162125,
          -1254.2847943540485,
          -1267.8933614643943,
          -1329.9809468334133,
          -1264.2729649084004,
          -1369.056333857444,
          -1288.4259471817863,
          -1061.1223132634864,
          -1309.568899697246,
          -1306.4988552504033,
          -1155.666004880173,
          -1218.339208458135,
          554.7630138514828,
          -1215.8491561693677,
          -1342.0365320698545,
          -1265.4099563892937,
          2712.259491470634,
          -1339.9740913868156,
          -1225.2212549298938,
          42378.821837525764,
          -1198.373311564612,
          -1231.600383890038,
          -1217.6893412655907,
          -1245.4827538457334,
          -1345.4990412531688,
          -1253.7434961289102,
          30335.039858861433,
          -1216.754052376508,
          -1118.8007706871815,
          -1022.9223089336674,
          -1155.319613180672,
          -971.1795264337528,
          -1118.395021429647,
          4885.162385715893,
          -1346.8756516962983,
          42159.427296274094,
          -1298.7521919366927,
          -1143.9572125271611,
          -1197.2445835047006,
          -1133.8084698707396,
          -1201.056426040591,
          -1320.958190777194,
          -1119.0185124671598,
          -1177.093577331466,
          -1133.5003593692336,
          -1108.7422252942713,
          -1177.7301331889514,
          -1345.0692360060712,
          -1175.154439143206,
          -1305.0122250611432,
          -446.573593270629,
          -1032.9909665219604,
          -1191.854900394849,
          -114.21553311475496,
          -1294.4788122223529,
          -1173.3881559731644,
          -573.2729088012902,
          503.5973865153201,
          -1135.763163441623,
          -1211.9719677442206,
          -1227.4434209746908,
          -1252.9416150964032,
          -1302.6969055469167,
          -1126.9721802375022,
          -1350.982377971487,
          -1081.5814548017956,
          -1257.8225194949566,
          -1098.1795140509232,
          -1209.6517227360873,
          -1301.407209049321,
          -1230.729132531997,
          -1190.9027934624783,
          -866.789932880175,
          -1154.2674730239619,
          -1239.8088746723988,
          -1298.2213322514026,
          -886.2536301238013,
          -1196.400919456767,
          -1285.8509064337513,
          -1166.7355249393213,
          -1259.0050503253801,
          -1221.3702764684203,
          -1303.7970966236574,
          -1211.2788358547027,
          -1101.734026856282,
          -1098.3507235666639,
          -1361.1522529411159,
          -1167.013778517907,
          -1278.0941103411283,
          -1300.3352919843128,
          -1270.2575071882275,
          3329.2487914617896,
          13206.006799946379,
          -1221.3053137404513,
          -1194.1658322097874,
          -1338.8593263033356,
          3426.515634922402,
          -1252.0475549252142,
          -1149.0408668968528,
          -1220.3291318681272,
          -1304.4808978467627,
          -1180.9683285309088,
          16936.780448367765,
          -1156.4460468953112,
          -1226.416885019342,
          -1162.6992818333727,
          -1131.377965303146,
          -1272.8723064597202,
          -1195.9385500393898,
          28.431925149777285,
          -1121.13857884491,
          -1101.4740273294744,
          -1179.853640943657,
          1704.721515488999,
          -1234.865867700034,
          -1247.1616046770594,
          -1236.3956270901867,
          -1134.4977570962228,
          -1253.445285456688,
          -1160.8343905371025,
          -1327.4288149355482,
          -1222.2018348144074,
          -1205.6700871893486,
          -1122.9823116390457,
          -1189.2184308852245,
          -1235.089766782627,
          -827.8440451885014,
          -1096.1454040989524,
          -1263.4848104741382,
          -1275.489096355898,
          -1283.0046835982253,
          -887.001904695195,
          -971.7903869081026,
          -1183.8022732207664,
          -1280.4862164545918,
          -130.72559847937328,
          25341.676364214523,
          -1179.0949208721522,
          -1250.095327654345,
          -1292.070770086593,
          -1147.440348484859,
          -1121.649919812403,
          -1313.6015013639717,
          -1272.7280470329715,
          -1254.929219783477,
          -360.2268849489576,
          -1138.9719821292454,
          -1234.4130310133623,
          -1104.9294577521352,
          -1146.287261384434,
          -848.9164520205869,
          -930.3448239250461,
          -868.9462386252354,
          -1230.9431849595894,
          1908.0318616096004,
          -1163.7970310052501,
          -1169.7843991951313,
          -1291.2853926429664,
          -1238.8606409696472,
          -1113.1737343684965,
          -1247.3232230625722,
          -1145.6455904627474,
          -1208.8860315445042,
          -1292.8807587319566,
          4209.924677592032,
          -1306.606615841316,
          -1143.8448119779696,
          11580.401529607288,
          -1248.86962414929,
          -1184.284774594602,
          -1292.2216422838849,
          -1050.5803321985863,
          -1257.1254804670111,
          -1269.7675616844272,
          4765.53204923449,
          -594.5772343202076,
          -1300.1148765653427,
          -1242.2485962559533,
          -1315.9369186524887,
          -1234.5667548160122,
          -1303.7396427796368,
          -1194.8924558406868,
          -1289.5421964324285,
          -1321.5132301555284,
          -1106.300367216172,
          -974.8399903744724,
          -1217.78341844701,
          -1261.771280979555,
          -1165.232686820874,
          -1320.3893149686116,
          -1304.9434480931154,
          -1272.1918498788627,
          -1235.2701322342025,
          -1334.361891702957,
          -1289.5454918569344,
          -1271.2772669208603,
          -1195.7886200063745,
          -1259.639490566343,
          -1187.085573609238,
          -1214.1015079500282,
          -1181.0356969900788,
          4442.720868819155,
          -680.2570656665257,
          -1291.0045446607899,
          -1265.028819706928,
          -1200.6151967603112,
          -1363.6894246604893,
          -1269.188572736755,
          -1132.6292358308206,
          -1291.3968979086703,
          -1243.841102213847,
          -1200.272101818143,
          -905.2303543017514,
          -1308.7713871871729,
          3820.3130528263723,
          -1208.6206018207663,
          -1195.2016779007763,
          -1250.70317018255,
          -1273.1430474186768,
          -1308.1507513826934,
          -1250.7855625326902,
          -1318.425463688999,
          -1295.1734648558333,
          -1038.5301664420886,
          -1255.6184594962401,
          -1229.379230556456,
          -1314.6909684709358,
          495.21338384573335,
          -1317.8786866746784,
          -1235.2911552127318,
          -1192.6213286324576,
          -1276.2258367458728,
          -1267.708422004976,
          -1229.6587766391217,
          -1248.5305601771804,
          -1134.853458859402,
          -1287.767171498236,
          -1236.8860023796922,
          -1364.5433109139838,
          -1101.7905086647243,
          -1150.1188844920296,
          7259.7643821699585,
          -1281.349590642673,
          -1225.8020259508462,
          -1119.800220277914,
          -1366.1573122045938,
          -1247.3680966064144,
          -1207.8843777468944,
          -1300.8317282464802,
          -1326.021629531328,
          -1344.1647801190904,
          -1298.9143522213826,
          -1168.0643445885753,
          -1208.433076694322,
          13591.139865787773,
          -1207.521564004747,
          -1356.3802535151892,
          -1356.252823706671,
          -1023.3315924807245,
          -1197.92084618162,
          -1216.0175520507664,
          -1216.6839321138596,
          -1179.7378336099125,
          -1246.0115372430193,
          -1221.5850583087108,
          -1158.085198237216,
          -1237.639823227373,
          -423.2697905230584,
          -1031.751793741413,
          -1345.3235184912758,
          -1335.8642734916625,
          -1306.3257545582499,
          22765.57153111657,
          -1285.902718270929,
          -1283.5903027949598,
          -1308.252852071738,
          -1208.4487948249457,
          -1285.0207319983533,
          -1195.5605031201212,
          -1043.0823129227333,
          3502.373246457943,
          -1048.2504523282355,
          -1284.1560621345586,
          -1209.5469264960213,
          -1232.266921470473,
          -1252.773953142091,
          -1176.3856233157771,
          -1188.8571969506033,
          -1293.323392177443,
          -1207.5553646457417,
          -1302.3817133738642,
          -1127.7488034854584,
          -1276.333293830387,
          -1230.820895915266,
          -1145.9722170826622,
          -1185.094432262155,
          20631.231922060106,
          -1353.9749344029285,
          -1156.8593330222338,
          42886.513705119585,
          -1345.1248111638529,
          -1264.4607366112002,
          -1108.8425494557698,
          -1360.4009449247308,
          -1161.7962672666686,
          -1272.0635772418707,
          -1199.382358106971,
          -749.0457252535654,
          -1303.6562207709153,
          -1269.1831297774577,
          -1214.2476230509112,
          -1115.5885587577518,
          48826.28558502317,
          -1107.3940547948966,
          -1277.2583158632992,
          -1242.7461456386643,
          -1346.440350969737,
          -1209.3083323151254,
          -1285.7602708521345,
          -1328.4760801644827,
          -1330.5190238690982,
          -1197.2423952475986,
          -1232.3106707968957,
          -1223.236152837051,
          -1161.4597652590244,
          -1262.959421809437,
          -1219.4688759145315,
          -1067.337805620772,
          -1233.5306239257973,
          817.9540202793463,
          -1226.7782165091223,
          -1181.2864244505959,
          -1200.670651771957,
          -1192.2677047938525,
          3173.178421769362,
          -1311.6171979024991,
          -1330.598908538378,
          -840.9028261755893,
          8046.92770608647,
          -1260.6458067522499,
          -1164.0771949816922,
          -756.708829294984,
          -1347.9044837386489,
          -962.8065689876969,
          -1106.755687497522,
          5575.7644257695765,
          -1248.624339521439,
          -1148.815501688419,
          -1073.1121940900523,
          -1258.7644503404385,
          -676.5542388054469,
          -690.712312975132,
          -1352.2033755956652,
          -1221.733385593237,
          -1291.2167122199542,
          -895.5610761605059,
          -1307.924380956793,
          -737.2722512227817,
          11178.871440354022,
          -1084.7823267454294,
          -1127.4648002779495,
          -791.1180713948941,
          -1336.1212264241558,
          -1181.1018157940566,
          -1215.9960244785445,
          -1254.864371217563,
          -1050.8054236124656,
          6645.362459677499,
          -1325.63994392121,
          -1228.1268375007928,
          -1094.3287497334911,
          -1232.3494859121265,
          -1273.0154405627584,
          -1253.0976061595256,
          -1268.430132858982,
          -1235.3725995126251,
          -1245.6141281630103,
          -1305.7049779225022,
          -1179.8750132389516,
          -1173.8819695687152,
          -1051.942239519696,
          -1022.450121738797,
          -1314.9611914927643,
          -1220.1908097452192,
          -1233.0979727721228,
          -1322.7872264351747,
          -1190.3833080353825,
          -999.1192052665355,
          -1328.3239032784766,
          -1143.933565331726,
          -1238.433602335692,
          -1173.1375504774364,
          -1175.0528368273153,
          -1241.1109700393424,
          -980.9081488020837,
          -1087.6603795208468,
          4098.145208715836,
          -1301.6203302584017,
          -1257.3521727740372,
          668.1657003099796,
          81791.54005355683,
          -1096.0689959752774,
          656.1309887967637,
          -1286.593156187514,
          -1277.4177889511113,
          -1190.831017767885,
          -1104.621894445647,
          -1252.9316513971546,
          -1184.8211114773019,
          -1321.175917816818,
          -1160.2244883154399,
          -1350.5065927153723,
          -1025.003335449556,
          875.8284207166997,
          -294.05761142927406,
          -1155.7675504466872,
          -1297.556927201007,
          -1273.4061878733644,
          -1327.3063152409768,
          -1324.8899412640528,
          -1340.5600232521563,
          -1290.5775534939473,
          -1305.6476908444886,
          -1343.5821193216643,
          -1337.1052471961423,
          -1247.1246202911555,
          -1294.1962676296832,
          -1212.6107274292012,
          -1223.4069124489617,
          -1131.8837610267763,
          -1280.054700635918,
          -868.310053741885,
          -1149.9891121438243,
          -1208.974464498515,
          -621.7531498360032,
          -1212.5968718711958,
          -1198.8964011734008,
          -1224.2067964134599,
          -1131.767107947669,
          -1187.7959981350741,
          -1211.8288382847586,
          -1325.5303677723002,
          -1234.2726008250675,
          -1327.883582415068,
          -1347.5823197535049,
          -1303.9555110668537,
          -1263.8072310830669,
          -1237.679143647585,
          -853.3549077077593,
          -1250.466879529508,
          -1280.4445468142474,
          -1143.6816243810972,
          -1245.1450193731314,
          -1077.5955565483118,
          -1180.0431315277017,
          -1187.4728260804566,
          -995.5670558210979,
          -1120.683988456683,
          -204.52569546369145,
          -1203.27852803922,
          -452.40903334567116,
          -1179.3808895283248,
          -1216.7093914420602,
          -1240.6265397194086,
          -1194.9396341634038,
          -1228.2499050814934,
          -1314.2569580028664,
          -1270.6310928458956,
          -1185.5929496912559,
          -1061.1885739272554,
          -1228.9589814896847,
          -1138.6672240460023,
          4913.073878374784,
          -1150.54792015822,
          -1213.581908399853,
          -1133.560256298236,
          -922.492785177227,
          -1189.4587779868732,
          -1242.8111432992703,
          -1290.495565711079,
          -1031.1262507147592,
          -1145.8445071570634,
          -1231.1132538854579,
          -1320.147778041679,
          -1242.5059376528247,
          -1165.5909648504069,
          -1245.7769317244756,
          22167.82591472419,
          -1362.508731598228,
          -1066.1518747648984,
          -1182.1336230349314,
          -1245.1118064101713,
          -1273.0532543035367,
          -985.2037939686987,
          -1237.7991368210487,
          -1105.889046741584,
          -1082.0377452405792,
          -1292.03851650035,
          -1284.2212205934707,
          -1311.9305286073468,
          -1260.740496769184,
          -1175.422033160112,
          -867.0106988792306,
          -389.7693671800698,
          -1185.6734469962457,
          -1260.2588177744628,
          -1237.7526114945597,
          -1337.1157349680484,
          -1190.2943629503488,
          -1338.9709774123094,
          -980.9375008514172,
          -1226.460095429761,
          -1282.7250834312426,
          8284.780092609864,
          -1246.3036049364161,
          -1325.162425063328,
          -1300.5807076840815,
          -1209.3791486633913,
          -1259.929778831748,
          -1265.1037469865494,
          -1253.910535196865,
          -1227.828126946879,
          -1206.332584239685,
          174.698460814377,
          10224.530608794003,
          -1218.4734378980525,
          -1214.7494140045715,
          -1254.5681511562282,
          -1346.0830281196093,
          -1194.9774395638449,
          -1201.0036202977644,
          -846.8687376923616,
          -1329.3453048861065,
          -1253.3700096433013,
          -1075.7809711457949,
          -1350.2521217469605,
          -1174.6060785686013,
          -1279.7361855330632,
          -1028.4154931027965,
          -1286.561941726213,
          -1343.7165354953456,
          -1063.9985872229329,
          -1255.2180248918814,
          -1243.9368681010358,
          4559.69776317729,
          -254.1260266493964,
          -1130.99674222479,
          -1102.9234612967016,
          -956.7408302860333,
          4355.441652152756,
          -1320.407536531357,
          -1253.1442862540766,
          -1291.6934310241686,
          -1190.5671773186743,
          -1142.3343540181097,
          -1279.0269855007894,
          -1215.8909793670482,
          -1165.2080481623918,
          -1187.155515233505,
          -1136.116459256939,
          3455.8906283222937,
          19594.58102966323,
          -1142.9124324203815,
          -1049.8624361215534,
          -1336.7380831365103,
          -1265.1511299967658,
          -1113.1677150824644,
          -1129.613446706969,
          2178.83427001454,
          -1228.472733321348,
          -1298.727946675766,
          -1277.7950048864216,
          -1333.532350741798,
          -1340.0219799503373,
          -1331.7205553851597,
          -1348.4087357347387,
          -1325.1740472828792,
          -1353.1586164620617,
          -1327.06138796,
          -1222.3618089995264,
          -1265.7695270067652,
          -1078.6409437991508,
          -1213.1038365213255,
          -1309.7350816087555,
          -1231.788462768738,
          -1352.7801328875319,
          -1339.1334671471725,
          -1248.0288304185954,
          -1282.55472195747,
          -1217.699603957871,
          984.2544096706746,
          -1337.9063084540858,
          -1350.3127117936733,
          -1110.8234527914308,
          -1269.1293060858077,
          -1270.114216344196,
          -1248.1295935286496,
          -1292.968430723071,
          -1203.5472751379782,
          -1208.3684673370153,
          -1248.970012375771,
          -1090.851692202182,
          -1332.3438634954355,
          -1350.4021779467062,
          -1280.6048676850523,
          -1318.3115746491944,
          -1281.4242382905265,
          -1159.9661554428153,
          -1192.3959430264886,
          -1351.9676744991648,
          -1267.9754728236499,
          -1218.0956343332466,
          -970.9454553824971,
          -1292.301316630278,
          -1044.112973268526,
          -1271.5964725248034,
          -1299.5473726567748,
          -1152.1744864576483,
          164354.3818575969,
          -1194.4678695097366,
          -1257.2352811588378,
          -1206.110055865677,
          7367.239085666666,
          -1108.0108837043053,
          -1287.3654325797643,
          -1257.5871927227183,
          -1237.2593737409316,
          -1252.1627568587671,
          -1074.809965196524,
          -1146.3769298193336,
          -1293.37211465815,
          2271.9374734120315,
          -1228.1076253328922,
          -1169.2572063881419,
          -1200.278099307688,
          -1262.5453037604464,
          -1132.201952873502,
          -1031.175095749843,
          -1335.8423903644546,
          -1165.986196539645,
          -1307.618871128002,
          -992.2419450640705,
          -1228.7504502241707,
          -652.8059472142216,
          -1317.9515108819962,
          -1304.0010022782824,
          -1328.5225736236732,
          -1271.543054743676,
          -1214.2794388561997,
          -1315.957435510273,
          -1208.2561559288715,
          -1118.0949265355985,
          -908.3848821344337,
          -1284.7301806109851,
          -1213.0923140822417,
          -1317.9450674950215,
          -1268.3028726485375,
          -1308.5842789794292,
          -1259.0078800816532,
          -1345.4211025591774,
          -1240.4497866634597,
          -1136.295097416396,
          -1174.337498175555,
          -1175.4857626719026,
          -1173.1869326694657,
          -1124.606598956033,
          -1271.0304771863878,
          -1167.3844126510019,
          -1165.9864429817442,
          -1106.057433066492,
          -600.8164085828765,
          -1341.5977727977563,
          -1299.5909510107115,
          -1242.1312925930783,
          -1318.6693856741724,
          -1240.586299290223,
          -1331.5318992100347,
          -1334.2722396002798,
          -1108.6702096282843,
          -1207.7093618916654,
          -1310.2272818857766,
          -1045.548618573369,
          -1141.5002266956544,
          13205.27018809236,
          -1245.073104656394,
          -1224.472037975876,
          -1160.3423479518972,
          -1276.2731534747238,
          -1293.9914595189382,
          -1334.2264016490612,
          -1176.186305401249,
          -1332.7416617254935,
          -989.7926454358334,
          -1365.6586190863204,
          -1189.95550689032,
          -1308.6229487490725,
          -1049.8839481118368,
          -1115.5490372192382,
          -1226.715694474332,
          -1209.5006666098602,
          -1357.409080685176,
          -1259.803525539317,
          -962.9564286795643,
          5187.093478058457,
          -1168.2236618259064,
          -765.3286526121271,
          -1219.5207816870013,
          -1012.7908031721474,
          -983.304885565484,
          -1325.0580204486373,
          -1163.6986485744985,
          -1284.6757496162923,
          -1212.7667650380154,
          -1292.7618657219305,
          -1113.7182368952801,
          -1228.2201044455712,
          -1177.7726949218095,
          -1225.8660132940627,
          -1275.1728963704263,
          -1296.7793396689126,
          -1282.870142302237,
          -1297.0395187195115,
          -1288.2969428119723,
          -1199.411395074492,
          -1302.2378149458962,
          -1311.0430518452486,
          -946.0855081269613,
          -897.7832826195742,
          -1230.9440004117594,
          -1347.46845380772,
          -1319.8979784032053,
          -1134.526022265321,
          -1252.7240041870664,
          -1278.5026916985796,
          -1202.2778620986162,
          -1180.8168903069084,
          -1226.2024071424473,
          -1254.0285881245259,
          -1230.3649767183301,
          -1280.3803661086547,
          -1178.9422834374989,
          -1251.7062787893947,
          -1299.322336259623,
          -1265.564887365144,
          -1273.895453144622,
          -1245.2956169626325,
          -1110.005986288351,
          -1282.7679092004557,
          -1131.722887754587,
          -1120.8132451864724,
          -1288.9614726864402,
          9469.600343198179,
          -1351.1610476758074,
          -827.9592726665804,
          -1323.598127197992,
          -1056.2221787237768,
          -1369.6980959732234,
          -1282.6065592529162,
          -1206.9796982064827,
          108.03638713279511,
          3721.55868354068,
          -1327.4256878570102,
          -1261.4322767184028,
          -1135.4350457981532,
          -1242.3224695669153,
          6200.0441286425075,
          46955.54125185915,
          -1000.8602579523572,
          -1299.7137727693394,
          -252.3000367415485,
          -1229.6562255111642,
          -1371.57638880159,
          -1323.1644418031149,
          -1181.7088743653321,
          -1336.7612113616503,
          -853.4646013685332,
          -1353.5387818975087,
          -1301.5154537694636,
          -1110.747048908007,
          -1344.4927368986484,
          -1288.1338688095718,
          -1226.9887207933868,
          -1354.870807122124,
          -1195.4834177340574,
          -1289.3272252256745,
          -1143.6641448826142,
          -1192.362506280844,
          -1215.405771016463,
          -1258.8813219929393,
          -1241.639489675306,
          -908.750508817391,
          -1287.489926800656,
          -1260.5740885724606,
          -1338.9458359540824,
          -1133.1468800631674,
          521.294178349107,
          -1262.748729621108,
          -864.8784130611982,
          -1223.59323310627,
          -1368.1808782855642,
          -1173.019410079079,
          -1132.9151130419204,
          -1036.8239818837048,
          -979.6147229893551,
          -1372.2796719639073,
          -1285.578200366455,
          -1305.107521781054,
          -1067.1836251490495,
          -1357.6194225369059,
          -1253.7041576837707,
          -1159.3993438466232,
          -1298.8944234633389,
          -1280.9186275937357,
          -1282.5064637153744,
          -1182.5302842625956,
          -1160.57514775881,
          -1274.883509015901,
          -1221.8811802275764,
          -1218.6198265470555,
          -1286.3312008204846,
          -1133.4350581026854,
          -1229.2554121362568,
          -1304.9986168633486,
          -1037.5952856484485,
          -1286.0722805825314,
          -1369.1851948085057,
          -1246.3596928056872,
          -1214.541673302366,
          -1224.6886242743224,
          -1115.2054585849778,
          -1235.48732679641,
          -1206.3591552609591,
          -1302.396416669317,
          -1256.4351670550634,
          -1259.0287564828243,
          -1362.3174033517435,
          -1355.4096414029495,
          -1237.2521705522583,
          -1018.7975704588345,
          -1330.9186488439184,
          -1221.8900142791808,
          7057.265659303188,
          -1296.4449109155269,
          -767.4148344893283,
          -781.0011855471874,
          -1152.8032274691507,
          -1009.2558159439775,
          -1339.843083003111,
          -1341.3247358653953,
          -1179.8549296812914,
          -1279.4407826074635,
          -1298.1015484822537,
          -1221.6683987352208,
          -1267.7517730168213,
          -911.8704924739634,
          -1166.2448386992583,
          -1208.587570115735,
          -404.1665234120212,
          11246.990806053429,
          -1119.601703451502,
          -1052.3528917298174,
          -1306.8566600315273,
          -1278.7974893470594,
          2481.266461043821,
          -1154.1047899991602,
          -1111.806396801296,
          -1217.032165625867,
          -1115.2455852392093,
          815.6143191059456,
          -1266.6796516518623,
          -1276.640555755552,
          -1050.0552764859929,
          -1262.1294026737953,
          -1128.7199789764652,
          -1281.6440582128432,
          -1023.2274692021116,
          -1103.9912471004213,
          -1223.0918260644091,
          -1072.3915079200822,
          -1121.6358705487876,
          -1358.3591923931074,
          -1217.8660918049222,
          -1299.8236137407475,
          -1056.7431485534773,
          -1246.5474205880505,
          -1242.0717694579446,
          -1281.2796738896027,
          -974.7888969929924,
          -1246.9239746898006,
          7782.2167356293585,
          512.8610486346604,
          -1264.9089971790895,
          -1258.9607041245315,
          -1320.8398655355602,
          52393.12492585398,
          -1144.3606554465425,
          -1291.9949809562818,
          -1309.3351114193792,
          -1334.8214015382196,
          -1254.0496362525394,
          -1235.0456704361266,
          -901.306738551413,
          -1131.7432055229879,
          -1287.6776658591202,
          -1324.2362909606143,
          -1335.8671781335531,
          566.0886608023616,
          -46.69491822812051,
          -782.9477991102272,
          -1302.0629091318167,
          -1268.49413158253,
          -1157.6131030515176,
          -1189.3260885097716,
          -1121.7483240902204,
          -1359.1783030665322,
          -1222.3954990084278,
          -1286.8245234962803,
          3792.5491165940307,
          -1138.6780885333226,
          -1226.1577976979822,
          -1362.5757017469925,
          -1246.750974867606,
          -643.1880896586417,
          3636.2598423437216,
          -1253.2886954336336,
          -1008.7406729352363,
          -1029.052219571186,
          -1327.016725394158,
          -1361.63778804589,
          -1363.0251493467488,
          -1338.2754209263594,
          -1205.0895147389251,
          -1310.5457638596279,
          137.43444381622245,
          -1252.211274362176,
          -1276.2295329720132,
          -1079.3041706068575,
          -1301.637096396394,
          -816.1486129919429,
          -1349.0987742995276,
          70.86187811842576,
          7961.091628733737,
          -141.04876367025076,
          12794.297929729164,
          8777.382580819176,
          11059.44083110014,
          2188.600547712406,
          7544.761517230624,
          -817.1619463225713,
          10076.78289601464,
          3835.963097926188,
          -1230.048397534584,
          -1301.611337489289,
          1335.703015443155,
          3802.825064533654,
          460.8793182454551,
          -1271.096718062325,
          -880.5838395930044,
          -1356.4925634594445,
          -1360.8664852851414,
          14696.303592046359,
          -711.3598951447356,
          -1232.8534489421177,
          59621.839722039345,
          -986.6627543577019,
          -1233.7095402420014,
          -1250.884981436115,
          -1120.2932743690585,
          -1265.574631486641,
          -322.69488606052124,
          -1205.772665747121,
          -1283.0596887428362,
          -1257.926037214799,
          -1354.4321721460703,
          -1294.328687478641,
          -1335.6097567721738,
          -1347.0562058061032,
          -1237.9705215688593,
          29125.75612883117,
          -1255.4426682873209,
          -1263.4210894456419,
          -1301.6421555768118,
          -1101.8827429982944,
          -1208.3976934087925,
          -1140.4011764075976,
          -50.33413510411764,
          -1190.1185143975351,
          -1239.1113813851418,
          -1028.3994999900865,
          -1223.4257974645343,
          -1141.4546236306503,
          -1254.8967124576143,
          12640.518145474556,
          34965.73580283908,
          -1266.6071195353184,
          -1203.3744262725993,
          -1197.2027831734079,
          9532.806203339838,
          -1186.7433477673915,
          470.49472414436667,
          -1259.6936781918735,
          -1240.6378451724913,
          -1250.7958348075,
          -1269.5627775538132,
          -1218.2822320837085,
          -1284.4025279946181,
          17200.334081556834,
          -1159.1203145345376,
          -1098.3135806549021,
          -1191.3710173869526,
          -1309.4526043769558,
          -1242.8331726427487,
          -1326.0487843967358,
          -1123.039510856636,
          -1199.311933054122,
          -1273.7948817503657,
          -1256.4166944126318,
          -1257.264710970194,
          -1240.7938974424715,
          -1180.5817260584965,
          -1286.1919958373692,
          -1206.9433554640398,
          -1093.7918270216976,
          -1273.2128655661736,
          -1181.3721370352278,
          -1234.109920329437,
          -1238.5988527927905,
          -1162.345959309001,
          -1154.2098770749378,
          -1289.894526418326,
          -965.3055686846114,
          -1228.245588957292,
          -1155.620252793421,
          -1288.6327555931425,
          -1306.8047686116765,
          -1162.717481514983,
          -1216.5068882334297,
          -1272.7905292323105,
          -1221.2066967531284,
          -1270.7012083481263,
          5258.9480262587695,
          -1234.7118377251256,
          -1218.8878715837698,
          -1234.309919860081,
          3908.040063739165,
          -1270.5170532614466,
          -1278.7099998392746,
          -1272.2420652702037,
          -1202.5493058340664,
          -1253.0385955568058,
          -1238.435479253241,
          -1265.239243631418,
          -1211.0158459967756,
          -1349.428591016328,
          -1271.7516665472133,
          -1332.8438857031183,
          -778.7557532711214,
          -1227.1087130038102,
          -1211.9503493987477,
          -1212.9082310052318,
          -1302.919033213066,
          380.83198129642534,
          -1328.682925558545,
          -1219.1707315492977,
          -1229.9103117781638,
          -1265.1353443740352,
          -861.6533937880055,
          -1278.8315356923085,
          -1250.7282466845093,
          -1191.5945301516108,
          -1299.883711111607,
          -1159.7496172153333,
          -941.3210295617407,
          -1266.9921982871026,
          -1258.218517808528,
          -1364.8956967314737,
          360.7241183482989,
          -1121.0115518221537,
          -1173.1775666540038,
          -1263.2854374962042,
          -260.12389993410727,
          -1158.831685216711,
          -1289.9944932703477,
          -1257.2238531566193,
          -1183.149676855737,
          -1202.2349217916994,
          -1275.925894460235,
          -1306.8600879088685,
          -874.2556419423106,
          -1278.4880805700393,
          -1213.6428413118563,
          -1313.6085746359713,
          -1295.2985420586701,
          -1266.7729655250596,
          -1187.652785911559,
          -1263.1506531350838,
          95705.7263782103,
          -1277.275801593077,
          -1292.0338006580673,
          1946.6830305293686,
          -1094.7435281868923,
          -1284.3066691691854,
          -1173.9144371228938,
          -1249.3447926308047,
          -1313.5952657637447,
          -1307.4815631604927,
          -1161.9865358829218,
          -1232.5106316637396,
          -1311.713833480216,
          -1179.4217189811607,
          -1207.4471912518213,
          -1188.7598875884805,
          -1059.937472654445,
          -1170.3144358682152,
          -1232.6012835033328,
          -1182.52993105139,
          -1205.766408734343,
          -824.0602327632366,
          -1353.93314846332,
          -1276.687596871389,
          -1162.0636240196338
         ],
         "xaxis": "x",
         "y": [
          -18.628579365022627,
          -52.93940610011537,
          -195.6774969834313,
          -14.778008850780285,
          -27.049710561157237,
          -22.205076580079112,
          -27.799169986501525,
          -34.42680255627328,
          -21.47438838904387,
          -28.391800510088967,
          -67.26322409715459,
          -80.84024807059015,
          34.06777951436893,
          -116.70124267115544,
          -152.39871237661276,
          11.108741899368637,
          -45.63304126495903,
          -41.007958522308144,
          -1456.9689456642157,
          -1.4695699069004158,
          -20.76928147468309,
          112.75461595599722,
          17.982595525894197,
          154.74107381785322,
          -23.610592288319754,
          -3.150704999744102,
          18.93961663114756,
          -42.03644432650604,
          11.000619707289784,
          -147.72060703205483,
          -29.486111034683564,
          -26.150233718997356,
          -190.55790972591677,
          -21.04079419313688,
          -27.325874477620054,
          -17.161976834526826,
          -98.8454414753485,
          3545.7685078795043,
          86.43216329285933,
          -112.78144813816976,
          1103.47510521714,
          170.70206457992398,
          -24.640548547064274,
          -77.5919670964946,
          -44.56964057018247,
          -60.117525737858735,
          -598.6260360720664,
          -77.77098709682949,
          -207.81213933629462,
          -39.19378238596655,
          19.71604833581874,
          -173.32752102072277,
          48.00670825406833,
          -43.565891029136694,
          90.3398953668715,
          235.78739296630565,
          -20.94626753839147,
          -13.520364636789772,
          -96.27393242599811,
          -112.71282464755932,
          -119.75306427820298,
          -46.79829180041305,
          -50.34868460493403,
          -706.49312642084,
          -73.35428759981224,
          66.19527450838457,
          31.132465547389973,
          -85.37854331727056,
          -24.225432723627478,
          171.59709553825377,
          -53.24268705508558,
          -165.0121778514735,
          97.28723931106467,
          115.95437357189401,
          -152.97406490432948,
          -3.30830585884245,
          -17.329774464830056,
          -105.24867004816227,
          -42.48525750666004,
          87.33698411701972,
          -50.71895617861266,
          -31.676376048540835,
          13.035981930487324,
          46.94869932666003,
          -17.831644624280198,
          -11.44762513912946,
          -68.67113675229419,
          -33.28939928046272,
          9714.059211442365,
          100.23560569503486,
          -11.138031033763435,
          -518.1884149140693,
          -0.37306830143138636,
          193.9992719722095,
          -66.00178387129502,
          -26.12542024983243,
          -64.98767802599636,
          -27.523164237029306,
          -19.877975960438423,
          -48.327461945237786,
          -16.165940411789382,
          137.46363295796763,
          -129.8131371258245,
          -33.426667018394575,
          -47.116734671596525,
          -153.86599720891485,
          -111.93753531877186,
          425.0249352897533,
          -41.405160852665766,
          -12.291281919930173,
          -80.50149356640368,
          -181.24834246855963,
          -33.8269650896314,
          -9.200702186126366,
          13926.044352006747,
          -109.32093887034907,
          -77.46803273677114,
          -75.548274149302,
          -43.91980313531346,
          -19.92715451245323,
          -49.631073463328114,
          1432.3927718187942,
          -26.22728106186513,
          22.035879963373382,
          -165.68461878890812,
          -77.80734033053567,
          92.39512813789774,
          -151.75016237554192,
          -611.9204545099111,
          -24.046490511085327,
          1447.805288643911,
          -18.216241250252004,
          -139.3653491802131,
          -137.1223767463355,
          -77.84309710368514,
          -65.73598066436661,
          -20.003885228501503,
          -117.62642044830527,
          -133.8615405995081,
          46.08194519428548,
          -160.88882844925277,
          -119.87074464663257,
          -20.43262254284735,
          38.26273973503459,
          -52.074687198481215,
          399.07713044824357,
          -132.38422955905116,
          -101.92612869115395,
          -69.24564307751403,
          -70.4229448782155,
          24.002360609994703,
          -472.95576658027613,
          -43.51533558870469,
          36.07830930490994,
          -112.88215798849602,
          -102.78731871457194,
          -97.34178190004211,
          -20.62711915658996,
          -169.43333154286933,
          -30.501456450681236,
          -128.31632533418576,
          -89.69122827841306,
          51.26656053841736,
          -138.3000077490239,
          256.6666380172115,
          -95.93313267248993,
          -116.88726315623681,
          -177.9567274403408,
          -149.88273564736824,
          4.235743186758629,
          -67.99308876584546,
          -314.37150232960266,
          -107.36002658128776,
          29.51496306167437,
          -70.82445649846889,
          -96.63171686300642,
          -46.606238246706006,
          -61.619793048318485,
          -16.61153638745532,
          -38.97781069234772,
          5.360662281121403,
          -5.930387412763449,
          -140.8568226658693,
          -77.01738137630282,
          23.260065997766812,
          5.947697006694234,
          1328.1900286505158,
          20319.171861983585,
          -100.85930152167717,
          44.63200316200652,
          -33.91868902903414,
          14008.432406293183,
          -69.39280948015087,
          58.2573878330891,
          -63.73505781300841,
          -47.3324429775496,
          -92.69931830478627,
          51115.12440203613,
          80.21025787191358,
          4.035047595509693,
          -129.40624050903426,
          -89.40353320246405,
          36.840333783596414,
          -113.5974122429051,
          -20.644011543789784,
          -169.3025693972555,
          93.44170838176694,
          -109.2318199670282,
          -1440.4288527737644,
          -50.94549102528342,
          -53.18669364374839,
          -56.01970791786951,
          -162.81642553383315,
          -58.91007243142485,
          -17.42773998596634,
          -21.21635848168189,
          -8.269796220562592,
          78.19487050144778,
          100.14678878150515,
          -108.76984425349278,
          -6.7243659324649405,
          82.19753774412888,
          109.41132033792094,
          -94.14743774773086,
          -26.338014455773813,
          -81.61633607535953,
          -49.11180734396249,
          150.41929298997889,
          -35.888603440367035,
          -71.71887102227322,
          -586.2690169157405,
          -1254.3907443775304,
          92.3677697241216,
          -72.10695130260783,
          -18.702514627580243,
          -54.52073553559503,
          -136.7888023591743,
          -55.21083555531946,
          -71.89725113611965,
          -101.43667291008465,
          361.4926405337835,
          -97.47659126642186,
          4.498842093324392,
          -47.40594602113739,
          -63.39763257031892,
          -86.5542565960265,
          -289.7458837761522,
          -311.16837644354223,
          -92.35037846994139,
          2576.093952768078,
          -165.97803578394286,
          -146.03535275990083,
          -64.8033398349337,
          -75.31414181380954,
          -37.92499896897763,
          -63.011849116889714,
          -16.70806388919303,
          -51.40888191594107,
          -67.04969665250239,
          13.01643136840935,
          -59.54740646111406,
          11.570750717400553,
          -6172.994100259976,
          -89.74003398830494,
          -146.41705288633193,
          -73.85854602118533,
          -143.67586760143504,
          -0.34873697571702766,
          0.8287323369011944,
          -979.1886789770483,
          -251.89746943027714,
          -61.3521412318442,
          10.808799283540859,
          -17.010894984841904,
          -113.58603550712463,
          -58.038661409836706,
          -84.4558733518511,
          -61.91116564898606,
          -25.975751091688306,
          -179.81730187954662,
          -2.280675169521497,
          -89.772852556524,
          -82.00917929442548,
          -100.84799228416395,
          -34.34897081718978,
          -2.7404260687788926,
          -88.75051921629598,
          -72.21537185915757,
          -20.839080414856948,
          -66.12170537466137,
          -86.7031342207553,
          31.066033014855115,
          -45.06044960454878,
          -129.3842532040082,
          -116.11451673185508,
          -138.1304279592973,
          -682.0057178567399,
          -163.96176208796058,
          -51.61006664195129,
          -92.25043673948664,
          -142.8861912019855,
          -18.05040260769293,
          -50.389755365850526,
          -107.82998357812363,
          -59.64099175181778,
          28.676244401645597,
          -59.65322176225407,
          426.1944250132888,
          -51.84101805916775,
          -1547.5775907341847,
          -73.12905207297233,
          -131.46983801217868,
          -84.06902244470176,
          15.56107693378448,
          -52.6624966510105,
          -78.18057158352254,
          -42.17209001272481,
          -64.05241481997086,
          -145.3552895381573,
          -62.935290095755605,
          -110.89627291832281,
          -40.26216167034964,
          -956.7990932423846,
          -33.880993124869214,
          -71.73196923965209,
          -119.31385460269186,
          -69.68099532997539,
          -86.47636985565524,
          -104.17667630918075,
          9.607194944156904,
          78.3216647697364,
          -50.168288315952815,
          -97.31027692819085,
          -18.473985271477165,
          -71.98003296281001,
          -38.450803809703984,
          1281.3056554825719,
          -4.2443100671602165,
          -124.70074387963426,
          58.21077253527222,
          -15.819468318887067,
          -105.99000019431818,
          -113.2886474434476,
          -40.52710405438512,
          -17.793364677164764,
          -29.0323489917591,
          -67.07589915335684,
          -122.02418809292803,
          -120.2633814331863,
          -6635.714668097578,
          -8.681556275765152,
          -20.168889749043192,
          -18.874129587796038,
          -27.25937855821995,
          -141.7061232242651,
          28.793910954932024,
          -121.29740563803661,
          -139.7778470553116,
          -97.07670088698345,
          -121.50738335184013,
          -140.5426172485228,
          -110.52949036861692,
          -393.1212353054006,
          -20.82886065793679,
          -27.650619221713317,
          -40.60668981753034,
          -66.11642449110772,
          -9140.54047071293,
          -79.55689705541525,
          -19.65976872947168,
          -16.66734692135067,
          62.81966375198255,
          -0.09724425032081895,
          -100.0757649697035,
          25.0977833090357,
          -1277.5296797950778,
          13.71050853273799,
          -52.85303601840623,
          28.38981265644275,
          20.53219667030368,
          8.671899117832725,
          -81.12945811388997,
          72.17121745400426,
          -46.69285841277398,
          -17.5793415955362,
          19.284513241672165,
          -111.1296726922901,
          26.1422946057785,
          -108.01409820512228,
          8.457853820912963,
          -70.22986625833217,
          -1439.1691778698541,
          -18.843116071066085,
          -137.9519135200456,
          -3625.7124151432427,
          -28.36383146684037,
          -79.2239139848222,
          -5.971034754847222,
          -18.383769525203423,
          -155.64884719802222,
          -78.70758148038429,
          -68.54133562482232,
          -275.3438337587223,
          -47.025307391893065,
          16.228390956517956,
          -87.951803173935,
          43.71581361044938,
          -11714.014601526429,
          -201.92143938205172,
          -76.9838567432838,
          1.279485309550704,
          -21.132843396840062,
          27.595678615524985,
          -55.9710551356126,
          -1.1703234122747352,
          -16.27302870411967,
          -120.00744846071574,
          -97.63055913464832,
          -82.30298566844746,
          72.59226933969012,
          27.31947021257117,
          -92.76347527973255,
          -24.678070886926665,
          -93.29413866971821,
          1052.4200611732228,
          -120.5379945884766,
          -148.72399615657542,
          -88.17161014580161,
          -62.95759334445301,
          813.6039932776785,
          -17.609416308091756,
          -45.25893763101157,
          159.34151962662037,
          3257.9529600484116,
          -44.61098972485181,
          -91.42988983043449,
          -282.380646493826,
          -24.615890808734566,
          -199.5540323364585,
          32.69497058010089,
          125.49987800332852,
          -12.395561036512785,
          -127.25244202716048,
          -146.8447951535753,
          -56.19050430363662,
          311.11068217266205,
          -364.86160394664256,
          -21.077698936342504,
          7.295552984410438,
          12.148894094610943,
          -180.3838160153292,
          -43.27938770459243,
          330.61513255783814,
          -452.1940386063422,
          -211.16077137148517,
          18.16110605562046,
          401.1820620997265,
          -29.20237870565234,
          -116.22711058812638,
          -117.07837891061908,
          -61.79976293649993,
          27.519565821530055,
          -1781.2796447827625,
          -38.91681302638007,
          -32.82224386190203,
          -211.57850709835526,
          -118.5634227038315,
          8.179380108067395,
          52.53532485172262,
          -89.84039088833896,
          -88.63995974416187,
          -102.66848270847682,
          5.3538494237934735,
          14.54404148145598,
          -64.71796398544018,
          29.24725729822345,
          -135.2956832455125,
          203.9002530543685,
          -107.56064413678595,
          -116.92014205969204,
          -34.42092315477911,
          3.7106916238240197,
          -125.99818370322849,
          -11.095805293093047,
          -147.22771368489785,
          -105.67424325680163,
          130.32132541156759,
          10.024735173071328,
          -114.61027779806963,
          112.84212246114966,
          -196.1482697130715,
          -982.3374893078917,
          -64.91779524350184,
          -15.478868820297562,
          523.0844910802848,
          63384.986438990345,
          -16.223793132131743,
          -373.43876308193177,
          -66.23840490730447,
          -38.79534959729204,
          71.68826574422326,
          -26.151599397003398,
          -25.389377653938375,
          -93.84023355534688,
          -36.041968442171516,
          -149.79821764687844,
          -9.851680367834568,
          152.8073580303948,
          -1132.0376011183018,
          1498.9590573667565,
          -121.90263578804706,
          -45.04685190427343,
          -62.19760382925711,
          -48.440457440636834,
          -39.332541317618,
          -35.42188944246507,
          -70.13802750647163,
          5.765552501408222,
          -17.88807840135586,
          -28.397204297829663,
          -99.13315441669705,
          -52.28891195393271,
          -67.94327715034191,
          -98.17704139730097,
          -111.83494563187986,
          8.007061088996538,
          -219.0692439978182,
          -118.32414715490087,
          -92.67153441141208,
          -18.260918980333127,
          -67.00525170104679,
          -46.43551584795142,
          -72.32847484105476,
          -141.2359666803676,
          -99.95962417505783,
          -82.05844935985935,
          -37.15705256742039,
          -70.8529472245038,
          34.45068559965051,
          -19.006004878866012,
          -60.44335915882685,
          -77.57370138638954,
          -96.71378605241836,
          -283.1509223336615,
          -86.34887518082772,
          -77.70847403076107,
          -118.77364153363125,
          -95.46510710612903,
          -219.62231389256007,
          18.886733715273483,
          -106.87229055475305,
          -276.7936669830686,
          -135.20984669540218,
          -625.6478036251493,
          11.949478373202279,
          841.3544987607471,
          28.474700527041193,
          -50.34141052206382,
          -99.99342963445203,
          -29.273874858396596,
          -36.34711301593055,
          -15.857133000347698,
          -74.88420343624298,
          -86.59737337235147,
          -124.12152851743826,
          -111.0883143242749,
          -150.69545425173425,
          -1292.0522532125617,
          -137.67109804578246,
          21.95526419401546,
          -172.72877485367633,
          -183.52090143378157,
          -134.44024920835054,
          19.32238489378151,
          -58.35097573021889,
          -43.12023825250021,
          -166.79535682259362,
          -109.21570597268729,
          -24.32366790845448,
          -96.29153480417504,
          -136.59339065917902,
          -97.99731711454517,
          -8619.131609266526,
          -19.824663718178503,
          -178.98208422749326,
          -119.92866509908372,
          -1.0480964763558467,
          16.59284091000069,
          -218.5717868407676,
          -78.45925615331494,
          -121.72986345052014,
          -136.92716328130717,
          -11.624484388900724,
          -65.98880549263059,
          -37.229068657120614,
          13.621379382553942,
          -112.62237746257993,
          -302.30335466224943,
          -355.98632011951617,
          64.87405710259875,
          -63.18136635670735,
          1.7224224787249123,
          10.063239712910113,
          -129.27577812680175,
          -17.56596190065513,
          -242.81258679861676,
          46.760671010741625,
          26.243789996805848,
          -1545.907321035086,
          -66.29394741275058,
          -36.325008274874705,
          18.68149048717871,
          -93.60181183436424,
          -4.4022650499280545,
          -45.56429195895722,
          -97.51063624933961,
          -101.34916257447959,
          -128.9992081669875,
          -576.9485059411236,
          2677.8046119282444,
          -1.2084994167938998,
          -105.4592495632669,
          -87.84425367834648,
          -33.77916543380839,
          -74.93119639398748,
          -126.60535076530198,
          -258.35583266971196,
          -13.129399437520679,
          -59.77046146493743,
          -103.77774812561512,
          -18.308050287054503,
          -56.556162812872415,
          7.025425747601132,
          198.93317395077602,
          -73.69666182435206,
          3.405986262215809,
          -13.664024781425836,
          2.878116116231914,
          -20.882659257626145,
          -970.1206390037337,
          -291.64642595183574,
          -113.8498006267107,
          -82.40991489335536,
          81.81116010371042,
          805.8069286882265,
          -1.2105264002888043,
          -75.6957465433737,
          7.632230404897376,
          -131.64876611692304,
          -175.5927275525961,
          -82.82780362616492,
          -16.357090083479058,
          -119.73222634639197,
          -25.09036944759332,
          -152.5552109836283,
          17853.992029718986,
          -6736.697406562099,
          -153.56481736401437,
          -165.4052019392822,
          -30.73731832434015,
          -79.99336082534083,
          64.7299523635526,
          -166.51226693604565,
          -1059.8760091577894,
          -116.89081488848102,
          -45.686575982382244,
          11.35649990174165,
          -36.36473398673313,
          -20.208147454283544,
          -28.741028542757523,
          -21.948002874543707,
          -28.068988562454027,
          -19.86326035981823,
          -31.83583885498216,
          -69.24355643947973,
          21.17747002357898,
          -133.80877215283624,
          -35.0099346987296,
          -57.4224316093612,
          -3.8540842894965026,
          -22.616511760334166,
          -34.89870701379816,
          12.119796189226667,
          80.46163782197326,
          -96.76328466287669,
          -569.7814543194065,
          -21.394026717595285,
          -26.705284974188153,
          -189.72649612567696,
          -74.82382797650605,
          -0.15869225660548636,
          7.158545774545133,
          -63.75528292325044,
          24.5042191882731,
          -130.53411330508723,
          -13.65802149743719,
          -24.516549911157362,
          -40.683980634494745,
          -21.3743429060867,
          -61.96066009414938,
          -44.79762013113068,
          -70.30977632135158,
          -86.02605129295102,
          -6.298547746959258,
          -19.317710652297183,
          -55.27675312991195,
          -123.4154560999019,
          94.4360666087722,
          -52.09499121782428,
          -239.10977548294383,
          -77.62375639362473,
          21.766224551196082,
          -34.41400915153797,
          -4700.26599294035,
          -132.17019071925117,
          -78.67018366516314,
          -117.87139245979202,
          1063.0665085722285,
          12.955287324974284,
          -30.218955437983958,
          -81.09798314577263,
          -104.09002369912456,
          38.904534975679866,
          90.03123881327745,
          10.986991714656908,
          134.9788253939403,
          -50.594585999270585,
          -114.00812325236407,
          -109.78630239815477,
          -107.98060883811361,
          36.382608852210666,
          -126.06019834090664,
          -20.411767776171803,
          -28.641137949570012,
          -135.36717454413207,
          1.0020981681319725,
          146.85504585993044,
          -0.8219877976650866,
          -22.447241833934193,
          -30.17100530056144,
          -69.3560281612843,
          -28.73168233039957,
          -9.643148309498038,
          -116.17539950945138,
          10.124148578469814,
          -87.06471507669731,
          -120.01335051920536,
          166.7364681866225,
          -72.49837572171477,
          -88.85130418398474,
          -50.773974932504544,
          -52.20019459648257,
          -14.577413060408281,
          -2.5520129419088184,
          0.9061120086223574,
          -56.83606204502011,
          -130.1856146454202,
          -25.93093179527071,
          -124.9630968906879,
          -163.24659410887114,
          -99.29628413429249,
          -81.02524837138895,
          -145.3300640611435,
          -148.60927558311943,
          29.04822296167621,
          -425.84276358229204,
          -31.39103794952459,
          214.3666626661924,
          -68.96097525428718,
          -41.448743597664134,
          -91.35627665519752,
          -40.99401920496712,
          -26.731891470672068,
          -52.484208241692755,
          -116.16457531003796,
          14.994790608223191,
          10.226701587846149,
          -165.48068662463677,
          -1200.7756515024041,
          15.474449404840218,
          -5.626763274366056,
          67.15037920263576,
          33.420228085893385,
          -59.09360759628859,
          -27.75728935254188,
          -103.45007485756048,
          -28.86452397481919,
          84.21775462778233,
          -14.762154948356347,
          -51.18231798410886,
          -31.110467863793282,
          -32.692570556343945,
          -158.72634587450068,
          -76.32177649620756,
          23.336915901250183,
          -27.09118417122585,
          18.75367905830128,
          176.62373110568615,
          -281.2372446875711,
          19.341720667256805,
          -362.44352859597154,
          -21.491931456252303,
          71.74126147755752,
          -189.7668794231291,
          -30.42329381265017,
          32.13835535372352,
          -64.56921543190725,
          19.58132485614546,
          58.893571210892304,
          36.522713195370706,
          27.484198420712815,
          -62.88941523000414,
          -115.43544191067757,
          -84.48792834272669,
          -68.31596053308637,
          -6.635097400552943,
          -20.956527362468712,
          25.330908178200534,
          -100.28091811310959,
          -65.71462261031971,
          -40.34598208743706,
          -89.51646262241522,
          124.2385331704696,
          20.869131821458986,
          -25.857148069019164,
          -38.16650616246587,
          -70.30124925012849,
          -92.35325613225208,
          -77.18166619568186,
          -116.22605820288678,
          24.520726908608694,
          -123.73624869880615,
          -45.25055242180451,
          -37.848094934982186,
          -82.89927280628592,
          -88.36103183137458,
          -52.25563403057913,
          -62.46318053906136,
          -60.82903305462869,
          -5.437173991076807,
          -17.906378442317553,
          -167.94867328982068,
          -67.13746756333502,
          -163.6723361238724,
          -31.176053073469973,
          -56.6030695600778,
          -3610.8408647987344,
          -24.72898818420119,
          -68.6840666378019,
          -25.931029300042116,
          -227.4624229941623,
          -16.055393268104783,
          25.62663414538148,
          -131.94562213001618,
          -544.5758111554179,
          -1012.5154568371769,
          -27.109283020258108,
          -93.38850831523186,
          -101.0827832594051,
          -41.83231272318575,
          5235.023920809968,
          762.5304222250369,
          -63.37114779973633,
          -67.047315106478,
          -544.7252990282641,
          -63.68989069252595,
          -15.338835964313436,
          -37.42707073380722,
          69.03366105066297,
          -32.05647374736331,
          -230.19430974608898,
          -17.502144316640926,
          -28.69392659123231,
          -177.00177908405902,
          -36.76150385436618,
          9.631863036709102,
          -20.932144326534047,
          -21.834005069838902,
          -104.27123810677153,
          -41.30124224772245,
          -131.10038660802056,
          20.430349310019782,
          -120.62735953013716,
          10.864891819185317,
          -35.50411481614906,
          -240.80109101432288,
          -62.72356586712127,
          40.82583072003522,
          -30.77646636235332,
          -130.76781992985417,
          -620.0350616469236,
          -48.356715562623556,
          164.5985177004975,
          75.15882521053648,
          -16.470428546263438,
          -49.3942461588144,
          10.795940927179164,
          17.05325369236675,
          1.378389219102594,
          -14.843725658212325,
          23.47047940311305,
          -46.32476237588901,
          -148.18992828599517,
          -16.860054573067803,
          -33.26723762141205,
          -141.23176029480547,
          -38.748913937589904,
          -67.18694436519996,
          -71.60297371779359,
          -136.50108565727515,
          -119.00053921321542,
          -82.60345972453436,
          -130.1024846832578,
          -126.04407772343619,
          -15.357610494246181,
          -11.00184666590258,
          -118.62348651973426,
          -55.09900229643426,
          -230.868821877151,
          -63.50990435114011,
          -16.58258550972086,
          -99.5659517844599,
          -113.20227135860125,
          -107.33099661867442,
          -1.5594764872401023,
          -108.47685133155079,
          -62.35040257441501,
          -31.232843398735042,
          -89.12661112173203,
          -17.524678839124697,
          -18.174496604681288,
          -20.83554852683971,
          -110.54857889546663,
          -112.37744225980708,
          -30.246562060746346,
          -102.82650565282434,
          506.0482570010285,
          -14.93920435816322,
          214.0217142035889,
          160.79993656614872,
          37.95923521807217,
          -28.76764386799248,
          -33.839872506281765,
          -1.6669045384040169,
          -47.077394958890494,
          -73.60587632291575,
          -10.943890522495694,
          -92.68647108478527,
          -83.98065099782794,
          893.3904426263007,
          24.253270049127234,
          53.87524053757714,
          -488.56929024145495,
          1291.8779971134425,
          -185.8049627807388,
          -149.1122389078704,
          -35.430784219903146,
          -18.24753475924854,
          1977.5949150981412,
          -102.69595757752452,
          -118.382175471823,
          -69.49754296999137,
          -166.12857547606998,
          -580.3336246962815,
          30.37680213863439,
          -78.05383166326263,
          116.87152398124333,
          4.137293517902679,
          -8.079864131219239,
          -7.752031718536136,
          5.942256190811262,
          -37.52188600944505,
          -80.8976109849994,
          67.75281699817742,
          65.58617875234212,
          -25.686979972887148,
          -104.72103281942645,
          16.91471683487177,
          106.71651168986801,
          -71.75464258362823,
          23.927653237998918,
          -30.906092216045298,
          -175.16442342870056,
          25.259085697998245,
          -2245.916848509508,
          -734.7085351293609,
          -77.72773126308537,
          -2.36222426159844,
          -19.515580478671218,
          -764.1087409022937,
          -19.718198670597108,
          -58.18047804990613,
          -56.72066970974364,
          -36.56812103359488,
          -91.49110116448587,
          -19.177872703963395,
          20.806136153638167,
          -164.10445196138258,
          -66.43237717848159,
          -37.76411307765464,
          -36.22902491527325,
          -471.609747891305,
          -608.5168352212771,
          -363.02348581019686,
          -42.775504169143396,
          -4.408173532603591,
          -143.75469761103366,
          -110.45053177340077,
          1.7319566582984216,
          -20.55463572943576,
          27.874278021077092,
          -22.914723737529506,
          3307.5983590893115,
          -37.83839466503468,
          -112.92689889681043,
          -18.588098246333747,
          -37.92279165714482,
          258.4666711555879,
          -1795.4883860783996,
          -63.085832522631875,
          20.37498428265294,
          -232.54548167622207,
          -42.26851911853389,
          -18.124659137064775,
          -15.50744778490739,
          133.7974549312037,
          -124.23698028645622,
          -56.03494079655688,
          -615.3584537910021,
          -36.78275948244342,
          -49.97063839940094,
          -132.88250428430277,
          -34.96840706592387,
          -274.71977140201,
          -23.403397298850585,
          -108.42875000582295,
          -3656.2466847735213,
          407.55800804668786,
          253.2647873419674,
          -2199.8488345440483,
          3432.951591046849,
          -1776.2198870996,
          -804.6542338800393,
          1594.4391097178534,
          -2634.505162224991,
          1919.9067180308386,
          36.63082611000563,
          -55.983825647393,
          259.7065812149509,
          435.9760655250026,
          448.7157295096793,
          30.55896103518301,
          -196.10501672898698,
          -20.001463850797883,
          -16.88240069851793,
          -1055.0933266925294,
          -203.86716524788534,
          17.54668363231571,
          -11904.725016412478,
          178.70706039635175,
          -111.90725435449457,
          -85.91859895537452,
          -152.06187473120372,
          -80.80822156099423,
          -438.0638197860113,
          36.27415900868037,
          8.840101336871923,
          -95.3307886285244,
          -22.855277415772623,
          29.55075146217013,
          -26.467613619962254,
          -10.527805524713227,
          -0.44957469634613323,
          -2657.200127866958,
          38.96695459452554,
          -76.27548345097433,
          -34.95831012348584,
          -115.29397175200533,
          -0.9875920899490293,
          -79.22393878083913,
          3017.0294171065816,
          -126.50706244829937,
          -90.86195235279467,
          -229.47384664671037,
          -76.66436013581821,
          -179.54691680619354,
          -47.402137511388815,
          1804.4488878604632,
          -11618.546891417087,
          -78.64091304811588,
          -129.9445886094411,
          -131.87079141758971,
          -4970.71268594834,
          -129.5809419850545,
          -712.3231813517104,
          21.782095177841025,
          -87.81722296030553,
          -59.89501837383579,
          -72.51219789691332,
          -24.224997202105286,
          -75.49213002689703,
          -5539.932647727843,
          -148.71764542791692,
          -179.63180960218634,
          -103.85013988944647,
          -5.199241552740821,
          -63.7585558997297,
          13.7599566700485,
          -124.46724020373455,
          48.69281872324328,
          -44.39490213368331,
          -48.62502644787666,
          1.2840331376278475,
          -5.711611161632522,
          -56.33756961918452,
          -74.41034647562648,
          5.57396946785271,
          -196.7920156492127,
          -82.34931159409489,
          -6.780794134613958,
          -66.82848238206373,
          -56.33228792955116,
          -83.8863377579679,
          -106.92665593704903,
          -61.9607703080428,
          71.03448951884475,
          -9.346467664815764,
          -147.37018762853094,
          24.067483252806408,
          -39.006459863562384,
          -120.72827922596322,
          6.430551566410407,
          -76.47163904103878,
          -108.67494621676526,
          30.081346363742934,
          1055.4983539492644,
          -54.57764651507563,
          26.854215262870344,
          -113.28751542547751,
          -1903.015526422597,
          -7.834084831910931,
          28.009296328100387,
          20.83799486321245,
          -87.8468016212292,
          -79.9128430317883,
          -27.547422137953898,
          -6.993984848905751,
          -10.688411629983264,
          -29.891686383446345,
          2.7564887989330056,
          -32.58096350480297,
          250.51122634645904,
          -98.09160773544976,
          -119.40575561385549,
          39.1835424226279,
          -19.28393183956946,
          37.157447054966426,
          4.168911283661009,
          -118.18937707529584,
          19.568693250084056,
          -81.68244839564532,
          -326.976066892399,
          -37.794696352711306,
          -90.81526527844818,
          -116.01126791072457,
          -36.782899884050195,
          83.18058327033471,
          -87.2189983430509,
          -87.90618735758937,
          -101.43781772119382,
          -14.850990789821633,
          48.816229405709706,
          -195.67055041769945,
          -10.766513297581028,
          -6.8610600513618,
          -501.6305092790219,
          -39.374918171043944,
          -54.05399767503813,
          -71.89375412551452,
          -104.34029314339935,
          -131.9539531504535,
          14.68738915910815,
          -4.673559824814202,
          12.784635571595201,
          -37.62878054405744,
          -9.538535883632429,
          -54.77870641108629,
          -38.74323256187624,
          21.836306769870774,
          -111.34147074748407,
          43.15223595688466,
          -37678.989797584385,
          -75.91011487852036,
          -61.25504416249027,
          -1327.9772321186551,
          -128.85421538694195,
          -62.77030500628357,
          -87.13376334450159,
          4.722661846229515,
          10.074986137270233,
          -17.017745286734666,
          -116.84165392996785,
          -2.1529040194148115,
          -36.7586027056705,
          -65.66715684839116,
          -66.4282379594459,
          80.18802433032941,
          -220.3556571193961,
          -41.742453325040714,
          -9.935285700179005,
          572.5023230338205,
          0.46949005407508027,
          102.39451824243547,
          -14.495124511125258,
          -13.555746587041375,
          24.812455451306505
         ],
         "yaxis": "y",
         "type": "scattergl"
        }
       ],
       "layout": {
        "template": {
         "data": {
          "histogram2dcontour": [
           {
            "type": "histogram2dcontour",
            "colorbar": {
             "outlinewidth": 0,
             "ticks": ""
            },
            "colorscale": [
             [
              0.0,
              "#0d0887"
             ],
             [
              0.1111111111111111,
              "#46039f"
             ],
             [
              0.2222222222222222,
              "#7201a8"
             ],
             [
              0.3333333333333333,
              "#9c179e"
             ],
             [
              0.4444444444444444,
              "#bd3786"
             ],
             [
              0.5555555555555556,
              "#d8576b"
             ],
             [
              0.6666666666666666,
              "#ed7953"
             ],
             [
              0.7777777777777778,
              "#fb9f3a"
             ],
             [
              0.8888888888888888,
              "#fdca26"
             ],
             [
              1.0,
              "#f0f921"
             ]
            ]
           }
          ],
          "choropleth": [
           {
            "type": "choropleth",
            "colorbar": {
             "outlinewidth": 0,
             "ticks": ""
            }
           }
          ],
          "histogram2d": [
           {
            "type": "histogram2d",
            "colorbar": {
             "outlinewidth": 0,
             "ticks": ""
            },
            "colorscale": [
             [
              0.0,
              "#0d0887"
             ],
             [
              0.1111111111111111,
              "#46039f"
             ],
             [
              0.2222222222222222,
              "#7201a8"
             ],
             [
              0.3333333333333333,
              "#9c179e"
             ],
             [
              0.4444444444444444,
              "#bd3786"
             ],
             [
              0.5555555555555556,
              "#d8576b"
             ],
             [
              0.6666666666666666,
              "#ed7953"
             ],
             [
              0.7777777777777778,
              "#fb9f3a"
             ],
             [
              0.8888888888888888,
              "#fdca26"
             ],
             [
              1.0,
              "#f0f921"
             ]
            ]
           }
          ],
          "heatmap": [
           {
            "type": "heatmap",
            "colorbar": {
             "outlinewidth": 0,
             "ticks": ""
            },
            "colorscale": [
             [
              0.0,
              "#0d0887"
             ],
             [
              0.1111111111111111,
              "#46039f"
             ],
             [
              0.2222222222222222,
              "#7201a8"
             ],
             [
              0.3333333333333333,
              "#9c179e"
             ],
             [
              0.4444444444444444,
              "#bd3786"
             ],
             [
              0.5555555555555556,
              "#d8576b"
             ],
             [
              0.6666666666666666,
              "#ed7953"
             ],
             [
              0.7777777777777778,
              "#fb9f3a"
             ],
             [
              0.8888888888888888,
              "#fdca26"
             ],
             [
              1.0,
              "#f0f921"
             ]
            ]
           }
          ],
          "heatmapgl": [
           {
            "type": "heatmapgl",
            "colorbar": {
             "outlinewidth": 0,
             "ticks": ""
            },
            "colorscale": [
             [
              0.0,
              "#0d0887"
             ],
             [
              0.1111111111111111,
              "#46039f"
             ],
             [
              0.2222222222222222,
              "#7201a8"
             ],
             [
              0.3333333333333333,
              "#9c179e"
             ],
             [
              0.4444444444444444,
              "#bd3786"
             ],
             [
              0.5555555555555556,
              "#d8576b"
             ],
             [
              0.6666666666666666,
              "#ed7953"
             ],
             [
              0.7777777777777778,
              "#fb9f3a"
             ],
             [
              0.8888888888888888,
              "#fdca26"
             ],
             [
              1.0,
              "#f0f921"
             ]
            ]
           }
          ],
          "contourcarpet": [
           {
            "type": "contourcarpet",
            "colorbar": {
             "outlinewidth": 0,
             "ticks": ""
            }
           }
          ],
          "contour": [
           {
            "type": "contour",
            "colorbar": {
             "outlinewidth": 0,
             "ticks": ""
            },
            "colorscale": [
             [
              0.0,
              "#0d0887"
             ],
             [
              0.1111111111111111,
              "#46039f"
             ],
             [
              0.2222222222222222,
              "#7201a8"
             ],
             [
              0.3333333333333333,
              "#9c179e"
             ],
             [
              0.4444444444444444,
              "#bd3786"
             ],
             [
              0.5555555555555556,
              "#d8576b"
             ],
             [
              0.6666666666666666,
              "#ed7953"
             ],
             [
              0.7777777777777778,
              "#fb9f3a"
             ],
             [
              0.8888888888888888,
              "#fdca26"
             ],
             [
              1.0,
              "#f0f921"
             ]
            ]
           }
          ],
          "surface": [
           {
            "type": "surface",
            "colorbar": {
             "outlinewidth": 0,
             "ticks": ""
            },
            "colorscale": [
             [
              0.0,
              "#0d0887"
             ],
             [
              0.1111111111111111,
              "#46039f"
             ],
             [
              0.2222222222222222,
              "#7201a8"
             ],
             [
              0.3333333333333333,
              "#9c179e"
             ],
             [
              0.4444444444444444,
              "#bd3786"
             ],
             [
              0.5555555555555556,
              "#d8576b"
             ],
             [
              0.6666666666666666,
              "#ed7953"
             ],
             [
              0.7777777777777778,
              "#fb9f3a"
             ],
             [
              0.8888888888888888,
              "#fdca26"
             ],
             [
              1.0,
              "#f0f921"
             ]
            ]
           }
          ],
          "mesh3d": [
           {
            "type": "mesh3d",
            "colorbar": {
             "outlinewidth": 0,
             "ticks": ""
            }
           }
          ],
          "scatter": [
           {
            "fillpattern": {
             "fillmode": "overlay",
             "size": 10,
             "solidity": 0.2
            },
            "type": "scatter"
           }
          ],
          "parcoords": [
           {
            "type": "parcoords",
            "line": {
             "colorbar": {
              "outlinewidth": 0,
              "ticks": ""
             }
            }
           }
          ],
          "scatterpolargl": [
           {
            "type": "scatterpolargl",
            "marker": {
             "colorbar": {
              "outlinewidth": 0,
              "ticks": ""
             }
            }
           }
          ],
          "bar": [
           {
            "error_x": {
             "color": "#2a3f5f"
            },
            "error_y": {
             "color": "#2a3f5f"
            },
            "marker": {
             "line": {
              "color": "#E5ECF6",
              "width": 0.5
             },
             "pattern": {
              "fillmode": "overlay",
              "size": 10,
              "solidity": 0.2
             }
            },
            "type": "bar"
           }
          ],
          "scattergeo": [
           {
            "type": "scattergeo",
            "marker": {
             "colorbar": {
              "outlinewidth": 0,
              "ticks": ""
             }
            }
           }
          ],
          "scatterpolar": [
           {
            "type": "scatterpolar",
            "marker": {
             "colorbar": {
              "outlinewidth": 0,
              "ticks": ""
             }
            }
           }
          ],
          "histogram": [
           {
            "marker": {
             "pattern": {
              "fillmode": "overlay",
              "size": 10,
              "solidity": 0.2
             }
            },
            "type": "histogram"
           }
          ],
          "scattergl": [
           {
            "type": "scattergl",
            "marker": {
             "colorbar": {
              "outlinewidth": 0,
              "ticks": ""
             }
            }
           }
          ],
          "scatter3d": [
           {
            "type": "scatter3d",
            "line": {
             "colorbar": {
              "outlinewidth": 0,
              "ticks": ""
             }
            },
            "marker": {
             "colorbar": {
              "outlinewidth": 0,
              "ticks": ""
             }
            }
           }
          ],
          "scattermapbox": [
           {
            "type": "scattermapbox",
            "marker": {
             "colorbar": {
              "outlinewidth": 0,
              "ticks": ""
             }
            }
           }
          ],
          "scatterternary": [
           {
            "type": "scatterternary",
            "marker": {
             "colorbar": {
              "outlinewidth": 0,
              "ticks": ""
             }
            }
           }
          ],
          "scattercarpet": [
           {
            "type": "scattercarpet",
            "marker": {
             "colorbar": {
              "outlinewidth": 0,
              "ticks": ""
             }
            }
           }
          ],
          "carpet": [
           {
            "aaxis": {
             "endlinecolor": "#2a3f5f",
             "gridcolor": "white",
             "linecolor": "white",
             "minorgridcolor": "white",
             "startlinecolor": "#2a3f5f"
            },
            "baxis": {
             "endlinecolor": "#2a3f5f",
             "gridcolor": "white",
             "linecolor": "white",
             "minorgridcolor": "white",
             "startlinecolor": "#2a3f5f"
            },
            "type": "carpet"
           }
          ],
          "table": [
           {
            "cells": {
             "fill": {
              "color": "#EBF0F8"
             },
             "line": {
              "color": "white"
             }
            },
            "header": {
             "fill": {
              "color": "#C8D4E3"
             },
             "line": {
              "color": "white"
             }
            },
            "type": "table"
           }
          ],
          "barpolar": [
           {
            "marker": {
             "line": {
              "color": "#E5ECF6",
              "width": 0.5
             },
             "pattern": {
              "fillmode": "overlay",
              "size": 10,
              "solidity": 0.2
             }
            },
            "type": "barpolar"
           }
          ],
          "pie": [
           {
            "automargin": true,
            "type": "pie"
           }
          ]
         },
         "layout": {
          "autotypenumbers": "strict",
          "colorway": [
           "#636efa",
           "#EF553B",
           "#00cc96",
           "#ab63fa",
           "#FFA15A",
           "#19d3f3",
           "#FF6692",
           "#B6E880",
           "#FF97FF",
           "#FECB52"
          ],
          "font": {
           "color": "#2a3f5f"
          },
          "hovermode": "closest",
          "hoverlabel": {
           "align": "left"
          },
          "paper_bgcolor": "white",
          "plot_bgcolor": "#E5ECF6",
          "polar": {
           "bgcolor": "#E5ECF6",
           "angularaxis": {
            "gridcolor": "white",
            "linecolor": "white",
            "ticks": ""
           },
           "radialaxis": {
            "gridcolor": "white",
            "linecolor": "white",
            "ticks": ""
           }
          },
          "ternary": {
           "bgcolor": "#E5ECF6",
           "aaxis": {
            "gridcolor": "white",
            "linecolor": "white",
            "ticks": ""
           },
           "baxis": {
            "gridcolor": "white",
            "linecolor": "white",
            "ticks": ""
           },
           "caxis": {
            "gridcolor": "white",
            "linecolor": "white",
            "ticks": ""
           }
          },
          "coloraxis": {
           "colorbar": {
            "outlinewidth": 0,
            "ticks": ""
           }
          },
          "colorscale": {
           "sequential": [
            [
             0.0,
             "#0d0887"
            ],
            [
             0.1111111111111111,
             "#46039f"
            ],
            [
             0.2222222222222222,
             "#7201a8"
            ],
            [
             0.3333333333333333,
             "#9c179e"
            ],
            [
             0.4444444444444444,
             "#bd3786"
            ],
            [
             0.5555555555555556,
             "#d8576b"
            ],
            [
             0.6666666666666666,
             "#ed7953"
            ],
            [
             0.7777777777777778,
             "#fb9f3a"
            ],
            [
             0.8888888888888888,
             "#fdca26"
            ],
            [
             1.0,
             "#f0f921"
            ]
           ],
           "sequentialminus": [
            [
             0.0,
             "#0d0887"
            ],
            [
             0.1111111111111111,
             "#46039f"
            ],
            [
             0.2222222222222222,
             "#7201a8"
            ],
            [
             0.3333333333333333,
             "#9c179e"
            ],
            [
             0.4444444444444444,
             "#bd3786"
            ],
            [
             0.5555555555555556,
             "#d8576b"
            ],
            [
             0.6666666666666666,
             "#ed7953"
            ],
            [
             0.7777777777777778,
             "#fb9f3a"
            ],
            [
             0.8888888888888888,
             "#fdca26"
            ],
            [
             1.0,
             "#f0f921"
            ]
           ],
           "diverging": [
            [
             0,
             "#8e0152"
            ],
            [
             0.1,
             "#c51b7d"
            ],
            [
             0.2,
             "#de77ae"
            ],
            [
             0.3,
             "#f1b6da"
            ],
            [
             0.4,
             "#fde0ef"
            ],
            [
             0.5,
             "#f7f7f7"
            ],
            [
             0.6,
             "#e6f5d0"
            ],
            [
             0.7,
             "#b8e186"
            ],
            [
             0.8,
             "#7fbc41"
            ],
            [
             0.9,
             "#4d9221"
            ],
            [
             1,
             "#276419"
            ]
           ]
          },
          "xaxis": {
           "gridcolor": "white",
           "linecolor": "white",
           "ticks": "",
           "title": {
            "standoff": 15
           },
           "zerolinecolor": "white",
           "automargin": true,
           "zerolinewidth": 2
          },
          "yaxis": {
           "gridcolor": "white",
           "linecolor": "white",
           "ticks": "",
           "title": {
            "standoff": 15
           },
           "zerolinecolor": "white",
           "automargin": true,
           "zerolinewidth": 2
          },
          "scene": {
           "xaxis": {
            "backgroundcolor": "#E5ECF6",
            "gridcolor": "white",
            "linecolor": "white",
            "showbackground": true,
            "ticks": "",
            "zerolinecolor": "white",
            "gridwidth": 2
           },
           "yaxis": {
            "backgroundcolor": "#E5ECF6",
            "gridcolor": "white",
            "linecolor": "white",
            "showbackground": true,
            "ticks": "",
            "zerolinecolor": "white",
            "gridwidth": 2
           },
           "zaxis": {
            "backgroundcolor": "#E5ECF6",
            "gridcolor": "white",
            "linecolor": "white",
            "showbackground": true,
            "ticks": "",
            "zerolinecolor": "white",
            "gridwidth": 2
           }
          },
          "shapedefaults": {
           "line": {
            "color": "#2a3f5f"
           }
          },
          "annotationdefaults": {
           "arrowcolor": "#2a3f5f",
           "arrowhead": 0,
           "arrowwidth": 1
          },
          "geo": {
           "bgcolor": "white",
           "landcolor": "#E5ECF6",
           "subunitcolor": "white",
           "showland": true,
           "showlakes": true,
           "lakecolor": "white"
          },
          "title": {
           "x": 0.05
          },
          "mapbox": {
           "style": "light"
          }
         }
        },
        "xaxis": {
         "anchor": "y",
         "domain": [
          0.0,
          1.0
         ],
         "title": {
          "text": "dsadas"
         }
        },
        "yaxis": {
         "anchor": "x",
         "domain": [
          0.0,
          1.0
         ],
         "title": {
          "text": "Y - PC2"
         }
        },
        "legend": {
         "tracegroupgap": 0
        },
        "title": {
         "text": "Reduced Data (PC1, PC2)"
        }
       },
       "config": {
        "plotlyServerURL": "https://plot.ly"
       }
      },
      "text/html": [
       "<div>                            <div id=\"d7cda1ff-5ece-4347-ae1f-d305a6313cbf\" class=\"plotly-graph-div\" style=\"height:525px; width:100%;\"></div>            <script type=\"text/javascript\">                require([\"plotly\"], function(Plotly) {                    window.PLOTLYENV=window.PLOTLYENV || {};                                    if (document.getElementById(\"d7cda1ff-5ece-4347-ae1f-d305a6313cbf\")) {                    Plotly.newPlot(                        \"d7cda1ff-5ece-4347-ae1f-d305a6313cbf\",                        [{\"customdata\":[[\"\\u05d0\\u05d1\\u05d5 \\u05d2\\u05d5\\u05d5\\u05d9\\u05d9\\u05e2\\u05d3 \\u05e9\\u05d1\\u05d8\"],[\"\\u05d0\\u05d1\\u05d5 \\u05d2\\u05d5\\u05e9\"],[\"\\u05d0\\u05d1\\u05d5 \\u05e1\\u05e0\\u05d0\\u05df\"],[\"\\u05d0\\u05d1\\u05d5 \\u05e2\\u05d1\\u05d3\\u05d5\\u05df \\u05e9\\u05d1\\u05d8\"],[\"\\u05d0\\u05d1\\u05d5 \\u05e7\\u05d5\\u05e8\\u05d9\\u05e0\\u05d0\\u05ea \\u05e9\\u05d1\\u05d8\"],[\"\\u05d0\\u05d1\\u05d5 \\u05e7\\u05e8\\u05d9\\u05e0\\u05d0\\u05ea \\u05d9\\u05d9\\u05e9\\u05d5\\u05d1\"],[\"\\u05d0\\u05d1\\u05d5 \\u05e8\\u05d5\\u05d1\\u05d9\\u05d9\\u05e2\\u05d4 \\u05e9\\u05d1\\u05d8\"],[\"\\u05d0\\u05d1\\u05d5 \\u05e8\\u05d5\\u05e7\\u05d9\\u05d9\\u05e7 \\u05e9\\u05d1\\u05d8\"],[\"\\u05d0\\u05d1\\u05d5 \\u05ea\\u05dc\\u05d5\\u05dc\"],[\"\\u05d0\\u05d1\\u05d8\\u05d9\\u05df\"],[\"\\u05d0\\u05d1\\u05d8\\u05dc\\u05d9\\u05d5\\u05df\"],[\"\\u05d0\\u05d1\\u05d9\\u05d0\\u05dc\"],[\"\\u05d0\\u05d1\\u05d9\\u05d1\\u05d9\\u05dd\"],[\"\\u05d0\\u05d1\\u05d9\\u05d2\\u05d3\\u05d5\\u05e8\"],[\"\\u05d0\\u05d1\\u05d9\\u05d7\\u05d9\\u05dc\"],[\"\\u05d0\\u05d1\\u05d9\\u05d8\\u05dc\"],[\"\\u05d0\\u05d1\\u05d9\\u05e2\\u05d6\\u05e8\"],[\"\\u05d0\\u05d1\\u05d9\\u05e8\\u05d9\\u05dd\"],[\"\\u05d0\\u05d1\\u05df \\u05d9\\u05d4\\u05d5\\u05d3\\u05d4\"],[\"\\u05d0\\u05d1\\u05df \\u05de\\u05e0\\u05d7\\u05dd\"],[\"\\u05d0\\u05d1\\u05df \\u05e1\\u05e4\\u05d9\\u05e8\"],[\"\\u05d0\\u05d1\\u05df \\u05e9\\u05de\\u05d5\\u05d0\\u05dc\"],[\"\\u05d0\\u05d1\\u05e0\\u05d9 \\u05d0\\u05d9\\u05ea\\u05df\"],[\"\\u05d0\\u05d1\\u05e0\\u05d9 \\u05d7\\u05e4\\u05e5\"],[\"\\u05d0\\u05d1\\u05e9\\u05dc\\u05d5\\u05dd\"],[\"\\u05d0\\u05d3\\u05d5\\u05e8\\u05d4\"],[\"\\u05d0\\u05d3\\u05d9\\u05e8\\u05d9\\u05dd\"],[\"\\u05d0\\u05d3\\u05de\\u05d9\\u05ea\"],[\"\\u05d0\\u05d3\\u05e8\\u05ea\"],[\"\\u05d0\\u05d5\\u05d3\\u05d9\\u05dd\"],[\"\\u05d0\\u05d5\\u05d3\\u05dd\"],[\"\\u05d0\\u05d5\\u05d4\\u05d3\"],[\"\\u05d0\\u05d5\\u05dd \\u05d0\\u05dc\\u05e4\\u05d7\\u05dd\"],[\"\\u05d0\\u05d5\\u05dd \\u05d0\\u05dc\\u05e7\\u05d5\\u05d8\\u05d5\\u05e3\"],[\"\\u05d0\\u05d5\\u05dd \\u05d1\\u05d8\\u05d9\\u05df\"],[\"\\u05d0\\u05d5\\u05de\\u05df\"],[\"\\u05d0\\u05d5\\u05de\\u05e5\"],[\"\\u05d0\\u05d5\\u05e4\\u05e7\\u05d9\\u05dd\"],[\"\\u05d0\\u05d5\\u05e8 \\u05d4\\u05d2\\u05e0\\u05d5\\u05d6\"],[\"\\u05d0\\u05d5\\u05e8 \\u05d4\\u05e0\\u05e8\"],[\"\\u05d0\\u05d5\\u05e8 \\u05d9\\u05d4\\u05d5\\u05d3\\u05d4\"],[\"\\u05d0\\u05d5\\u05e8 \\u05e2\\u05e7\\u05d9\\u05d1\\u05d0\"],[\"\\u05d0\\u05d5\\u05e8\\u05d4\"],[\"\\u05d0\\u05d5\\u05e8\\u05d5\\u05ea\"],[\"\\u05d0\\u05d5\\u05e8\\u05d8\\u05dc\"],[\"\\u05d0\\u05d5\\u05e8\\u05d9\\u05dd\"],[\"\\u05d0\\u05d5\\u05e8\\u05e0\\u05d9\\u05ea\"],[\"\\u05d0\\u05d5\\u05e9\\u05d4\"],[\"\\u05d0\\u05d6\\u05d5\\u05e8\"],[\"\\u05d0\\u05d7\\u05d5\\u05d5\\u05d4\"],[\"\\u05d0\\u05d7\\u05d5\\u05d6\\u05dd\"],[\"\\u05d0\\u05d7\\u05d5\\u05d6\\u05ea \\u05d1\\u05e8\\u05e7\"],[\"\\u05d0\\u05d7\\u05d9\\u05d4\\u05d5\\u05d3\"],[\"\\u05d0\\u05d7\\u05d9\\u05d8\\u05d5\\u05d1\"],[\"\\u05d0\\u05d7\\u05d9\\u05e1\\u05de\\u05da\"],[\"\\u05d0\\u05d7\\u05d9\\u05e2\\u05d6\\u05e8\"],[\"\\u05d0\\u05d8\\u05e8\\u05e9 \\u05e9\\u05d1\\u05d8\"],[\"\\u05d0\\u05d9\\u05d1\\u05d9\\u05dd\"],[\"\\u05d0\\u05d9\\u05d9\\u05dc\"],[\"\\u05d0\\u05d9\\u05d9\\u05dc\\u05ea \\u05d4\\u05e9\\u05d7\\u05e8\"],[\"\\u05d0\\u05d9\\u05dc\\u05d5\\u05df\"],[\"\\u05d0\\u05d9\\u05dc\\u05d5\\u05ea\"],[\"\\u05d0\\u05d9\\u05dc\\u05e0\\u05d9\\u05d4\"],[\"\\u05d0\\u05d9\\u05dc\\u05ea\"],[\"\\u05d0\\u05d9\\u05e8\\u05d5\\u05e1\"],[\"\\u05d0\\u05d9\\u05ea\\u05de\\u05e8\"],[\"\\u05d0\\u05d9\\u05ea\\u05df\"],[\"\\u05d0\\u05db\\u05e1\\u05d0\\u05dc\"],[\"\\u05d0\\u05dc \\u05e1\\u05d9\\u05d9\\u05d3\"],[\"\\u05d0\\u05dc\\u05d5\\u05de\\u05d4\"],[\"\\u05d0\\u05dc\\u05d5\\u05de\\u05d5\\u05ea\"],[\"\\u05d0\\u05dc\\u05d5\\u05df \\u05d4\\u05d2\\u05dc\\u05d9\\u05dc\"],[\"\\u05d0\\u05dc\\u05d5\\u05df \\u05de\\u05d5\\u05e8\\u05d4\"],[\"\\u05d0\\u05dc\\u05d5\\u05df \\u05e9\\u05d1\\u05d5\\u05ea\"],[\"\\u05d0\\u05dc\\u05d5\\u05e0\\u05d9 \\u05d0\\u05d1\\u05d0\"],[\"\\u05d0\\u05dc\\u05d5\\u05e0\\u05d9 \\u05d4\\u05d1\\u05e9\\u05df\"],[\"\\u05d0\\u05dc\\u05d5\\u05e0\\u05d9 \\u05d9\\u05e6\\u05d7\\u05e7\"],[\"\\u05d0\\u05dc\\u05d5\\u05e0\\u05d9\\u05dd\"],[\"\\u05d0\\u05dc\\u05d9\\u05d0\\u05d1\"],[\"\\u05d0\\u05dc\\u05d9\\u05db\\u05d9\\u05df\"],[\"\\u05d0\\u05dc\\u05d9\\u05e2\\u05d3\"],[\"\\u05d0\\u05dc\\u05d9\\u05e4\\u05d6\"],[\"\\u05d0\\u05dc\\u05d9\\u05e4\\u05dc\\u05d8\"],[\"\\u05d0\\u05dc\\u05d9\\u05e7\\u05d9\\u05dd\"],[\"\\u05d0\\u05dc\\u05d9\\u05e9\\u05d9\\u05d1\"],[\"\\u05d0\\u05dc\\u05d9\\u05e9\\u05de\\u05e2\"],[\"\\u05d0\\u05dc\\u05de\\u05d2\\u05d5\\u05e8\"],[\"\\u05d0\\u05dc\\u05de\\u05d5\\u05d2\"],[\"\\u05d0\\u05dc\\u05e2\\u05d3\"],[\"\\u05d0\\u05dc\\u05e2\\u05d6\\u05e8\"],[\"\\u05d0\\u05dc\\u05e2\\u05e8\\u05d9\\u05d0\\u05df\"],[\"\\u05d0\\u05dc\\u05e4\\u05d9 \\u05de\\u05e0\\u05e9\\u05d4\"],[\"\\u05d0\\u05dc\\u05e7\\u05d5\\u05e9\"],[\"\\u05d0\\u05dc\\u05e7\\u05e0\\u05d4\"],[\"\\u05d0\\u05dc\\u05e8\\u05d5\\u05dd\"],[\"\\u05d0\\u05de\\u05d5\\u05e0\\u05d9\\u05dd\"],[\"\\u05d0\\u05de\\u05d9\\u05e8\\u05d9\\u05dd\"],[\"\\u05d0\\u05de\\u05e0\\u05d5\\u05df\"],[\"\\u05d0\\u05de\\u05e6\\u05d9\\u05d4\"],[\"\\u05d0\\u05e0\\u05d9\\u05e2\\u05dd\"],[\"\\u05d0\\u05e1\\u05d3 \\u05e9\\u05d1\\u05d8\"],[\"\\u05d0\\u05e1\\u05e4\\u05e8\"],[\"\\u05d0\\u05e2\\u05d1\\u05dc\\u05d9\\u05df\"],[\"\\u05d0\\u05e2\\u05e6\\u05dd \\u05e9\\u05d1\\u05d8\"],[\"\\u05d0\\u05e4\\u05d9\\u05e7\"],[\"\\u05d0\\u05e4\\u05d9\\u05e7\\u05d9\\u05dd\"],[\"\\u05d0\\u05e4\\u05e7\"],[\"\\u05d0\\u05e4\\u05e8\\u05ea\"],[\"\\u05d0\\u05e8\\u05d1\\u05dc\"],[\"\\u05d0\\u05e8\\u05d2\\u05de\\u05df\"],[\"\\u05d0\\u05e8\\u05d6\"],[\"\\u05d0\\u05e8\\u05d9\\u05d0\\u05dc\"],[\"\\u05d0\\u05e8\\u05e1\\u05d5\\u05e3\"],[\"\\u05d0\\u05e9\\u05d1\\u05d5\\u05dc\"],[\"\\u05d0\\u05e9\\u05d3\\u05d5\\u05d3\"],[\"\\u05d0\\u05e9\\u05d3\\u05d5\\u05ea \\u05d9\\u05e2\\u05e7\\u05d1 \\u05d0\\u05d9\\u05d7\\u05d5\\u05d3\"],[\"\\u05d0\\u05e9\\u05d3\\u05d5\\u05ea \\u05d9\\u05e2\\u05e7\\u05d1 \\u05de\\u05d0\\u05d5\\u05d7\\u05d3\"],[\"\\u05d0\\u05e9\\u05d7\\u05e8\"],[\"\\u05d0\\u05e9\\u05db\\u05d5\\u05dc\\u05d5\\u05ea\"],[\"\\u05d0\\u05e9\\u05dc \\u05d4\\u05e0\\u05e9\\u05d9\\u05d0\"],[\"\\u05d0\\u05e9\\u05dc\\u05d9\\u05dd\"],[\"\\u05d0\\u05e9\\u05e7\\u05dc\\u05d5\\u05df\"],[\"\\u05d0\\u05e9\\u05e8\\u05ea\"],[\"\\u05d0\\u05e9\\u05ea\\u05d0\\u05d5\\u05dc\"],[\"\\u05d1\\u05d0\\u05e7\\u05d4 \\u05d0\\u05dc\\u05d2\\u05e8\\u05d1\\u05d9\\u05d4\"],[\"\\u05d1\\u05d0\\u05e8 \\u05d0\\u05d5\\u05e8\\u05d4\"],[\"\\u05d1\\u05d0\\u05e8 \\u05d2\\u05e0\\u05d9\\u05dd\"],[\"\\u05d1\\u05d0\\u05e8 \\u05d8\\u05d5\\u05d1\\u05d9\\u05d4\"],[\"\\u05d1\\u05d0\\u05e8 \\u05d9\\u05e2\\u05e7\\u05d1\"],[\"\\u05d1\\u05d0\\u05e8 \\u05de\\u05d9\\u05dc\\u05db\\u05d4\"],[\"\\u05d1\\u05d0\\u05e8 \\u05e9\\u05d1\\u05e2\"],[\"\\u05d1\\u05d0\\u05e8\\u05d5\\u05ea \\u05d9\\u05e6\\u05d7\\u05e7\"],[\"\\u05d1\\u05d0\\u05e8\\u05d5\\u05ea\\u05d9\\u05d9\\u05dd\"],[\"\\u05d1\\u05d0\\u05e8\\u05d9\"],[\"\\u05d1\\u05d5\\u05e1\\u05ea\\u05df \\u05d4\\u05d2\\u05dc\\u05d9\\u05dc\"],[\"\\u05d1\\u05d5\\u05e2\\u05d9\\u05d9\\u05e0\\u05d4\\u05e0\\u05d5\\u05d2\\u05d9\\u05d3\\u05d0\\u05ea\"],[\"\\u05d1\\u05d5\\u05e7\\u05e2\\u05d0\\u05ea\\u05d0\"],[\"\\u05d1\\u05d5\\u05e8\\u05d2\\u05ea\\u05d4\"],[\"\\u05d1\\u05d7\\u05df\"],[\"\\u05d1\\u05d8\\u05d7\\u05d4\"],[\"\\u05d1\\u05d9\\u05e6\\u05e8\\u05d5\\u05df\"],[\"\\u05d1\\u05d9\\u05e8 \\u05d0\\u05dc\\u05de\\u05db\\u05e1\\u05d5\\u05e8\"],[\"\\u05d1\\u05d9\\u05e8 \\u05d4\\u05d3\\u05d0\\u05d2\"],[\"\\u05d1\\u05d9\\u05e8\\u05d9\\u05d4\"],[\"\\u05d1\\u05d9\\u05ea \\u05d0\\u05d5\\u05e8\\u05df\"],[\"\\u05d1\\u05d9\\u05ea \\u05d0\\u05dc\"],[\"\\u05d1\\u05d9\\u05ea \\u05d0\\u05dc\\u05e2\\u05d6\\u05e8\\u05d9\"],[\"\\u05d1\\u05d9\\u05ea \\u05d0\\u05dc\\u05e4\\u05d0\"],[\"\\u05d1\\u05d9\\u05ea \\u05d0\\u05e8\\u05d9\\u05d4\"],[\"\\u05d1\\u05d9\\u05ea \\u05d2\\u05d5\\u05d1\\u05e8\\u05d9\\u05df\"],[\"\\u05d1\\u05d9\\u05ea \\u05d2\\u05de\\u05dc\\u05d9\\u05d0\\u05dc\"],[\"\\u05d1\\u05d9\\u05ea \\u05d2\\u05df\"],[\"\\u05d1\\u05d9\\u05ea \\u05d3\\u05d2\\u05df\"],[\"\\u05d1\\u05d9\\u05ea \\u05d4\\u05d2\\u05d3\\u05d9\"],[\"\\u05d1\\u05d9\\u05ea \\u05d4\\u05dc\\u05d5\\u05d9\"],[\"\\u05d1\\u05d9\\u05ea \\u05d4\\u05dc\\u05dc\"],[\"\\u05d1\\u05d9\\u05ea \\u05d4\\u05e2\\u05de\\u05e7\"],[\"\\u05d1\\u05d9\\u05ea \\u05d4\\u05e2\\u05e8\\u05d1\\u05d4\"],[\"\\u05d1\\u05d9\\u05ea \\u05d4\\u05e9\\u05d9\\u05d8\\u05d4\"],[\"\\u05d1\\u05d9\\u05ea \\u05d6\\u05d9\\u05d3\"],[\"\\u05d1\\u05d9\\u05ea \\u05d6\\u05d9\\u05ea\"],[\"\\u05d1\\u05d9\\u05ea \\u05d6\\u05e8\\u05e2\"],[\"\\u05d1\\u05d9\\u05ea \\u05d7\\u05d5\\u05e8\\u05d5\\u05df\"],[\"\\u05d1\\u05d9\\u05ea \\u05d7\\u05d9\\u05e8\\u05d5\\u05ea\"],[\"\\u05d1\\u05d9\\u05ea \\u05d7\\u05dc\\u05e7\\u05d9\\u05d4\"],[\"\\u05d1\\u05d9\\u05ea \\u05d7\\u05e0\\u05df\"],[\"\\u05d1\\u05d9\\u05ea \\u05d7\\u05e0\\u05e0\\u05d9\\u05d4\"],[\"\\u05d1\\u05d9\\u05ea \\u05d7\\u05e9\\u05de\\u05d5\\u05e0\\u05d0\\u05d9\"],[\"\\u05d1\\u05d9\\u05ea \\u05d9\\u05d4\\u05d5\\u05e9\\u05e2\"],[\"\\u05d1\\u05d9\\u05ea \\u05d9\\u05d5\\u05e1\\u05e3\"],[\"\\u05d1\\u05d9\\u05ea \\u05d9\\u05e0\\u05d0\\u05d9\"],[\"\\u05d1\\u05d9\\u05ea \\u05d9\\u05e6\\u05d7\\u05e7\\u05e9\\u05e2\\u05e8 \\u05d7\\u05e4\\u05e8\"],[\"\\u05d1\\u05d9\\u05ea \\u05dc\\u05d7\\u05dd \\u05d4\\u05d2\\u05dc\\u05d9\\u05dc\\u05d9\\u05ea\"],[\"\\u05d1\\u05d9\\u05ea \\u05de\\u05d0\\u05d9\\u05e8\"],[\"\\u05d1\\u05d9\\u05ea \\u05e0\\u05d7\\u05de\\u05d9\\u05d4\"],[\"\\u05d1\\u05d9\\u05ea \\u05e0\\u05d9\\u05e8\"],[\"\\u05d1\\u05d9\\u05ea \\u05e0\\u05e7\\u05d5\\u05e4\\u05d4\"],[\"\\u05d1\\u05d9\\u05ea \\u05e2\\u05d5\\u05d1\\u05d3\"],[\"\\u05d1\\u05d9\\u05ea \\u05e2\\u05d5\\u05d6\\u05d9\\u05d0\\u05dc\"],[\"\\u05d1\\u05d9\\u05ea \\u05e2\\u05d6\\u05e8\\u05d0\"],[\"\\u05d1\\u05d9\\u05ea \\u05e2\\u05e8\\u05d9\\u05e3\"],[\"\\u05d1\\u05d9\\u05ea \\u05e6\\u05d1\\u05d9\"],[\"\\u05d1\\u05d9\\u05ea \\u05e7\\u05de\\u05d4\"],[\"\\u05d1\\u05d9\\u05ea \\u05e7\\u05e9\\u05ea\"],[\"\\u05d1\\u05d9\\u05ea \\u05e8\\u05d1\\u05df\"],[\"\\u05d1\\u05d9\\u05ea \\u05e8\\u05d9\\u05de\\u05d5\\u05df\"],[\"\\u05d1\\u05d9\\u05ea \\u05e9\\u05d0\\u05df\"],[\"\\u05d1\\u05d9\\u05ea \\u05e9\\u05de\\u05e9\"],[\"\\u05d1\\u05d9\\u05ea \\u05e9\\u05e2\\u05e8\\u05d9\\u05dd\"],[\"\\u05d1\\u05d9\\u05ea \\u05e9\\u05e7\\u05de\\u05d4\"],[\"\\u05d1\\u05d9\\u05ea\\u05df \\u05d0\\u05d4\\u05e8\\u05df\"],[\"\\u05d1\\u05d9\\u05ea\\u05e8 \\u05e2\\u05d9\\u05dc\\u05d9\\u05ea\"],[\"\\u05d1\\u05dc\\u05e4\\u05d5\\u05e8\\u05d9\\u05d4\"],[\"\\u05d1\\u05df \\u05d6\\u05db\\u05d0\\u05d9\"],[\"\\u05d1\\u05df \\u05e2\\u05de\\u05d9\"],[\"\\u05d1\\u05df \\u05e9\\u05de\\u05df \\u05db\\u05e4\\u05e8 \\u05e0\\u05d5\\u05e2\\u05e8\"],[\"\\u05d1\\u05df \\u05e9\\u05de\\u05df \\u05de\\u05d5\\u05e9\\u05d1\"],[\"\\u05d1\\u05e0\\u05d9 \\u05d1\\u05e8\\u05e7\"],[\"\\u05d1\\u05e0\\u05d9 \\u05d3\\u05e7\\u05dc\\u05d9\\u05dd\"],[\"\\u05d1\\u05e0\\u05d9 \\u05d3\\u05e8\\u05d5\\u05dd\"],[\"\\u05d1\\u05e0\\u05d9 \\u05d3\\u05e8\\u05d5\\u05e8\"],[\"\\u05d1\\u05e0\\u05d9 \\u05d9\\u05d4\\u05d5\\u05d3\\u05d4\"],[\"\\u05d1\\u05e0\\u05d9 \\u05e0\\u05e6\\u05e8\\u05d9\\u05dd\"],[\"\\u05d1\\u05e0\\u05d9 \\u05e2\\u05d8\\u05e8\\u05d5\\u05ea\"],[\"\\u05d1\\u05e0\\u05d9 \\u05e2\\u05d9\\u05e9\"],[\"\\u05d1\\u05e0\\u05d9 \\u05e6\\u05d9\\u05d5\\u05df\"],[\"\\u05d1\\u05e0\\u05d9 \\u05e8\\u05d0\\u05dd\"],[\"\\u05d1\\u05e0\\u05d9\\u05d4\"],[\"\\u05d1\\u05e0\\u05d9\\u05de\\u05d9\\u05e0\\u05d4\\u05d2\\u05d1\\u05e2\\u05ea \\u05e2\\u05d3\\u05d4\"],[\"\\u05d1\\u05e1\\u05de\\u05d4\"],[\"\\u05d1\\u05e1\\u05de\\u05ea \\u05d8\\u05d1\\u05e2\\u05d5\\u05df\"],[\"\\u05d1\\u05e2\\u05e0\\u05d4\"],[\"\\u05d1\\u05e6\\u05e8\\u05d4\"],[\"\\u05d1\\u05e6\\u05ea\"],[\"\\u05d1\\u05e7\\u05d5\\u05e2\"],[\"\\u05d1\\u05e7\\u05e2\\u05d5\\u05ea\"],[\"\\u05d1\\u05e8 \\u05d2\\u05d9\\u05d5\\u05e8\\u05d0\"],[\"\\u05d1\\u05e8 \\u05d9\\u05d5\\u05d7\\u05d0\\u05d9\"],[\"\\u05d1\\u05e8\\u05d5\\u05db\\u05d9\\u05df\"],[\"\\u05d1\\u05e8\\u05d5\\u05e8 \\u05d7\\u05d9\\u05dc\"],[\"\\u05d1\\u05e8\\u05d5\\u05e9\"],[\"\\u05d1\\u05e8\\u05db\\u05d4\"],[\"\\u05d1\\u05e8\\u05db\\u05d9\\u05d4\"],[\"\\u05d1\\u05e8\\u05e2\\u05dd\"],[\"\\u05d1\\u05e8\\u05e7\"],[\"\\u05d1\\u05e8\\u05e7\\u05d0\\u05d9\"],[\"\\u05d1\\u05e8\\u05e7\\u05df\"],[\"\\u05d1\\u05e8\\u05e7\\u05ea\"],[\"\\u05d1\\u05ea \\u05d4\\u05d3\\u05e8\"],[\"\\u05d1\\u05ea \\u05d7\\u05df\"],[\"\\u05d1\\u05ea \\u05d7\\u05e4\\u05e8\"],[\"\\u05d1\\u05ea \\u05d9\\u05dd\"],[\"\\u05d1\\u05ea \\u05e2\\u05d9\\u05df\"],[\"\\u05d1\\u05ea \\u05e9\\u05dc\\u05de\\u05d4\"],[\"\\u05d2\\u05d0\\u05d5\\u05dc\\u05d9 \\u05ea\\u05d9\\u05de\\u05df\"],[\"\\u05d2\\u05d0\\u05d5\\u05dc\\u05d9\\u05dd\"],[\"\\u05d2\\u05d0\\u05dc\\u05d9\\u05d4\"],[\"\\u05d2\\u05d1\\u05d5\\u05dc\\u05d5\\u05ea\"],[\"\\u05d2\\u05d1\\u05d9\\u05dd\"],[\"\\u05d2\\u05d1\\u05e2\"],[\"\\u05d2\\u05d1\\u05e2 \\u05d1\\u05e0\\u05d9\\u05de\\u05d9\\u05df\"],[\"\\u05d2\\u05d1\\u05e2 \\u05db\\u05e8\\u05de\\u05dc\"],[\"\\u05d2\\u05d1\\u05e2\\u05d5\\u05dc\\u05d9\\u05dd\"],[\"\\u05d2\\u05d1\\u05e2\\u05d5\\u05df \\u05d4\\u05d7\\u05d3\\u05e9\\u05d4\"],[\"\\u05d2\\u05d1\\u05e2\\u05d5\\u05ea \\u05d1\\u05e8\"],[\"\\u05d2\\u05d1\\u05e2\\u05ea \\u05d0\\u05d1\\u05e0\\u05d9\"],[\"\\u05d2\\u05d1\\u05e2\\u05ea \\u05d0\\u05dc\\u05d4\"],[\"\\u05d2\\u05d1\\u05e2\\u05ea \\u05d1\\u05e8\\u05e0\\u05e8\"],[\"\\u05d2\\u05d1\\u05e2\\u05ea \\u05d4\\u05e9\\u05dc\\u05d5\\u05e9\\u05d4\"],[\"\\u05d2\\u05d1\\u05e2\\u05ea \\u05d6\\u05d0\\u05d1\"],[\"\\u05d2\\u05d1\\u05e2\\u05ea \\u05d7\\u05d9\\u05d9\\u05dd \\u05d0\\u05d9\\u05d7\\u05d5\\u05d3\"],[\"\\u05d2\\u05d1\\u05e2\\u05ea \\u05d7\\u05d9\\u05d9\\u05dd \\u05de\\u05d0\\u05d5\\u05d7\\u05d3\"],[\"\\u05d2\\u05d1\\u05e2\\u05ea \\u05d7\\u05df\"],[\"\\u05d2\\u05d1\\u05e2\\u05ea \\u05d9\\u05d5\\u05d0\\u05d1\"],[\"\\u05d2\\u05d1\\u05e2\\u05ea \\u05d9\\u05e2\\u05e8\\u05d9\\u05dd\"],[\"\\u05d2\\u05d1\\u05e2\\u05ea \\u05d9\\u05e9\\u05e2\\u05d9\\u05d4\\u05d5\"],[\"\\u05d2\\u05d1\\u05e2\\u05ea \\u05db\\u05d7\"],[\"\\u05d2\\u05d1\\u05e2\\u05ea \\u05e0\\u05d9\\u05dc\\u05d9\"],[\"\\u05d2\\u05d1\\u05e2\\u05ea \\u05e2\\u05d5\\u05d6\"],[\"\\u05d2\\u05d1\\u05e2\\u05ea \\u05e9\\u05de\\u05d5\\u05d0\\u05dc\"],[\"\\u05d2\\u05d1\\u05e2\\u05ea \\u05e9\\u05e4\\u05d9\\u05e8\\u05d0\"],[\"\\u05d2\\u05d1\\u05e2\\u05ea\\u05d9\"],[\"\\u05d2\\u05d1\\u05e2\\u05ea\\u05d9\\u05d9\\u05dd\"],[\"\\u05d2\\u05d1\\u05e8\\u05e2\\u05dd\"],[\"\\u05d2\\u05d1\\u05ea\"],[\"\\u05d2\\u05d3\\u05d5\\u05ea\"],[\"\\u05d2\\u05d3\\u05d9\\u05d9\\u05d3\\u05d4\\u05de\\u05db\\u05e8\"],[\"\\u05d2\\u05d3\\u05d9\\u05e9\"],[\"\\u05d2\\u05d3\\u05e2\\u05d5\\u05e0\\u05d4\"],[\"\\u05d2\\u05d3\\u05e8\\u05d4\"],[\"\\u05d2\\u05d5\\u05dc\\u05e1\"],[\"\\u05d2\\u05d5\\u05e0\\u05df\"],[\"\\u05d2\\u05d5\\u05e8\\u05df\"],[\"\\u05d2\\u05d5\\u05e8\\u05e0\\u05d5\\u05ea \\u05d4\\u05d2\\u05dc\\u05d9\\u05dc\"],[\"\\u05d2\\u05d6\\u05d9\\u05ea\"],[\"\\u05d2\\u05d6\\u05e8\"],[\"\\u05d2\\u05d9\\u05d0\\u05d4\"],[\"\\u05d2\\u05d9\\u05d1\\u05ea\\u05d5\\u05df\"],[\"\\u05d2\\u05d9\\u05d6\\u05d5\"],[\"\\u05d2\\u05d9\\u05dc\\u05d5\\u05df\"],[\"\\u05d2\\u05d9\\u05dc\\u05ea\"],[\"\\u05d2\\u05d9\\u05e0\\u05d5\\u05e1\\u05e8\"],[\"\\u05d2\\u05d9\\u05e0\\u05d9\\u05d2\\u05e8\"],[\"\\u05d2\\u05d9\\u05e0\\u05ea\\u05d5\\u05df\"],[\"\\u05d2\\u05d9\\u05ea\\u05d4\"],[\"\\u05d2\\u05d9\\u05ea\\u05d9\\u05ea\"],[\"\\u05d2\\u05dc\\u05d0\\u05d5\\u05df\"],[\"\\u05d2\\u05dc\\u05d2\\u05d5\\u05dc\\u05d9\\u05d4\"],[\"\\u05d2\\u05dc\\u05d2\\u05dc\"],[\"\\u05d2\\u05dc\\u05d9\\u05dc \\u05d9\\u05dd\"],[\"\\u05d2\\u05dc\\u05e2\\u05d3 \\u05d0\\u05d1\\u05df \\u05d9\\u05e6\\u05d7\\u05e7\"],[\"\\u05d2\\u05de\\u05d6\\u05d5\"],[\"\\u05d2\\u05df \\u05d4\\u05d3\\u05e8\\u05d5\\u05dd\"],[\"\\u05d2\\u05df \\u05d4\\u05e9\\u05d5\\u05de\\u05e8\\u05d5\\u05df\"],[\"\\u05d2\\u05df \\u05d7\\u05d9\\u05d9\\u05dd\"],[\"\\u05d2\\u05df \\u05d9\\u05d0\\u05e9\\u05d9\\u05d4\"],[\"\\u05d2\\u05df \\u05d9\\u05d1\\u05e0\\u05d4\"],[\"\\u05d2\\u05df \\u05e0\\u05e8\"],[\"\\u05d2\\u05df \\u05e9\\u05d5\\u05e8\\u05e7\"],[\"\\u05d2\\u05df \\u05e9\\u05dc\\u05de\\u05d4\"],[\"\\u05d2\\u05df \\u05e9\\u05de\\u05d5\\u05d0\\u05dc\"],[\"\\u05d2\\u05e0\\u05d0\\u05d1\\u05d9\\u05d1 \\u05e9\\u05d1\\u05d8\"],[\"\\u05d2\\u05e0\\u05d5\\u05ea\"],[\"\\u05d2\\u05e0\\u05d5\\u05ea \\u05d4\\u05d3\\u05e8\"],[\"\\u05d2\\u05e0\\u05d9 \\u05d4\\u05d3\\u05e8\"],[\"\\u05d2\\u05e0\\u05d9 \\u05d8\\u05dc\"],[\"\\u05d2\\u05e0\\u05d9 \\u05d9\\u05d5\\u05d7\\u05e0\\u05df\"],[\"\\u05d2\\u05e0\\u05d9 \\u05de\\u05d5\\u05d3\\u05d9\\u05e2\\u05d9\\u05df\"],[\"\\u05d2\\u05e0\\u05d9 \\u05e2\\u05dd\"],[\"\\u05d2\\u05e0\\u05d9 \\u05ea\\u05e7\\u05d5\\u05d5\\u05d4\"],[\"\\u05d2\\u05e1\\u05e8 \\u05d0\\u05d6\\u05e8\\u05e7\\u05d0\"],[\"\\u05d2\\u05e2\\u05e9\"],[\"\\u05d2\\u05e2\\u05ea\\u05d5\\u05df\"],[\"\\u05d2\\u05e4\\u05df\"],[\"\\u05d2\\u05e8\\u05d5\\u05e4\\u05d9\\u05ea\"],[\"\\u05d2\\u05e9 \\u05d2\\u05d5\\u05e9 \\u05d7\\u05dc\\u05d1\"],[\"\\u05d2\\u05e9\\u05d5\\u05e8\"],[\"\\u05d2\\u05e9\\u05e8\"],[\"\\u05d2\\u05e9\\u05e8 \\u05d4\\u05d6\\u05d9\\u05d5\"],[\"\\u05d2\\u05ea\"],[\"\\u05d2\\u05ea \\u05e7\\u05d9\\u05d1\\u05d5\\u05e5\"],[\"\\u05d2\\u05ea \\u05e8\\u05d9\\u05de\\u05d5\\u05df\"],[\"\\u05d3\\u05d0\\u05dc\\u05d9\\u05ea \\u05d0\\u05dc\\u05db\\u05e8\\u05de\\u05dc\"],[\"\\u05d3\\u05d1\\u05d5\\u05e8\\u05d4\"],[\"\\u05d3\\u05d1\\u05d5\\u05e8\\u05d9\\u05d4\"],[\"\\u05d3\\u05d1\\u05d9\\u05e8\\u05d4\"],[\"\\u05d3\\u05d1\\u05e8\\u05ea\"],[\"\\u05d3\\u05d2\\u05e0\\u05d9\\u05d4 \\u05d0\"],[\"\\u05d3\\u05d2\\u05e0\\u05d9\\u05d4 \\u05d1\"],[\"\\u05d3\\u05d5\\u05d1\\u05d1\"],[\"\\u05d3\\u05d5\\u05dc\\u05d1\"],[\"\\u05d3\\u05d5\\u05e8\"],[\"\\u05d3\\u05d5\\u05e8\\u05d5\\u05ea\"],[\"\\u05d3\\u05d7\\u05d9\"],[\"\\u05d3\\u05d9\\u05d9\\u05e8 \\u05d0\\u05dc\\u05d0\\u05e1\\u05d3\"],[\"\\u05d3\\u05d9\\u05d9\\u05e8 \\u05d7\\u05e0\\u05d0\"],[\"\\u05d3\\u05d9\\u05de\\u05d5\\u05e0\\u05d4\"],[\"\\u05d3\\u05d9\\u05e9\\u05d5\\u05df\"],[\"\\u05d3\\u05dc\\u05d9\\u05d4\"],[\"\\u05d3\\u05dc\\u05ea\\u05d5\\u05df\"],[\"\\u05d3\\u05de\\u05d9\\u05d9\\u05d3\\u05d4\"],[\"\\u05d3\\u05df\"],[\"\\u05d3\\u05e4\\u05e0\\u05d4\"],[\"\\u05d3\\u05e7\\u05dc\"],[\"\\u05d3\\u05e8\\u05d9\\u05d2\\u05d0\\u05ea\"],[\"\\u05d4\\u05d0\\u05d5\\u05df\"],[\"\\u05d4\\u05d1\\u05d5\\u05e0\\u05d9\\u05dd\"],[\"\\u05d4\\u05d2\\u05d5\\u05e9\\u05e8\\u05d9\\u05dd\"],[\"\\u05d4\\u05d3\\u05e8 \\u05e2\\u05dd\"],[\"\\u05d4\\u05d5\\u05d3 \\u05d4\\u05e9\\u05e8\\u05d5\\u05df\"],[\"\\u05d4\\u05d5\\u05d3\\u05d9\\u05d4\"],[\"\\u05d4\\u05d5\\u05d5\\u05d0\\u05e9\\u05dc\\u05d4 \\u05e9\\u05d1\\u05d8\"],[\"\\u05d4\\u05d5\\u05d6\\u05d9\\u05d9\\u05dc \\u05e9\\u05d1\\u05d8\"],[\"\\u05d4\\u05d5\\u05e9\\u05e2\\u05d9\\u05d4\"],[\"\\u05d4\\u05d6\\u05d5\\u05e8\\u05e2\"],[\"\\u05d4\\u05d6\\u05d5\\u05e8\\u05e2\\u05d9\\u05dd\"],[\"\\u05d4\\u05d7\\u05d5\\u05ea\\u05e8\\u05d9\\u05dd\"],[\"\\u05d4\\u05d9\\u05d5\\u05d2\\u05d1\"],[\"\\u05d4\\u05d9\\u05dc\\u05d4\"],[\"\\u05d4\\u05de\\u05e2\\u05e4\\u05d9\\u05dc\"],[\"\\u05d4\\u05e1\\u05d5\\u05dc\\u05dc\\u05d9\\u05dd\"],[\"\\u05d4\\u05e2\\u05d5\\u05d2\\u05df\"],[\"\\u05d4\\u05e8 \\u05d0\\u05d3\\u05e8\"],[\"\\u05d4\\u05e8 \\u05d2\\u05d9\\u05dc\\u05d4\"],[\"\\u05d4\\u05e8 \\u05e2\\u05de\\u05e9\\u05d0\"],[\"\\u05d4\\u05e8\\u05d0\\u05dc\"],[\"\\u05d4\\u05e8\\u05d3\\u05d5\\u05e3\"],[\"\\u05d4\\u05e8\\u05e6\\u05dc\\u05d9\\u05d4\"],[\"\\u05d4\\u05e8\\u05e8\\u05d9\\u05ea\"],[\"\\u05d5\\u05e8\\u05d3 \\u05d9\\u05e8\\u05d9\\u05d7\\u05d5\"],[\"\\u05d5\\u05e8\\u05d3\\u05d5\\u05df\"],[\"\\u05d6\\u05d1\\u05d3\\u05d9\\u05d0\\u05dc\"],[\"\\u05d6\\u05d5\\u05d4\\u05e8\"],[\"\\u05d6\\u05d9\\u05e7\\u05d9\\u05dd\"],[\"\\u05d6\\u05d9\\u05ea\\u05df\"],[\"\\u05d6\\u05db\\u05e8\\u05d5\\u05df \\u05d9\\u05e2\\u05e7\\u05d1\"],[\"\\u05d6\\u05db\\u05e8\\u05d9\\u05d4\"],[\"\\u05d6\\u05de\\u05e8\"],[\"\\u05d6\\u05de\\u05e8\\u05ea\"],[\"\\u05d6\\u05e0\\u05d5\\u05d7\"],[\"\\u05d6\\u05e8\\u05d5\\u05e2\\u05d4\"],[\"\\u05d6\\u05e8\\u05d6\\u05d9\\u05e8\"],[\"\\u05d6\\u05e8\\u05d7\\u05d9\\u05d4\"],[\"\\u05d7\\u05d1\\u05e6\\u05dc\\u05ea \\u05d4\\u05e9\\u05e8\\u05d5\\u05df\"],[\"\\u05d7\\u05d1\\u05e8\"],[\"\\u05d7\\u05d1\\u05e8\\u05d5\\u05df\"],[\"\\u05d7\\u05d2\\u05d5\\u05e8\"],[\"\\u05d7\\u05d2\\u05d9\"],[\"\\u05d7\\u05d2\\u05dc\\u05d4\"],[\"\\u05d7\\u05d3\\u05d9\\u05d3\"],[\"\\u05d7\\u05d3\\u05e0\\u05e1\"],[\"\\u05d7\\u05d3\\u05e8\\u05d4\"],[\"\\u05d7\\u05d5\\u05d0\\u05dc\\u05d3\"],[\"\\u05d7\\u05d5\\u05dc\\u05d3\\u05d4\"],[\"\\u05d7\\u05d5\\u05dc\\u05d5\\u05df\"],[\"\\u05d7\\u05d5\\u05dc\\u05d9\\u05ea\"],[\"\\u05d7\\u05d5\\u05dc\\u05ea\\u05d4\"],[\"\\u05d7\\u05d5\\u05e1\\u05df\"],[\"\\u05d7\\u05d5\\u05e1\\u05e0\\u05d9\\u05d9\\u05d4\"],[\"\\u05d7\\u05d5\\u05e4\\u05d9\\u05ea\"],[\"\\u05d7\\u05d5\\u05e7\\u05d5\\u05e7\"],[\"\\u05d7\\u05d5\\u05e8\\u05d4\"],[\"\\u05d7\\u05d5\\u05e8\\u05e4\\u05d9\\u05e9\"],[\"\\u05d7\\u05d5\\u05e8\\u05e9\\u05d9\\u05dd\"],[\"\\u05d7\\u05d6\\u05d5\\u05df\"],[\"\\u05d7\\u05d9\\u05d1\\u05ea \\u05e6\\u05d9\\u05d5\\u05df\"],[\"\\u05d7\\u05d9\\u05e0\\u05e0\\u05d9\\u05ea\"],[\"\\u05d7\\u05d9\\u05e4\\u05d4\"],[\"\\u05d7\\u05d9\\u05e8\\u05d5\\u05ea\"],[\"\\u05d7\\u05dc\\u05d5\\u05e5\"],[\"\\u05d7\\u05dc\\u05e5\"],[\"\\u05d7\\u05de\\u05d0\\u05dd\"],[\"\\u05d7\\u05de\\u05d3\"],[\"\\u05d7\\u05de\\u05d3\\u05d9\\u05d4\"],[\"\\u05d7\\u05de\\u05d3\\u05ea\"],[\"\\u05d7\\u05de\\u05e8\\u05d4\"],[\"\\u05d7\\u05e0\\u05d9\\u05d0\\u05dc\"],[\"\\u05d7\\u05e0\\u05d9\\u05ea\\u05d4\"],[\"\\u05d7\\u05e0\\u05ea\\u05d5\\u05df\"],[\"\\u05d7\\u05e1\\u05e4\\u05d9\\u05df\"],[\"\\u05d7\\u05e4\\u05e5 \\u05d7\\u05d9\\u05d9\\u05dd\"],[\"\\u05d7\\u05e4\\u05e6\\u05d9\\u05d1\\u05d4\"],[\"\\u05d7\\u05e6\\u05d1\"],[\"\\u05d7\\u05e6\\u05d1\\u05d4\"],[\"\\u05d7\\u05e6\\u05d5\\u05e8 \\u05d4\\u05d2\\u05dc\\u05d9\\u05dc\\u05d9\\u05ea\"],[\"\\u05d7\\u05e6\\u05d5\\u05e8\\u05d0\\u05e9\\u05d3\\u05d5\\u05d3\"],[\"\\u05d7\\u05e6\\u05e8\\u05d9\\u05dd\"],[\"\\u05d7\\u05e8\\u05d1 \\u05dc\\u05d0\\u05ea\"],[\"\\u05d7\\u05e8\\u05d5\\u05e6\\u05d9\\u05dd\"],[\"\\u05d7\\u05e8\\u05d9\\u05e9\"],[\"\\u05d7\\u05e8\\u05de\\u05e9\"],[\"\\u05d7\\u05e8\\u05e9\\u05d9\\u05dd\"],[\"\\u05d7\\u05e9\\u05de\\u05d5\\u05e0\\u05d0\\u05d9\\u05dd\"],[\"\\u05d8\\u05d1\\u05e8\\u05d9\\u05d4\"],[\"\\u05d8\\u05d5\\u05d1\\u05d0\\u05d6\\u05e0\\u05d2\\u05e8\\u05d9\\u05d4\"],[\"\\u05d8\\u05d5\\u05e8\\u05e2\\u05d0\\u05df\"],[\"\\u05d8\\u05d9\\u05d9\\u05d1\\u05d4\"],[\"\\u05d8\\u05d9\\u05d9\\u05d1\\u05d4 \\u05d1\\u05e2\\u05de\\u05e7\"],[\"\\u05d8\\u05d9\\u05e8\\u05d4\"],[\"\\u05d8\\u05d9\\u05e8\\u05ea \\u05d9\\u05d4\\u05d5\\u05d3\\u05d4\"],[\"\\u05d8\\u05d9\\u05e8\\u05ea \\u05db\\u05e8\\u05de\\u05dc\"],[\"\\u05d8\\u05d9\\u05e8\\u05ea \\u05e6\\u05d1\\u05d9\"],[\"\\u05d8\\u05dc \\u05e9\\u05d7\\u05e8\"],[\"\\u05d8\\u05dc\\u05d0\\u05dc\"],[\"\\u05d8\\u05dc\\u05dc\\u05d9\\u05dd\"],[\"\\u05d8\\u05dc\\u05de\\u05d5\\u05df\"],[\"\\u05d8\\u05de\\u05e8\\u05d4\"],[\"\\u05d8\\u05de\\u05e8\\u05d4 \\u05d9\\u05d6\\u05e8\\u05e2\\u05d0\\u05dc\"],[\"\\u05d8\\u05e0\\u05d0\"],[\"\\u05d8\\u05e4\\u05d7\\u05d5\\u05ea\"],[\"\\u05d9\\u05d0\\u05e0\\u05d5\\u05d7\\u05d2\\u05ea\"],[\"\\u05d9\\u05d1\\u05d5\\u05dc\"],[\"\\u05d9\\u05d1\\u05e0\\u05d0\\u05dc\"],[\"\\u05d9\\u05d1\\u05e0\\u05d4\"],[\"\\u05d9\\u05d2\\u05d5\\u05e8\"],[\"\\u05d9\\u05d2\\u05dc\"],[\"\\u05d9\\u05d3 \\u05d1\\u05e0\\u05d9\\u05de\\u05d9\\u05df\"],[\"\\u05d9\\u05d3 \\u05d4\\u05e9\\u05de\\u05d5\\u05e0\\u05d4\"],[\"\\u05d9\\u05d3 \\u05d7\\u05e0\\u05d4\"],[\"\\u05d9\\u05d3 \\u05de\\u05e8\\u05d3\\u05db\\u05d9\"],[\"\\u05d9\\u05d3 \\u05e0\\u05ea\\u05df\"],[\"\\u05d9\\u05d3 \\u05e8\\u05de\\u05d1\\u05dd\"],[\"\\u05d9\\u05d4\\u05d5\\u05d3\\u05de\\u05d5\\u05e0\\u05d5\\u05e1\\u05d5\\u05df\"],[\"\\u05d9\\u05d4\\u05dc\"],[\"\\u05d9\\u05d5\\u05d1\\u05dc\"],[\"\\u05d9\\u05d5\\u05d1\\u05dc\\u05d9\\u05dd\"],[\"\\u05d9\\u05d5\\u05d3\\u05e4\\u05ea\"],[\"\\u05d9\\u05d5\\u05e0\\u05ea\\u05df\"],[\"\\u05d9\\u05d5\\u05e9\\u05d9\\u05d1\\u05d9\\u05d4\"],[\"\\u05d9\\u05d6\\u05e8\\u05e2\\u05d0\\u05dc\"],[\"\\u05d9\\u05d7\\u05d9\\u05e2\\u05dd\"],[\"\\u05d9\\u05d8\\u05d1\\u05ea\\u05d4\"],[\"\\u05d9\\u05d9\\u05d8\\u05d1\"],[\"\\u05d9\\u05db\\u05d9\\u05e0\\u05d9\"],[\"\\u05d9\\u05e0\\u05d5\\u05d1\"],[\"\\u05d9\\u05e0\\u05d5\\u05df\"],[\"\\u05d9\\u05e1\\u05d5\\u05d3 \\u05d4\\u05de\\u05e2\\u05dc\\u05d4\"],[\"\\u05d9\\u05e1\\u05d5\\u05d3\\u05d5\\u05ea\"],[\"\\u05d9\\u05e1\\u05e2\\u05d5\\u05e8\"],[\"\\u05d9\\u05e2\\u05d3\"],[\"\\u05d9\\u05e2\\u05e3\"],[\"\\u05d9\\u05e2\\u05e8\\u05d4\"],[\"\\u05d9\\u05e4\\u05d9\\u05e2\"],[\"\\u05d9\\u05e4\\u05d9\\u05ea\"],[\"\\u05d9\\u05e4\\u05e2\\u05ea\"],[\"\\u05d9\\u05e4\\u05ea\\u05d7\"],[\"\\u05d9\\u05e6\\u05d4\\u05e8\"],[\"\\u05d9\\u05e6\\u05d9\\u05e5\"],[\"\\u05d9\\u05e7\\u05d5\\u05dd\"],[\"\\u05d9\\u05e7\\u05d9\\u05e8\"],[\"\\u05d9\\u05e7\\u05e0\\u05e2\\u05dd \\u05de\\u05d5\\u05e9\\u05d1\\u05d4\"],[\"\\u05d9\\u05e7\\u05e0\\u05e2\\u05dd \\u05e2\\u05d9\\u05dc\\u05d9\\u05ea\"],[\"\\u05d9\\u05e8\\u05d0\\u05d5\\u05df\"],[\"\\u05d9\\u05e8\\u05d3\\u05e0\\u05d4\"],[\"\\u05d9\\u05e8\\u05d5\\u05d7\\u05dd\"],[\"\\u05d9\\u05e8\\u05d5\\u05e9\\u05dc\\u05d9\\u05dd\"],[\"\\u05d9\\u05e8\\u05d7\\u05d9\\u05d1\"],[\"\\u05d9\\u05e8\\u05db\\u05d0\"],[\"\\u05d9\\u05e8\\u05e7\\u05d5\\u05e0\\u05d4\"],[\"\\u05d9\\u05e9\\u05e2\"],[\"\\u05d9\\u05e9\\u05e2\\u05d9\"],[\"\\u05d9\\u05e9\\u05e8\\u05e9\"],[\"\\u05d9\\u05ea\\u05d3\"],[\"\\u05db\\u05d0\\u05d1\\u05d5\\u05dc\"],[\"\\u05db\\u05d0\\u05d5\\u05db\\u05d1 \\u05d0\\u05d1\\u05d5 \\u05d0\\u05dc\\u05d4\\u05d9\\u05d2\\u05d0\"],[\"\\u05db\\u05d1\\u05e8\\u05d9\"],[\"\\u05db\\u05d3\\u05d9\\u05ea\\u05d4\"],[\"\\u05db\\u05d5\\u05db\\u05d1 \\u05d4\\u05e9\\u05d7\\u05e8\"],[\"\\u05db\\u05d5\\u05db\\u05d1 \\u05d9\\u05d0\\u05d9\\u05e8\"],[\"\\u05db\\u05d5\\u05db\\u05d1 \\u05d9\\u05e2\\u05e7\\u05d1\"],[\"\\u05db\\u05d5\\u05db\\u05d1 \\u05de\\u05d9\\u05db\\u05d0\\u05dc\"],[\"\\u05db\\u05d5\\u05e8\\u05d6\\u05d9\\u05dd\"],[\"\\u05db\\u05d7\\u05dc\"],[\"\\u05db\\u05d7\\u05dc\\u05d4\"],[\"\\u05db\\u05d9\\u05e1\\u05d5\\u05e4\\u05d9\\u05dd\"],[\"\\u05db\\u05d9\\u05e9\\u05d5\\u05e8\"],[\"\\u05db\\u05dc\\u05d9\\u05dc\"],[\"\\u05db\\u05dc\\u05e0\\u05d9\\u05ea\"],[\"\\u05db\\u05de\\u05d0\\u05e0\\u05d4\"],[\"\\u05db\\u05de\\u05d4\\u05d9\\u05df\"],[\"\\u05db\\u05de\\u05d5\\u05df\"],[\"\\u05db\\u05e0\\u05e3\"],[\"\\u05db\\u05e0\\u05e8\\u05ea \\u05de\\u05d5\\u05e9\\u05d1\\u05d4\"],[\"\\u05db\\u05e0\\u05e8\\u05ea \\u05e7\\u05d1\\u05d5\\u05e6\\u05d4\"],[\"\\u05db\\u05e1\\u05d9\\u05e4\\u05d4\"],[\"\\u05db\\u05e1\\u05dc\\u05d5\\u05df\"],[\"\\u05db\\u05e1\\u05e8\\u05d0\\u05e1\\u05de\\u05d9\\u05e2\"],[\"\\u05db\\u05e2\\u05d1\\u05d9\\u05d4\\u05d8\\u05d1\\u05d0\\u05e9\\u05d7\\u05d2\\u05d0\\u05d2\\u05e8\\u05d4\"],[\"\\u05db\\u05e4\\u05e8 \\u05d0\\u05d1\\u05d9\\u05d1\"],[\"\\u05db\\u05e4\\u05e8 \\u05d0\\u05d3\\u05d5\\u05de\\u05d9\\u05dd\"],[\"\\u05db\\u05e4\\u05e8 \\u05d0\\u05d5\\u05e8\\u05d9\\u05d4\"],[\"\\u05db\\u05e4\\u05e8 \\u05d0\\u05d7\\u05d9\\u05dd\"],[\"\\u05db\\u05e4\\u05e8 \\u05d1\\u05d9\\u05d0\\u05dc\\u05d9\\u05e7\"],[\"\\u05db\\u05e4\\u05e8 \\u05d1\\u05d9\\u05dc\\u05d5\"],[\"\\u05db\\u05e4\\u05e8 \\u05d1\\u05dc\\u05d5\\u05dd\"],[\"\\u05db\\u05e4\\u05e8 \\u05d1\\u05df \\u05e0\\u05d5\\u05df\"],[\"\\u05db\\u05e4\\u05e8 \\u05d1\\u05e8\\u05d0\"],[\"\\u05db\\u05e4\\u05e8 \\u05d1\\u05e8\\u05d5\\u05da\"],[\"\\u05db\\u05e4\\u05e8 \\u05d2\\u05d3\\u05e2\\u05d5\\u05df\"],[\"\\u05db\\u05e4\\u05e8 \\u05d2\\u05dc\\u05d9\\u05dd\"],[\"\\u05db\\u05e4\\u05e8 \\u05d2\\u05dc\\u05d9\\u05e7\\u05e1\\u05d5\\u05df\"],[\"\\u05db\\u05e4\\u05e8 \\u05d2\\u05dc\\u05e2\\u05d3\\u05d9\"],[\"\\u05db\\u05e4\\u05e8 \\u05d3\\u05e0\\u05d9\\u05d0\\u05dc\"],[\"\\u05db\\u05e4\\u05e8 \\u05d4\\u05d0\\u05d5\\u05e8\\u05e0\\u05d9\\u05dd\"],[\"\\u05db\\u05e4\\u05e8 \\u05d4\\u05d7\\u05d5\\u05e8\\u05e9\"],[\"\\u05db\\u05e4\\u05e8 \\u05d4\\u05de\\u05db\\u05d1\\u05d9\"],[\"\\u05db\\u05e4\\u05e8 \\u05d4\\u05e0\\u05d2\\u05d9\\u05d3\"],[\"\\u05db\\u05e4\\u05e8 \\u05d4\\u05e0\\u05e9\\u05d9\\u05d0\"],[\"\\u05db\\u05e4\\u05e8 \\u05d4\\u05e1\"],[\"\\u05db\\u05e4\\u05e8 \\u05d4\\u05e8\\u05d0\\u05d4\"],[\"\\u05db\\u05e4\\u05e8 \\u05d4\\u05e8\\u05d9\\u05e3\"],[\"\\u05db\\u05e4\\u05e8 \\u05d5\\u05d9\\u05ea\\u05e7\\u05d9\\u05df\"],[\"\\u05db\\u05e4\\u05e8 \\u05d5\\u05e8\\u05d1\\u05d5\\u05e8\\u05d2\"],[\"\\u05db\\u05e4\\u05e8 \\u05d5\\u05e8\\u05d3\\u05d9\\u05dd\"],[\"\\u05db\\u05e4\\u05e8 \\u05d6\\u05d9\\u05ea\\u05d9\\u05dd\"],[\"\\u05db\\u05e4\\u05e8 \\u05d7\\u05d1\\u05d3\"],[\"\\u05db\\u05e4\\u05e8 \\u05d7\\u05d5\\u05e9\\u05df\"],[\"\\u05db\\u05e4\\u05e8 \\u05d7\\u05d9\\u05d8\\u05d9\\u05dd\"],[\"\\u05db\\u05e4\\u05e8 \\u05d7\\u05d9\\u05d9\\u05dd\"],[\"\\u05db\\u05e4\\u05e8 \\u05d7\\u05e0\\u05e0\\u05d9\\u05d4\"],[\"\\u05db\\u05e4\\u05e8 \\u05d7\\u05e1\\u05d9\\u05d3\\u05d9\\u05dd \\u05d0\"],[\"\\u05db\\u05e4\\u05e8 \\u05d7\\u05e1\\u05d9\\u05d3\\u05d9\\u05dd \\u05d1\"],[\"\\u05db\\u05e4\\u05e8 \\u05d7\\u05e8\\u05d5\\u05d1\"],[\"\\u05db\\u05e4\\u05e8 \\u05d8\\u05e8\\u05d5\\u05de\\u05df\"],[\"\\u05db\\u05e4\\u05e8 \\u05d9\\u05d0\\u05e1\\u05d9\\u05e3\"],[\"\\u05db\\u05e4\\u05e8 \\u05d9\\u05d3\\u05d9\\u05d3\\u05d9\\u05d4\"],[\"\\u05db\\u05e4\\u05e8 \\u05d9\\u05d4\\u05d5\\u05e9\\u05e2\"],[\"\\u05db\\u05e4\\u05e8 \\u05d9\\u05d5\\u05e0\\u05d4\"],[\"\\u05db\\u05e4\\u05e8 \\u05d9\\u05d7\\u05d6\\u05e7\\u05d0\\u05dc\"],[\"\\u05db\\u05e4\\u05e8 \\u05d9\\u05e2\\u05d1\\u05e5\"],[\"\\u05db\\u05e4\\u05e8 \\u05db\\u05de\\u05d0\"],[\"\\u05db\\u05e4\\u05e8 \\u05db\\u05e0\\u05d0\"],[\"\\u05db\\u05e4\\u05e8 \\u05de\\u05d5\\u05e0\\u05e9\"],[\"\\u05db\\u05e4\\u05e8 \\u05de\\u05d9\\u05de\\u05d5\\u05df\"],[\"\\u05db\\u05e4\\u05e8 \\u05de\\u05dc\\u05dc\"],[\"\\u05db\\u05e4\\u05e8 \\u05de\\u05e0\\u05d3\\u05d0\"],[\"\\u05db\\u05e4\\u05e8 \\u05de\\u05e0\\u05d7\\u05dd\"],[\"\\u05db\\u05e4\\u05e8 \\u05de\\u05e1\\u05e8\\u05d9\\u05e7\"],[\"\\u05db\\u05e4\\u05e8 \\u05de\\u05e6\\u05e8\"],[\"\\u05db\\u05e4\\u05e8 \\u05de\\u05e8\\u05d3\\u05db\\u05d9\"],[\"\\u05db\\u05e4\\u05e8 \\u05e0\\u05d8\\u05e8\"],[\"\\u05db\\u05e4\\u05e8 \\u05e1\\u05d0\\u05dc\\u05d3\"],[\"\\u05db\\u05e4\\u05e8 \\u05e1\\u05d1\\u05d0\"],[\"\\u05db\\u05e4\\u05e8 \\u05e1\\u05d9\\u05dc\\u05d1\\u05e8\"],[\"\\u05db\\u05e4\\u05e8 \\u05e1\\u05d9\\u05e8\\u05e7\\u05d9\\u05df\"],[\"\\u05db\\u05e4\\u05e8 \\u05e2\\u05d6\\u05d4\"],[\"\\u05db\\u05e4\\u05e8 \\u05e2\\u05e6\\u05d9\\u05d5\\u05df\"],[\"\\u05db\\u05e4\\u05e8 \\u05e4\\u05d9\\u05e0\\u05e1\"],[\"\\u05db\\u05e4\\u05e8 \\u05e7\\u05d0\\u05e1\\u05dd\"],[\"\\u05db\\u05e4\\u05e8 \\u05e7\\u05d9\\u05e9\"],[\"\\u05db\\u05e4\\u05e8 \\u05e7\\u05e8\\u05e2\"],[\"\\u05db\\u05e4\\u05e8 \\u05e8\\u05d0\\u05e9 \\u05d4\\u05e0\\u05e7\\u05e8\\u05d4\"],[\"\\u05db\\u05e4\\u05e8 \\u05e8\\u05d5\\u05d6\\u05e0\\u05d5\\u05d0\\u05dc\\u05d3 \\u05d6\\u05e8\\u05e2\\u05d9\\u05ea\"],[\"\\u05db\\u05e4\\u05e8 \\u05e8\\u05d5\\u05e4\\u05d9\\u05df\"],[\"\\u05db\\u05e4\\u05e8 \\u05e8\\u05d5\\u05ea\"],[\"\\u05db\\u05e4\\u05e8 \\u05e9\\u05de\\u05d0\\u05d9\"],[\"\\u05db\\u05e4\\u05e8 \\u05e9\\u05de\\u05d5\\u05d0\\u05dc\"],[\"\\u05db\\u05e4\\u05e8 \\u05e9\\u05de\\u05e8\\u05d9\\u05d4\\u05d5\"],[\"\\u05db\\u05e4\\u05e8 \\u05ea\\u05d1\\u05d5\\u05e8\"],[\"\\u05db\\u05e4\\u05e8 \\u05ea\\u05e4\\u05d5\\u05d7\"],[\"\\u05db\\u05e8\\u05db\\u05d5\\u05dd\"],[\"\\u05db\\u05e8\\u05dd \\u05d1\\u05df \\u05d6\\u05de\\u05e8\\u05d4\"],[\"\\u05db\\u05e8\\u05dd \\u05d9\\u05d1\\u05e0\\u05d4 \\u05d9\\u05e9\\u05d9\\u05d1\\u05d4\"],[\"\\u05db\\u05e8\\u05dd \\u05de\\u05d4\\u05e8\\u05dc\"],[\"\\u05db\\u05e8\\u05dd \\u05e9\\u05dc\\u05d5\\u05dd\"],[\"\\u05db\\u05e8\\u05de\\u05d9 \\u05d9\\u05d5\\u05e1\\u05e3\"],[\"\\u05db\\u05e8\\u05de\\u05d9 \\u05e6\\u05d5\\u05e8\"],[\"\\u05db\\u05e8\\u05de\\u05d9 \\u05e7\\u05d8\\u05d9\\u05e3\"],[\"\\u05db\\u05e8\\u05de\\u05d9\\u05d0\\u05dc\"],[\"\\u05db\\u05e8\\u05de\\u05d9\\u05d4\"],[\"\\u05db\\u05e8\\u05de\\u05d9\\u05dd\"],[\"\\u05db\\u05e8\\u05de\\u05dc\"],[\"\\u05dc\\u05d1\\u05d5\\u05df\"],[\"\\u05dc\\u05d1\\u05d9\\u05d0\"],[\"\\u05dc\\u05d1\\u05e0\\u05d9\\u05dd\"],[\"\\u05dc\\u05d4\\u05d1\"],[\"\\u05dc\\u05d4\\u05d1\\u05d5\\u05ea \\u05d4\\u05d1\\u05e9\\u05df\"],[\"\\u05dc\\u05d4\\u05d1\\u05d5\\u05ea \\u05d7\\u05d1\\u05d9\\u05d1\\u05d4\"],[\"\\u05dc\\u05d4\\u05d1\\u05d9\\u05dd\"],[\"\\u05dc\\u05d5\\u05d3\"],[\"\\u05dc\\u05d5\\u05d6\\u05d9\\u05ea\"],[\"\\u05dc\\u05d5\\u05d7\\u05de\\u05d9 \\u05d4\\u05d2\\u05d9\\u05d8\\u05d0\\u05d5\\u05ea\"],[\"\\u05dc\\u05d5\\u05d8\\u05dd\"],[\"\\u05dc\\u05d5\\u05d8\\u05df\"],[\"\\u05dc\\u05d9\\u05de\\u05df\"],[\"\\u05dc\\u05db\\u05d9\\u05e9\"],[\"\\u05dc\\u05e4\\u05d9\\u05d3\"],[\"\\u05dc\\u05e4\\u05d9\\u05d3\\u05d5\\u05ea\"],[\"\\u05dc\\u05e7\\u05d9\\u05d4\"],[\"\\u05de\\u05d0\\u05d5\\u05e8\"],[\"\\u05de\\u05d0\\u05d9\\u05e8 \\u05e9\\u05e4\\u05d9\\u05d4\"],[\"\\u05de\\u05d1\\u05d5\\u05d0 \\u05d1\\u05d9\\u05ea\\u05e8\"],[\"\\u05de\\u05d1\\u05d5\\u05d0 \\u05d3\\u05d5\\u05ea\\u05df\"],[\"\\u05de\\u05d1\\u05d5\\u05d0 \\u05d7\\u05d5\\u05e8\\u05d5\\u05df\"],[\"\\u05de\\u05d1\\u05d5\\u05d0 \\u05d7\\u05de\\u05d4\"],[\"\\u05de\\u05d1\\u05d5\\u05d0 \\u05de\\u05d5\\u05d3\\u05d9\\u05e2\\u05d9\\u05dd\"],[\"\\u05de\\u05d1\\u05d5\\u05e2\\u05d9\\u05dd\"],[\"\\u05de\\u05d1\\u05d8\\u05d7\\u05d9\\u05dd\"],[\"\\u05de\\u05d1\\u05e7\\u05d9\\u05e2\\u05d9\\u05dd\"],[\"\\u05de\\u05d1\\u05e9\\u05e8\\u05ea \\u05e6\\u05d9\\u05d5\\u05df\"],[\"\\u05de\\u05d2\\u05d0\\u05e8\"],[\"\\u05de\\u05d2\\u05d3 \\u05d0\\u05dc\\u05db\\u05e8\\u05d5\\u05dd\"],[\"\\u05de\\u05d2\\u05d3\\u05d9\\u05dd\"],[\"\\u05de\\u05d2\\u05d3\\u05dc\"],[\"\\u05de\\u05d2\\u05d3\\u05dc \\u05d4\\u05e2\\u05de\\u05e7\"],[\"\\u05de\\u05d2\\u05d3\\u05dc \\u05e2\\u05d5\\u05d6\"],[\"\\u05de\\u05d2\\u05d3\\u05dc \\u05e9\\u05de\\u05e1\"],[\"\\u05de\\u05d2\\u05d3\\u05dc\\u05d9\\u05dd\"],[\"\\u05de\\u05d2\\u05d9\\u05d3\\u05d5\"],[\"\\u05de\\u05d2\\u05dc\"],[\"\\u05de\\u05d2\\u05df\"],[\"\\u05de\\u05d2\\u05df \\u05e9\\u05d0\\u05d5\\u05dc\"],[\"\\u05de\\u05d2\\u05e9\\u05d9\\u05de\\u05d9\\u05dd\"],[\"\\u05de\\u05d3\\u05e8\\u05da \\u05e2\\u05d5\\u05d6\"],[\"\\u05de\\u05d3\\u05e8\\u05e9\\u05ea \\u05d1\\u05df \\u05d2\\u05d5\\u05e8\\u05d9\\u05d5\\u05df\"],[\"\\u05de\\u05d5\\u05d3\\u05d9\\u05e2\\u05d9\\u05df \\u05e2\\u05d9\\u05dc\\u05d9\\u05ea\"],[\"\\u05de\\u05d5\\u05d3\\u05d9\\u05e2\\u05d9\\u05df\\u05de\\u05db\\u05d1\\u05d9\\u05dd\\u05e8\\u05e2\\u05d5\\u05ea\"],[\"\\u05de\\u05d5\\u05dc\\u05d3\\u05ea\"],[\"\\u05de\\u05d5\\u05e6\\u05d0 \\u05e2\\u05d9\\u05dc\\u05d9\\u05ea\"],[\"\\u05de\\u05d5\\u05e7\\u05d9\\u05d9\\u05d1\\u05dc\\u05d4\"],[\"\\u05de\\u05d5\\u05e8\\u05df\"],[\"\\u05de\\u05d5\\u05e8\\u05e9\\u05ea\"],[\"\\u05de\\u05d6\\u05d5\\u05e8\"],[\"\\u05de\\u05d6\\u05db\\u05e8\\u05ea \\u05d1\\u05ea\\u05d9\\u05d4\"],[\"\\u05de\\u05d6\\u05e8\\u05e2\"],[\"\\u05de\\u05d6\\u05e8\\u05e2\\u05d4\"],[\"\\u05de\\u05d7\\u05d5\\u05dc\\u05d4\"],[\"\\u05de\\u05d7\\u05e0\\u05d4 \\u05d4\\u05d9\\u05dc\\u05d4\"],[\"\\u05de\\u05d7\\u05e0\\u05d4 \\u05d8\\u05dc\\u05d9\"],[\"\\u05de\\u05d7\\u05e0\\u05d4 \\u05d9\\u05d4\\u05d5\\u05d3\\u05d9\\u05ea\"],[\"\\u05de\\u05d7\\u05e0\\u05d4 \\u05d9\\u05d5\\u05db\\u05d1\\u05d3\"],[\"\\u05de\\u05d7\\u05e0\\u05d4 \\u05d9\\u05e4\\u05d4\"],[\"\\u05de\\u05d7\\u05e0\\u05d4 \\u05de\\u05e8\\u05d9\\u05dd\"],[\"\\u05de\\u05d7\\u05e0\\u05d4 \\u05ea\\u05dc \\u05e0\\u05d5\\u05e3\"],[\"\\u05de\\u05d7\\u05e0\\u05d9\\u05d9\\u05dd\"],[\"\\u05de\\u05d7\\u05e1\\u05d9\\u05d4\"],[\"\\u05de\\u05d8\\u05d5\\u05dc\\u05d4\"],[\"\\u05de\\u05d8\\u05e2\"],[\"\\u05de\\u05d9 \\u05e2\\u05de\\u05d9\"],[\"\\u05de\\u05d9\\u05d8\\u05d1\"],[\"\\u05de\\u05d9\\u05d9\\u05e1\\u05e8\"],[\"\\u05de\\u05d9\\u05e6\\u05e8\"],[\"\\u05de\\u05d9\\u05e8\\u05d1\"],[\"\\u05de\\u05d9\\u05e8\\u05d5\\u05df\"],[\"\\u05de\\u05d9\\u05e9\\u05e8\"],[\"\\u05de\\u05d9\\u05ea\\u05e8\"],[\"\\u05de\\u05db\\u05d5\\u05e8\\u05d4\"],[\"\\u05de\\u05db\\u05d7\\u05d5\\u05dc\"],[\"\\u05de\\u05db\\u05de\\u05d5\\u05e8\\u05ea\"],[\"\\u05de\\u05db\\u05de\\u05e0\\u05d9\\u05dd\"],[\"\\u05de\\u05dc\\u05d0\\u05d4\"],[\"\\u05de\\u05dc\\u05d9\\u05dc\\u05d5\\u05ea\"],[\"\\u05de\\u05dc\\u05db\\u05d9\\u05d4\"],[\"\\u05de\\u05e0\\u05d5\\u05d7\\u05d4\"],[\"\\u05de\\u05e0\\u05d5\\u05e3\"],[\"\\u05de\\u05e0\\u05d5\\u05ea\"],[\"\\u05de\\u05e0\\u05d7\\u05de\\u05d9\\u05d4\"],[\"\\u05de\\u05e0\\u05e8\\u05d4\"],[\"\\u05de\\u05e0\\u05e9\\u05d9\\u05ea \\u05d6\\u05d1\\u05d3\\u05d4\"],[\"\\u05de\\u05e1\\u05d3\"],[\"\\u05de\\u05e1\\u05d3\\u05d4\"],[\"\\u05de\\u05e1\\u05d9\\u05dc\\u05d5\\u05ea\"],[\"\\u05de\\u05e1\\u05d9\\u05dc\\u05ea \\u05e6\\u05d9\\u05d5\\u05df\"],[\"\\u05de\\u05e1\\u05dc\\u05d5\\u05dc\"],[\"\\u05de\\u05e1\\u05e2\\u05d3\\u05d4\"],[\"\\u05de\\u05e1\\u05e2\\u05d5\\u05d3\\u05d9\\u05df \\u05d0\\u05dc\\u05e2\\u05d6\\u05d0\\u05d6\\u05de\\u05d4\"],[\"\\u05de\\u05e2\\u05d1\\u05e8\\u05d5\\u05ea\"],[\"\\u05de\\u05e2\\u05d2\\u05dc\\u05d9\\u05dd\"],[\"\\u05de\\u05e2\\u05d2\\u05df\"],[\"\\u05de\\u05e2\\u05d2\\u05df \\u05de\\u05d9\\u05db\\u05d0\\u05dc\"],[\"\\u05de\\u05e2\\u05d5\\u05d6 \\u05d7\\u05d9\\u05d9\\u05dd\"],[\"\\u05de\\u05e2\\u05d5\\u05df\"],[\"\\u05de\\u05e2\\u05d5\\u05e0\\u05d4\"],[\"\\u05de\\u05e2\\u05d8\\u05e4\\u05d5\\u05ea \\u05d7\\u05d9\\u05e6\\u05d5\\u05e0\\u05d9\\u05d5\\u05ea\"],[\"\\u05de\\u05e2\\u05d9\\u05dc\\u05d9\\u05d0\"],[\"\\u05de\\u05e2\\u05d9\\u05df \\u05d1\\u05e8\\u05d5\\u05da\"],[\"\\u05de\\u05e2\\u05d9\\u05df \\u05e6\\u05d1\\u05d9\"],[\"\\u05de\\u05e2\\u05dc\\u05d4 \\u05d0\\u05d3\\u05d5\\u05de\\u05d9\\u05dd\"],[\"\\u05de\\u05e2\\u05dc\\u05d4 \\u05d0\\u05e4\\u05e8\\u05d9\\u05dd\"],[\"\\u05de\\u05e2\\u05dc\\u05d4 \\u05d2\\u05dc\\u05d1\\u05d5\\u05e2\"],[\"\\u05de\\u05e2\\u05dc\\u05d4 \\u05d2\\u05de\\u05dc\\u05d0\"],[\"\\u05de\\u05e2\\u05dc\\u05d4 \\u05d4\\u05d7\\u05de\\u05d9\\u05e9\\u05d4\"],[\"\\u05de\\u05e2\\u05dc\\u05d4 \\u05dc\\u05d1\\u05d5\\u05e0\\u05d4\"],[\"\\u05de\\u05e2\\u05dc\\u05d4 \\u05de\\u05db\\u05de\\u05e9\"],[\"\\u05de\\u05e2\\u05dc\\u05d4 \\u05e2\\u05d9\\u05e8\\u05d5\\u05df\"],[\"\\u05de\\u05e2\\u05dc\\u05d4 \\u05e2\\u05de\\u05d5\\u05e1\"],[\"\\u05de\\u05e2\\u05dc\\u05d5\\u05ea\\u05ea\\u05e8\\u05e9\\u05d9\\u05d7\\u05d0\"],[\"\\u05de\\u05e2\\u05e0\\u05d9\\u05ea\"],[\"\\u05de\\u05e2\\u05e9\"],[\"\\u05de\\u05e4\\u05dc\\u05e1\\u05d9\\u05dd\"],[\"\\u05de\\u05e6\\u05d3\\u05d5\\u05ea \\u05d9\\u05d4\\u05d5\\u05d3\\u05d4\"],[\"\\u05de\\u05e6\\u05d5\\u05d1\\u05d4\"],[\"\\u05de\\u05e6\\u05dc\\u05d9\\u05d7\"],[\"\\u05de\\u05e6\\u05e4\\u05d4\"],[\"\\u05de\\u05e6\\u05e4\\u05d4 \\u05d0\\u05d1\\u05d9\\u05d1\"],[\"\\u05de\\u05e6\\u05e4\\u05d4 \\u05d0\\u05d9\\u05dc\\u05df\"],[\"\\u05de\\u05e6\\u05e4\\u05d4 \\u05d9\\u05e8\\u05d9\\u05d7\\u05d5\"],[\"\\u05de\\u05e6\\u05e4\\u05d4 \\u05e0\\u05d8\\u05d5\\u05e4\\u05d4\"],[\"\\u05de\\u05e6\\u05e4\\u05d4 \\u05e8\\u05de\\u05d5\\u05df\"],[\"\\u05de\\u05e6\\u05e4\\u05d4 \\u05e9\\u05dc\\u05dd\"],[\"\\u05de\\u05e6\\u05e8\"],[\"\\u05de\\u05e7\\u05d5\\u05d5\\u05d4 \\u05d9\\u05e9\\u05e8\\u05d0\\u05dc\"],[\"\\u05de\\u05e8\\u05d2\\u05dc\\u05d9\\u05d5\\u05ea\"],[\"\\u05de\\u05e8\\u05d5\\u05dd \\u05d2\\u05d5\\u05dc\\u05df\"],[\"\\u05de\\u05e8\\u05d7\\u05d1 \\u05e2\\u05dd\"],[\"\\u05de\\u05e8\\u05d7\\u05d1\\u05d9\\u05d4 \\u05de\\u05d5\\u05e9\\u05d1\"],[\"\\u05de\\u05e8\\u05d7\\u05d1\\u05d9\\u05d4 \\u05e7\\u05d9\\u05d1\\u05d5\\u05e5\"],[\"\\u05de\\u05e8\\u05db\\u05d6 \\u05e9\\u05e4\\u05d9\\u05e8\\u05d0\"],[\"\\u05de\\u05e9\\u05d0\\u05d1\\u05d9 \\u05e9\\u05d3\\u05d4\"],[\"\\u05de\\u05e9\\u05d2\\u05d1 \\u05d3\\u05d1\"],[\"\\u05de\\u05e9\\u05d2\\u05d1 \\u05e2\\u05dd\"],[\"\\u05de\\u05e9\\u05d4\\u05d3\"],[\"\\u05de\\u05e9\\u05d5\\u05d0\\u05d4\"],[\"\\u05de\\u05e9\\u05d5\\u05d0\\u05d5\\u05ea \\u05d9\\u05e6\\u05d7\\u05e7\"],[\"\\u05de\\u05e9\\u05db\\u05d9\\u05d5\\u05ea\"],[\"\\u05de\\u05e9\\u05de\\u05e8 \\u05d0\\u05d9\\u05d9\\u05dc\\u05d5\\u05df\"],[\"\\u05de\\u05e9\\u05de\\u05e8 \\u05d3\\u05d5\\u05d3\"],[\"\\u05de\\u05e9\\u05de\\u05e8 \\u05d4\\u05d9\\u05e8\\u05d3\\u05df\"],[\"\\u05de\\u05e9\\u05de\\u05e8 \\u05d4\\u05e0\\u05d2\\u05d1\"],[\"\\u05de\\u05e9\\u05de\\u05e8 \\u05d4\\u05e2\\u05de\\u05e7\"],[\"\\u05de\\u05e9\\u05de\\u05e8 \\u05d4\\u05e9\\u05d1\\u05e2\\u05d4\"],[\"\\u05de\\u05e9\\u05de\\u05e8 \\u05d4\\u05e9\\u05e8\\u05d5\\u05df\"],[\"\\u05de\\u05e9\\u05de\\u05e8\\u05d5\\u05ea\"],[\"\\u05de\\u05e9\\u05de\\u05e8\\u05ea\"],[\"\\u05de\\u05e9\\u05e2\\u05df\"],[\"\\u05de\\u05ea\\u05df\"],[\"\\u05de\\u05ea\\u05ea\"],[\"\\u05de\\u05ea\\u05ea\\u05d9\\u05d4\\u05d5\"],[\"\\u05e0\\u05d0\\u05d5\\u05ea \\u05d2\\u05d5\\u05dc\\u05df\"],[\"\\u05e0\\u05d0\\u05d5\\u05ea \\u05d4\\u05db\\u05d9\\u05db\\u05e8\"],[\"\\u05e0\\u05d0\\u05d5\\u05ea \\u05de\\u05e8\\u05d3\\u05db\\u05d9\"],[\"\\u05e0\\u05d0\\u05d5\\u05ea \\u05e1\\u05de\\u05d3\\u05e8\"],[\"\\u05e0\\u05d0\\u05e2\\u05d5\\u05e8\\u05d4\"],[\"\\u05e0\\u05d1\\u05d8\\u05d9\\u05dd\"],[\"\\u05e0\\u05d2\\u05d1\\u05d4\"],[\"\\u05e0\\u05d2\\u05d5\\u05d4\\u05d5\\u05ea\"],[\"\\u05e0\\u05d4\\u05d5\\u05e8\\u05d4\"],[\"\\u05e0\\u05d4\\u05dc\\u05dc\"],[\"\\u05e0\\u05d4\\u05e8\\u05d9\\u05d4\"],[\"\\u05e0\\u05d5\\u05d1\"],[\"\\u05e0\\u05d5\\u05d2\\u05d4\"],[\"\\u05e0\\u05d5\\u05d4 \\u05e6\\u05d5\\u05e3\"],[\"\\u05e0\\u05d5\\u05d5\\u05d4\"],[\"\\u05e0\\u05d5\\u05d5\\u05d4 \\u05d0\\u05d5\\u05e8\"],[\"\\u05e0\\u05d5\\u05d5\\u05d4 \\u05d0\\u05d8\\u05d9\\u05d1\"],[\"\\u05e0\\u05d5\\u05d5\\u05d4 \\u05d0\\u05d9\\u05dc\\u05df\"],[\"\\u05e0\\u05d5\\u05d5\\u05d4 \\u05d0\\u05d9\\u05ea\\u05df\"],[\"\\u05e0\\u05d5\\u05d5\\u05d4 \\u05d3\\u05e0\\u05d9\\u05d0\\u05dc\"],[\"\\u05e0\\u05d5\\u05d5\\u05d4 \\u05d6\\u05d5\\u05d4\\u05e8\"],[\"\\u05e0\\u05d5\\u05d5\\u05d4 \\u05d6\\u05d9\\u05d5\"],[\"\\u05e0\\u05d5\\u05d5\\u05d4 \\u05d9\\u05dd\"],[\"\\u05e0\\u05d5\\u05d5\\u05d4 \\u05d9\\u05de\\u05d9\\u05df\"],[\"\\u05e0\\u05d5\\u05d5\\u05d4 \\u05d9\\u05e8\\u05e7\"],[\"\\u05e0\\u05d5\\u05d5\\u05d4 \\u05de\\u05d1\\u05d8\\u05d7\"],[\"\\u05e0\\u05d5\\u05d5\\u05d4 \\u05de\\u05d9\\u05db\\u05d0\\u05dc\"],[\"\\u05e0\\u05d5\\u05d5\\u05d4 \\u05e9\\u05dc\\u05d5\\u05dd\"],[\"\\u05e0\\u05d5\\u05e2\\u05dd\"],[\"\\u05e0\\u05d5\\u05e3 \\u05d0\\u05d9\\u05d9\\u05dc\\u05d5\\u05df\"],[\"\\u05e0\\u05d5\\u05e3 \\u05d4\\u05d2\\u05dc\\u05d9\\u05dc\"],[\"\\u05e0\\u05d5\\u05e4\\u05d9\\u05dd\"],[\"\\u05e0\\u05d5\\u05e4\\u05d9\\u05ea\"],[\"\\u05e0\\u05d5\\u05e4\\u05da\"],[\"\\u05e0\\u05d5\\u05e7\\u05d3\\u05d9\\u05dd\"],[\"\\u05e0\\u05d5\\u05e8\\u05d3\\u05d9\\u05d4\"],[\"\\u05e0\\u05d5\\u05e8\\u05d9\\u05ea\"],[\"\\u05e0\\u05d7\\u05d5\\u05e9\\u05d4\"],[\"\\u05e0\\u05d7\\u05dc \\u05e2\\u05d5\\u05d6\"],[\"\\u05e0\\u05d7\\u05dc\\u05d4\"],[\"\\u05e0\\u05d7\\u05dc\\u05d9\\u05d0\\u05dc\"],[\"\\u05e0\\u05d7\\u05dc\\u05d9\\u05dd\"],[\"\\u05e0\\u05d7\\u05dd\"],[\"\\u05e0\\u05d7\\u05e3\"],[\"\\u05e0\\u05d7\\u05e9\\u05d5\\u05dc\\u05d9\\u05dd\"],[\"\\u05e0\\u05d7\\u05e9\\u05d5\\u05df\"],[\"\\u05e0\\u05d7\\u05e9\\u05d5\\u05e0\\u05d9\\u05dd\"],[\"\\u05e0\\u05d8\\u05d5\\u05e2\\u05d4\"],[\"\\u05e0\\u05d8\\u05d5\\u05e8\"],[\"\\u05e0\\u05d8\\u05e2\"],[\"\\u05e0\\u05d8\\u05e2\\u05d9\\u05dd\"],[\"\\u05e0\\u05d8\\u05e3\"],[\"\\u05e0\\u05d9\\u05d9\\u05df\"],[\"\\u05e0\\u05d9\\u05dc\\u05d9\"],[\"\\u05e0\\u05d9\\u05e6\\u05df\"],[\"\\u05e0\\u05d9\\u05e6\\u05df \\u05d1\"],[\"\\u05e0\\u05d9\\u05e6\\u05e0\\u05d4 \\u05e7\\u05d4\\u05d9\\u05dc\\u05ea \\u05d7\\u05d9\\u05e0\\u05d5\\u05da\"],[\"\\u05e0\\u05d9\\u05e6\\u05e0\\u05d9 \\u05e1\\u05d9\\u05e0\\u05d9\"],[\"\\u05e0\\u05d9\\u05e6\\u05e0\\u05d9 \\u05e2\\u05d5\\u05d6\"],[\"\\u05e0\\u05d9\\u05e6\\u05e0\\u05d9\\u05dd\"],[\"\\u05e0\\u05d9\\u05e8 \\u05d0\\u05dc\\u05d9\\u05d4\\u05d5\"],[\"\\u05e0\\u05d9\\u05e8 \\u05d1\\u05e0\\u05d9\\u05dd\"],[\"\\u05e0\\u05d9\\u05e8 \\u05d2\\u05dc\\u05d9\\u05dd\"],[\"\\u05e0\\u05d9\\u05e8 \\u05d3\\u05d5\\u05d3 \\u05ea\\u05dc \\u05e2\\u05de\\u05dc\"],[\"\\u05e0\\u05d9\\u05e8 \\u05d7\\u05df\"],[\"\\u05e0\\u05d9\\u05e8 \\u05d9\\u05e4\\u05d4\"],[\"\\u05e0\\u05d9\\u05e8 \\u05d9\\u05e6\\u05d7\\u05e7\"],[\"\\u05e0\\u05d9\\u05e8 \\u05d9\\u05e9\\u05e8\\u05d0\\u05dc\"],[\"\\u05e0\\u05d9\\u05e8 \\u05de\\u05e9\\u05d4\"],[\"\\u05e0\\u05d9\\u05e8 \\u05e2\\u05d5\\u05d6\"],[\"\\u05e0\\u05d9\\u05e8 \\u05e2\\u05dd\"],[\"\\u05e0\\u05d9\\u05e8 \\u05e2\\u05e6\\u05d9\\u05d5\\u05df\"],[\"\\u05e0\\u05d9\\u05e8 \\u05e2\\u05e7\\u05d9\\u05d1\\u05d0\"],[\"\\u05e0\\u05d9\\u05e8 \\u05e6\\u05d1\\u05d9\"],[\"\\u05e0\\u05d9\\u05e8\\u05d9\\u05dd\"],[\"\\u05e0\\u05d9\\u05e8\\u05d9\\u05ea\"],[\"\\u05e0\\u05e1 \\u05d4\\u05e8\\u05d9\\u05dd\"],[\"\\u05e0\\u05e1 \\u05e2\\u05de\\u05d9\\u05dd\"],[\"\\u05e0\\u05e1 \\u05e6\\u05d9\\u05d5\\u05e0\\u05d4\"],[\"\\u05e0\\u05e2\\u05d5\\u05e8\\u05d9\\u05dd\"],[\"\\u05e0\\u05e2\\u05dc\\u05d4\"],[\"\\u05e0\\u05e2\\u05de\\u05d4\"],[\"\\u05e0\\u05e2\\u05df\"],[\"\\u05e0\\u05e6\\u05d0\\u05e6\\u05e8\\u05d4 \\u05e9\\u05d1\\u05d8\"],[\"\\u05e0\\u05e6\\u05e8 \\u05d7\\u05d6\\u05e0\\u05d9\"],[\"\\u05e0\\u05e6\\u05e8 \\u05e1\\u05e8\\u05e0\\u05d9\"],[\"\\u05e0\\u05e6\\u05e8\\u05ea\"],[\"\\u05e0\\u05e9\\u05e8\"],[\"\\u05e0\\u05ea\\u05d9\\u05d1 \\u05d4\\u05d2\\u05d3\\u05d5\\u05d3\"],[\"\\u05e0\\u05ea\\u05d9\\u05d1 \\u05d4\\u05dc\\u05d4\"],[\"\\u05e0\\u05ea\\u05d9\\u05d1 \\u05d4\\u05e2\\u05e9\\u05e8\\u05d4\"],[\"\\u05e0\\u05ea\\u05d9\\u05d1 \\u05d4\\u05e9\\u05d9\\u05d9\\u05e8\\u05d4\"],[\"\\u05e0\\u05ea\\u05d9\\u05d1\\u05d5\\u05ea\"],[\"\\u05e0\\u05ea\\u05e0\\u05d9\\u05d4\"],[\"\\u05e1\\u05d0\\u05d2\\u05d5\\u05e8\"],[\"\\u05e1\\u05d0\\u05e1\\u05d0\"],[\"\\u05e1\\u05d1\\u05d9\\u05d5\\u05df\"],[\"\\u05e1\\u05d2\\u05d5\\u05dc\\u05d4\"],[\"\\u05e1\\u05d5\\u05d0\\u05e2\\u05d3 \\u05d7\\u05de\\u05e8\\u05d9\\u05d9\\u05d4\"],[\"\\u05e1\\u05d5\\u05dc\\u05dd\"],[\"\\u05e1\\u05d5\\u05e1\\u05d9\\u05d4\"],[\"\\u05e1\\u05d5\\u05e4\\u05d4\"],[\"\\u05e1\\u05d7\\u05e0\\u05d9\\u05df\"],[\"\\u05e1\\u05d9\\u05d9\\u05d3 \\u05e9\\u05d1\\u05d8\"],[\"\\u05e1\\u05dc\\u05de\\u05d4\"],[\"\\u05e1\\u05dc\\u05e2\\u05d9\\u05ea\"],[\"\\u05e1\\u05de\\u05e8\"],[\"\\u05e1\\u05e0\\u05e1\\u05e0\\u05d4\"],[\"\\u05e1\\u05e2\\u05d3\"],[\"\\u05e1\\u05e2\\u05d5\\u05d4\"],[\"\\u05e1\\u05e2\\u05e8\"],[\"\\u05e1\\u05e4\\u05d9\\u05e8\"],[\"\\u05e1\\u05ea\\u05e8\\u05d9\\u05d4\"],[\"\\u05e2\\u05d1\\u05d3\\u05d5\\u05df\"],[\"\\u05e2\\u05d1\\u05e8\\u05d5\\u05df\"],[\"\\u05e2\\u05d2\\u05d5\\u05e8\"],[\"\\u05e2\\u05d2\\u05e8\"],[\"\\u05e2\\u05d3\\u05d9\"],[\"\\u05e2\\u05d3\\u05e0\\u05d9\\u05dd\"],[\"\\u05e2\\u05d5\\u05d6\\u05d4\"],[\"\\u05e2\\u05d5\\u05d6\\u05d9\\u05d9\\u05e8\"],[\"\\u05e2\\u05d5\\u05dc\\u05e9\"],[\"\\u05e2\\u05d5\\u05de\\u05e8\"],[\"\\u05e2\\u05d5\\u05e4\\u05e8\"],[\"\\u05e2\\u05d5\\u05e4\\u05e8\\u05d4\"],[\"\\u05e2\\u05d5\\u05e6\\u05dd\"],[\"\\u05e2\\u05d5\\u05e7\\u05d1\\u05d9 \\u05d1\\u05e0\\u05d5 \\u05e2\\u05d5\\u05e7\\u05d1\\u05d4\"],[\"\\u05e2\\u05d6\\u05e8\"],[\"\\u05e2\\u05d6\\u05e8\\u05d9\\u05d0\\u05dc\"],[\"\\u05e2\\u05d6\\u05e8\\u05d9\\u05d4\"],[\"\\u05e2\\u05d6\\u05e8\\u05d9\\u05e7\\u05dd\"],[\"\\u05e2\\u05d8\\u05d0\\u05d5\\u05d5\\u05e0\\u05d4 \\u05e9\\u05d1\\u05d8\"],[\"\\u05e2\\u05d8\\u05e8\\u05ea\"],[\"\\u05e2\\u05d9\\u05d3\\u05df\"],[\"\\u05e2\\u05d9\\u05d9\\u05dc\\u05d1\\u05d5\\u05df\"],[\"\\u05e2\\u05d9\\u05d9\\u05e0\\u05d5\\u05ea\"],[\"\\u05e2\\u05d9\\u05dc\\u05d5\\u05d8\"],[\"\\u05e2\\u05d9\\u05df \\u05d0\\u05d9\\u05d9\\u05dc\\u05d4\"],[\"\\u05e2\\u05d9\\u05df \\u05d0\\u05dc\\u05d0\\u05e1\\u05d3\"],[\"\\u05e2\\u05d9\\u05df \\u05d2\\u05d1\"],[\"\\u05e2\\u05d9\\u05df \\u05d2\\u05d3\\u05d9\"],[\"\\u05e2\\u05d9\\u05df \\u05d3\\u05d5\\u05e8\"],[\"\\u05e2\\u05d9\\u05df \\u05d4\\u05d1\\u05e9\\u05d5\\u05e8\"],[\"\\u05e2\\u05d9\\u05df \\u05d4\\u05d5\\u05d3\"],[\"\\u05e2\\u05d9\\u05df \\u05d4\\u05d7\\u05d5\\u05e8\\u05e9\"],[\"\\u05e2\\u05d9\\u05df \\u05d4\\u05de\\u05e4\\u05e8\\u05e5\"],[\"\\u05e2\\u05d9\\u05df \\u05d4\\u05e0\\u05e6\\u05d9\\u05d1\"],[\"\\u05e2\\u05d9\\u05df \\u05d4\\u05e2\\u05de\\u05e7\"],[\"\\u05e2\\u05d9\\u05df \\u05d4\\u05e9\\u05d5\\u05e4\\u05d8\"],[\"\\u05e2\\u05d9\\u05df \\u05d4\\u05e9\\u05dc\\u05d5\\u05e9\\u05d4\"],[\"\\u05e2\\u05d9\\u05df \\u05d5\\u05e8\\u05d3\"],[\"\\u05e2\\u05d9\\u05df \\u05d6\\u05d9\\u05d5\\u05d5\\u05df\"],[\"\\u05e2\\u05d9\\u05df \\u05d7\\u05d5\\u05d3\"],[\"\\u05e2\\u05d9\\u05df \\u05d7\\u05e8\\u05d5\\u05d3 \\u05d0\\u05d9\\u05d7\\u05d5\\u05d3\"],[\"\\u05e2\\u05d9\\u05df \\u05d7\\u05e8\\u05d5\\u05d3 \\u05de\\u05d0\\u05d5\\u05d7\\u05d3\"],[\"\\u05e2\\u05d9\\u05df \\u05d9\\u05d4\\u05d1\"],[\"\\u05e2\\u05d9\\u05df \\u05d9\\u05e2\\u05e7\\u05d1\"],[\"\\u05e2\\u05d9\\u05df \\u05db\\u05e8\\u05de\\u05dc\"],[\"\\u05e2\\u05d9\\u05df \\u05de\\u05d0\\u05d4\\u05dc\"],[\"\\u05e2\\u05d9\\u05df \\u05e0\\u05e7\\u05d5\\u05d1\\u05d0\"],[\"\\u05e2\\u05d9\\u05df \\u05e2\\u05d9\\u05e8\\u05d5\\u05df\"],[\"\\u05e2\\u05d9\\u05df \\u05e6\\u05d5\\u05e8\\u05d9\\u05dd\"],[\"\\u05e2\\u05d9\\u05df \\u05e7\\u05e0\\u05d9\\u05d9\\u05d0\"],[\"\\u05e2\\u05d9\\u05df \\u05e8\\u05d0\\u05e4\\u05d4\"],[\"\\u05e2\\u05d9\\u05df \\u05e9\\u05de\\u05e8\"],[\"\\u05e2\\u05d9\\u05df \\u05e9\\u05e8\\u05d9\\u05d3\"],[\"\\u05e2\\u05d9\\u05df \\u05ea\\u05de\\u05e8\"],[\"\\u05e2\\u05d9\\u05e0\\u05ea\"],[\"\\u05e2\\u05db\\u05d5\"],[\"\\u05e2\\u05dc\\u05d5\\u05de\\u05d9\\u05dd\"],[\"\\u05e2\\u05dc\\u05d9\"],[\"\\u05e2\\u05dc\\u05d9 \\u05d6\\u05d4\\u05d1\"],[\"\\u05e2\\u05dc\\u05de\\u05d4\"],[\"\\u05e2\\u05dc\\u05de\\u05d5\\u05df\"],[\"\\u05e2\\u05de\\u05d5\\u05e7\\u05d4\"],[\"\\u05e2\\u05de\\u05d9\\u05d7\\u05d9\"],[\"\\u05e2\\u05de\\u05d9\\u05e0\\u05d3\\u05d1\"],[\"\\u05e2\\u05de\\u05d9\\u05e2\\u05d3\"],[\"\\u05e2\\u05de\\u05d9\\u05e2\\u05d5\\u05d6\"],[\"\\u05e2\\u05de\\u05d9\\u05e7\\u05dd\"],[\"\\u05e2\\u05de\\u05d9\\u05e8\"],[\"\\u05e2\\u05de\\u05e0\\u05d5\\u05d0\\u05dc\"],[\"\\u05e2\\u05de\\u05e7\\u05d4\"],[\"\\u05e2\\u05e0\\u05d1\"],[\"\\u05e2\\u05e1\\u05e4\\u05d9\\u05d0\"],[\"\\u05e2\\u05e4\\u05d5\\u05dc\\u05d4\"],[\"\\u05e2\\u05e6\\u05de\\u05d5\\u05df \\u05e9\\u05d2\\u05d1\"],[\"\\u05e2\\u05e8\\u05d0\\u05d1\\u05d4\"],[\"\\u05e2\\u05e8\\u05d0\\u05de\\u05e9\\u05d4\"],[\"\\u05e2\\u05e8\\u05d1 \\u05d0\\u05dc \\u05e0\\u05e2\\u05d9\\u05dd\"],[\"\\u05e2\\u05e8\\u05d3\"],[\"\\u05e2\\u05e8\\u05d5\\u05d2\\u05d5\\u05ea\"],[\"\\u05e2\\u05e8\\u05e2\\u05e8\\u05d4\"],[\"\\u05e2\\u05e8\\u05e2\\u05e8\\u05d4\\u05d1\\u05e0\\u05d2\\u05d1\"],[\"\\u05e2\\u05e9\\u05e8\\u05ea\"],[\"\\u05e2\\u05ea\\u05dc\\u05d9\\u05ea\"],[\"\\u05e2\\u05ea\\u05e0\\u05d9\\u05d0\\u05dc\"],[\"\\u05e4\\u05d0\\u05e8\\u05df\"],[\"\\u05e4\\u05d3\\u05d5\\u05d0\\u05dc\"],[\"\\u05e4\\u05d3\\u05d5\\u05d9\\u05d9\\u05dd\"],[\"\\u05e4\\u05d3\\u05d9\\u05d4\"],[\"\\u05e4\\u05d5\\u05e8\\u05d9\\u05d4  \\u05db\\u05e4\\u05e8 \\u05e2\\u05d1\\u05d5\\u05d3\\u05d4\"],[\"\\u05e4\\u05d5\\u05e8\\u05d9\\u05d4  \\u05e0\\u05d5\\u05d5\\u05d4 \\u05e2\\u05d5\\u05d1\\u05d3\"],[\"\\u05e4\\u05d5\\u05e8\\u05d9\\u05d4 \\u05e2\\u05d9\\u05dc\\u05d9\\u05ea\"],[\"\\u05e4\\u05d5\\u05e8\\u05d9\\u05d9\\u05d3\\u05d9\\u05e1\"],[\"\\u05e4\\u05d5\\u05e8\\u05ea\"],[\"\\u05e4\\u05d8\\u05d9\\u05e9\"],[\"\\u05e4\\u05dc\\u05da\"],[\"\\u05e4\\u05dc\\u05de\\u05d7\\u05d9\\u05dd\"],[\"\\u05e4\\u05e0\\u05d9 \\u05d7\\u05d1\\u05e8\"],[\"\\u05e4\\u05e1\\u05d2\\u05d5\\u05ea\"],[\"\\u05e4\\u05e1\\u05d5\\u05d8\\u05d4\"],[\"\\u05e4\\u05e2\\u05de\\u05d9 \\u05ea\\u05e9\\u05d6\"],[\"\\u05e4\\u05e6\\u05d0\\u05dc\"],[\"\\u05e4\\u05e7\\u05d9\\u05e2\\u05d9\\u05df \\u05d1\\u05d5\\u05e7\\u05d9\\u05d9\\u05e2\\u05d4\"],[\"\\u05e4\\u05e7\\u05d9\\u05e2\\u05d9\\u05df \\u05d7\\u05d3\\u05e9\\u05d4\"],[\"\\u05e4\\u05e8\\u05d3\\u05e1 \\u05d7\\u05e0\\u05d4\\u05db\\u05e8\\u05db\\u05d5\\u05e8\"],[\"\\u05e4\\u05e8\\u05d3\\u05e1\\u05d9\\u05d4\"],[\"\\u05e4\\u05e8\\u05d5\\u05d3\"],[\"\\u05e4\\u05e8\\u05d6\\u05d5\\u05df\"],[\"\\u05e4\\u05e8\\u05d9 \\u05d2\\u05df\"],[\"\\u05e4\\u05ea\\u05d7 \\u05ea\\u05e7\\u05d5\\u05d5\\u05d4\"],[\"\\u05e4\\u05ea\\u05d7\\u05d9\\u05d4\"],[\"\\u05e6\\u05d0\\u05dc\\u05d9\\u05dd\"],[\"\\u05e6\\u05d1\\u05d9\\u05d4\"],[\"\\u05e6\\u05d1\\u05e2\\u05d5\\u05df\"],[\"\\u05e6\\u05d5\\u05d1\\u05d4\"],[\"\\u05e6\\u05d5\\u05d7\\u05e8\"],[\"\\u05e6\\u05d5\\u05e4\\u05d9\\u05dd\"],[\"\\u05e6\\u05d5\\u05e4\\u05d9\\u05ea\"],[\"\\u05e6\\u05d5\\u05e4\\u05e8\"],[\"\\u05e6\\u05d5\\u05e7\\u05d9 \\u05d9\\u05dd\"],[\"\\u05e6\\u05d5\\u05e7\\u05d9\\u05dd\"],[\"\\u05e6\\u05d5\\u05e8 \\u05d4\\u05d3\\u05e1\\u05d4\"],[\"\\u05e6\\u05d5\\u05e8 \\u05d9\\u05e6\\u05d7\\u05e7\"],[\"\\u05e6\\u05d5\\u05e8 \\u05de\\u05e9\\u05d4\"],[\"\\u05e6\\u05d5\\u05e8 \\u05e0\\u05ea\\u05df\"],[\"\\u05e6\\u05d5\\u05e8\\u05d9\\u05d0\\u05dc\"],[\"\\u05e6\\u05d5\\u05e8\\u05d9\\u05ea\"],[\"\\u05e6\\u05d9\\u05e4\\u05d5\\u05e8\\u05d9\"],[\"\\u05e6\\u05dc\\u05e4\\u05d5\\u05df\"],[\"\\u05e6\\u05e0\\u05d3\\u05dc\\u05d4\"],[\"\\u05e6\\u05e4\\u05e8\\u05d9\\u05d4\"],[\"\\u05e6\\u05e4\\u05e8\\u05d9\\u05e8\\u05d9\\u05dd\"],[\"\\u05e6\\u05e4\\u05ea\"],[\"\\u05e6\\u05e8\\u05d5\\u05e4\\u05d4\"],[\"\\u05e6\\u05e8\\u05e2\\u05d4\"],[\"\\u05e7\\u05d1\\u05d5\\u05e2\\u05d4 \\u05e9\\u05d1\\u05d8\"],[\"\\u05e7\\u05d1\\u05d5\\u05e6\\u05ea \\u05d9\\u05d1\\u05e0\\u05d4\"],[\"\\u05e7\\u05d3\\u05d5\\u05de\\u05d9\\u05dd\"],[\"\\u05e7\\u05d3\\u05d9\\u05de\\u05d4\\u05e6\\u05d5\\u05e8\\u05df\"],[\"\\u05e7\\u05d3\\u05de\\u05ea \\u05e6\\u05d1\\u05d9\"],[\"\\u05e7\\u05d3\\u05e8\"],[\"\\u05e7\\u05d3\\u05e8\\u05d5\\u05df\"],[\"\\u05e7\\u05d3\\u05e8\\u05d9\\u05dd\"],[\"\\u05e7\\u05d5\\u05d3\\u05d9\\u05d9\\u05e8\\u05d0\\u05ea \\u05d0\\u05e6\\u05d0\\u05e0\\u05e2\\u05e9\\u05d1\\u05d8\"],[\"\\u05e7\\u05d5\\u05d5\\u05d0\\u05e2\\u05d9\\u05df \\u05e9\\u05d1\\u05d8\"],[\"\\u05e7\\u05d5\\u05de\\u05de\\u05d9\\u05d5\\u05ea\"],[\"\\u05e7\\u05d5\\u05e8\\u05e0\\u05d9\\u05ea\"],[\"\\u05e7\\u05d8\\u05d5\\u05e8\\u05d4\"],[\"\\u05e7\\u05d9\\u05e1\\u05e8\\u05d9\\u05d4\"],[\"\\u05e7\\u05dc\\u05d7\\u05d9\\u05dd\"],[\"\\u05e7\\u05dc\\u05d9\\u05d4\"],[\"\\u05e7\\u05dc\\u05e0\\u05e1\\u05d5\\u05d5\\u05d4\"],[\"\\u05e7\\u05dc\\u05e2\"],[\"\\u05e7\\u05e6\\u05d9\\u05e8\"],[\"\\u05e7\\u05e6\\u05e8 \\u05d0\\u05e1\\u05e8\"],[\"\\u05e7\\u05e6\\u05e8\\u05d9\\u05df\"],[\"\\u05e7\\u05e8\\u05d9\\u05ea \\u05d0\\u05d5\\u05e0\\u05d5\"],[\"\\u05e7\\u05e8\\u05d9\\u05ea \\u05d0\\u05e8\\u05d1\\u05e2\"],[\"\\u05e7\\u05e8\\u05d9\\u05ea \\u05d0\\u05ea\\u05d0\"],[\"\\u05e7\\u05e8\\u05d9\\u05ea \\u05d1\\u05d9\\u05d0\\u05dc\\u05d9\\u05e7\"],[\"\\u05e7\\u05e8\\u05d9\\u05ea \\u05d2\\u05ea\"],[\"\\u05e7\\u05e8\\u05d9\\u05ea \\u05d8\\u05d1\\u05e2\\u05d5\\u05df\"],[\"\\u05e7\\u05e8\\u05d9\\u05ea \\u05d9\\u05dd\"],[\"\\u05e7\\u05e8\\u05d9\\u05ea \\u05d9\\u05e2\\u05e8\\u05d9\\u05dd\"],[\"\\u05e7\\u05e8\\u05d9\\u05ea \\u05de\\u05d5\\u05e6\\u05e7\\u05d9\\u05df\"],[\"\\u05e7\\u05e8\\u05d9\\u05ea \\u05de\\u05dc\\u05d0\\u05db\\u05d9\"],[\"\\u05e7\\u05e8\\u05d9\\u05ea \\u05e0\\u05d8\\u05e4\\u05d9\\u05dd\"],[\"\\u05e7\\u05e8\\u05d9\\u05ea \\u05e2\\u05e0\\u05d1\\u05d9\\u05dd\"],[\"\\u05e7\\u05e8\\u05d9\\u05ea \\u05e2\\u05e7\\u05e8\\u05d5\\u05df\"],[\"\\u05e7\\u05e8\\u05d9\\u05ea \\u05e9\\u05de\\u05d5\\u05e0\\u05d4\"],[\"\\u05e7\\u05e8\\u05e0\\u05d9 \\u05e9\\u05d5\\u05de\\u05e8\\u05d5\\u05df\"],[\"\\u05e7\\u05e9\\u05ea\"],[\"\\u05e8\\u05d0\\u05de\\u05d4\"],[\"\\u05e8\\u05d0\\u05e1 \\u05d0\\u05dc\\u05e2\\u05d9\\u05df\"],[\"\\u05e8\\u05d0\\u05e1 \\u05e2\\u05dc\\u05d9\"],[\"\\u05e8\\u05d0\\u05e9 \\u05d4\\u05e2\\u05d9\\u05df\"],[\"\\u05e8\\u05d0\\u05e9 \\u05e4\\u05d9\\u05e0\\u05d4\"],[\"\\u05e8\\u05d0\\u05e9 \\u05e6\\u05d5\\u05e8\\u05d9\\u05dd\"],[\"\\u05e8\\u05d0\\u05e9\\u05d5\\u05df \\u05dc\\u05e6\\u05d9\\u05d5\\u05df\"],[\"\\u05e8\\u05d1\\u05d1\\u05d4\"],[\"\\u05e8\\u05d1\\u05d3\\u05d9\\u05dd\"],[\"\\u05e8\\u05d1\\u05d9\\u05d1\\u05d9\\u05dd\"],[\"\\u05e8\\u05d2\\u05d1\\u05d4\"],[\"\\u05e8\\u05d2\\u05d1\\u05d9\\u05dd\"],[\"\\u05e8\\u05d4\\u05d8\"],[\"\\u05e8\\u05d5\\u05d5\\u05d7\\u05d4\"],[\"\\u05e8\\u05d5\\u05d5\\u05d9\\u05d4\"],[\"\\u05e8\\u05d5\\u05d7\\u05de\\u05d4\"],[\"\\u05e8\\u05d5\\u05de\\u05d0\\u05e0\\u05d4\"],[\"\\u05e8\\u05d5\\u05de\\u05ea \\u05d4\\u05d9\\u05d9\\u05d1\"],[\"\\u05e8\\u05d5\\u05e2\\u05d9\"],[\"\\u05e8\\u05d5\\u05ea\\u05dd\"],[\"\\u05e8\\u05d7\\u05d5\\u05d1\"],[\"\\u05e8\\u05d7\\u05d5\\u05d1\\u05d5\\u05ea\"],[\"\\u05e8\\u05d7\\u05dc\\u05d9\\u05dd\"],[\"\\u05e8\\u05d9\\u05d7\\u05d0\\u05e0\\u05d9\\u05d4\"],[\"\\u05e8\\u05d9\\u05d7\\u05df\"],[\"\\u05e8\\u05d9\\u05d9\\u05e0\\u05d4\"],[\"\\u05e8\\u05d9\\u05de\\u05d5\\u05e0\\u05d9\\u05dd\"],[\"\\u05e8\\u05d9\\u05e0\\u05ea\\u05d9\\u05d4\"],[\"\\u05e8\\u05db\\u05e1\\u05d9\\u05dd\"],[\"\\u05e8\\u05dd\\u05d0\\u05d5\\u05df\"],[\"\\u05e8\\u05de\\u05d5\\u05ea\"],[\"\\u05e8\\u05de\\u05d5\\u05ea \\u05d4\\u05e9\\u05d1\\u05d9\\u05dd\"],[\"\\u05e8\\u05de\\u05d5\\u05ea \\u05de\\u05d0\\u05d9\\u05e8\"],[\"\\u05e8\\u05de\\u05d5\\u05ea \\u05de\\u05e0\\u05e9\\u05d4\"],[\"\\u05e8\\u05de\\u05d5\\u05ea \\u05e0\\u05e4\\u05ea\\u05dc\\u05d9\"],[\"\\u05e8\\u05de\\u05dc\\u05d4\"],[\"\\u05e8\\u05de\\u05ea \\u05d2\\u05df\"],[\"\\u05e8\\u05de\\u05ea \\u05d3\\u05d5\\u05d3\"],[\"\\u05e8\\u05de\\u05ea \\u05d4\\u05db\\u05d5\\u05d1\\u05e9\"],[\"\\u05e8\\u05de\\u05ea \\u05d4\\u05e9\\u05d5\\u05e4\\u05d8\"],[\"\\u05e8\\u05de\\u05ea \\u05d4\\u05e9\\u05e8\\u05d5\\u05df\"],[\"\\u05e8\\u05de\\u05ea \\u05d9\\u05d5\\u05d7\\u05e0\\u05df\"],[\"\\u05e8\\u05de\\u05ea \\u05d9\\u05e9\\u05d9\"],[\"\\u05e8\\u05de\\u05ea \\u05de\\u05d2\\u05e9\\u05d9\\u05de\\u05d9\\u05dd\"],[\"\\u05e8\\u05de\\u05ea \\u05e6\\u05d1\\u05d9\"],[\"\\u05e8\\u05de\\u05ea \\u05e8\\u05d6\\u05d9\\u05d0\\u05dc\"],[\"\\u05e8\\u05de\\u05ea \\u05e8\\u05d7\\u05dc\"],[\"\\u05e8\\u05e0\\u05df\"],[\"\\u05e8\\u05e2\\u05d9\\u05dd\"],[\"\\u05e8\\u05e2\\u05e0\\u05e0\\u05d4\"],[\"\\u05e8\\u05e7\\u05e4\\u05ea\"],[\"\\u05e8\\u05e9\\u05e4\\u05d5\\u05df\"],[\"\\u05e8\\u05e9\\u05e4\\u05d9\\u05dd\"],[\"\\u05e8\\u05ea\\u05de\\u05d9\\u05dd\"],[\"\\u05e9\\u05d0\\u05e8 \\u05d9\\u05e9\\u05d5\\u05d1\"],[\"\\u05e9\\u05d1\\u05d9 \\u05d3\\u05e8\\u05d5\\u05dd\"],[\"\\u05e9\\u05d1\\u05d9 \\u05e6\\u05d9\\u05d5\\u05df\"],[\"\\u05e9\\u05d1\\u05d9 \\u05e9\\u05d5\\u05de\\u05e8\\u05d5\\u05df\"],[\"\\u05e9\\u05d1\\u05dc\\u05d9  \\u05d0\\u05d5\\u05dd \\u05d0\\u05dc\\u05d2\\u05e0\\u05dd\"],[\"\\u05e9\\u05d2\\u05d1\\u05e9\\u05dc\\u05d5\\u05dd\"],[\"\\u05e9\\u05d3\\u05d4 \\u05d0\\u05d9\\u05dc\\u05df\"],[\"\\u05e9\\u05d3\\u05d4 \\u05d0\\u05dc\\u05d9\\u05d4\\u05d5\"],[\"\\u05e9\\u05d3\\u05d4 \\u05d0\\u05dc\\u05d9\\u05e2\\u05d6\\u05e8\"],[\"\\u05e9\\u05d3\\u05d4 \\u05d1\\u05d5\\u05e7\\u05e8\"],[\"\\u05e9\\u05d3\\u05d4 \\u05d3\\u05d5\\u05d3\"],[\"\\u05e9\\u05d3\\u05d4 \\u05d5\\u05e8\\u05d1\\u05d5\\u05e8\\u05d2\"],[\"\\u05e9\\u05d3\\u05d4 \\u05d9\\u05d5\\u05d0\\u05d1\"],[\"\\u05e9\\u05d3\\u05d4 \\u05d9\\u05e2\\u05e7\\u05d1\"],[\"\\u05e9\\u05d3\\u05d4 \\u05d9\\u05e6\\u05d7\\u05e7\"],[\"\\u05e9\\u05d3\\u05d4 \\u05de\\u05e9\\u05d4\"],[\"\\u05e9\\u05d3\\u05d4 \\u05e0\\u05d7\\u05d5\\u05dd\"],[\"\\u05e9\\u05d3\\u05d4 \\u05e0\\u05d7\\u05de\\u05d9\\u05d4\"],[\"\\u05e9\\u05d3\\u05d4 \\u05e0\\u05d9\\u05e6\\u05df\"],[\"\\u05e9\\u05d3\\u05d4 \\u05e2\\u05d5\\u05d6\\u05d9\\u05d4\\u05d5\"],[\"\\u05e9\\u05d3\\u05d4 \\u05e6\\u05d1\\u05d9\"],[\"\\u05e9\\u05d3\\u05d5\\u05ea \\u05d9\\u05dd\"],[\"\\u05e9\\u05d3\\u05d5\\u05ea \\u05de\\u05d9\\u05db\\u05d4\"],[\"\\u05e9\\u05d3\\u05d9 \\u05d0\\u05d1\\u05e8\\u05d4\\u05dd\"],[\"\\u05e9\\u05d3\\u05d9 \\u05d7\\u05de\\u05d3\"],[\"\\u05e9\\u05d3\\u05d9 \\u05ea\\u05e8\\u05d5\\u05de\\u05d5\\u05ea\"],[\"\\u05e9\\u05d3\\u05de\\u05d4\"],[\"\\u05e9\\u05d3\\u05de\\u05d5\\u05ea \\u05d3\\u05d1\\u05d5\\u05e8\\u05d4\"],[\"\\u05e9\\u05d3\\u05de\\u05d5\\u05ea \\u05de\\u05d7\\u05d5\\u05dc\\u05d4\"],[\"\\u05e9\\u05d3\\u05e8\\u05d5\\u05ea\"],[\"\\u05e9\\u05d5\\u05d0\\u05d1\\u05d4\"],[\"\\u05e9\\u05d5\\u05d1\\u05d4\"],[\"\\u05e9\\u05d5\\u05d1\\u05dc\"],[\"\\u05e9\\u05d5\\u05d4\\u05dd\"],[\"\\u05e9\\u05d5\\u05de\\u05e8\\u05d4\"],[\"\\u05e9\\u05d5\\u05de\\u05e8\\u05d9\\u05d4\"],[\"\\u05e9\\u05d5\\u05e7\\u05d3\\u05d4\"],[\"\\u05e9\\u05d5\\u05e8\\u05e9\"],[\"\\u05e9\\u05d5\\u05e8\\u05e9\\u05d9\\u05dd\"],[\"\\u05e9\\u05d5\\u05e9\\u05e0\\u05ea \\u05d4\\u05e2\\u05de\\u05e7\\u05d9\\u05dd\"],[\"\\u05e9\\u05d6\\u05d5\\u05e8\"],[\"\\u05e9\\u05d7\\u05e8\"],[\"\\u05e9\\u05d7\\u05e8\\u05d5\\u05ea\"],[\"\\u05e9\\u05d9\\u05d1\\u05d5\\u05dc\\u05d9\\u05dd\"],[\"\\u05e9\\u05d9\\u05d9\\u05d7 \\u05d3\\u05e0\\u05d5\\u05df\"],[\"\\u05e9\\u05d9\\u05dc\\u05d4\"],[\"\\u05e9\\u05d9\\u05dc\\u05ea\"],[\"\\u05e9\\u05db\\u05e0\\u05d9\\u05d4\"],[\"\\u05e9\\u05dc\\u05d5\\u05d5\\u05d4\"],[\"\\u05e9\\u05dc\\u05d5\\u05d7\\u05d5\\u05ea\"],[\"\\u05e9\\u05dc\\u05d5\\u05de\\u05d9\"],[\"\\u05e9\\u05dc\\u05d5\\u05de\\u05d9\\u05ea\"],[\"\\u05e9\\u05de\\u05d9\\u05e8\"],[\"\\u05e9\\u05de\\u05e2\\u05d4\"],[\"\\u05e9\\u05de\\u05e8\\u05ea\"],[\"\\u05e9\\u05de\\u05e9\\u05d9\\u05ea\"],[\"\\u05e9\\u05e0\\u05d9\"],[\"\\u05e9\\u05e0\\u05d9\\u05e8\"],[\"\\u05e9\\u05e2\\u05d1\"],[\"\\u05e9\\u05e2\\u05dc\"],[\"\\u05e9\\u05e2\\u05dc\\u05d1\\u05d9\\u05dd\"],[\"\\u05e9\\u05e2\\u05e8 \\u05d0\\u05e4\\u05e8\\u05d9\\u05dd\"],[\"\\u05e9\\u05e2\\u05e8 \\u05d4\\u05d2\\u05d5\\u05dc\\u05df\"],[\"\\u05e9\\u05e2\\u05e8 \\u05d4\\u05e2\\u05de\\u05e7\\u05d9\\u05dd\"],[\"\\u05e9\\u05e2\\u05e8 \\u05de\\u05e0\\u05e9\\u05d4\"],[\"\\u05e9\\u05e2\\u05e8 \\u05e9\\u05d5\\u05de\\u05e8\\u05d5\\u05df\"],[\"\\u05e9\\u05e4\\u05d9\\u05d9\\u05dd\"],[\"\\u05e9\\u05e4\\u05d9\\u05e8\"],[\"\\u05e9\\u05e4\\u05e8\"],[\"\\u05e9\\u05e4\\u05e8\\u05e2\\u05dd\"],[\"\\u05e9\\u05e7\\u05d3\"],[\"\\u05e9\\u05e7\\u05e3\"],[\"\\u05e9\\u05e8\\u05d5\\u05e0\\u05d4\"],[\"\\u05e9\\u05e8\\u05d9\\u05d2\\u05d9\\u05dd \\u05dc\\u05d9\\u05d0\\u05d5\\u05df\"],[\"\\u05e9\\u05e8\\u05d9\\u05d3\"],[\"\\u05e9\\u05e8\\u05e9\\u05e8\\u05ea\"],[\"\\u05e9\\u05ea\\u05d5\\u05dc\\u05d4\"],[\"\\u05e9\\u05ea\\u05d5\\u05dc\\u05d9\\u05dd\"],[\"\\u05ea\\u05d0\\u05e9\\u05d5\\u05e8\"],[\"\\u05ea\\u05d3\\u05d4\\u05e8\"],[\"\\u05ea\\u05d5\\u05d1\\u05dc\"],[\"\\u05ea\\u05d5\\u05de\\u05e8\"],[\"\\u05ea\\u05d5\\u05e9\\u05d9\\u05d4\"],[\"\\u05ea\\u05d9\\u05de\\u05d5\\u05e8\\u05d9\\u05dd\"],[\"\\u05ea\\u05d9\\u05e8\\u05d5\\u05e9\"],[\"\\u05ea\\u05dc \\u05d0\\u05d1\\u05d9\\u05d1  \\u05d9\\u05e4\\u05d5\"],[\"\\u05ea\\u05dc \\u05d9\\u05d5\\u05e1\\u05e3\"],[\"\\u05ea\\u05dc \\u05d9\\u05e6\\u05d7\\u05e7\"],[\"\\u05ea\\u05dc \\u05de\\u05d5\\u05e0\\u05d3\"],[\"\\u05ea\\u05dc \\u05e2\\u05d3\\u05e9\\u05d9\\u05dd\"],[\"\\u05ea\\u05dc \\u05e7\\u05e6\\u05d9\\u05e8\"],[\"\\u05ea\\u05dc \\u05e9\\u05d1\\u05e2\"],[\"\\u05ea\\u05dc \\u05ea\\u05d0\\u05d5\\u05de\\u05d9\\u05dd\"],[\"\\u05ea\\u05dc\\u05dd\"],[\"\\u05ea\\u05dc\\u05de\\u05d9 \\u05d0\\u05dc\\u05d9\\u05d4\\u05d5\"],[\"\\u05ea\\u05dc\\u05de\\u05d9 \\u05d0\\u05dc\\u05e2\\u05d6\\u05e8\"],[\"\\u05ea\\u05dc\\u05de\\u05d9 \\u05d1\\u05d9\\u05dc\\u05d5\"],[\"\\u05ea\\u05dc\\u05de\\u05d9 \\u05d9\\u05d5\\u05e1\\u05e3\"],[\"\\u05ea\\u05dc\\u05de\\u05d9 \\u05d9\\u05d7\\u05d9\\u05d0\\u05dc\"],[\"\\u05ea\\u05dc\\u05de\\u05d9 \\u05d9\\u05e4\\u05d4\"],[\"\\u05ea\\u05dc\\u05de\\u05d9\\u05dd\"],[\"\\u05ea\\u05de\\u05e8\\u05ea\"],[\"\\u05ea\\u05e0\\u05d5\\u05d1\\u05d5\\u05ea\"],[\"\\u05ea\\u05e2\\u05d5\\u05d6\"],[\"\\u05ea\\u05e4\\u05e8\\u05d7\"],[\"\\u05ea\\u05e7\\u05d5\\u05de\\u05d4\"],[\"\\u05ea\\u05e7\\u05d5\\u05e2\"],[\"\\u05ea\\u05e8\\u05d0\\u05d1\\u05d9\\u05df \\u05d0\\u05e6\\u05d0\\u05e0\\u05e2 \\u05e9\\u05d1\\u05d8\"],[\"\\u05ea\\u05e8\\u05d0\\u05d1\\u05d9\\u05df \\u05d0\\u05e6\\u05d0\\u05e0\\u05e2\\u05d9\\u05e9\\u05d5\\u05d1\"],[\"\\u05ea\\u05e8\\u05d5\\u05dd\"]],\"hovertemplate\":\"city_name=%{customdata[0]}\\u003cextra\\u003e\\u003c\\u002fextra\\u003e\",\"legendgroup\":\"\",\"marker\":{\"color\":\"#636efa\",\"symbol\":\"circle\"},\"mode\":\"markers\",\"name\":\"\",\"showlegend\":false,\"x\":[-1350.9275023187813,-1144.3020993190573,-739.986900422347,-1372.3604010130941,-1336.9459534132263,-1357.7830743852253,-1311.9859519769461,-1308.3388578413067,-1354.3977056444526,-1331.4103792175724,-1287.2719178035475,-1224.3444439507177,-1249.967950858373,-1179.6776543120027,-1110.7064860700546,-1224.1015831863438,-1163.6103990238369,-1334.1427645868584,1864.6661364448298,-1285.4409861531612,-1199.7978162151906,-1024.5283874388642,-1263.913844074639,-996.8930498386806,-1303.4664127877347,-1294.7362379157332,-1300.4920021286096,-1306.2226204706144,-1174.7326265764339,-1139.1490230129268,-1337.551329460882,-1285.798079774605,-855.4967252620592,-1358.5404065200746,-1336.8038681416044,-1208.533278051916,-1220.02755127134,4754.825031498855,-1320.7041195312731,-1208.2916436680002,7707.077747169729,3653.6589446798225,-1128.8400113519474,-1250.2826135490263,-1317.8671307310908,-1294.4215320534947,764.0413755637478,-1265.1117277593073,1583.274748890644,-1316.990901612023,-1233.0975095123167,-757.1114642618126,-1129.6293437527672,-1138.3854790595333,-1031.8632010271722,-979.9464560744636,-1354.1257211839475,-1345.5814935775165,-1258.8294353869135,-1181.7647638894146,-1163.9476355590973,-1314.6256761222191,-1245.1123400740823,8880.026863022676,-1194.6379330554291,-1213.3723295565428,-1248.2764814332352,-1175.4354225763307,-1312.5870792396618,-1233.3227939201965,-1287.2204951844922,-1166.937168157592,-1126.0821085651335,-878.5143697115959,-1161.7544389126733,-1318.1362962951796,-1365.848115773393,-1232.0541349679772,-1292.150517167458,-483.33512184275014,-1289.6248217143593,-1345.571473743299,-1180.3785808267914,-1175.076197646797,-1206.2796673830585,-1080.5076599905885,-1297.1253925509536,-1331.1483324593396,3149.637311623725,-951.2056331129753,-1366.5411963271567,607.6293915942117,-1295.2933099242096,-631.514019552395,-1276.081515788013,-1157.3724423162125,-1254.2847943540485,-1267.8933614643943,-1329.9809468334133,-1264.2729649084004,-1369.056333857444,-1288.4259471817863,-1061.1223132634864,-1309.568899697246,-1306.4988552504033,-1155.666004880173,-1218.339208458135,554.7630138514828,-1215.8491561693677,-1342.0365320698545,-1265.4099563892937,2712.259491470634,-1339.9740913868156,-1225.2212549298938,42378.821837525764,-1198.373311564612,-1231.600383890038,-1217.6893412655907,-1245.4827538457334,-1345.4990412531688,-1253.7434961289102,30335.039858861433,-1216.754052376508,-1118.8007706871815,-1022.9223089336674,-1155.319613180672,-971.1795264337528,-1118.395021429647,4885.162385715893,-1346.8756516962983,42159.427296274094,-1298.7521919366927,-1143.9572125271611,-1197.2445835047006,-1133.8084698707396,-1201.056426040591,-1320.958190777194,-1119.0185124671598,-1177.093577331466,-1133.5003593692336,-1108.7422252942713,-1177.7301331889514,-1345.0692360060712,-1175.154439143206,-1305.0122250611432,-446.573593270629,-1032.9909665219604,-1191.854900394849,-114.21553311475496,-1294.4788122223529,-1173.3881559731644,-573.2729088012902,503.5973865153201,-1135.763163441623,-1211.9719677442206,-1227.4434209746908,-1252.9416150964032,-1302.6969055469167,-1126.9721802375022,-1350.982377971487,-1081.5814548017956,-1257.8225194949566,-1098.1795140509232,-1209.6517227360873,-1301.407209049321,-1230.729132531997,-1190.9027934624783,-866.789932880175,-1154.2674730239619,-1239.8088746723988,-1298.2213322514026,-886.2536301238013,-1196.400919456767,-1285.8509064337513,-1166.7355249393213,-1259.0050503253801,-1221.3702764684203,-1303.7970966236574,-1211.2788358547027,-1101.734026856282,-1098.3507235666639,-1361.1522529411159,-1167.013778517907,-1278.0941103411283,-1300.3352919843128,-1270.2575071882275,3329.2487914617896,13206.006799946379,-1221.3053137404513,-1194.1658322097874,-1338.8593263033356,3426.515634922402,-1252.0475549252142,-1149.0408668968528,-1220.3291318681272,-1304.4808978467627,-1180.9683285309088,16936.780448367765,-1156.4460468953112,-1226.416885019342,-1162.6992818333727,-1131.377965303146,-1272.8723064597202,-1195.9385500393898,28.431925149777285,-1121.13857884491,-1101.4740273294744,-1179.853640943657,1704.721515488999,-1234.865867700034,-1247.1616046770594,-1236.3956270901867,-1134.4977570962228,-1253.445285456688,-1160.8343905371025,-1327.4288149355482,-1222.2018348144074,-1205.6700871893486,-1122.9823116390457,-1189.2184308852245,-1235.089766782627,-827.8440451885014,-1096.1454040989524,-1263.4848104741382,-1275.489096355898,-1283.0046835982253,-887.001904695195,-971.7903869081026,-1183.8022732207664,-1280.4862164545918,-130.72559847937328,25341.676364214523,-1179.0949208721522,-1250.095327654345,-1292.070770086593,-1147.440348484859,-1121.649919812403,-1313.6015013639717,-1272.7280470329715,-1254.929219783477,-360.2268849489576,-1138.9719821292454,-1234.4130310133623,-1104.9294577521352,-1146.287261384434,-848.9164520205869,-930.3448239250461,-868.9462386252354,-1230.9431849595894,1908.0318616096004,-1163.7970310052501,-1169.7843991951313,-1291.2853926429664,-1238.8606409696472,-1113.1737343684965,-1247.3232230625722,-1145.6455904627474,-1208.8860315445042,-1292.8807587319566,4209.924677592032,-1306.606615841316,-1143.8448119779696,11580.401529607288,-1248.86962414929,-1184.284774594602,-1292.2216422838849,-1050.5803321985863,-1257.1254804670111,-1269.7675616844272,4765.53204923449,-594.5772343202076,-1300.1148765653427,-1242.2485962559533,-1315.9369186524887,-1234.5667548160122,-1303.7396427796368,-1194.8924558406868,-1289.5421964324285,-1321.5132301555284,-1106.300367216172,-974.8399903744724,-1217.78341844701,-1261.771280979555,-1165.232686820874,-1320.3893149686116,-1304.9434480931154,-1272.1918498788627,-1235.2701322342025,-1334.361891702957,-1289.5454918569344,-1271.2772669208603,-1195.7886200063745,-1259.639490566343,-1187.085573609238,-1214.1015079500282,-1181.0356969900788,4442.720868819155,-680.2570656665257,-1291.0045446607899,-1265.028819706928,-1200.6151967603112,-1363.6894246604893,-1269.188572736755,-1132.6292358308206,-1291.3968979086703,-1243.841102213847,-1200.272101818143,-905.2303543017514,-1308.7713871871729,3820.3130528263723,-1208.6206018207663,-1195.2016779007763,-1250.70317018255,-1273.1430474186768,-1308.1507513826934,-1250.7855625326902,-1318.425463688999,-1295.1734648558333,-1038.5301664420886,-1255.6184594962401,-1229.379230556456,-1314.6909684709358,495.21338384573335,-1317.8786866746784,-1235.2911552127318,-1192.6213286324576,-1276.2258367458728,-1267.708422004976,-1229.6587766391217,-1248.5305601771804,-1134.853458859402,-1287.767171498236,-1236.8860023796922,-1364.5433109139838,-1101.7905086647243,-1150.1188844920296,7259.7643821699585,-1281.349590642673,-1225.8020259508462,-1119.800220277914,-1366.1573122045938,-1247.3680966064144,-1207.8843777468944,-1300.8317282464802,-1326.021629531328,-1344.1647801190904,-1298.9143522213826,-1168.0643445885753,-1208.433076694322,13591.139865787773,-1207.521564004747,-1356.3802535151892,-1356.252823706671,-1023.3315924807245,-1197.92084618162,-1216.0175520507664,-1216.6839321138596,-1179.7378336099125,-1246.0115372430193,-1221.5850583087108,-1158.085198237216,-1237.639823227373,-423.2697905230584,-1031.751793741413,-1345.3235184912758,-1335.8642734916625,-1306.3257545582499,22765.57153111657,-1285.902718270929,-1283.5903027949598,-1308.252852071738,-1208.4487948249457,-1285.0207319983533,-1195.5605031201212,-1043.0823129227333,3502.373246457943,-1048.2504523282355,-1284.1560621345586,-1209.5469264960213,-1232.266921470473,-1252.773953142091,-1176.3856233157771,-1188.8571969506033,-1293.323392177443,-1207.5553646457417,-1302.3817133738642,-1127.7488034854584,-1276.333293830387,-1230.820895915266,-1145.9722170826622,-1185.094432262155,20631.231922060106,-1353.9749344029285,-1156.8593330222338,42886.513705119585,-1345.1248111638529,-1264.4607366112002,-1108.8425494557698,-1360.4009449247308,-1161.7962672666686,-1272.0635772418707,-1199.382358106971,-749.0457252535654,-1303.6562207709153,-1269.1831297774577,-1214.2476230509112,-1115.5885587577518,48826.28558502317,-1107.3940547948966,-1277.2583158632992,-1242.7461456386643,-1346.440350969737,-1209.3083323151254,-1285.7602708521345,-1328.4760801644827,-1330.5190238690982,-1197.2423952475986,-1232.3106707968957,-1223.236152837051,-1161.4597652590244,-1262.959421809437,-1219.4688759145315,-1067.337805620772,-1233.5306239257973,817.9540202793463,-1226.7782165091223,-1181.2864244505959,-1200.670651771957,-1192.2677047938525,3173.178421769362,-1311.6171979024991,-1330.598908538378,-840.9028261755893,8046.92770608647,-1260.6458067522499,-1164.0771949816922,-756.708829294984,-1347.9044837386489,-962.8065689876969,-1106.755687497522,5575.7644257695765,-1248.624339521439,-1148.815501688419,-1073.1121940900523,-1258.7644503404385,-676.5542388054469,-690.712312975132,-1352.2033755956652,-1221.733385593237,-1291.2167122199542,-895.5610761605059,-1307.924380956793,-737.2722512227817,11178.871440354022,-1084.7823267454294,-1127.4648002779495,-791.1180713948941,-1336.1212264241558,-1181.1018157940566,-1215.9960244785445,-1254.864371217563,-1050.8054236124656,6645.362459677499,-1325.63994392121,-1228.1268375007928,-1094.3287497334911,-1232.3494859121265,-1273.0154405627584,-1253.0976061595256,-1268.430132858982,-1235.3725995126251,-1245.6141281630103,-1305.7049779225022,-1179.8750132389516,-1173.8819695687152,-1051.942239519696,-1022.450121738797,-1314.9611914927643,-1220.1908097452192,-1233.0979727721228,-1322.7872264351747,-1190.3833080353825,-999.1192052665355,-1328.3239032784766,-1143.933565331726,-1238.433602335692,-1173.1375504774364,-1175.0528368273153,-1241.1109700393424,-980.9081488020837,-1087.6603795208468,4098.145208715836,-1301.6203302584017,-1257.3521727740372,668.1657003099796,81791.54005355683,-1096.0689959752774,656.1309887967637,-1286.593156187514,-1277.4177889511113,-1190.831017767885,-1104.621894445647,-1252.9316513971546,-1184.8211114773019,-1321.175917816818,-1160.2244883154399,-1350.5065927153723,-1025.003335449556,875.8284207166997,-294.05761142927406,-1155.7675504466872,-1297.556927201007,-1273.4061878733644,-1327.3063152409768,-1324.8899412640528,-1340.5600232521563,-1290.5775534939473,-1305.6476908444886,-1343.5821193216643,-1337.1052471961423,-1247.1246202911555,-1294.1962676296832,-1212.6107274292012,-1223.4069124489617,-1131.8837610267763,-1280.054700635918,-868.310053741885,-1149.9891121438243,-1208.974464498515,-621.7531498360032,-1212.5968718711958,-1198.8964011734008,-1224.2067964134599,-1131.767107947669,-1187.7959981350741,-1211.8288382847586,-1325.5303677723002,-1234.2726008250675,-1327.883582415068,-1347.5823197535049,-1303.9555110668537,-1263.8072310830669,-1237.679143647585,-853.3549077077593,-1250.466879529508,-1280.4445468142474,-1143.6816243810972,-1245.1450193731314,-1077.5955565483118,-1180.0431315277017,-1187.4728260804566,-995.5670558210979,-1120.683988456683,-204.52569546369145,-1203.27852803922,-452.40903334567116,-1179.3808895283248,-1216.7093914420602,-1240.6265397194086,-1194.9396341634038,-1228.2499050814934,-1314.2569580028664,-1270.6310928458956,-1185.5929496912559,-1061.1885739272554,-1228.9589814896847,-1138.6672240460023,4913.073878374784,-1150.54792015822,-1213.581908399853,-1133.560256298236,-922.492785177227,-1189.4587779868732,-1242.8111432992703,-1290.495565711079,-1031.1262507147592,-1145.8445071570634,-1231.1132538854579,-1320.147778041679,-1242.5059376528247,-1165.5909648504069,-1245.7769317244756,22167.82591472419,-1362.508731598228,-1066.1518747648984,-1182.1336230349314,-1245.1118064101713,-1273.0532543035367,-985.2037939686987,-1237.7991368210487,-1105.889046741584,-1082.0377452405792,-1292.03851650035,-1284.2212205934707,-1311.9305286073468,-1260.740496769184,-1175.422033160112,-867.0106988792306,-389.7693671800698,-1185.6734469962457,-1260.2588177744628,-1237.7526114945597,-1337.1157349680484,-1190.2943629503488,-1338.9709774123094,-980.9375008514172,-1226.460095429761,-1282.7250834312426,8284.780092609864,-1246.3036049364161,-1325.162425063328,-1300.5807076840815,-1209.3791486633913,-1259.929778831748,-1265.1037469865494,-1253.910535196865,-1227.828126946879,-1206.332584239685,174.698460814377,10224.530608794003,-1218.4734378980525,-1214.7494140045715,-1254.5681511562282,-1346.0830281196093,-1194.9774395638449,-1201.0036202977644,-846.8687376923616,-1329.3453048861065,-1253.3700096433013,-1075.7809711457949,-1350.2521217469605,-1174.6060785686013,-1279.7361855330632,-1028.4154931027965,-1286.561941726213,-1343.7165354953456,-1063.9985872229329,-1255.2180248918814,-1243.9368681010358,4559.69776317729,-254.1260266493964,-1130.99674222479,-1102.9234612967016,-956.7408302860333,4355.441652152756,-1320.407536531357,-1253.1442862540766,-1291.6934310241686,-1190.5671773186743,-1142.3343540181097,-1279.0269855007894,-1215.8909793670482,-1165.2080481623918,-1187.155515233505,-1136.116459256939,3455.8906283222937,19594.58102966323,-1142.9124324203815,-1049.8624361215534,-1336.7380831365103,-1265.1511299967658,-1113.1677150824644,-1129.613446706969,2178.83427001454,-1228.472733321348,-1298.727946675766,-1277.7950048864216,-1333.532350741798,-1340.0219799503373,-1331.7205553851597,-1348.4087357347387,-1325.1740472828792,-1353.1586164620617,-1327.06138796,-1222.3618089995264,-1265.7695270067652,-1078.6409437991508,-1213.1038365213255,-1309.7350816087555,-1231.788462768738,-1352.7801328875319,-1339.1334671471725,-1248.0288304185954,-1282.55472195747,-1217.699603957871,984.2544096706746,-1337.9063084540858,-1350.3127117936733,-1110.8234527914308,-1269.1293060858077,-1270.114216344196,-1248.1295935286496,-1292.968430723071,-1203.5472751379782,-1208.3684673370153,-1248.970012375771,-1090.851692202182,-1332.3438634954355,-1350.4021779467062,-1280.6048676850523,-1318.3115746491944,-1281.4242382905265,-1159.9661554428153,-1192.3959430264886,-1351.9676744991648,-1267.9754728236499,-1218.0956343332466,-970.9454553824971,-1292.301316630278,-1044.112973268526,-1271.5964725248034,-1299.5473726567748,-1152.1744864576483,164354.3818575969,-1194.4678695097366,-1257.2352811588378,-1206.110055865677,7367.239085666666,-1108.0108837043053,-1287.3654325797643,-1257.5871927227183,-1237.2593737409316,-1252.1627568587671,-1074.809965196524,-1146.3769298193336,-1293.37211465815,2271.9374734120315,-1228.1076253328922,-1169.2572063881419,-1200.278099307688,-1262.5453037604464,-1132.201952873502,-1031.175095749843,-1335.8423903644546,-1165.986196539645,-1307.618871128002,-992.2419450640705,-1228.7504502241707,-652.8059472142216,-1317.9515108819962,-1304.0010022782824,-1328.5225736236732,-1271.543054743676,-1214.2794388561997,-1315.957435510273,-1208.2561559288715,-1118.0949265355985,-908.3848821344337,-1284.7301806109851,-1213.0923140822417,-1317.9450674950215,-1268.3028726485375,-1308.5842789794292,-1259.0078800816532,-1345.4211025591774,-1240.4497866634597,-1136.295097416396,-1174.337498175555,-1175.4857626719026,-1173.1869326694657,-1124.606598956033,-1271.0304771863878,-1167.3844126510019,-1165.9864429817442,-1106.057433066492,-600.8164085828765,-1341.5977727977563,-1299.5909510107115,-1242.1312925930783,-1318.6693856741724,-1240.586299290223,-1331.5318992100347,-1334.2722396002798,-1108.6702096282843,-1207.7093618916654,-1310.2272818857766,-1045.548618573369,-1141.5002266956544,13205.27018809236,-1245.073104656394,-1224.472037975876,-1160.3423479518972,-1276.2731534747238,-1293.9914595189382,-1334.2264016490612,-1176.186305401249,-1332.7416617254935,-989.7926454358334,-1365.6586190863204,-1189.95550689032,-1308.6229487490725,-1049.8839481118368,-1115.5490372192382,-1226.715694474332,-1209.5006666098602,-1357.409080685176,-1259.803525539317,-962.9564286795643,5187.093478058457,-1168.2236618259064,-765.3286526121271,-1219.5207816870013,-1012.7908031721474,-983.304885565484,-1325.0580204486373,-1163.6986485744985,-1284.6757496162923,-1212.7667650380154,-1292.7618657219305,-1113.7182368952801,-1228.2201044455712,-1177.7726949218095,-1225.8660132940627,-1275.1728963704263,-1296.7793396689126,-1282.870142302237,-1297.0395187195115,-1288.2969428119723,-1199.411395074492,-1302.2378149458962,-1311.0430518452486,-946.0855081269613,-897.7832826195742,-1230.9440004117594,-1347.46845380772,-1319.8979784032053,-1134.526022265321,-1252.7240041870664,-1278.5026916985796,-1202.2778620986162,-1180.8168903069084,-1226.2024071424473,-1254.0285881245259,-1230.3649767183301,-1280.3803661086547,-1178.9422834374989,-1251.7062787893947,-1299.322336259623,-1265.564887365144,-1273.895453144622,-1245.2956169626325,-1110.005986288351,-1282.7679092004557,-1131.722887754587,-1120.8132451864724,-1288.9614726864402,9469.600343198179,-1351.1610476758074,-827.9592726665804,-1323.598127197992,-1056.2221787237768,-1369.6980959732234,-1282.6065592529162,-1206.9796982064827,108.03638713279511,3721.55868354068,-1327.4256878570102,-1261.4322767184028,-1135.4350457981532,-1242.3224695669153,6200.0441286425075,46955.54125185915,-1000.8602579523572,-1299.7137727693394,-252.3000367415485,-1229.6562255111642,-1371.57638880159,-1323.1644418031149,-1181.7088743653321,-1336.7612113616503,-853.4646013685332,-1353.5387818975087,-1301.5154537694636,-1110.747048908007,-1344.4927368986484,-1288.1338688095718,-1226.9887207933868,-1354.870807122124,-1195.4834177340574,-1289.3272252256745,-1143.6641448826142,-1192.362506280844,-1215.405771016463,-1258.8813219929393,-1241.639489675306,-908.750508817391,-1287.489926800656,-1260.5740885724606,-1338.9458359540824,-1133.1468800631674,521.294178349107,-1262.748729621108,-864.8784130611982,-1223.59323310627,-1368.1808782855642,-1173.019410079079,-1132.9151130419204,-1036.8239818837048,-979.6147229893551,-1372.2796719639073,-1285.578200366455,-1305.107521781054,-1067.1836251490495,-1357.6194225369059,-1253.7041576837707,-1159.3993438466232,-1298.8944234633389,-1280.9186275937357,-1282.5064637153744,-1182.5302842625956,-1160.57514775881,-1274.883509015901,-1221.8811802275764,-1218.6198265470555,-1286.3312008204846,-1133.4350581026854,-1229.2554121362568,-1304.9986168633486,-1037.5952856484485,-1286.0722805825314,-1369.1851948085057,-1246.3596928056872,-1214.541673302366,-1224.6886242743224,-1115.2054585849778,-1235.48732679641,-1206.3591552609591,-1302.396416669317,-1256.4351670550634,-1259.0287564828243,-1362.3174033517435,-1355.4096414029495,-1237.2521705522583,-1018.7975704588345,-1330.9186488439184,-1221.8900142791808,7057.265659303188,-1296.4449109155269,-767.4148344893283,-781.0011855471874,-1152.8032274691507,-1009.2558159439775,-1339.843083003111,-1341.3247358653953,-1179.8549296812914,-1279.4407826074635,-1298.1015484822537,-1221.6683987352208,-1267.7517730168213,-911.8704924739634,-1166.2448386992583,-1208.587570115735,-404.1665234120212,11246.990806053429,-1119.601703451502,-1052.3528917298174,-1306.8566600315273,-1278.7974893470594,2481.266461043821,-1154.1047899991602,-1111.806396801296,-1217.032165625867,-1115.2455852392093,815.6143191059456,-1266.6796516518623,-1276.640555755552,-1050.0552764859929,-1262.1294026737953,-1128.7199789764652,-1281.6440582128432,-1023.2274692021116,-1103.9912471004213,-1223.0918260644091,-1072.3915079200822,-1121.6358705487876,-1358.3591923931074,-1217.8660918049222,-1299.8236137407475,-1056.7431485534773,-1246.5474205880505,-1242.0717694579446,-1281.2796738896027,-974.7888969929924,-1246.9239746898006,7782.2167356293585,512.8610486346604,-1264.9089971790895,-1258.9607041245315,-1320.8398655355602,52393.12492585398,-1144.3606554465425,-1291.9949809562818,-1309.3351114193792,-1334.8214015382196,-1254.0496362525394,-1235.0456704361266,-901.306738551413,-1131.7432055229879,-1287.6776658591202,-1324.2362909606143,-1335.8671781335531,566.0886608023616,-46.69491822812051,-782.9477991102272,-1302.0629091318167,-1268.49413158253,-1157.6131030515176,-1189.3260885097716,-1121.7483240902204,-1359.1783030665322,-1222.3954990084278,-1286.8245234962803,3792.5491165940307,-1138.6780885333226,-1226.1577976979822,-1362.5757017469925,-1246.750974867606,-643.1880896586417,3636.2598423437216,-1253.2886954336336,-1008.7406729352363,-1029.052219571186,-1327.016725394158,-1361.63778804589,-1363.0251493467488,-1338.2754209263594,-1205.0895147389251,-1310.5457638596279,137.43444381622245,-1252.211274362176,-1276.2295329720132,-1079.3041706068575,-1301.637096396394,-816.1486129919429,-1349.0987742995276,70.86187811842576,7961.091628733737,-141.04876367025076,12794.297929729164,8777.382580819176,11059.44083110014,2188.600547712406,7544.761517230624,-817.1619463225713,10076.78289601464,3835.963097926188,-1230.048397534584,-1301.611337489289,1335.703015443155,3802.825064533654,460.8793182454551,-1271.096718062325,-880.5838395930044,-1356.4925634594445,-1360.8664852851414,14696.303592046359,-711.3598951447356,-1232.8534489421177,59621.839722039345,-986.6627543577019,-1233.7095402420014,-1250.884981436115,-1120.2932743690585,-1265.574631486641,-322.69488606052124,-1205.772665747121,-1283.0596887428362,-1257.926037214799,-1354.4321721460703,-1294.328687478641,-1335.6097567721738,-1347.0562058061032,-1237.9705215688593,29125.75612883117,-1255.4426682873209,-1263.4210894456419,-1301.6421555768118,-1101.8827429982944,-1208.3976934087925,-1140.4011764075976,-50.33413510411764,-1190.1185143975351,-1239.1113813851418,-1028.3994999900865,-1223.4257974645343,-1141.4546236306503,-1254.8967124576143,12640.518145474556,34965.73580283908,-1266.6071195353184,-1203.3744262725993,-1197.2027831734079,9532.806203339838,-1186.7433477673915,470.49472414436667,-1259.6936781918735,-1240.6378451724913,-1250.7958348075,-1269.5627775538132,-1218.2822320837085,-1284.4025279946181,17200.334081556834,-1159.1203145345376,-1098.3135806549021,-1191.3710173869526,-1309.4526043769558,-1242.8331726427487,-1326.0487843967358,-1123.039510856636,-1199.311933054122,-1273.7948817503657,-1256.4166944126318,-1257.264710970194,-1240.7938974424715,-1180.5817260584965,-1286.1919958373692,-1206.9433554640398,-1093.7918270216976,-1273.2128655661736,-1181.3721370352278,-1234.109920329437,-1238.5988527927905,-1162.345959309001,-1154.2098770749378,-1289.894526418326,-965.3055686846114,-1228.245588957292,-1155.620252793421,-1288.6327555931425,-1306.8047686116765,-1162.717481514983,-1216.5068882334297,-1272.7905292323105,-1221.2066967531284,-1270.7012083481263,5258.9480262587695,-1234.7118377251256,-1218.8878715837698,-1234.309919860081,3908.040063739165,-1270.5170532614466,-1278.7099998392746,-1272.2420652702037,-1202.5493058340664,-1253.0385955568058,-1238.435479253241,-1265.239243631418,-1211.0158459967756,-1349.428591016328,-1271.7516665472133,-1332.8438857031183,-778.7557532711214,-1227.1087130038102,-1211.9503493987477,-1212.9082310052318,-1302.919033213066,380.83198129642534,-1328.682925558545,-1219.1707315492977,-1229.9103117781638,-1265.1353443740352,-861.6533937880055,-1278.8315356923085,-1250.7282466845093,-1191.5945301516108,-1299.883711111607,-1159.7496172153333,-941.3210295617407,-1266.9921982871026,-1258.218517808528,-1364.8956967314737,360.7241183482989,-1121.0115518221537,-1173.1775666540038,-1263.2854374962042,-260.12389993410727,-1158.831685216711,-1289.9944932703477,-1257.2238531566193,-1183.149676855737,-1202.2349217916994,-1275.925894460235,-1306.8600879088685,-874.2556419423106,-1278.4880805700393,-1213.6428413118563,-1313.6085746359713,-1295.2985420586701,-1266.7729655250596,-1187.652785911559,-1263.1506531350838,95705.7263782103,-1277.275801593077,-1292.0338006580673,1946.6830305293686,-1094.7435281868923,-1284.3066691691854,-1173.9144371228938,-1249.3447926308047,-1313.5952657637447,-1307.4815631604927,-1161.9865358829218,-1232.5106316637396,-1311.713833480216,-1179.4217189811607,-1207.4471912518213,-1188.7598875884805,-1059.937472654445,-1170.3144358682152,-1232.6012835033328,-1182.52993105139,-1205.766408734343,-824.0602327632366,-1353.93314846332,-1276.687596871389,-1162.0636240196338],\"xaxis\":\"x\",\"y\":[-18.628579365022627,-52.93940610011537,-195.6774969834313,-14.778008850780285,-27.049710561157237,-22.205076580079112,-27.799169986501525,-34.42680255627328,-21.47438838904387,-28.391800510088967,-67.26322409715459,-80.84024807059015,34.06777951436893,-116.70124267115544,-152.39871237661276,11.108741899368637,-45.63304126495903,-41.007958522308144,-1456.9689456642157,-1.4695699069004158,-20.76928147468309,112.75461595599722,17.982595525894197,154.74107381785322,-23.610592288319754,-3.150704999744102,18.93961663114756,-42.03644432650604,11.000619707289784,-147.72060703205483,-29.486111034683564,-26.150233718997356,-190.55790972591677,-21.04079419313688,-27.325874477620054,-17.161976834526826,-98.8454414753485,3545.7685078795043,86.43216329285933,-112.78144813816976,1103.47510521714,170.70206457992398,-24.640548547064274,-77.5919670964946,-44.56964057018247,-60.117525737858735,-598.6260360720664,-77.77098709682949,-207.81213933629462,-39.19378238596655,19.71604833581874,-173.32752102072277,48.00670825406833,-43.565891029136694,90.3398953668715,235.78739296630565,-20.94626753839147,-13.520364636789772,-96.27393242599811,-112.71282464755932,-119.75306427820298,-46.79829180041305,-50.34868460493403,-706.49312642084,-73.35428759981224,66.19527450838457,31.132465547389973,-85.37854331727056,-24.225432723627478,171.59709553825377,-53.24268705508558,-165.0121778514735,97.28723931106467,115.95437357189401,-152.97406490432948,-3.30830585884245,-17.329774464830056,-105.24867004816227,-42.48525750666004,87.33698411701972,-50.71895617861266,-31.676376048540835,13.035981930487324,46.94869932666003,-17.831644624280198,-11.44762513912946,-68.67113675229419,-33.28939928046272,9714.059211442365,100.23560569503486,-11.138031033763435,-518.1884149140693,-0.37306830143138636,193.9992719722095,-66.00178387129502,-26.12542024983243,-64.98767802599636,-27.523164237029306,-19.877975960438423,-48.327461945237786,-16.165940411789382,137.46363295796763,-129.8131371258245,-33.426667018394575,-47.116734671596525,-153.86599720891485,-111.93753531877186,425.0249352897533,-41.405160852665766,-12.291281919930173,-80.50149356640368,-181.24834246855963,-33.8269650896314,-9.200702186126366,13926.044352006747,-109.32093887034907,-77.46803273677114,-75.548274149302,-43.91980313531346,-19.92715451245323,-49.631073463328114,1432.3927718187942,-26.22728106186513,22.035879963373382,-165.68461878890812,-77.80734033053567,92.39512813789774,-151.75016237554192,-611.9204545099111,-24.046490511085327,1447.805288643911,-18.216241250252004,-139.3653491802131,-137.1223767463355,-77.84309710368514,-65.73598066436661,-20.003885228501503,-117.62642044830527,-133.8615405995081,46.08194519428548,-160.88882844925277,-119.87074464663257,-20.43262254284735,38.26273973503459,-52.074687198481215,399.07713044824357,-132.38422955905116,-101.92612869115395,-69.24564307751403,-70.4229448782155,24.002360609994703,-472.95576658027613,-43.51533558870469,36.07830930490994,-112.88215798849602,-102.78731871457194,-97.34178190004211,-20.62711915658996,-169.43333154286933,-30.501456450681236,-128.31632533418576,-89.69122827841306,51.26656053841736,-138.3000077490239,256.6666380172115,-95.93313267248993,-116.88726315623681,-177.9567274403408,-149.88273564736824,4.235743186758629,-67.99308876584546,-314.37150232960266,-107.36002658128776,29.51496306167437,-70.82445649846889,-96.63171686300642,-46.606238246706006,-61.619793048318485,-16.61153638745532,-38.97781069234772,5.360662281121403,-5.930387412763449,-140.8568226658693,-77.01738137630282,23.260065997766812,5.947697006694234,1328.1900286505158,20319.171861983585,-100.85930152167717,44.63200316200652,-33.91868902903414,14008.432406293183,-69.39280948015087,58.2573878330891,-63.73505781300841,-47.3324429775496,-92.69931830478627,51115.12440203613,80.21025787191358,4.035047595509693,-129.40624050903426,-89.40353320246405,36.840333783596414,-113.5974122429051,-20.644011543789784,-169.3025693972555,93.44170838176694,-109.2318199670282,-1440.4288527737644,-50.94549102528342,-53.18669364374839,-56.01970791786951,-162.81642553383315,-58.91007243142485,-17.42773998596634,-21.21635848168189,-8.269796220562592,78.19487050144778,100.14678878150515,-108.76984425349278,-6.7243659324649405,82.19753774412888,109.41132033792094,-94.14743774773086,-26.338014455773813,-81.61633607535953,-49.11180734396249,150.41929298997889,-35.888603440367035,-71.71887102227322,-586.2690169157405,-1254.3907443775304,92.3677697241216,-72.10695130260783,-18.702514627580243,-54.52073553559503,-136.7888023591743,-55.21083555531946,-71.89725113611965,-101.43667291008465,361.4926405337835,-97.47659126642186,4.498842093324392,-47.40594602113739,-63.39763257031892,-86.5542565960265,-289.7458837761522,-311.16837644354223,-92.35037846994139,2576.093952768078,-165.97803578394286,-146.03535275990083,-64.8033398349337,-75.31414181380954,-37.92499896897763,-63.011849116889714,-16.70806388919303,-51.40888191594107,-67.04969665250239,13.01643136840935,-59.54740646111406,11.570750717400553,-6172.994100259976,-89.74003398830494,-146.41705288633193,-73.85854602118533,-143.67586760143504,-0.34873697571702766,0.8287323369011944,-979.1886789770483,-251.89746943027714,-61.3521412318442,10.808799283540859,-17.010894984841904,-113.58603550712463,-58.038661409836706,-84.4558733518511,-61.91116564898606,-25.975751091688306,-179.81730187954662,-2.280675169521497,-89.772852556524,-82.00917929442548,-100.84799228416395,-34.34897081718978,-2.7404260687788926,-88.75051921629598,-72.21537185915757,-20.839080414856948,-66.12170537466137,-86.7031342207553,31.066033014855115,-45.06044960454878,-129.3842532040082,-116.11451673185508,-138.1304279592973,-682.0057178567399,-163.96176208796058,-51.61006664195129,-92.25043673948664,-142.8861912019855,-18.05040260769293,-50.389755365850526,-107.82998357812363,-59.64099175181778,28.676244401645597,-59.65322176225407,426.1944250132888,-51.84101805916775,-1547.5775907341847,-73.12905207297233,-131.46983801217868,-84.06902244470176,15.56107693378448,-52.6624966510105,-78.18057158352254,-42.17209001272481,-64.05241481997086,-145.3552895381573,-62.935290095755605,-110.89627291832281,-40.26216167034964,-956.7990932423846,-33.880993124869214,-71.73196923965209,-119.31385460269186,-69.68099532997539,-86.47636985565524,-104.17667630918075,9.607194944156904,78.3216647697364,-50.168288315952815,-97.31027692819085,-18.473985271477165,-71.98003296281001,-38.450803809703984,1281.3056554825719,-4.2443100671602165,-124.70074387963426,58.21077253527222,-15.819468318887067,-105.99000019431818,-113.2886474434476,-40.52710405438512,-17.793364677164764,-29.0323489917591,-67.07589915335684,-122.02418809292803,-120.2633814331863,-6635.714668097578,-8.681556275765152,-20.168889749043192,-18.874129587796038,-27.25937855821995,-141.7061232242651,28.793910954932024,-121.29740563803661,-139.7778470553116,-97.07670088698345,-121.50738335184013,-140.5426172485228,-110.52949036861692,-393.1212353054006,-20.82886065793679,-27.650619221713317,-40.60668981753034,-66.11642449110772,-9140.54047071293,-79.55689705541525,-19.65976872947168,-16.66734692135067,62.81966375198255,-0.09724425032081895,-100.0757649697035,25.0977833090357,-1277.5296797950778,13.71050853273799,-52.85303601840623,28.38981265644275,20.53219667030368,8.671899117832725,-81.12945811388997,72.17121745400426,-46.69285841277398,-17.5793415955362,19.284513241672165,-111.1296726922901,26.1422946057785,-108.01409820512228,8.457853820912963,-70.22986625833217,-1439.1691778698541,-18.843116071066085,-137.9519135200456,-3625.7124151432427,-28.36383146684037,-79.2239139848222,-5.971034754847222,-18.383769525203423,-155.64884719802222,-78.70758148038429,-68.54133562482232,-275.3438337587223,-47.025307391893065,16.228390956517956,-87.951803173935,43.71581361044938,-11714.014601526429,-201.92143938205172,-76.9838567432838,1.279485309550704,-21.132843396840062,27.595678615524985,-55.9710551356126,-1.1703234122747352,-16.27302870411967,-120.00744846071574,-97.63055913464832,-82.30298566844746,72.59226933969012,27.31947021257117,-92.76347527973255,-24.678070886926665,-93.29413866971821,1052.4200611732228,-120.5379945884766,-148.72399615657542,-88.17161014580161,-62.95759334445301,813.6039932776785,-17.609416308091756,-45.25893763101157,159.34151962662037,3257.9529600484116,-44.61098972485181,-91.42988983043449,-282.380646493826,-24.615890808734566,-199.5540323364585,32.69497058010089,125.49987800332852,-12.395561036512785,-127.25244202716048,-146.8447951535753,-56.19050430363662,311.11068217266205,-364.86160394664256,-21.077698936342504,7.295552984410438,12.148894094610943,-180.3838160153292,-43.27938770459243,330.61513255783814,-452.1940386063422,-211.16077137148517,18.16110605562046,401.1820620997265,-29.20237870565234,-116.22711058812638,-117.07837891061908,-61.79976293649993,27.519565821530055,-1781.2796447827625,-38.91681302638007,-32.82224386190203,-211.57850709835526,-118.5634227038315,8.179380108067395,52.53532485172262,-89.84039088833896,-88.63995974416187,-102.66848270847682,5.3538494237934735,14.54404148145598,-64.71796398544018,29.24725729822345,-135.2956832455125,203.9002530543685,-107.56064413678595,-116.92014205969204,-34.42092315477911,3.7106916238240197,-125.99818370322849,-11.095805293093047,-147.22771368489785,-105.67424325680163,130.32132541156759,10.024735173071328,-114.61027779806963,112.84212246114966,-196.1482697130715,-982.3374893078917,-64.91779524350184,-15.478868820297562,523.0844910802848,63384.986438990345,-16.223793132131743,-373.43876308193177,-66.23840490730447,-38.79534959729204,71.68826574422326,-26.151599397003398,-25.389377653938375,-93.84023355534688,-36.041968442171516,-149.79821764687844,-9.851680367834568,152.8073580303948,-1132.0376011183018,1498.9590573667565,-121.90263578804706,-45.04685190427343,-62.19760382925711,-48.440457440636834,-39.332541317618,-35.42188944246507,-70.13802750647163,5.765552501408222,-17.88807840135586,-28.397204297829663,-99.13315441669705,-52.28891195393271,-67.94327715034191,-98.17704139730097,-111.83494563187986,8.007061088996538,-219.0692439978182,-118.32414715490087,-92.67153441141208,-18.260918980333127,-67.00525170104679,-46.43551584795142,-72.32847484105476,-141.2359666803676,-99.95962417505783,-82.05844935985935,-37.15705256742039,-70.8529472245038,34.45068559965051,-19.006004878866012,-60.44335915882685,-77.57370138638954,-96.71378605241836,-283.1509223336615,-86.34887518082772,-77.70847403076107,-118.77364153363125,-95.46510710612903,-219.62231389256007,18.886733715273483,-106.87229055475305,-276.7936669830686,-135.20984669540218,-625.6478036251493,11.949478373202279,841.3544987607471,28.474700527041193,-50.34141052206382,-99.99342963445203,-29.273874858396596,-36.34711301593055,-15.857133000347698,-74.88420343624298,-86.59737337235147,-124.12152851743826,-111.0883143242749,-150.69545425173425,-1292.0522532125617,-137.67109804578246,21.95526419401546,-172.72877485367633,-183.52090143378157,-134.44024920835054,19.32238489378151,-58.35097573021889,-43.12023825250021,-166.79535682259362,-109.21570597268729,-24.32366790845448,-96.29153480417504,-136.59339065917902,-97.99731711454517,-8619.131609266526,-19.824663718178503,-178.98208422749326,-119.92866509908372,-1.0480964763558467,16.59284091000069,-218.5717868407676,-78.45925615331494,-121.72986345052014,-136.92716328130717,-11.624484388900724,-65.98880549263059,-37.229068657120614,13.621379382553942,-112.62237746257993,-302.30335466224943,-355.98632011951617,64.87405710259875,-63.18136635670735,1.7224224787249123,10.063239712910113,-129.27577812680175,-17.56596190065513,-242.81258679861676,46.760671010741625,26.243789996805848,-1545.907321035086,-66.29394741275058,-36.325008274874705,18.68149048717871,-93.60181183436424,-4.4022650499280545,-45.56429195895722,-97.51063624933961,-101.34916257447959,-128.9992081669875,-576.9485059411236,2677.8046119282444,-1.2084994167938998,-105.4592495632669,-87.84425367834648,-33.77916543380839,-74.93119639398748,-126.60535076530198,-258.35583266971196,-13.129399437520679,-59.77046146493743,-103.77774812561512,-18.308050287054503,-56.556162812872415,7.025425747601132,198.93317395077602,-73.69666182435206,3.405986262215809,-13.664024781425836,2.878116116231914,-20.882659257626145,-970.1206390037337,-291.64642595183574,-113.8498006267107,-82.40991489335536,81.81116010371042,805.8069286882265,-1.2105264002888043,-75.6957465433737,7.632230404897376,-131.64876611692304,-175.5927275525961,-82.82780362616492,-16.357090083479058,-119.73222634639197,-25.09036944759332,-152.5552109836283,17853.992029718986,-6736.697406562099,-153.56481736401437,-165.4052019392822,-30.73731832434015,-79.99336082534083,64.7299523635526,-166.51226693604565,-1059.8760091577894,-116.89081488848102,-45.686575982382244,11.35649990174165,-36.36473398673313,-20.208147454283544,-28.741028542757523,-21.948002874543707,-28.068988562454027,-19.86326035981823,-31.83583885498216,-69.24355643947973,21.17747002357898,-133.80877215283624,-35.0099346987296,-57.4224316093612,-3.8540842894965026,-22.616511760334166,-34.89870701379816,12.119796189226667,80.46163782197326,-96.76328466287669,-569.7814543194065,-21.394026717595285,-26.705284974188153,-189.72649612567696,-74.82382797650605,-0.15869225660548636,7.158545774545133,-63.75528292325044,24.5042191882731,-130.53411330508723,-13.65802149743719,-24.516549911157362,-40.683980634494745,-21.3743429060867,-61.96066009414938,-44.79762013113068,-70.30977632135158,-86.02605129295102,-6.298547746959258,-19.317710652297183,-55.27675312991195,-123.4154560999019,94.4360666087722,-52.09499121782428,-239.10977548294383,-77.62375639362473,21.766224551196082,-34.41400915153797,-4700.26599294035,-132.17019071925117,-78.67018366516314,-117.87139245979202,1063.0665085722285,12.955287324974284,-30.218955437983958,-81.09798314577263,-104.09002369912456,38.904534975679866,90.03123881327745,10.986991714656908,134.9788253939403,-50.594585999270585,-114.00812325236407,-109.78630239815477,-107.98060883811361,36.382608852210666,-126.06019834090664,-20.411767776171803,-28.641137949570012,-135.36717454413207,1.0020981681319725,146.85504585993044,-0.8219877976650866,-22.447241833934193,-30.17100530056144,-69.3560281612843,-28.73168233039957,-9.643148309498038,-116.17539950945138,10.124148578469814,-87.06471507669731,-120.01335051920536,166.7364681866225,-72.49837572171477,-88.85130418398474,-50.773974932504544,-52.20019459648257,-14.577413060408281,-2.5520129419088184,0.9061120086223574,-56.83606204502011,-130.1856146454202,-25.93093179527071,-124.9630968906879,-163.24659410887114,-99.29628413429249,-81.02524837138895,-145.3300640611435,-148.60927558311943,29.04822296167621,-425.84276358229204,-31.39103794952459,214.3666626661924,-68.96097525428718,-41.448743597664134,-91.35627665519752,-40.99401920496712,-26.731891470672068,-52.484208241692755,-116.16457531003796,14.994790608223191,10.226701587846149,-165.48068662463677,-1200.7756515024041,15.474449404840218,-5.626763274366056,67.15037920263576,33.420228085893385,-59.09360759628859,-27.75728935254188,-103.45007485756048,-28.86452397481919,84.21775462778233,-14.762154948356347,-51.18231798410886,-31.110467863793282,-32.692570556343945,-158.72634587450068,-76.32177649620756,23.336915901250183,-27.09118417122585,18.75367905830128,176.62373110568615,-281.2372446875711,19.341720667256805,-362.44352859597154,-21.491931456252303,71.74126147755752,-189.7668794231291,-30.42329381265017,32.13835535372352,-64.56921543190725,19.58132485614546,58.893571210892304,36.522713195370706,27.484198420712815,-62.88941523000414,-115.43544191067757,-84.48792834272669,-68.31596053308637,-6.635097400552943,-20.956527362468712,25.330908178200534,-100.28091811310959,-65.71462261031971,-40.34598208743706,-89.51646262241522,124.2385331704696,20.869131821458986,-25.857148069019164,-38.16650616246587,-70.30124925012849,-92.35325613225208,-77.18166619568186,-116.22605820288678,24.520726908608694,-123.73624869880615,-45.25055242180451,-37.848094934982186,-82.89927280628592,-88.36103183137458,-52.25563403057913,-62.46318053906136,-60.82903305462869,-5.437173991076807,-17.906378442317553,-167.94867328982068,-67.13746756333502,-163.6723361238724,-31.176053073469973,-56.6030695600778,-3610.8408647987344,-24.72898818420119,-68.6840666378019,-25.931029300042116,-227.4624229941623,-16.055393268104783,25.62663414538148,-131.94562213001618,-544.5758111554179,-1012.5154568371769,-27.109283020258108,-93.38850831523186,-101.0827832594051,-41.83231272318575,5235.023920809968,762.5304222250369,-63.37114779973633,-67.047315106478,-544.7252990282641,-63.68989069252595,-15.338835964313436,-37.42707073380722,69.03366105066297,-32.05647374736331,-230.19430974608898,-17.502144316640926,-28.69392659123231,-177.00177908405902,-36.76150385436618,9.631863036709102,-20.932144326534047,-21.834005069838902,-104.27123810677153,-41.30124224772245,-131.10038660802056,20.430349310019782,-120.62735953013716,10.864891819185317,-35.50411481614906,-240.80109101432288,-62.72356586712127,40.82583072003522,-30.77646636235332,-130.76781992985417,-620.0350616469236,-48.356715562623556,164.5985177004975,75.15882521053648,-16.470428546263438,-49.3942461588144,10.795940927179164,17.05325369236675,1.378389219102594,-14.843725658212325,23.47047940311305,-46.32476237588901,-148.18992828599517,-16.860054573067803,-33.26723762141205,-141.23176029480547,-38.748913937589904,-67.18694436519996,-71.60297371779359,-136.50108565727515,-119.00053921321542,-82.60345972453436,-130.1024846832578,-126.04407772343619,-15.357610494246181,-11.00184666590258,-118.62348651973426,-55.09900229643426,-230.868821877151,-63.50990435114011,-16.58258550972086,-99.5659517844599,-113.20227135860125,-107.33099661867442,-1.5594764872401023,-108.47685133155079,-62.35040257441501,-31.232843398735042,-89.12661112173203,-17.524678839124697,-18.174496604681288,-20.83554852683971,-110.54857889546663,-112.37744225980708,-30.246562060746346,-102.82650565282434,506.0482570010285,-14.93920435816322,214.0217142035889,160.79993656614872,37.95923521807217,-28.76764386799248,-33.839872506281765,-1.6669045384040169,-47.077394958890494,-73.60587632291575,-10.943890522495694,-92.68647108478527,-83.98065099782794,893.3904426263007,24.253270049127234,53.87524053757714,-488.56929024145495,1291.8779971134425,-185.8049627807388,-149.1122389078704,-35.430784219903146,-18.24753475924854,1977.5949150981412,-102.69595757752452,-118.382175471823,-69.49754296999137,-166.12857547606998,-580.3336246962815,30.37680213863439,-78.05383166326263,116.87152398124333,4.137293517902679,-8.079864131219239,-7.752031718536136,5.942256190811262,-37.52188600944505,-80.8976109849994,67.75281699817742,65.58617875234212,-25.686979972887148,-104.72103281942645,16.91471683487177,106.71651168986801,-71.75464258362823,23.927653237998918,-30.906092216045298,-175.16442342870056,25.259085697998245,-2245.916848509508,-734.7085351293609,-77.72773126308537,-2.36222426159844,-19.515580478671218,-764.1087409022937,-19.718198670597108,-58.18047804990613,-56.72066970974364,-36.56812103359488,-91.49110116448587,-19.177872703963395,20.806136153638167,-164.10445196138258,-66.43237717848159,-37.76411307765464,-36.22902491527325,-471.609747891305,-608.5168352212771,-363.02348581019686,-42.775504169143396,-4.408173532603591,-143.75469761103366,-110.45053177340077,1.7319566582984216,-20.55463572943576,27.874278021077092,-22.914723737529506,3307.5983590893115,-37.83839466503468,-112.92689889681043,-18.588098246333747,-37.92279165714482,258.4666711555879,-1795.4883860783996,-63.085832522631875,20.37498428265294,-232.54548167622207,-42.26851911853389,-18.124659137064775,-15.50744778490739,133.7974549312037,-124.23698028645622,-56.03494079655688,-615.3584537910021,-36.78275948244342,-49.97063839940094,-132.88250428430277,-34.96840706592387,-274.71977140201,-23.403397298850585,-108.42875000582295,-3656.2466847735213,407.55800804668786,253.2647873419674,-2199.8488345440483,3432.951591046849,-1776.2198870996,-804.6542338800393,1594.4391097178534,-2634.505162224991,1919.9067180308386,36.63082611000563,-55.983825647393,259.7065812149509,435.9760655250026,448.7157295096793,30.55896103518301,-196.10501672898698,-20.001463850797883,-16.88240069851793,-1055.0933266925294,-203.86716524788534,17.54668363231571,-11904.725016412478,178.70706039635175,-111.90725435449457,-85.91859895537452,-152.06187473120372,-80.80822156099423,-438.0638197860113,36.27415900868037,8.840101336871923,-95.3307886285244,-22.855277415772623,29.55075146217013,-26.467613619962254,-10.527805524713227,-0.44957469634613323,-2657.200127866958,38.96695459452554,-76.27548345097433,-34.95831012348584,-115.29397175200533,-0.9875920899490293,-79.22393878083913,3017.0294171065816,-126.50706244829937,-90.86195235279467,-229.47384664671037,-76.66436013581821,-179.54691680619354,-47.402137511388815,1804.4488878604632,-11618.546891417087,-78.64091304811588,-129.9445886094411,-131.87079141758971,-4970.71268594834,-129.5809419850545,-712.3231813517104,21.782095177841025,-87.81722296030553,-59.89501837383579,-72.51219789691332,-24.224997202105286,-75.49213002689703,-5539.932647727843,-148.71764542791692,-179.63180960218634,-103.85013988944647,-5.199241552740821,-63.7585558997297,13.7599566700485,-124.46724020373455,48.69281872324328,-44.39490213368331,-48.62502644787666,1.2840331376278475,-5.711611161632522,-56.33756961918452,-74.41034647562648,5.57396946785271,-196.7920156492127,-82.34931159409489,-6.780794134613958,-66.82848238206373,-56.33228792955116,-83.8863377579679,-106.92665593704903,-61.9607703080428,71.03448951884475,-9.346467664815764,-147.37018762853094,24.067483252806408,-39.006459863562384,-120.72827922596322,6.430551566410407,-76.47163904103878,-108.67494621676526,30.081346363742934,1055.4983539492644,-54.57764651507563,26.854215262870344,-113.28751542547751,-1903.015526422597,-7.834084831910931,28.009296328100387,20.83799486321245,-87.8468016212292,-79.9128430317883,-27.547422137953898,-6.993984848905751,-10.688411629983264,-29.891686383446345,2.7564887989330056,-32.58096350480297,250.51122634645904,-98.09160773544976,-119.40575561385549,39.1835424226279,-19.28393183956946,37.157447054966426,4.168911283661009,-118.18937707529584,19.568693250084056,-81.68244839564532,-326.976066892399,-37.794696352711306,-90.81526527844818,-116.01126791072457,-36.782899884050195,83.18058327033471,-87.2189983430509,-87.90618735758937,-101.43781772119382,-14.850990789821633,48.816229405709706,-195.67055041769945,-10.766513297581028,-6.8610600513618,-501.6305092790219,-39.374918171043944,-54.05399767503813,-71.89375412551452,-104.34029314339935,-131.9539531504535,14.68738915910815,-4.673559824814202,12.784635571595201,-37.62878054405744,-9.538535883632429,-54.77870641108629,-38.74323256187624,21.836306769870774,-111.34147074748407,43.15223595688466,-37678.989797584385,-75.91011487852036,-61.25504416249027,-1327.9772321186551,-128.85421538694195,-62.77030500628357,-87.13376334450159,4.722661846229515,10.074986137270233,-17.017745286734666,-116.84165392996785,-2.1529040194148115,-36.7586027056705,-65.66715684839116,-66.4282379594459,80.18802433032941,-220.3556571193961,-41.742453325040714,-9.935285700179005,572.5023230338205,0.46949005407508027,102.39451824243547,-14.495124511125258,-13.555746587041375,24.812455451306505],\"yaxis\":\"y\",\"type\":\"scattergl\"}],                        {\"template\":{\"data\":{\"histogram2dcontour\":[{\"type\":\"histogram2dcontour\",\"colorbar\":{\"outlinewidth\":0,\"ticks\":\"\"},\"colorscale\":[[0.0,\"#0d0887\"],[0.1111111111111111,\"#46039f\"],[0.2222222222222222,\"#7201a8\"],[0.3333333333333333,\"#9c179e\"],[0.4444444444444444,\"#bd3786\"],[0.5555555555555556,\"#d8576b\"],[0.6666666666666666,\"#ed7953\"],[0.7777777777777778,\"#fb9f3a\"],[0.8888888888888888,\"#fdca26\"],[1.0,\"#f0f921\"]]}],\"choropleth\":[{\"type\":\"choropleth\",\"colorbar\":{\"outlinewidth\":0,\"ticks\":\"\"}}],\"histogram2d\":[{\"type\":\"histogram2d\",\"colorbar\":{\"outlinewidth\":0,\"ticks\":\"\"},\"colorscale\":[[0.0,\"#0d0887\"],[0.1111111111111111,\"#46039f\"],[0.2222222222222222,\"#7201a8\"],[0.3333333333333333,\"#9c179e\"],[0.4444444444444444,\"#bd3786\"],[0.5555555555555556,\"#d8576b\"],[0.6666666666666666,\"#ed7953\"],[0.7777777777777778,\"#fb9f3a\"],[0.8888888888888888,\"#fdca26\"],[1.0,\"#f0f921\"]]}],\"heatmap\":[{\"type\":\"heatmap\",\"colorbar\":{\"outlinewidth\":0,\"ticks\":\"\"},\"colorscale\":[[0.0,\"#0d0887\"],[0.1111111111111111,\"#46039f\"],[0.2222222222222222,\"#7201a8\"],[0.3333333333333333,\"#9c179e\"],[0.4444444444444444,\"#bd3786\"],[0.5555555555555556,\"#d8576b\"],[0.6666666666666666,\"#ed7953\"],[0.7777777777777778,\"#fb9f3a\"],[0.8888888888888888,\"#fdca26\"],[1.0,\"#f0f921\"]]}],\"heatmapgl\":[{\"type\":\"heatmapgl\",\"colorbar\":{\"outlinewidth\":0,\"ticks\":\"\"},\"colorscale\":[[0.0,\"#0d0887\"],[0.1111111111111111,\"#46039f\"],[0.2222222222222222,\"#7201a8\"],[0.3333333333333333,\"#9c179e\"],[0.4444444444444444,\"#bd3786\"],[0.5555555555555556,\"#d8576b\"],[0.6666666666666666,\"#ed7953\"],[0.7777777777777778,\"#fb9f3a\"],[0.8888888888888888,\"#fdca26\"],[1.0,\"#f0f921\"]]}],\"contourcarpet\":[{\"type\":\"contourcarpet\",\"colorbar\":{\"outlinewidth\":0,\"ticks\":\"\"}}],\"contour\":[{\"type\":\"contour\",\"colorbar\":{\"outlinewidth\":0,\"ticks\":\"\"},\"colorscale\":[[0.0,\"#0d0887\"],[0.1111111111111111,\"#46039f\"],[0.2222222222222222,\"#7201a8\"],[0.3333333333333333,\"#9c179e\"],[0.4444444444444444,\"#bd3786\"],[0.5555555555555556,\"#d8576b\"],[0.6666666666666666,\"#ed7953\"],[0.7777777777777778,\"#fb9f3a\"],[0.8888888888888888,\"#fdca26\"],[1.0,\"#f0f921\"]]}],\"surface\":[{\"type\":\"surface\",\"colorbar\":{\"outlinewidth\":0,\"ticks\":\"\"},\"colorscale\":[[0.0,\"#0d0887\"],[0.1111111111111111,\"#46039f\"],[0.2222222222222222,\"#7201a8\"],[0.3333333333333333,\"#9c179e\"],[0.4444444444444444,\"#bd3786\"],[0.5555555555555556,\"#d8576b\"],[0.6666666666666666,\"#ed7953\"],[0.7777777777777778,\"#fb9f3a\"],[0.8888888888888888,\"#fdca26\"],[1.0,\"#f0f921\"]]}],\"mesh3d\":[{\"type\":\"mesh3d\",\"colorbar\":{\"outlinewidth\":0,\"ticks\":\"\"}}],\"scatter\":[{\"fillpattern\":{\"fillmode\":\"overlay\",\"size\":10,\"solidity\":0.2},\"type\":\"scatter\"}],\"parcoords\":[{\"type\":\"parcoords\",\"line\":{\"colorbar\":{\"outlinewidth\":0,\"ticks\":\"\"}}}],\"scatterpolargl\":[{\"type\":\"scatterpolargl\",\"marker\":{\"colorbar\":{\"outlinewidth\":0,\"ticks\":\"\"}}}],\"bar\":[{\"error_x\":{\"color\":\"#2a3f5f\"},\"error_y\":{\"color\":\"#2a3f5f\"},\"marker\":{\"line\":{\"color\":\"#E5ECF6\",\"width\":0.5},\"pattern\":{\"fillmode\":\"overlay\",\"size\":10,\"solidity\":0.2}},\"type\":\"bar\"}],\"scattergeo\":[{\"type\":\"scattergeo\",\"marker\":{\"colorbar\":{\"outlinewidth\":0,\"ticks\":\"\"}}}],\"scatterpolar\":[{\"type\":\"scatterpolar\",\"marker\":{\"colorbar\":{\"outlinewidth\":0,\"ticks\":\"\"}}}],\"histogram\":[{\"marker\":{\"pattern\":{\"fillmode\":\"overlay\",\"size\":10,\"solidity\":0.2}},\"type\":\"histogram\"}],\"scattergl\":[{\"type\":\"scattergl\",\"marker\":{\"colorbar\":{\"outlinewidth\":0,\"ticks\":\"\"}}}],\"scatter3d\":[{\"type\":\"scatter3d\",\"line\":{\"colorbar\":{\"outlinewidth\":0,\"ticks\":\"\"}},\"marker\":{\"colorbar\":{\"outlinewidth\":0,\"ticks\":\"\"}}}],\"scattermapbox\":[{\"type\":\"scattermapbox\",\"marker\":{\"colorbar\":{\"outlinewidth\":0,\"ticks\":\"\"}}}],\"scatterternary\":[{\"type\":\"scatterternary\",\"marker\":{\"colorbar\":{\"outlinewidth\":0,\"ticks\":\"\"}}}],\"scattercarpet\":[{\"type\":\"scattercarpet\",\"marker\":{\"colorbar\":{\"outlinewidth\":0,\"ticks\":\"\"}}}],\"carpet\":[{\"aaxis\":{\"endlinecolor\":\"#2a3f5f\",\"gridcolor\":\"white\",\"linecolor\":\"white\",\"minorgridcolor\":\"white\",\"startlinecolor\":\"#2a3f5f\"},\"baxis\":{\"endlinecolor\":\"#2a3f5f\",\"gridcolor\":\"white\",\"linecolor\":\"white\",\"minorgridcolor\":\"white\",\"startlinecolor\":\"#2a3f5f\"},\"type\":\"carpet\"}],\"table\":[{\"cells\":{\"fill\":{\"color\":\"#EBF0F8\"},\"line\":{\"color\":\"white\"}},\"header\":{\"fill\":{\"color\":\"#C8D4E3\"},\"line\":{\"color\":\"white\"}},\"type\":\"table\"}],\"barpolar\":[{\"marker\":{\"line\":{\"color\":\"#E5ECF6\",\"width\":0.5},\"pattern\":{\"fillmode\":\"overlay\",\"size\":10,\"solidity\":0.2}},\"type\":\"barpolar\"}],\"pie\":[{\"automargin\":true,\"type\":\"pie\"}]},\"layout\":{\"autotypenumbers\":\"strict\",\"colorway\":[\"#636efa\",\"#EF553B\",\"#00cc96\",\"#ab63fa\",\"#FFA15A\",\"#19d3f3\",\"#FF6692\",\"#B6E880\",\"#FF97FF\",\"#FECB52\"],\"font\":{\"color\":\"#2a3f5f\"},\"hovermode\":\"closest\",\"hoverlabel\":{\"align\":\"left\"},\"paper_bgcolor\":\"white\",\"plot_bgcolor\":\"#E5ECF6\",\"polar\":{\"bgcolor\":\"#E5ECF6\",\"angularaxis\":{\"gridcolor\":\"white\",\"linecolor\":\"white\",\"ticks\":\"\"},\"radialaxis\":{\"gridcolor\":\"white\",\"linecolor\":\"white\",\"ticks\":\"\"}},\"ternary\":{\"bgcolor\":\"#E5ECF6\",\"aaxis\":{\"gridcolor\":\"white\",\"linecolor\":\"white\",\"ticks\":\"\"},\"baxis\":{\"gridcolor\":\"white\",\"linecolor\":\"white\",\"ticks\":\"\"},\"caxis\":{\"gridcolor\":\"white\",\"linecolor\":\"white\",\"ticks\":\"\"}},\"coloraxis\":{\"colorbar\":{\"outlinewidth\":0,\"ticks\":\"\"}},\"colorscale\":{\"sequential\":[[0.0,\"#0d0887\"],[0.1111111111111111,\"#46039f\"],[0.2222222222222222,\"#7201a8\"],[0.3333333333333333,\"#9c179e\"],[0.4444444444444444,\"#bd3786\"],[0.5555555555555556,\"#d8576b\"],[0.6666666666666666,\"#ed7953\"],[0.7777777777777778,\"#fb9f3a\"],[0.8888888888888888,\"#fdca26\"],[1.0,\"#f0f921\"]],\"sequentialminus\":[[0.0,\"#0d0887\"],[0.1111111111111111,\"#46039f\"],[0.2222222222222222,\"#7201a8\"],[0.3333333333333333,\"#9c179e\"],[0.4444444444444444,\"#bd3786\"],[0.5555555555555556,\"#d8576b\"],[0.6666666666666666,\"#ed7953\"],[0.7777777777777778,\"#fb9f3a\"],[0.8888888888888888,\"#fdca26\"],[1.0,\"#f0f921\"]],\"diverging\":[[0,\"#8e0152\"],[0.1,\"#c51b7d\"],[0.2,\"#de77ae\"],[0.3,\"#f1b6da\"],[0.4,\"#fde0ef\"],[0.5,\"#f7f7f7\"],[0.6,\"#e6f5d0\"],[0.7,\"#b8e186\"],[0.8,\"#7fbc41\"],[0.9,\"#4d9221\"],[1,\"#276419\"]]},\"xaxis\":{\"gridcolor\":\"white\",\"linecolor\":\"white\",\"ticks\":\"\",\"title\":{\"standoff\":15},\"zerolinecolor\":\"white\",\"automargin\":true,\"zerolinewidth\":2},\"yaxis\":{\"gridcolor\":\"white\",\"linecolor\":\"white\",\"ticks\":\"\",\"title\":{\"standoff\":15},\"zerolinecolor\":\"white\",\"automargin\":true,\"zerolinewidth\":2},\"scene\":{\"xaxis\":{\"backgroundcolor\":\"#E5ECF6\",\"gridcolor\":\"white\",\"linecolor\":\"white\",\"showbackground\":true,\"ticks\":\"\",\"zerolinecolor\":\"white\",\"gridwidth\":2},\"yaxis\":{\"backgroundcolor\":\"#E5ECF6\",\"gridcolor\":\"white\",\"linecolor\":\"white\",\"showbackground\":true,\"ticks\":\"\",\"zerolinecolor\":\"white\",\"gridwidth\":2},\"zaxis\":{\"backgroundcolor\":\"#E5ECF6\",\"gridcolor\":\"white\",\"linecolor\":\"white\",\"showbackground\":true,\"ticks\":\"\",\"zerolinecolor\":\"white\",\"gridwidth\":2}},\"shapedefaults\":{\"line\":{\"color\":\"#2a3f5f\"}},\"annotationdefaults\":{\"arrowcolor\":\"#2a3f5f\",\"arrowhead\":0,\"arrowwidth\":1},\"geo\":{\"bgcolor\":\"white\",\"landcolor\":\"#E5ECF6\",\"subunitcolor\":\"white\",\"showland\":true,\"showlakes\":true,\"lakecolor\":\"white\"},\"title\":{\"x\":0.05},\"mapbox\":{\"style\":\"light\"}}},\"xaxis\":{\"anchor\":\"y\",\"domain\":[0.0,1.0],\"title\":{\"text\":\"dsadas\"}},\"yaxis\":{\"anchor\":\"x\",\"domain\":[0.0,1.0],\"title\":{\"text\":\"Y - PC2\"}},\"legend\":{\"tracegroupgap\":0},\"title\":{\"text\":\"Reduced Data (PC1, PC2)\"}},                        {\"responsive\": true}                    ).then(function(){\n",
       "                            \n",
       "var gd = document.getElementById('d7cda1ff-5ece-4347-ae1f-d305a6313cbf');\n",
       "var x = new MutationObserver(function (mutations, observer) {{\n",
       "        var display = window.getComputedStyle(gd).display;\n",
       "        if (!display || display === 'none') {{\n",
       "            console.log([gd, 'removed!']);\n",
       "            Plotly.purge(gd);\n",
       "            observer.disconnect();\n",
       "        }}\n",
       "}});\n",
       "\n",
       "// Listen for the removal of the full notebook cells\n",
       "var notebookContainer = gd.closest('#notebook-container');\n",
       "if (notebookContainer) {{\n",
       "    x.observe(notebookContainer, {childList: true});\n",
       "}}\n",
       "\n",
       "// Listen for the clearing of the current output cell\n",
       "var outputEl = gd.closest('.output');\n",
       "if (outputEl) {{\n",
       "    x.observe(outputEl, {childList: true});\n",
       "}}\n",
       "\n",
       "                        })                };                });            </script>        </div>"
      ]
     },
     "metadata": {},
     "output_type": "display_data"
    }
   ],
   "execution_count": 237
  },
  {
   "metadata": {},
   "cell_type": "markdown",
   "source": "number of clusters: 1",
   "id": "93cf500f2c0ecd98"
  },
  {
   "metadata": {},
   "cell_type": "markdown",
   "source": [
    "Compare Parties:\n",
    "- Transpose the city-wide data so that each row represents a party, and each column represents a city.\n",
    "- Remove data for cities with fewer than 1000 total votes.\n",
    "- Create a scatter plot of the reduced data (for num_components = 2) to visualize dimensionality reduction.\n",
    "- Estimate the number of clusters visually."
   ],
   "id": "1f20e9f782b40a48"
  },
  {
   "metadata": {
    "ExecuteTime": {
     "end_time": "2025-01-09T11:57:37.479489Z",
     "start_time": "2025-01-09T11:57:37.431431Z"
    }
   },
   "cell_type": "code",
   "source": [
    "transposedData = aggregatedData.T\n",
    "\n",
    "filteredData = remove_sparse_columns(transposedData, threshold=1000)\n",
    "\n",
    "reducedData = dimensionality_reduction(filteredData, 2, []).reset_index().rename(columns={'index': 'party'})\n",
    "\n",
    "fig = px.scatter(\n",
    "    reducedData,\n",
    "    x=reducedData.columns[1],\n",
    "    y=reducedData.columns[2],\n",
    "    title='Reduced Data (PC1, PC2)',\n",
    "    labels={'x': 'X - PC1', 'y': 'Y - PC2'},\n",
    "    hover_data={\"PC1\": False, \"PC2\": False, 'party': True}\n",
    ")\n",
    "\n",
    "fig.show()\n"
   ],
   "id": "b20f5c94f614cfd0",
   "outputs": [
    {
     "data": {
      "application/vnd.plotly.v1+json": {
       "data": [
        {
         "customdata": [
          [
           "party_avoda"
          ],
          [
           "party_shahar_kalkali_hadash"
          ],
          [
           "party_bayit_yehudi"
          ],
          [
           "party_agudat_israel"
          ],
          [
           "party_daled"
          ],
          [
           "party_vavmem"
          ],
          [
           "party_shahar_koach_hevrati"
          ],
          [
           "party_kama"
          ],
          [
           "party_koach_lehashpia"
          ],
          [
           "party_tzomet"
          ],
          [
           "party_tet"
          ],
          [
           "party_israel_hofshit_demokratit"
          ],
          [
           "party_hakalkalit_hahadasha"
          ],
          [
           "party_ichud_bnei_habrit"
          ],
          [
           "party_tzav_hashaa"
          ],
          [
           "party_hagush_hatana'chi"
          ],
          [
           "party_kahol_lavan"
          ],
          [
           "party_ani_veata"
          ],
          [
           "party_israel_beitenu"
          ],
          [
           "party_likud"
          ],
          [
           "party_meretz"
          ],
          [
           "party_kavod_haadam"
          ],
          [
           "party_nativ"
          ],
          [
           "party_shma"
          ],
          [
           "party_haatzmaim_hachadashim"
          ],
          [
           "party_yesh_kivun"
          ],
          [
           "party_anachnu"
          ],
          [
           "party_raam"
          ],
          [
           "party_yesh_atid"
          ],
          [
           "party_pesofit"
          ],
          [
           "party_tze'irim_bo'arim"
          ],
          [
           "party_manhigut_hevratit"
          ],
          [
           "party_kol_hasviva_vehachai"
          ],
          [
           "party_halev_hayehudi"
          ],
          [
           "party_seder_chadash"
          ],
          [
           "party_kol"
          ],
          [
           "party_beometz_bishvilech"
          ],
          [
           "party_kavod_umasoret"
          ],
          [
           "party_shas"
          ],
          [
           "party_daat_tov_vera"
          ]
         ],
         "hovertemplate": "party=%{customdata[0]}<extra></extra>",
         "legendgroup": "",
         "marker": {
          "color": "#636efa",
          "symbol": "circle"
         },
         "mode": "markers",
         "name": "",
         "orientation": "v",
         "showlegend": false,
         "x": [
          15166.311159768447,
          -14344.406551540571,
          -8951.354884887829,
          23862.455531298143,
          -10360.691202753016,
          -9086.64456714305,
          -17950.378552118975,
          -17976.30123018864,
          -17980.01739948733,
          -17961.738617967385,
          68730.71078366002,
          -17832.528622889266,
          -15584.88759045361,
          -17967.19981280053,
          -17969.424161117113,
          -17947.219820734572,
          53660.43507318741,
          -17849.183356628433,
          19536.730371953243,
          158220.85617046605,
          9200.689657669689,
          -17942.68264003518,
          -17797.246974704107,
          -17967.42946352638,
          -17862.349860774044,
          -17739.816141025076,
          -17951.382901124234,
          -11738.120010719435,
          121773.5811510653,
          -17546.469606749302,
          -16017.395454187706,
          -17905.476634981504,
          -17691.262993892167,
          -17939.488339783173,
          -17837.910196863868,
          -17823.070258777952,
          -15953.837640907284,
          -17859.928984567843,
          42889.44166280312,
          -17705.3670885417
         ],
         "xaxis": "x",
         "y": [
          10932.314826655913,
          2003.0668231643876,
          -109.54315323811534,
          -74987.75171455891,
          3047.3440749040246,
          3382.5763350867687,
          1710.8331187522222,
          1705.132680641177,
          1708.7966951422745,
          1713.6719016049165,
          -16679.540227440295,
          1732.483109300897,
          1951.2838318166919,
          1709.8266280997923,
          1713.649994264425,
          1687.0850129979785,
          13183.91797142444,
          1716.555267806772,
          3980.4864837616997,
          -3600.555124997314,
          11348.927724390516,
          1712.1750548987743,
          1729.102258722643,
          1706.1489658406517,
          1715.0703011095256,
          1717.946613000869,
          1706.919212460984,
          2786.800315775984,
          42969.050053761704,
          1730.6903217450777,
          1766.8466560120105,
          1720.2032437484645,
          1712.8077248868003,
          1701.6693186750067,
          1720.1130147909807,
          1715.5042946781396,
          2087.1520339909484,
          1700.7681610572913,
          -43454.991778989366,
          1705.461974253224
         ],
         "yaxis": "y",
         "type": "scatter"
        }
       ],
       "layout": {
        "template": {
         "data": {
          "histogram2dcontour": [
           {
            "type": "histogram2dcontour",
            "colorbar": {
             "outlinewidth": 0,
             "ticks": ""
            },
            "colorscale": [
             [
              0.0,
              "#0d0887"
             ],
             [
              0.1111111111111111,
              "#46039f"
             ],
             [
              0.2222222222222222,
              "#7201a8"
             ],
             [
              0.3333333333333333,
              "#9c179e"
             ],
             [
              0.4444444444444444,
              "#bd3786"
             ],
             [
              0.5555555555555556,
              "#d8576b"
             ],
             [
              0.6666666666666666,
              "#ed7953"
             ],
             [
              0.7777777777777778,
              "#fb9f3a"
             ],
             [
              0.8888888888888888,
              "#fdca26"
             ],
             [
              1.0,
              "#f0f921"
             ]
            ]
           }
          ],
          "choropleth": [
           {
            "type": "choropleth",
            "colorbar": {
             "outlinewidth": 0,
             "ticks": ""
            }
           }
          ],
          "histogram2d": [
           {
            "type": "histogram2d",
            "colorbar": {
             "outlinewidth": 0,
             "ticks": ""
            },
            "colorscale": [
             [
              0.0,
              "#0d0887"
             ],
             [
              0.1111111111111111,
              "#46039f"
             ],
             [
              0.2222222222222222,
              "#7201a8"
             ],
             [
              0.3333333333333333,
              "#9c179e"
             ],
             [
              0.4444444444444444,
              "#bd3786"
             ],
             [
              0.5555555555555556,
              "#d8576b"
             ],
             [
              0.6666666666666666,
              "#ed7953"
             ],
             [
              0.7777777777777778,
              "#fb9f3a"
             ],
             [
              0.8888888888888888,
              "#fdca26"
             ],
             [
              1.0,
              "#f0f921"
             ]
            ]
           }
          ],
          "heatmap": [
           {
            "type": "heatmap",
            "colorbar": {
             "outlinewidth": 0,
             "ticks": ""
            },
            "colorscale": [
             [
              0.0,
              "#0d0887"
             ],
             [
              0.1111111111111111,
              "#46039f"
             ],
             [
              0.2222222222222222,
              "#7201a8"
             ],
             [
              0.3333333333333333,
              "#9c179e"
             ],
             [
              0.4444444444444444,
              "#bd3786"
             ],
             [
              0.5555555555555556,
              "#d8576b"
             ],
             [
              0.6666666666666666,
              "#ed7953"
             ],
             [
              0.7777777777777778,
              "#fb9f3a"
             ],
             [
              0.8888888888888888,
              "#fdca26"
             ],
             [
              1.0,
              "#f0f921"
             ]
            ]
           }
          ],
          "heatmapgl": [
           {
            "type": "heatmapgl",
            "colorbar": {
             "outlinewidth": 0,
             "ticks": ""
            },
            "colorscale": [
             [
              0.0,
              "#0d0887"
             ],
             [
              0.1111111111111111,
              "#46039f"
             ],
             [
              0.2222222222222222,
              "#7201a8"
             ],
             [
              0.3333333333333333,
              "#9c179e"
             ],
             [
              0.4444444444444444,
              "#bd3786"
             ],
             [
              0.5555555555555556,
              "#d8576b"
             ],
             [
              0.6666666666666666,
              "#ed7953"
             ],
             [
              0.7777777777777778,
              "#fb9f3a"
             ],
             [
              0.8888888888888888,
              "#fdca26"
             ],
             [
              1.0,
              "#f0f921"
             ]
            ]
           }
          ],
          "contourcarpet": [
           {
            "type": "contourcarpet",
            "colorbar": {
             "outlinewidth": 0,
             "ticks": ""
            }
           }
          ],
          "contour": [
           {
            "type": "contour",
            "colorbar": {
             "outlinewidth": 0,
             "ticks": ""
            },
            "colorscale": [
             [
              0.0,
              "#0d0887"
             ],
             [
              0.1111111111111111,
              "#46039f"
             ],
             [
              0.2222222222222222,
              "#7201a8"
             ],
             [
              0.3333333333333333,
              "#9c179e"
             ],
             [
              0.4444444444444444,
              "#bd3786"
             ],
             [
              0.5555555555555556,
              "#d8576b"
             ],
             [
              0.6666666666666666,
              "#ed7953"
             ],
             [
              0.7777777777777778,
              "#fb9f3a"
             ],
             [
              0.8888888888888888,
              "#fdca26"
             ],
             [
              1.0,
              "#f0f921"
             ]
            ]
           }
          ],
          "surface": [
           {
            "type": "surface",
            "colorbar": {
             "outlinewidth": 0,
             "ticks": ""
            },
            "colorscale": [
             [
              0.0,
              "#0d0887"
             ],
             [
              0.1111111111111111,
              "#46039f"
             ],
             [
              0.2222222222222222,
              "#7201a8"
             ],
             [
              0.3333333333333333,
              "#9c179e"
             ],
             [
              0.4444444444444444,
              "#bd3786"
             ],
             [
              0.5555555555555556,
              "#d8576b"
             ],
             [
              0.6666666666666666,
              "#ed7953"
             ],
             [
              0.7777777777777778,
              "#fb9f3a"
             ],
             [
              0.8888888888888888,
              "#fdca26"
             ],
             [
              1.0,
              "#f0f921"
             ]
            ]
           }
          ],
          "mesh3d": [
           {
            "type": "mesh3d",
            "colorbar": {
             "outlinewidth": 0,
             "ticks": ""
            }
           }
          ],
          "scatter": [
           {
            "fillpattern": {
             "fillmode": "overlay",
             "size": 10,
             "solidity": 0.2
            },
            "type": "scatter"
           }
          ],
          "parcoords": [
           {
            "type": "parcoords",
            "line": {
             "colorbar": {
              "outlinewidth": 0,
              "ticks": ""
             }
            }
           }
          ],
          "scatterpolargl": [
           {
            "type": "scatterpolargl",
            "marker": {
             "colorbar": {
              "outlinewidth": 0,
              "ticks": ""
             }
            }
           }
          ],
          "bar": [
           {
            "error_x": {
             "color": "#2a3f5f"
            },
            "error_y": {
             "color": "#2a3f5f"
            },
            "marker": {
             "line": {
              "color": "#E5ECF6",
              "width": 0.5
             },
             "pattern": {
              "fillmode": "overlay",
              "size": 10,
              "solidity": 0.2
             }
            },
            "type": "bar"
           }
          ],
          "scattergeo": [
           {
            "type": "scattergeo",
            "marker": {
             "colorbar": {
              "outlinewidth": 0,
              "ticks": ""
             }
            }
           }
          ],
          "scatterpolar": [
           {
            "type": "scatterpolar",
            "marker": {
             "colorbar": {
              "outlinewidth": 0,
              "ticks": ""
             }
            }
           }
          ],
          "histogram": [
           {
            "marker": {
             "pattern": {
              "fillmode": "overlay",
              "size": 10,
              "solidity": 0.2
             }
            },
            "type": "histogram"
           }
          ],
          "scattergl": [
           {
            "type": "scattergl",
            "marker": {
             "colorbar": {
              "outlinewidth": 0,
              "ticks": ""
             }
            }
           }
          ],
          "scatter3d": [
           {
            "type": "scatter3d",
            "line": {
             "colorbar": {
              "outlinewidth": 0,
              "ticks": ""
             }
            },
            "marker": {
             "colorbar": {
              "outlinewidth": 0,
              "ticks": ""
             }
            }
           }
          ],
          "scattermapbox": [
           {
            "type": "scattermapbox",
            "marker": {
             "colorbar": {
              "outlinewidth": 0,
              "ticks": ""
             }
            }
           }
          ],
          "scatterternary": [
           {
            "type": "scatterternary",
            "marker": {
             "colorbar": {
              "outlinewidth": 0,
              "ticks": ""
             }
            }
           }
          ],
          "scattercarpet": [
           {
            "type": "scattercarpet",
            "marker": {
             "colorbar": {
              "outlinewidth": 0,
              "ticks": ""
             }
            }
           }
          ],
          "carpet": [
           {
            "aaxis": {
             "endlinecolor": "#2a3f5f",
             "gridcolor": "white",
             "linecolor": "white",
             "minorgridcolor": "white",
             "startlinecolor": "#2a3f5f"
            },
            "baxis": {
             "endlinecolor": "#2a3f5f",
             "gridcolor": "white",
             "linecolor": "white",
             "minorgridcolor": "white",
             "startlinecolor": "#2a3f5f"
            },
            "type": "carpet"
           }
          ],
          "table": [
           {
            "cells": {
             "fill": {
              "color": "#EBF0F8"
             },
             "line": {
              "color": "white"
             }
            },
            "header": {
             "fill": {
              "color": "#C8D4E3"
             },
             "line": {
              "color": "white"
             }
            },
            "type": "table"
           }
          ],
          "barpolar": [
           {
            "marker": {
             "line": {
              "color": "#E5ECF6",
              "width": 0.5
             },
             "pattern": {
              "fillmode": "overlay",
              "size": 10,
              "solidity": 0.2
             }
            },
            "type": "barpolar"
           }
          ],
          "pie": [
           {
            "automargin": true,
            "type": "pie"
           }
          ]
         },
         "layout": {
          "autotypenumbers": "strict",
          "colorway": [
           "#636efa",
           "#EF553B",
           "#00cc96",
           "#ab63fa",
           "#FFA15A",
           "#19d3f3",
           "#FF6692",
           "#B6E880",
           "#FF97FF",
           "#FECB52"
          ],
          "font": {
           "color": "#2a3f5f"
          },
          "hovermode": "closest",
          "hoverlabel": {
           "align": "left"
          },
          "paper_bgcolor": "white",
          "plot_bgcolor": "#E5ECF6",
          "polar": {
           "bgcolor": "#E5ECF6",
           "angularaxis": {
            "gridcolor": "white",
            "linecolor": "white",
            "ticks": ""
           },
           "radialaxis": {
            "gridcolor": "white",
            "linecolor": "white",
            "ticks": ""
           }
          },
          "ternary": {
           "bgcolor": "#E5ECF6",
           "aaxis": {
            "gridcolor": "white",
            "linecolor": "white",
            "ticks": ""
           },
           "baxis": {
            "gridcolor": "white",
            "linecolor": "white",
            "ticks": ""
           },
           "caxis": {
            "gridcolor": "white",
            "linecolor": "white",
            "ticks": ""
           }
          },
          "coloraxis": {
           "colorbar": {
            "outlinewidth": 0,
            "ticks": ""
           }
          },
          "colorscale": {
           "sequential": [
            [
             0.0,
             "#0d0887"
            ],
            [
             0.1111111111111111,
             "#46039f"
            ],
            [
             0.2222222222222222,
             "#7201a8"
            ],
            [
             0.3333333333333333,
             "#9c179e"
            ],
            [
             0.4444444444444444,
             "#bd3786"
            ],
            [
             0.5555555555555556,
             "#d8576b"
            ],
            [
             0.6666666666666666,
             "#ed7953"
            ],
            [
             0.7777777777777778,
             "#fb9f3a"
            ],
            [
             0.8888888888888888,
             "#fdca26"
            ],
            [
             1.0,
             "#f0f921"
            ]
           ],
           "sequentialminus": [
            [
             0.0,
             "#0d0887"
            ],
            [
             0.1111111111111111,
             "#46039f"
            ],
            [
             0.2222222222222222,
             "#7201a8"
            ],
            [
             0.3333333333333333,
             "#9c179e"
            ],
            [
             0.4444444444444444,
             "#bd3786"
            ],
            [
             0.5555555555555556,
             "#d8576b"
            ],
            [
             0.6666666666666666,
             "#ed7953"
            ],
            [
             0.7777777777777778,
             "#fb9f3a"
            ],
            [
             0.8888888888888888,
             "#fdca26"
            ],
            [
             1.0,
             "#f0f921"
            ]
           ],
           "diverging": [
            [
             0,
             "#8e0152"
            ],
            [
             0.1,
             "#c51b7d"
            ],
            [
             0.2,
             "#de77ae"
            ],
            [
             0.3,
             "#f1b6da"
            ],
            [
             0.4,
             "#fde0ef"
            ],
            [
             0.5,
             "#f7f7f7"
            ],
            [
             0.6,
             "#e6f5d0"
            ],
            [
             0.7,
             "#b8e186"
            ],
            [
             0.8,
             "#7fbc41"
            ],
            [
             0.9,
             "#4d9221"
            ],
            [
             1,
             "#276419"
            ]
           ]
          },
          "xaxis": {
           "gridcolor": "white",
           "linecolor": "white",
           "ticks": "",
           "title": {
            "standoff": 15
           },
           "zerolinecolor": "white",
           "automargin": true,
           "zerolinewidth": 2
          },
          "yaxis": {
           "gridcolor": "white",
           "linecolor": "white",
           "ticks": "",
           "title": {
            "standoff": 15
           },
           "zerolinecolor": "white",
           "automargin": true,
           "zerolinewidth": 2
          },
          "scene": {
           "xaxis": {
            "backgroundcolor": "#E5ECF6",
            "gridcolor": "white",
            "linecolor": "white",
            "showbackground": true,
            "ticks": "",
            "zerolinecolor": "white",
            "gridwidth": 2
           },
           "yaxis": {
            "backgroundcolor": "#E5ECF6",
            "gridcolor": "white",
            "linecolor": "white",
            "showbackground": true,
            "ticks": "",
            "zerolinecolor": "white",
            "gridwidth": 2
           },
           "zaxis": {
            "backgroundcolor": "#E5ECF6",
            "gridcolor": "white",
            "linecolor": "white",
            "showbackground": true,
            "ticks": "",
            "zerolinecolor": "white",
            "gridwidth": 2
           }
          },
          "shapedefaults": {
           "line": {
            "color": "#2a3f5f"
           }
          },
          "annotationdefaults": {
           "arrowcolor": "#2a3f5f",
           "arrowhead": 0,
           "arrowwidth": 1
          },
          "geo": {
           "bgcolor": "white",
           "landcolor": "#E5ECF6",
           "subunitcolor": "white",
           "showland": true,
           "showlakes": true,
           "lakecolor": "white"
          },
          "title": {
           "x": 0.05
          },
          "mapbox": {
           "style": "light"
          }
         }
        },
        "xaxis": {
         "anchor": "y",
         "domain": [
          0.0,
          1.0
         ],
         "title": {
          "text": "PC1"
         }
        },
        "yaxis": {
         "anchor": "x",
         "domain": [
          0.0,
          1.0
         ],
         "title": {
          "text": "PC2"
         }
        },
        "legend": {
         "tracegroupgap": 0
        },
        "title": {
         "text": "Reduced Data (PC1, PC2)"
        }
       },
       "config": {
        "plotlyServerURL": "https://plot.ly"
       }
      },
      "text/html": [
       "<div>                            <div id=\"85488de1-fc75-4347-8fc0-a1ffafe0e203\" class=\"plotly-graph-div\" style=\"height:525px; width:100%;\"></div>            <script type=\"text/javascript\">                require([\"plotly\"], function(Plotly) {                    window.PLOTLYENV=window.PLOTLYENV || {};                                    if (document.getElementById(\"85488de1-fc75-4347-8fc0-a1ffafe0e203\")) {                    Plotly.newPlot(                        \"85488de1-fc75-4347-8fc0-a1ffafe0e203\",                        [{\"customdata\":[[\"party_avoda\"],[\"party_shahar_kalkali_hadash\"],[\"party_bayit_yehudi\"],[\"party_agudat_israel\"],[\"party_daled\"],[\"party_vavmem\"],[\"party_shahar_koach_hevrati\"],[\"party_kama\"],[\"party_koach_lehashpia\"],[\"party_tzomet\"],[\"party_tet\"],[\"party_israel_hofshit_demokratit\"],[\"party_hakalkalit_hahadasha\"],[\"party_ichud_bnei_habrit\"],[\"party_tzav_hashaa\"],[\"party_hagush_hatana'chi\"],[\"party_kahol_lavan\"],[\"party_ani_veata\"],[\"party_israel_beitenu\"],[\"party_likud\"],[\"party_meretz\"],[\"party_kavod_haadam\"],[\"party_nativ\"],[\"party_shma\"],[\"party_haatzmaim_hachadashim\"],[\"party_yesh_kivun\"],[\"party_anachnu\"],[\"party_raam\"],[\"party_yesh_atid\"],[\"party_pesofit\"],[\"party_tze'irim_bo'arim\"],[\"party_manhigut_hevratit\"],[\"party_kol_hasviva_vehachai\"],[\"party_halev_hayehudi\"],[\"party_seder_chadash\"],[\"party_kol\"],[\"party_beometz_bishvilech\"],[\"party_kavod_umasoret\"],[\"party_shas\"],[\"party_daat_tov_vera\"]],\"hovertemplate\":\"party=%{customdata[0]}\\u003cextra\\u003e\\u003c\\u002fextra\\u003e\",\"legendgroup\":\"\",\"marker\":{\"color\":\"#636efa\",\"symbol\":\"circle\"},\"mode\":\"markers\",\"name\":\"\",\"orientation\":\"v\",\"showlegend\":false,\"x\":[15166.311159768447,-14344.406551540571,-8951.354884887829,23862.455531298143,-10360.691202753016,-9086.64456714305,-17950.378552118975,-17976.30123018864,-17980.01739948733,-17961.738617967385,68730.71078366002,-17832.528622889266,-15584.88759045361,-17967.19981280053,-17969.424161117113,-17947.219820734572,53660.43507318741,-17849.183356628433,19536.730371953243,158220.85617046605,9200.689657669689,-17942.68264003518,-17797.246974704107,-17967.42946352638,-17862.349860774044,-17739.816141025076,-17951.382901124234,-11738.120010719435,121773.5811510653,-17546.469606749302,-16017.395454187706,-17905.476634981504,-17691.262993892167,-17939.488339783173,-17837.910196863868,-17823.070258777952,-15953.837640907284,-17859.928984567843,42889.44166280312,-17705.3670885417],\"xaxis\":\"x\",\"y\":[10932.314826655913,2003.0668231643876,-109.54315323811534,-74987.75171455891,3047.3440749040246,3382.5763350867687,1710.8331187522222,1705.132680641177,1708.7966951422745,1713.6719016049165,-16679.540227440295,1732.483109300897,1951.2838318166919,1709.8266280997923,1713.649994264425,1687.0850129979785,13183.91797142444,1716.555267806772,3980.4864837616997,-3600.555124997314,11348.927724390516,1712.1750548987743,1729.102258722643,1706.1489658406517,1715.0703011095256,1717.946613000869,1706.919212460984,2786.800315775984,42969.050053761704,1730.6903217450777,1766.8466560120105,1720.2032437484645,1712.8077248868003,1701.6693186750067,1720.1130147909807,1715.5042946781396,2087.1520339909484,1700.7681610572913,-43454.991778989366,1705.461974253224],\"yaxis\":\"y\",\"type\":\"scatter\"}],                        {\"template\":{\"data\":{\"histogram2dcontour\":[{\"type\":\"histogram2dcontour\",\"colorbar\":{\"outlinewidth\":0,\"ticks\":\"\"},\"colorscale\":[[0.0,\"#0d0887\"],[0.1111111111111111,\"#46039f\"],[0.2222222222222222,\"#7201a8\"],[0.3333333333333333,\"#9c179e\"],[0.4444444444444444,\"#bd3786\"],[0.5555555555555556,\"#d8576b\"],[0.6666666666666666,\"#ed7953\"],[0.7777777777777778,\"#fb9f3a\"],[0.8888888888888888,\"#fdca26\"],[1.0,\"#f0f921\"]]}],\"choropleth\":[{\"type\":\"choropleth\",\"colorbar\":{\"outlinewidth\":0,\"ticks\":\"\"}}],\"histogram2d\":[{\"type\":\"histogram2d\",\"colorbar\":{\"outlinewidth\":0,\"ticks\":\"\"},\"colorscale\":[[0.0,\"#0d0887\"],[0.1111111111111111,\"#46039f\"],[0.2222222222222222,\"#7201a8\"],[0.3333333333333333,\"#9c179e\"],[0.4444444444444444,\"#bd3786\"],[0.5555555555555556,\"#d8576b\"],[0.6666666666666666,\"#ed7953\"],[0.7777777777777778,\"#fb9f3a\"],[0.8888888888888888,\"#fdca26\"],[1.0,\"#f0f921\"]]}],\"heatmap\":[{\"type\":\"heatmap\",\"colorbar\":{\"outlinewidth\":0,\"ticks\":\"\"},\"colorscale\":[[0.0,\"#0d0887\"],[0.1111111111111111,\"#46039f\"],[0.2222222222222222,\"#7201a8\"],[0.3333333333333333,\"#9c179e\"],[0.4444444444444444,\"#bd3786\"],[0.5555555555555556,\"#d8576b\"],[0.6666666666666666,\"#ed7953\"],[0.7777777777777778,\"#fb9f3a\"],[0.8888888888888888,\"#fdca26\"],[1.0,\"#f0f921\"]]}],\"heatmapgl\":[{\"type\":\"heatmapgl\",\"colorbar\":{\"outlinewidth\":0,\"ticks\":\"\"},\"colorscale\":[[0.0,\"#0d0887\"],[0.1111111111111111,\"#46039f\"],[0.2222222222222222,\"#7201a8\"],[0.3333333333333333,\"#9c179e\"],[0.4444444444444444,\"#bd3786\"],[0.5555555555555556,\"#d8576b\"],[0.6666666666666666,\"#ed7953\"],[0.7777777777777778,\"#fb9f3a\"],[0.8888888888888888,\"#fdca26\"],[1.0,\"#f0f921\"]]}],\"contourcarpet\":[{\"type\":\"contourcarpet\",\"colorbar\":{\"outlinewidth\":0,\"ticks\":\"\"}}],\"contour\":[{\"type\":\"contour\",\"colorbar\":{\"outlinewidth\":0,\"ticks\":\"\"},\"colorscale\":[[0.0,\"#0d0887\"],[0.1111111111111111,\"#46039f\"],[0.2222222222222222,\"#7201a8\"],[0.3333333333333333,\"#9c179e\"],[0.4444444444444444,\"#bd3786\"],[0.5555555555555556,\"#d8576b\"],[0.6666666666666666,\"#ed7953\"],[0.7777777777777778,\"#fb9f3a\"],[0.8888888888888888,\"#fdca26\"],[1.0,\"#f0f921\"]]}],\"surface\":[{\"type\":\"surface\",\"colorbar\":{\"outlinewidth\":0,\"ticks\":\"\"},\"colorscale\":[[0.0,\"#0d0887\"],[0.1111111111111111,\"#46039f\"],[0.2222222222222222,\"#7201a8\"],[0.3333333333333333,\"#9c179e\"],[0.4444444444444444,\"#bd3786\"],[0.5555555555555556,\"#d8576b\"],[0.6666666666666666,\"#ed7953\"],[0.7777777777777778,\"#fb9f3a\"],[0.8888888888888888,\"#fdca26\"],[1.0,\"#f0f921\"]]}],\"mesh3d\":[{\"type\":\"mesh3d\",\"colorbar\":{\"outlinewidth\":0,\"ticks\":\"\"}}],\"scatter\":[{\"fillpattern\":{\"fillmode\":\"overlay\",\"size\":10,\"solidity\":0.2},\"type\":\"scatter\"}],\"parcoords\":[{\"type\":\"parcoords\",\"line\":{\"colorbar\":{\"outlinewidth\":0,\"ticks\":\"\"}}}],\"scatterpolargl\":[{\"type\":\"scatterpolargl\",\"marker\":{\"colorbar\":{\"outlinewidth\":0,\"ticks\":\"\"}}}],\"bar\":[{\"error_x\":{\"color\":\"#2a3f5f\"},\"error_y\":{\"color\":\"#2a3f5f\"},\"marker\":{\"line\":{\"color\":\"#E5ECF6\",\"width\":0.5},\"pattern\":{\"fillmode\":\"overlay\",\"size\":10,\"solidity\":0.2}},\"type\":\"bar\"}],\"scattergeo\":[{\"type\":\"scattergeo\",\"marker\":{\"colorbar\":{\"outlinewidth\":0,\"ticks\":\"\"}}}],\"scatterpolar\":[{\"type\":\"scatterpolar\",\"marker\":{\"colorbar\":{\"outlinewidth\":0,\"ticks\":\"\"}}}],\"histogram\":[{\"marker\":{\"pattern\":{\"fillmode\":\"overlay\",\"size\":10,\"solidity\":0.2}},\"type\":\"histogram\"}],\"scattergl\":[{\"type\":\"scattergl\",\"marker\":{\"colorbar\":{\"outlinewidth\":0,\"ticks\":\"\"}}}],\"scatter3d\":[{\"type\":\"scatter3d\",\"line\":{\"colorbar\":{\"outlinewidth\":0,\"ticks\":\"\"}},\"marker\":{\"colorbar\":{\"outlinewidth\":0,\"ticks\":\"\"}}}],\"scattermapbox\":[{\"type\":\"scattermapbox\",\"marker\":{\"colorbar\":{\"outlinewidth\":0,\"ticks\":\"\"}}}],\"scatterternary\":[{\"type\":\"scatterternary\",\"marker\":{\"colorbar\":{\"outlinewidth\":0,\"ticks\":\"\"}}}],\"scattercarpet\":[{\"type\":\"scattercarpet\",\"marker\":{\"colorbar\":{\"outlinewidth\":0,\"ticks\":\"\"}}}],\"carpet\":[{\"aaxis\":{\"endlinecolor\":\"#2a3f5f\",\"gridcolor\":\"white\",\"linecolor\":\"white\",\"minorgridcolor\":\"white\",\"startlinecolor\":\"#2a3f5f\"},\"baxis\":{\"endlinecolor\":\"#2a3f5f\",\"gridcolor\":\"white\",\"linecolor\":\"white\",\"minorgridcolor\":\"white\",\"startlinecolor\":\"#2a3f5f\"},\"type\":\"carpet\"}],\"table\":[{\"cells\":{\"fill\":{\"color\":\"#EBF0F8\"},\"line\":{\"color\":\"white\"}},\"header\":{\"fill\":{\"color\":\"#C8D4E3\"},\"line\":{\"color\":\"white\"}},\"type\":\"table\"}],\"barpolar\":[{\"marker\":{\"line\":{\"color\":\"#E5ECF6\",\"width\":0.5},\"pattern\":{\"fillmode\":\"overlay\",\"size\":10,\"solidity\":0.2}},\"type\":\"barpolar\"}],\"pie\":[{\"automargin\":true,\"type\":\"pie\"}]},\"layout\":{\"autotypenumbers\":\"strict\",\"colorway\":[\"#636efa\",\"#EF553B\",\"#00cc96\",\"#ab63fa\",\"#FFA15A\",\"#19d3f3\",\"#FF6692\",\"#B6E880\",\"#FF97FF\",\"#FECB52\"],\"font\":{\"color\":\"#2a3f5f\"},\"hovermode\":\"closest\",\"hoverlabel\":{\"align\":\"left\"},\"paper_bgcolor\":\"white\",\"plot_bgcolor\":\"#E5ECF6\",\"polar\":{\"bgcolor\":\"#E5ECF6\",\"angularaxis\":{\"gridcolor\":\"white\",\"linecolor\":\"white\",\"ticks\":\"\"},\"radialaxis\":{\"gridcolor\":\"white\",\"linecolor\":\"white\",\"ticks\":\"\"}},\"ternary\":{\"bgcolor\":\"#E5ECF6\",\"aaxis\":{\"gridcolor\":\"white\",\"linecolor\":\"white\",\"ticks\":\"\"},\"baxis\":{\"gridcolor\":\"white\",\"linecolor\":\"white\",\"ticks\":\"\"},\"caxis\":{\"gridcolor\":\"white\",\"linecolor\":\"white\",\"ticks\":\"\"}},\"coloraxis\":{\"colorbar\":{\"outlinewidth\":0,\"ticks\":\"\"}},\"colorscale\":{\"sequential\":[[0.0,\"#0d0887\"],[0.1111111111111111,\"#46039f\"],[0.2222222222222222,\"#7201a8\"],[0.3333333333333333,\"#9c179e\"],[0.4444444444444444,\"#bd3786\"],[0.5555555555555556,\"#d8576b\"],[0.6666666666666666,\"#ed7953\"],[0.7777777777777778,\"#fb9f3a\"],[0.8888888888888888,\"#fdca26\"],[1.0,\"#f0f921\"]],\"sequentialminus\":[[0.0,\"#0d0887\"],[0.1111111111111111,\"#46039f\"],[0.2222222222222222,\"#7201a8\"],[0.3333333333333333,\"#9c179e\"],[0.4444444444444444,\"#bd3786\"],[0.5555555555555556,\"#d8576b\"],[0.6666666666666666,\"#ed7953\"],[0.7777777777777778,\"#fb9f3a\"],[0.8888888888888888,\"#fdca26\"],[1.0,\"#f0f921\"]],\"diverging\":[[0,\"#8e0152\"],[0.1,\"#c51b7d\"],[0.2,\"#de77ae\"],[0.3,\"#f1b6da\"],[0.4,\"#fde0ef\"],[0.5,\"#f7f7f7\"],[0.6,\"#e6f5d0\"],[0.7,\"#b8e186\"],[0.8,\"#7fbc41\"],[0.9,\"#4d9221\"],[1,\"#276419\"]]},\"xaxis\":{\"gridcolor\":\"white\",\"linecolor\":\"white\",\"ticks\":\"\",\"title\":{\"standoff\":15},\"zerolinecolor\":\"white\",\"automargin\":true,\"zerolinewidth\":2},\"yaxis\":{\"gridcolor\":\"white\",\"linecolor\":\"white\",\"ticks\":\"\",\"title\":{\"standoff\":15},\"zerolinecolor\":\"white\",\"automargin\":true,\"zerolinewidth\":2},\"scene\":{\"xaxis\":{\"backgroundcolor\":\"#E5ECF6\",\"gridcolor\":\"white\",\"linecolor\":\"white\",\"showbackground\":true,\"ticks\":\"\",\"zerolinecolor\":\"white\",\"gridwidth\":2},\"yaxis\":{\"backgroundcolor\":\"#E5ECF6\",\"gridcolor\":\"white\",\"linecolor\":\"white\",\"showbackground\":true,\"ticks\":\"\",\"zerolinecolor\":\"white\",\"gridwidth\":2},\"zaxis\":{\"backgroundcolor\":\"#E5ECF6\",\"gridcolor\":\"white\",\"linecolor\":\"white\",\"showbackground\":true,\"ticks\":\"\",\"zerolinecolor\":\"white\",\"gridwidth\":2}},\"shapedefaults\":{\"line\":{\"color\":\"#2a3f5f\"}},\"annotationdefaults\":{\"arrowcolor\":\"#2a3f5f\",\"arrowhead\":0,\"arrowwidth\":1},\"geo\":{\"bgcolor\":\"white\",\"landcolor\":\"#E5ECF6\",\"subunitcolor\":\"white\",\"showland\":true,\"showlakes\":true,\"lakecolor\":\"white\"},\"title\":{\"x\":0.05},\"mapbox\":{\"style\":\"light\"}}},\"xaxis\":{\"anchor\":\"y\",\"domain\":[0.0,1.0],\"title\":{\"text\":\"PC1\"}},\"yaxis\":{\"anchor\":\"x\",\"domain\":[0.0,1.0],\"title\":{\"text\":\"PC2\"}},\"legend\":{\"tracegroupgap\":0},\"title\":{\"text\":\"Reduced Data (PC1, PC2)\"}},                        {\"responsive\": true}                    ).then(function(){\n",
       "                            \n",
       "var gd = document.getElementById('85488de1-fc75-4347-8fc0-a1ffafe0e203');\n",
       "var x = new MutationObserver(function (mutations, observer) {{\n",
       "        var display = window.getComputedStyle(gd).display;\n",
       "        if (!display || display === 'none') {{\n",
       "            console.log([gd, 'removed!']);\n",
       "            Plotly.purge(gd);\n",
       "            observer.disconnect();\n",
       "        }}\n",
       "}});\n",
       "\n",
       "// Listen for the removal of the full notebook cells\n",
       "var notebookContainer = gd.closest('#notebook-container');\n",
       "if (notebookContainer) {{\n",
       "    x.observe(notebookContainer, {childList: true});\n",
       "}}\n",
       "\n",
       "// Listen for the clearing of the current output cell\n",
       "var outputEl = gd.closest('.output');\n",
       "if (outputEl) {{\n",
       "    x.observe(outputEl, {childList: true});\n",
       "}}\n",
       "\n",
       "                        })                };                });            </script>        </div>"
      ]
     },
     "metadata": {},
     "output_type": "display_data"
    }
   ],
   "execution_count": 231
  },
  {
   "metadata": {},
   "cell_type": "markdown",
   "source": "numbers of clusters: 1",
   "id": "80532c2a6e427c82"
  }
 ],
 "metadata": {
  "kernelspec": {
   "display_name": "Python 3",
   "language": "python",
   "name": "python3"
  },
  "language_info": {
   "codemirror_mode": {
    "name": "ipython",
    "version": 2
   },
   "file_extension": ".py",
   "mimetype": "text/x-python",
   "name": "python",
   "nbconvert_exporter": "python",
   "pygments_lexer": "ipython2",
   "version": "2.7.6"
  }
 },
 "nbformat": 4,
 "nbformat_minor": 5
}
